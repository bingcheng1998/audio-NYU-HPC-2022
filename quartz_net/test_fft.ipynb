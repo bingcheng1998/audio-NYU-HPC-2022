{
 "cells": [
  {
   "cell_type": "code",
   "execution_count": 1,
   "metadata": {},
   "outputs": [],
   "source": [
    "from dataset import OpencpopDataset, MusicLoaderGenerator\n",
    "from helper import parser_line, merge_note, get_pitch_labels, get_transposed_phoneme_labels, print_all"
   ]
  },
  {
   "cell_type": "markdown",
   "metadata": {},
   "source": [
    "## 数据集加载"
   ]
  },
  {
   "cell_type": "code",
   "execution_count": 2,
   "metadata": {},
   "outputs": [],
   "source": [
    "def dataset_transform(sample, sample_rate=None):\n",
    "    id, text, phoneme, note, note_duration, phoneme_duration, slur_note = parser_line(sample['text'])\n",
    "    text_with_p, phoneme, note, note_duration, slur_note = merge_note(text, phoneme, note, note_duration, slur_note)\n",
    "    sample['chinese'] = text_with_p\n",
    "    sample['phoneme'] = phoneme\n",
    "    sample['note'] = note\n",
    "    sample['duration'] = note_duration\n",
    "    sample['slur'] = slur_note\n",
    "    return sample\n",
    "\n",
    "dataset = OpencpopDataset('/scratch/bh2283/data/opencpop/segments/', transform=dataset_transform, sample_rate=22050)"
   ]
  },
  {
   "cell_type": "code",
   "execution_count": 3,
   "metadata": {},
   "outputs": [
    {
     "data": {
      "text/plain": [
       "(3744, 12)"
      ]
     },
     "execution_count": 3,
     "metadata": {},
     "output_type": "execute_result"
    }
   ],
   "source": [
    "train_set, test_set = dataset.split()\n",
    "len(train_set), len(test_set)"
   ]
  },
  {
   "cell_type": "code",
   "execution_count": 4,
   "metadata": {},
   "outputs": [
    {
     "name": "stdout",
     "output_type": "stream",
     "text": [
      "train_set: 3744 test_set: 12\n",
      "['平', '行', '时', '空', '下', '的', '约', '定', 'AP', '请', '像', '我', '一', '样', '相', '信', '你', '自', '己', 'AP', '是', '我', '爱', '风', '景', 'SP', 'AP', '雨', '淋', '湿', '了', '天', '空', 'AP', '灰', '更', '讲', '究', 'AP']\n",
      "torch.Size([39, 2])\n",
      "torch.Size([39, 2])\n",
      "torch.Size([39])\n",
      "tensor([ 7, 10,  9, 13, 17, 17, 10, 12,  7,  9, 18, 17,  9, 22, 20, 22, 14, 17,\n",
      "        22, 10, 12,  9, 11, 15, 34, 59, 13,  9,  6, 15,  6, 12, 21,  9, 12, 10,\n",
      "        21, 20, 14])\n",
      "torch.Size([39, 513, 119])\n",
      "torch.Size([39]) tensor([ 16,  21,  20,  27,  35,  35,  22,  25,  15,  20,  37,  36,  20,  46,\n",
      "         42,  46,  29,  36,  46,  22,  25,  20,  24,  31,  70, 119,  28,  20,\n",
      "         14,  32,  14,  25,  44,  19,  26,  22,  44,  41,  29])\n"
     ]
    }
   ],
   "source": [
    "BATCH_SIZE = 4\n",
    "note_labels = get_pitch_labels()\n",
    "phoneme_labels = get_transposed_phoneme_labels()\n",
    "slur_labels = [0, 1]\n",
    "# 0-1 分辨率0.01，1-2 分辨率0.05，2-7 分辨率0.2\n",
    "duration_labels = [i for i in range(7)]\n",
    "\n",
    "labels = (\n",
    "    phoneme_labels,\n",
    "    note_labels,\n",
    "    slur_labels\n",
    ")\n",
    "loaderGenerator = MusicLoaderGenerator(labels, use_mel=False)\n",
    "train_loader = loaderGenerator.dataloader(train_set, batch_size=BATCH_SIZE)\n",
    "test_loader = loaderGenerator.dataloader(test_set, batch_size=1)\n",
    "print('train_set:', len(train_set), 'test_set:',len(test_set))\n",
    "steps = 1\n",
    "for i_batch, sample_batched in enumerate(train_loader):\n",
    "    if steps <= 0:\n",
    "        break\n",
    "\n",
    "    print(sample_batched['chinese'])\n",
    "    print(sample_batched['phoneme'].shape)\n",
    "    print(sample_batched['phoneme_pre'].shape)\n",
    "    print(sample_batched['note_post'].shape)\n",
    "    print(sample_batched['audio_duration_quant'])\n",
    "    print(sample_batched['mel'].shape)\n",
    "    print(sample_batched['mel_len'].shape, sample_batched['mel_len'])\n",
    "    steps -= 1"
   ]
  },
  {
   "cell_type": "markdown",
   "metadata": {},
   "source": [
    "# Model 设计\n",
    "\n",
    "- 尝试使用逆卷积，上采样得到所需的音频\n",
    "- 我们无需去计算时间停止符，只需要在输出的时间内计算loss并且最小化即可\n",
    "- 设定一个最大时间长度，比如两秒，超过的就不要了（用阈值筛掉）\n",
    "- 多层上采样得到最佳的输出\n",
    "- 使用梅尔频谱，还有解码器，可以使得输出音质比stft好（猜的，需要验证）一般机器学习声码器都会好点\n",
    "\n",
    "但是有问题：\n",
    "- 使用逆卷积太过刚直，没有变化性，导致无法很好的收敛\n",
    "- 一般逆卷积和GAN一起使用，用判别器取代刚直的loss\n",
    "- 使用tacotron模式就会好很多，无需GAN，自收敛"
   ]
  },
  {
   "cell_type": "code",
   "execution_count": 5,
   "metadata": {},
   "outputs": [],
   "source": [
    "from torchaudio.models.tacotron2 import Tacotron2, _get_mask_from_lengths, _Decoder, _Encoder, _Postnet\n",
    "from torchaudio.pipelines._tts.utils import _get_taco_params\n",
    "import torch\n",
    "from torch import Tensor\n",
    "from typing import Tuple, List, Optional, Union, overload\n",
    "\n",
    "\n",
    "class TacotronTail(Tacotron2):\n",
    "    def __init__(\n",
    "        self,\n",
    "        labels_lens: dict,\n",
    "        decoder = None,\n",
    "        postnet = None,\n",
    "    ) -> None:\n",
    "        _tacotron2_params=_get_taco_params(n_symbols=5) # ignore n_symbols, encoder not used \n",
    "        _tacotron2_params[\"mask_padding\"] = True\n",
    "        _tacotron2_params['n_mels'] = 513\n",
    "        super().__init__(**_tacotron2_params)\n",
    "\n",
    "        embedding_dim = _tacotron2_params['encoder_embedding_dim']\n",
    "        self.embeddings = {\n",
    "            key: torch.nn.Embedding(value, embedding_dim)\n",
    "            for key, value in labels_lens.items()\n",
    "        }\n",
    "        self.embedding_register = torch.nn.ModuleList(self.embeddings.values())\n",
    "        self.time_map = torch.nn.Sequential(\n",
    "            torch.nn.Linear(1, embedding_dim//4),\n",
    "            torch.nn.ReLU(),\n",
    "            torch.nn.Linear(embedding_dim//4, embedding_dim)\n",
    "        )\n",
    "        # 将embedding注册进模型，不确定是否复制，需要在实践中测试\n",
    "        if decoder is not None:\n",
    "            self.decoder: _Decoder = decoder\n",
    "        if postnet is not None:\n",
    "            self.postnet: _Postnet = postnet\n",
    "        self.reduce_phoneme = lambda x: torch.sum(x, 1) if len(x.shape)==3 else x\n",
    "        self.decoder.decoder_max_step = int(4 * 22050 / 256)\n",
    "        self.version = '0.01'\n",
    "\n",
    "    def forward(\n",
    "        self,\n",
    "        inputs: dict,\n",
    "    ):\n",
    "        embedded_inputs = [\n",
    "            self.reduce_phoneme(self.embeddings[key](inputs[key])) for key in self.embeddings.keys()\n",
    "            if key != 'audio_duration_quant'\n",
    "        ]\n",
    "        embedded_inputs.append(self.time_map(inputs['audio_duration'].reshape([-1,1])))\n",
    "        embedded_inputs = torch.stack(embedded_inputs).sum(0).unsqueeze(1) # [bs, 1, emb_size]\n",
    "        # embedded_inputs[:,0,-1] = inputs['audio_duration']\n",
    "        mel_specgram = inputs['mel'] # (n_batch, ``n_mels``, max of ``mel_specgram_lengths``)\n",
    "        # print('mel_specgram', mel_specgram.shape)\n",
    "        mel_specgram_lengths = inputs['mel_len']\n",
    "        mel_specgram, gate_outputs, alignments = self.decoder(\n",
    "            embedded_inputs, mel_specgram, memory_lengths=torch.ones_like(mel_specgram_lengths),\n",
    "        )\n",
    "\n",
    "        mel_specgram_postnet = self.postnet(mel_specgram)\n",
    "        mel_specgram_postnet = mel_specgram + mel_specgram_postnet\n",
    "\n",
    "        if self.mask_padding:\n",
    "            mask = _get_mask_from_lengths(mel_specgram_lengths)\n",
    "            mask = mask.expand(self.n_mels, mask.size(0), mask.size(1))\n",
    "            mask = mask.permute(1, 0, 2)\n",
    "\n",
    "            mel_specgram = mel_specgram.masked_fill(mask, 0.0)\n",
    "            mel_specgram_postnet = mel_specgram_postnet.masked_fill(mask, 0.0)\n",
    "            # gate_outputs.masked_fill_(mask[:, 0, :], 1e3)\n",
    "\n",
    "        return mel_specgram, mel_specgram_postnet, gate_outputs, alignments\n",
    "\n",
    "    @torch.jit.export\n",
    "    def infer(\n",
    "        self, \n",
    "        inputs: dict,\n",
    "        ) -> Tuple[Tensor, Tensor, Tensor]:\n",
    "\n",
    "        embedded_inputs = [\n",
    "            self.reduce_phoneme(self.embeddings[key](inputs[key])) for key in self.embeddings.keys()\n",
    "            if key != 'audio_duration_quant'\n",
    "        ]\n",
    "        embedded_inputs.append(self.time_map(inputs['audio_duration'].reshape([-1,1])))\n",
    "        embedded_inputs = torch.stack(embedded_inputs).sum(0).unsqueeze(1) # [bs, 1, emb_size]\n",
    "        # embedded_inputs[:,0,-1] = inputs['audio_duration']\n",
    "        \n",
    "        n_batch = embedded_inputs.shape[0]\n",
    "        mel_specgram, mel_specgram_lengths, _, alignments = \\\n",
    "            self.decoder.infer(embedded_inputs, memory_lengths=torch.ones(n_batch))\n",
    "\n",
    "        mel_outputs_postnet = self.postnet(mel_specgram)\n",
    "        mel_outputs_postnet = mel_specgram + mel_outputs_postnet\n",
    "\n",
    "        alignments = alignments.unfold(1, n_batch, n_batch).transpose(0, 2)\n",
    "\n",
    "        return mel_outputs_postnet, mel_specgram_lengths, alignments\n",
    "\n"
   ]
  },
  {
   "cell_type": "code",
   "execution_count": 6,
   "metadata": {},
   "outputs": [
    {
     "name": "stderr",
     "output_type": "stream",
     "text": [
      "/scratch/bh2283/penv/lib/python3.10/site-packages/torchaudio/models/tacotron2.py:860: UserWarning: Reached max decoder steps. The generated spectrogram might not cover the whole transcript.\n",
      "  warnings.warn(\n"
     ]
    }
   ],
   "source": [
    "labels_lens = {\n",
    "    'audio_duration_quant': 130, # 这个是量化后的计算结果\n",
    "    'phoneme': len(phoneme_labels), # 拼音\n",
    "    'phoneme_pre': len(phoneme_labels), # 前一个汉字的拼音\n",
    "    'phoneme_post': len(phoneme_labels), # 后一个汉字的拼音\n",
    "    'note': len(note_labels), # 音调音符\n",
    "    'note_pre': len(note_labels),\n",
    "    'note_post': len(note_labels),\n",
    "    'slur': len(slur_labels), # 是否为延长音\n",
    "}\n",
    "model = TacotronTail(labels_lens)\n",
    "steps = 1\n",
    "for i_batch, sample_batched in enumerate(train_loader):\n",
    "    if steps <= 0:\n",
    "        break\n",
    "    model.infer(sample_batched)\n",
    "    # print(sample_batched['chinese'])\n",
    "    # print(sample_batched['phoneme'].shape)\n",
    "    # print(sample_batched['phoneme_pre'].shape)\n",
    "    # print(sample_batched['note_post'].shape)\n",
    "    # print(sample_batched['audio_duration_quant'])\n",
    "    # print(sample_batched['mel'].shape)\n",
    "    # print(sample_batched['mel_len'].shape, sample_batched['mel_len'])\n",
    "    steps -= 1\n"
   ]
  },
  {
   "cell_type": "markdown",
   "metadata": {},
   "source": [
    "## 训练\n",
    "\n",
    "- 初始参数配置\n",
    "- 训练"
   ]
  },
  {
   "cell_type": "code",
   "execution_count": 7,
   "metadata": {},
   "outputs": [],
   "source": [
    "LOG_DIR = './log/tacotron-1-'\n",
    "LEARNING_RATE = 0.001\n",
    "LOAD_PATH = './checkpoint/model-temp.pt'\n",
    "def save_log(file_name, log, mode='a', path = LOG_DIR):\n",
    "    with open(path+file_name, mode) as f:\n",
    "        if mode == 'a':\n",
    "            f.write('\\n')\n",
    "        if type(log) is str:\n",
    "            f.write(log)\n",
    "            print(log)\n",
    "        else:\n",
    "            log = [str(l) for l in log]\n",
    "            f.write(' '.join(log))\n",
    "            print(' '.join(log))"
   ]
  },
  {
   "cell_type": "code",
   "execution_count": 8,
   "metadata": {},
   "outputs": [],
   "source": [
    "from os.path import exists\n",
    "device = torch.device(\"cuda\" if torch.cuda.is_available() else \"cpu\")\n",
    "def load_checkpoint(path):\n",
    "    if exists(path):\n",
    "        save_log(f'e.txt', ['path', path, 'exist, loading...'])\n",
    "        checkpoint = torch.load(path, map_location=device)\n",
    "        if 'model_state_dict' in checkpoint:\n",
    "            model.decoder.load_state_dict(checkpoint['model_state_dict'], strict=False) # , strict=False?\n",
    "            model.postnet.load_state_dict(checkpoint['model_state_dict'], strict=False)\n",
    "\n",
    "load_checkpoint(LOAD_PATH)"
   ]
  },
  {
   "cell_type": "code",
   "execution_count": 9,
   "metadata": {},
   "outputs": [],
   "source": [
    "params = model.parameters()\n",
    "# params = list(model.embedding.parameters())+list(model.encoder.parameters())+list(model.speaker_encoder.parameters())\n",
    "# optimizer = torch.optim.SGD(params, lr=LEARNING_RATE, momentum=0.5)\n",
    "optimizer = torch.optim.Adam(params, lr=LEARNING_RATE)\n",
    "scheduler = torch.optim.lr_scheduler.StepLR(optimizer, step_size=1, gamma=0.5)\n",
    "initial_epoch = 0\n",
    "mse_loss = torch.nn.MSELoss()\n",
    "bce_loss = torch.nn.BCELoss()\n",
    "cos_loss = torch.nn.CosineEmbeddingLoss()\n",
    "mean = lambda x: sum(x)/len(x)"
   ]
  },
  {
   "cell_type": "code",
   "execution_count": 10,
   "metadata": {},
   "outputs": [],
   "source": [
    "def dump_model(EPOCH, LOSS, PATH):\n",
    "    torch.save({\n",
    "            'epoch': EPOCH,\n",
    "            'model_state_dict': model.state_dict(),\n",
    "            'optimizer_state_dict': optimizer.state_dict(),\n",
    "            'loss': LOSS,\n",
    "            }, PATH)\n",
    "\n",
    "def save_temp(EPOCH, LOSS):\n",
    "    PATH = f\"./checkpoint/model_temp.pt\"\n",
    "    dump_model(EPOCH, LOSS, PATH)\n",
    "    \n",
    "def save_checkpoint(EPOCH, LOSS):\n",
    "    PATH = f\"./checkpoint/model_{EPOCH}_{'%.3f' % LOSS}.pt\"\n",
    "    dump_model(EPOCH, LOSS, PATH)"
   ]
  },
  {
   "cell_type": "code",
   "execution_count": 11,
   "metadata": {},
   "outputs": [
    {
     "name": "stdout",
     "output_type": "stream",
     "text": [
      "path ./checkpoint/model_temp.pt exist, loading...\n"
     ]
    }
   ],
   "source": [
    "LOAD_PATH = './checkpoint/model_temp.pt'\n",
    "\n",
    "def load_checkpoint(path):\n",
    "    if exists(path):\n",
    "        save_log(f'e.txt', ['path', path, 'exist, loading...'])\n",
    "        checkpoint = torch.load(path, map_location=device)\n",
    "        if 'model_state_dict' in checkpoint:\n",
    "            model.load_state_dict(checkpoint['model_state_dict'], strict=True)\n",
    "            # model.decoder.load_state_dict(checkpoint['model_state_dict'], strict=False) # , strict=False?\n",
    "            # model.postnet.load_state_dict(checkpoint['model_state_dict'], strict=False)\n",
    "\n",
    "load_checkpoint(LOAD_PATH)"
   ]
  },
  {
   "cell_type": "code",
   "execution_count": 12,
   "metadata": {},
   "outputs": [],
   "source": [
    "test_iter = iter(test_loader)"
   ]
  },
  {
   "cell_type": "code",
   "execution_count": 13,
   "metadata": {},
   "outputs": [],
   "source": [
    "sample_batched = next(test_iter)\n",
    "# sample_batched = next(test_iter)\n",
    "mel_outputs_postnet, mel_specgram_lengths, _ = model.infer(sample_batched)"
   ]
  },
  {
   "cell_type": "code",
   "execution_count": 14,
   "metadata": {},
   "outputs": [
    {
     "data": {
      "text/plain": [
       "tensor([ 7, 11, 21, 21, 21, 21, 19, 36,  7, 11, 21, 21, 21, 24, 24, 36])"
      ]
     },
     "execution_count": 14,
     "metadata": {},
     "output_type": "execute_result"
    }
   ],
   "source": [
    "sample_batched['note']"
   ]
  },
  {
   "cell_type": "code",
   "execution_count": 15,
   "metadata": {},
   "outputs": [],
   "source": [
    "import matplotlib\n",
    "import matplotlib.pyplot as plt\n",
    "import torchaudio\n",
    "matplotlib.rcParams[\"figure.figsize\"] = [16.0, 4.8]"
   ]
  },
  {
   "cell_type": "code",
   "execution_count": 41,
   "metadata": {},
   "outputs": [
    {
     "name": "stdout",
     "output_type": "stream",
     "text": [
      "path ./checkpoint/model_temp.pt exist, loading...\n"
     ]
    },
    {
     "data": {
      "text/plain": [
       "('有', tensor(40, dtype=torch.int32))"
      ]
     },
     "execution_count": 41,
     "metadata": {},
     "output_type": "execute_result"
    },
    {
     "data": {
      "image/png": "[encoded data removed]",
      "text/plain": [
       "<Figure size 1152x345.6 with 1 Axes>"
      ]
     },
     "metadata": {
      "needs_background": "light"
     },
     "output_type": "display_data"
    }
   ],
   "source": [
    "load_checkpoint(LOAD_PATH)\n",
    "mel_outputs_postnet, mel_specgram_lengths, _ = model.infer(sample_batched)\n",
    "idx = 3\n",
    "mel = mel_outputs_postnet[idx]\n",
    "gen_mel = mel[:, :mel_specgram_lengths[idx]]\n",
    "plt.imshow(gen_mel.detach().numpy(), interpolation='none')\n",
    "griffin_lim = torchaudio.transforms.GriffinLim(\n",
    "    n_fft=1024,\n",
    "    win_length=None,\n",
    "    hop_length=256,\n",
    ")\n",
    "waveforms = griffin_lim(torch.exp(gen_mel).unsqueeze(0))\n",
    "torchaudio.save(\"waveglow_reconstruct.wav\", waveforms[0:1], sample_rate=22050)\n",
    "\n",
    "sample_batched['chinese'][idx], mel_specgram_lengths[idx]"
   ]
  },
  {
   "cell_type": "code",
   "execution_count": 42,
   "metadata": {},
   "outputs": [
    {
     "data": {
      "text/plain": [
       "('有', tensor(38))"
      ]
     },
     "execution_count": 42,
     "metadata": {},
     "output_type": "execute_result"
    },
    {
     "data": {
      "image/png": "[encoded data removed]",
      "text/plain": [
       "<Figure size 1152x345.6 with 1 Axes>"
      ]
     },
     "metadata": {
      "needs_background": "light"
     },
     "output_type": "display_data"
    }
   ],
   "source": [
    "org_mel=sample_batched['mel'][idx][:, :sample_batched['mel_len'][idx]]\n",
    "plt.imshow(org_mel.detach().numpy(), interpolation='none')\n",
    "\n",
    "waveforms = griffin_lim(torch.exp(org_mel).unsqueeze(0))\n",
    "torchaudio.save(\"waveglow_org.wav\", waveforms[0:1], sample_rate=22050)\n",
    "\n",
    "sample_batched['chinese'][idx], sample_batched['mel_len'][idx]"
   ]
  },
  {
   "cell_type": "markdown",
   "metadata": {},
   "source": [
    "生成高亮度部分的mask，之后应用可以使这一部分被看重，增加其权重"
   ]
  },
  {
   "cell_type": "code",
   "execution_count": 43,
   "metadata": {},
   "outputs": [
    {
     "data": {
      "text/plain": [
       "torch.Size([513, 40])"
      ]
     },
     "execution_count": 43,
     "metadata": {},
     "output_type": "execute_result"
    }
   ],
   "source": [
    "gen_mel.shape"
   ]
  },
  {
   "cell_type": "code",
   "execution_count": 44,
   "metadata": {},
   "outputs": [
    {
     "data": {
      "text/plain": [
       "(tensor(5.5083, grad_fn=<VarBackward0>),\n",
       " tensor(-7.6280, grad_fn=<MeanBackward0>),\n",
       " tensor(8.4151),\n",
       " tensor(-7.3195))"
      ]
     },
     "execution_count": 44,
     "metadata": {},
     "output_type": "execute_result"
    }
   ],
   "source": [
    "gen_mel.var(), gen_mel.mean(), org_mel.var(), org_mel.mean()"
   ]
  },
  {
   "cell_type": "code",
   "execution_count": 20,
   "metadata": {},
   "outputs": [],
   "source": [
    "# threshold = 0.9\n",
    "# gen_mask = gen_mel < gen_mel.mean() + gen_mel.var()*threshold\n",
    "# gen_masked_mel = gen_mel.masked_fill(gen_mask, -10)\n",
    "# org_mask = org_mel < org_mel.mean() + org_mel.var()*threshold\n",
    "# org_masked_mel = org_mel.masked_fill(org_mask, -10)\n",
    "# # minshape = min(org_mask.shape[-1], gen_mask.shape[-1])\n",
    "# org_masked_mel2 = org_mel[:,:32].masked_fill(org_mask[:,:32].bitwise_and(gen_mask[:,:32]), -10)\n",
    "# # plt.imshow(gen_mel.detach().numpy(), interpolation='none')\n",
    "# plt.imshow(torch.cat([org_mel, org_masked_mel, gen_mel, gen_masked_mel, org_masked_mel2], dim=1).detach().numpy(), interpolation='none')"
   ]
  },
  {
   "cell_type": "code",
   "execution_count": 21,
   "metadata": {},
   "outputs": [],
   "source": [
    "def threshold_mse_loss(mel1, mel2, threshold=0.2, mask_fill_val=0):\n",
    "    # threshold should be in [0,1]\n",
    "    # the larger the threshold, the smaller area selected\n",
    "    # mel1 [mel_bins, time], mel1 and mel2 should have same time\n",
    "    assert mel1.shape[1] == mel2.shape[1]\n",
    "    mask1 = mel1 < mel1.mean() + mel1.var()*threshold\n",
    "    mask2 = mel2 < mel2.mean() + mel2.var()*threshold\n",
    "    and_mask = mask1.bitwise_and(mask2)\n",
    "    return mel1.masked_fill(and_mask, mask_fill_val), mel2.masked_fill(and_mask, mask_fill_val)"
   ]
  },
  {
   "cell_type": "code",
   "execution_count": 22,
   "metadata": {},
   "outputs": [],
   "source": [
    "# plt.imshow(torch.cat(threshold_mse_loss(org_mel, gen_mel[:, :32], 0.2), dim=1).detach().numpy(), interpolation='none')"
   ]
  },
  {
   "cell_type": "markdown",
   "metadata": {},
   "source": [
    "# 自己写一段音频"
   ]
  },
  {
   "cell_type": "markdown",
   "metadata": {},
   "source": [
    "单个汉字测试"
   ]
  },
  {
   "cell_type": "code",
   "execution_count": 23,
   "metadata": {},
   "outputs": [
    {
     "data": {
      "text/plain": [
       "{'audio_duration': tensor([0.3000]),\n",
       " 'audio_duration_quant': tensor([12]),\n",
       " 'chinese': ['王'],\n",
       " 'phoneme': tensor([[24, 49]]),\n",
       " 'phoneme_pre': tensor([[61,  0]]),\n",
       " 'phoneme_post': tensor([[17, 52]]),\n",
       " 'note': tensor([27]),\n",
       " 'note_pre': tensor([36]),\n",
       " 'note_post': tensor([27]),\n",
       " 'slur': tensor([0])}"
      ]
     },
     "execution_count": 23,
     "metadata": {},
     "output_type": "execute_result"
    }
   ],
   "source": [
    "data = {\n",
    "    'audio_duration_quant': [0.3], # 量化后音屏时间长度\n",
    "    'audio_duration': [0.3], # 量化后音屏时间长度\n",
    "    'chinese': ['王'], # 该音频汉字\n",
    "    'phoneme': [['w', 'ang']], # 拼音\n",
    "    'phoneme_pre': [['SP']], # 前一个汉字的拼音\n",
    "    'phoneme_post': [['ch', 'eng']], # 后一个汉字的拼音\n",
    "    'note': ['F#4/Gb4'], # 音调音符\n",
    "    'note_pre': ['rest'],\n",
    "    'note_post':['F#4/Gb4'],\n",
    "    'slur': [0],\n",
    "}\n",
    "data = loaderGenerator.data_transfer(data)\n",
    "data"
   ]
  },
  {
   "cell_type": "code",
   "execution_count": 24,
   "metadata": {},
   "outputs": [],
   "source": [
    "mel_outputs_postnet, mel_specgram_lengths, _ = model.infer(data)"
   ]
  },
  {
   "cell_type": "code",
   "execution_count": 25,
   "metadata": {},
   "outputs": [
    {
     "data": {
      "text/plain": [
       "'王'"
      ]
     },
     "execution_count": 25,
     "metadata": {},
     "output_type": "execute_result"
    },
    {
     "data": {
      "image/png": "[encoded data removed]",
      "text/plain": [
       "<Figure size 1152x345.6 with 1 Axes>"
      ]
     },
     "metadata": {
      "needs_background": "light"
     },
     "output_type": "display_data"
    }
   ],
   "source": [
    "idx = 0\n",
    "mel = mel_outputs_postnet[idx]\n",
    "mel = mel[:, :mel_specgram_lengths[idx]]\n",
    "plt.imshow(mel.detach().numpy(), interpolation='none')\n",
    "\n",
    "waveforms = griffin_lim(torch.exp(mel).unsqueeze(0))\n",
    "torchaudio.save(\"waveglow_reconstruct.wav\", waveforms[0:1], sample_rate=22050)\n",
    "\n",
    "data['chinese'][idx]"
   ]
  },
  {
   "cell_type": "markdown",
   "metadata": {},
   "source": [
    "整句测试"
   ]
  },
  {
   "cell_type": "code",
   "execution_count": 49,
   "metadata": {},
   "outputs": [],
   "source": [
    "data_org = {\n",
    "    'audio_duration_quant': [0.18523, 0.17741, 0.19393, 0.25967, 0.29934, 0.21555, 0.03177, 0.19752, 0.16545, 0.18476, 0.21229, 0.24696, 0.44037, 1.52495, 0.85583, 0.5591], # 单字时间长度（秒）\n",
    "    'audio_duration': [0.18523, 0.17741, 0.19393, 0.25967, 0.29934, 0.21555, 0.03177, 0.19752, 0.16545, 0.18476, 0.21229, 0.24696, 0.44037, 1.52495, 0.85583, 0.5591], # 单字时间长度（秒）\n",
    "    'chinese': ['漂', '浮', '在', '~', '~', 'AP', 'SP', '一', '~', '片', '~', '~', '无', '奈', 'SP', 'AP'], # 该音频汉字\n",
    "    'phoneme': [['p', 'iao'], ['f', 'u'], ['z', 'ai'], ['ai', '-'], ['ai', '-'], ['AP', '-'], ['SP', '-'], ['y', 'i'], ['i', '-'], ['p', 'ian'], ['ian', '-'], ['ian', '-'], ['w', 'u'], ['n', 'ai'], ['SP', '-'], ['AP', '-']], # 拼音\n",
    "    'phoneme_pre': [['AP'], ['p', 'iao'], ['f', 'u'], ['z', 'ai'], ['ai', '-'], ['ai', '-'], ['AP', '-'], ['SP', '-'], ['y', 'i'], ['i', '-'], ['p', 'ian'], ['ian', '-'], ['ian', '-'], ['w', 'u'], ['n', 'ai'], ['SP', '-']], # 前一个汉字的拼音\n",
    "    'phoneme_post': [['f', 'u'], ['z', 'ai'], ['ai', '-'], ['ai', '-'], ['AP', '-'], ['SP', '-'], ['y', 'i'], ['i', '-'], ['p', 'ian'], ['ian', '-'], ['ian', '-'], ['w', 'u'], ['n', 'ai'], ['SP', '-'], ['AP', '-'], ['AP']], # 后一个汉字的拼音\n",
    "    'note': ['E4', 'F#4/Gb4', 'G#4/Ab4', 'A4', 'G#4/Ab4', 'rest', 'rest', 'E4', 'F#4/Gb4', 'G#4/Ab4', 'A4', 'G#4/Ab4', 'E4', 'F#4/Gb4', 'rest', 'rest'], # 音调音符\n",
    "    'note_pre': ['rest', 'E4', 'F#4/Gb4', 'G#4/Ab4', 'A4', 'G#4/Ab4', 'rest', 'rest', 'E4', 'F#4/Gb4', 'G#4/Ab4', 'A4', 'G#4/Ab4', 'E4', 'F#4/Gb4', 'rest'],\n",
    "    'note_post':['F#4/Gb4', 'G#4/Ab4', 'A4', 'G#4/Ab4', 'rest', 'rest', 'E4', 'F#4/Gb4', 'G#4/Ab4', 'A4', 'G#4/Ab4', 'E4', 'F#4/Gb4', 'rest', 'rest', 'rest'],\n",
    "    'slur': [0, 0, 0, 1, 1, 0, 0, 0, 1, 0, 1, 1, 0, 0, 0, 0],\n",
    "}\n",
    "data = loaderGenerator.data_transfer(data_org)\n",
    "# data"
   ]
  },
  {
   "cell_type": "code",
   "execution_count": 55,
   "metadata": {},
   "outputs": [],
   "source": [
    "mel_outputs_postnet, mel_specgram_lengths, _ = model.infer(data)"
   ]
  },
  {
   "cell_type": "code",
   "execution_count": 56,
   "metadata": {},
   "outputs": [
    {
     "data": {
      "text/plain": [
       "('~', 0.25967)"
      ]
     },
     "execution_count": 56,
     "metadata": {},
     "output_type": "execute_result"
    },
    {
     "data": {
      "image/png": "[encoded data removed]",
      "text/plain": [
       "<Figure size 1152x345.6 with 1 Axes>"
      ]
     },
     "metadata": {
      "needs_background": "light"
     },
     "output_type": "display_data"
    }
   ],
   "source": [
    "idx = 3\n",
    "mel = mel_outputs_postnet[idx]\n",
    "mel = mel[:, :mel_specgram_lengths[idx]]\n",
    "plt.imshow(mel.detach().numpy(), interpolation='none')\n",
    "\n",
    "waveforms = griffin_lim(torch.exp(mel).unsqueeze(0))\n",
    "torchaudio.save(\"waveglow_reconstruct.wav\", waveforms[0:1], sample_rate=22050)\n",
    "\n",
    "data['chinese'][idx], data_org['audio_duration_quant'][idx]"
   ]
  },
  {
   "cell_type": "code",
   "execution_count": 57,
   "metadata": {},
   "outputs": [
    {
     "data": {
      "text/plain": [
       "torch.Size([1, 6912])"
      ]
     },
     "execution_count": 57,
     "metadata": {},
     "output_type": "execute_result"
    }
   ],
   "source": [
    "waveforms.shape"
   ]
  },
  {
   "cell_type": "code",
   "execution_count": 58,
   "metadata": {},
   "outputs": [],
   "source": [
    "def generate_waveform(mel_outputs_postnet, mel_specgram_lengths):\n",
    "    waveforms = []\n",
    "    for idx in range(len(data_org['chinese'])):\n",
    "        mel = mel_outputs_postnet[idx]\n",
    "        mel = mel[:, :mel_specgram_lengths[idx]]\n",
    "        waveform = griffin_lim(torch.exp(mel).unsqueeze(0))[0][:int(22050 * data_org['audio_duration_quant'][idx])]\n",
    "        waveforms.append(waveform-waveform.mean())\n",
    "    return torch.cat(waveforms).unsqueeze(0)"
   ]
  },
  {
   "cell_type": "code",
   "execution_count": 59,
   "metadata": {},
   "outputs": [],
   "source": [
    "waveform = generate_waveform(mel_outputs_postnet, mel_specgram_lengths)\n",
    "torchaudio.save(\"waveglow_reconstruct.wav\", waveform, sample_rate=22050)"
   ]
  },
  {
   "cell_type": "markdown",
   "metadata": {},
   "source": [
    "修改歌词试试"
   ]
  },
  {
   "cell_type": "code",
   "execution_count": 32,
   "metadata": {},
   "outputs": [
    {
     "data": {
      "text/plain": [
       "['n']"
      ]
     },
     "execution_count": 32,
     "metadata": {},
     "output_type": "execute_result"
    }
   ],
   "source": [
    "from pypinyin import lazy_pinyin, Style\n",
    "def chinese2pinyin(text):\n",
    "    # 单个汉字转换\n",
    "    initials = lazy_pinyin(text, strict=False, style=Style.INITIALS, errors=lambda x: u'')\n",
    "    finals = lazy_pinyin(text, strict=False, style=Style.FINALS, errors=lambda x: u'')\n",
    "    pinyin = [initials[0], finals[0]] if len(initials[0])!=0 else [finals[0]]\n",
    "    return pinyin\n",
    "\n",
    "chinese2pinyin('嗯')"
   ]
  },
  {
   "cell_type": "code",
   "execution_count": 33,
   "metadata": {},
   "outputs": [],
   "source": [
    "def chinese2phoneme(chinese):\n",
    "    phoneme = []\n",
    "    for i in range(len(chinese)):\n",
    "        c = chinese[i]\n",
    "        if c == '~':\n",
    "            phoneme.append([phoneme[i-1][-1]])\n",
    "        elif c in 'AS':\n",
    "            phoneme.append([f'{c}P'])\n",
    "        else:\n",
    "            phoneme.append(chinese2pinyin(c))\n",
    "    return phoneme"
   ]
  },
  {
   "cell_type": "code",
   "execution_count": 34,
   "metadata": {},
   "outputs": [],
   "source": [
    "def change_words(chinese, data_org):\n",
    "    assert len(data_org['note']) == len(chinese)\n",
    "    phoneme = chinese2phoneme(chinese)\n",
    "    data_org = data_org.copy()\n",
    "    data_org['phoneme'] = phoneme\n",
    "    data_org['phoneme_pre'] = [['SP']]+phoneme[:-1]\n",
    "    data_org['phoneme_post'] = phoneme[1:] + [['SP']]\n",
    "    data_org['chinese'] = chinese\n",
    "    data_org['slur'] = [1 if i == '~' else 0 for i in chinese]\n",
    "    data_org = loaderGenerator.data_transfer(data_org)\n",
    "    data_org['audio_duration_quant'] -= 0 # 增长mel，使得可以截断一部分使得更加连贯\n",
    "    return data_org"
   ]
  },
  {
   "cell_type": "code",
   "execution_count": 68,
   "metadata": {},
   "outputs": [
    {
     "name": "stdout",
     "output_type": "stream",
     "text": [
      "path ./checkpoint/model_temp.pt exist, loading...\n"
     ]
    }
   ],
   "source": [
    "load_checkpoint(LOAD_PATH)\n",
    "chinese = '胡炳城~~AS全世界~~最帅SA'\n",
    "data = change_words(chinese, data_org)\n",
    "mel_outputs_postnet, mel_specgram_lengths, _ = model.infer(data)\n",
    "mel_outputs_postnet[:,30:,:]=-40\n",
    "waveform = generate_waveform(mel_outputs_postnet, mel_specgram_lengths)\n",
    "torchaudio.save(\"waveglow_reconstruct2.wav\", waveform, sample_rate=22050)"
   ]
  },
  {
   "cell_type": "code",
   "execution_count": 69,
   "metadata": {},
   "outputs": [
    {
     "data": {
      "text/plain": [
       "<matplotlib.image.AxesImage at 0x7fb81ac9e920>"
      ]
     },
     "execution_count": 69,
     "metadata": {},
     "output_type": "execute_result"
    },
    {
     "data": {
      "image/png": "[encoded data removed]",
      "text/plain": [
       "<Figure size 1152x345.6 with 1 Axes>"
      ]
     },
     "metadata": {
      "needs_background": "light"
     },
     "output_type": "display_data"
    }
   ],
   "source": [
    "mel_transform = torchaudio.transforms.MelSpectrogram(sample_rate=22050,\\\n",
    "            n_fft=1024,power=1,hop_length=256,win_length=1024, n_mels=80, \\\n",
    "                f_min=0.0, f_max=8000.0, mel_scale=\"slaney\", norm=\"slaney\")\n",
    "safe_log = lambda x: torch.log(x+2**(-15))\n",
    "plt.imshow(safe_log(mel_transform(waveform)).detach().numpy()[0], interpolation='none')"
   ]
  },
  {
   "cell_type": "code",
   "execution_count": 70,
   "metadata": {},
   "outputs": [
    {
     "data": {
      "text/plain": [
       "<matplotlib.image.AxesImage at 0x7fb81a7acd30>"
      ]
     },
     "execution_count": 70,
     "metadata": {},
     "output_type": "execute_result"
    },
    {
     "data": {
      "image/png": "[encoded data removed]",
      "text/plain": [
       "<Figure size 1152x345.6 with 1 Axes>"
      ]
     },
     "metadata": {
      "needs_background": "light"
     },
     "output_type": "display_data"
    }
   ],
   "source": [
    "plt.imshow((torch.cat([mel_outputs_postnet[i][:,:mel_specgram_lengths[i]] for i in range(len(mel_outputs_postnet))], 1)).detach().numpy(), interpolation='none')"
   ]
  },
  {
   "cell_type": "code",
   "execution_count": null,
   "metadata": {},
   "outputs": [],
   "source": []
  }
 ],
 "metadata": {
  "kernelspec": {
   "display_name": "Python 3.10.4 (conda)",
   "language": "python",
   "name": "python3"
  },
  "language_info": {
   "codemirror_mode": {
    "name": "ipython",
    "version": 3
   },
   "file_extension": ".py",
   "mimetype": "text/x-python",
   "name": "python",
   "nbconvert_exporter": "python",
   "pygments_lexer": "ipython3",
   "version": "3.10.4"
  },
  "orig_nbformat": 4,
  "vscode": {
   "interpreter": {
    "hash": "e3322949f56cb4db99427e05ed2d4a87f0497ffa3e41dd81b99d577253bd3be5"
   }
  }
 },
 "nbformat": 4,
 "nbformat_minor": 2
}
