{
 "cells": [
  {
   "cell_type": "markdown",
   "metadata": {
    "id": "81p3Y2g4vyx9"
   },
   "source": [
    "\n",
    "# Forced Alignment with Wav2Vec2\n",
    "\n"
   ]
  },
  {
   "cell_type": "code",
   "execution_count": 1,
   "metadata": {
    "id": "FUePjluA1Q4z"
   },
   "outputs": [
    {
     "data": {
      "text/plain": [
       "102600"
      ]
     },
     "execution_count": 1,
     "metadata": {},
     "output_type": "execute_result"
    }
   ],
   "source": [
    "import os\n",
    "data_path = './data/ST-CMDS-20170001_1-OS/'\n",
    "files = os.listdir(data_path)\n",
    "file_names = []\n",
    "for file in files:\n",
    "    if file.split('.')[1] == 'txt':\n",
    "        file_names.append(file.split('.')[0])\n",
    "dataset_file_num = len(file_names)\n",
    "dataset_file_num"
   ]
  },
  {
   "cell_type": "code",
   "execution_count": 2,
   "metadata": {},
   "outputs": [],
   "source": [
    "get_audio = lambda x: data_path+file_names[x]+'.wav' if x < dataset_file_num else None\n",
    "get_text = lambda x: open(data_path+file_names[x]+'.txt', \"r\").read() if x < dataset_file_num else None"
   ]
  },
  {
   "cell_type": "code",
   "execution_count": 4,
   "metadata": {},
   "outputs": [],
   "source": [
    "# # 测试是否有文件兼容性问题\n",
    "# min = 100000\n",
    "# max = 0\n",
    "# for i in range(dataset_file_num):\n",
    "#     text = get_text(i)\n",
    "#     if len(text) < min:\n",
    "#         min = len(text)\n",
    "#     if len(text) > max:\n",
    "#         max = len(text)\n",
    "#     if len(text) == 1:\n",
    "#         print(i, text)\n",
    "# min, max"
   ]
  },
  {
   "cell_type": "code",
   "execution_count": 5,
   "metadata": {},
   "outputs": [],
   "source": [
    "# fix Audio for vscode notebook\n",
    "def Audio(path):\n",
    "    os.popen(f'cp {path} ./audio-temp.wav') \n",
    "    print('please check ./audio-temp.wav for audio')"
   ]
  },
  {
   "cell_type": "code",
   "execution_count": 6,
   "metadata": {
    "colab": {
     "base_uri": "https://localhost:8080/",
     "height": 92
    },
    "id": "bOMD2oDU1rWv",
    "outputId": "2a866db2-b825-44c9-ddc3-3b24a389fff0"
   },
   "outputs": [
    {
     "name": "stdout",
     "output_type": "stream",
     "text": [
      "963 威\n",
      "please check ./audio-temp.wav for audio\n"
     ]
    }
   ],
   "source": [
    "import random\n",
    "# from IPython.display import Audio\n",
    "\n",
    "rand_id = 963 # random.randint(0, dataset_file_num-1)\n",
    "\n",
    "audio_file = get_audio(rand_id)\n",
    "\n",
    "sentence = get_text(rand_id)\n",
    "\n",
    "print(rand_id, sentence)\n",
    "Audio(audio_file)"
   ]
  },
  {
   "cell_type": "markdown",
   "metadata": {
    "id": "xfiFbScJvyyE"
   },
   "source": [
    "## Preparation\n",
    "\n",
    "First we import the necessary packages, and fetch data that we work on.\n",
    "\n",
    "\n"
   ]
  },
  {
   "cell_type": "code",
   "execution_count": 7,
   "metadata": {
    "colab": {
     "base_uri": "https://localhost:8080/"
    },
    "id": "jfy3k0sTvyyE",
    "outputId": "e3f5aef6-9e28-479b-d7c4-33109bfd95ff"
   },
   "outputs": [
    {
     "name": "stdout",
     "output_type": "stream",
     "text": [
      "1.11.0\n",
      "0.11.0\n",
      "cpu\n",
      "please check ./audio-temp.wav for audio\n"
     ]
    }
   ],
   "source": [
    "# %matplotlib inline\n",
    "\n",
    "import os\n",
    "from dataclasses import dataclass\n",
    "\n",
    "import IPython\n",
    "import matplotlib\n",
    "import matplotlib.pyplot as plt\n",
    "import requests\n",
    "import torch\n",
    "import torchaudio\n",
    "import torch.nn as nn\n",
    "import torch.nn.functional as F\n",
    "\n",
    "matplotlib.rcParams[\"figure.figsize\"] = [16.0, 4.8]\n",
    "\n",
    "torch.random.manual_seed(0)\n",
    "device = torch.device(\"cuda\" if torch.cuda.is_available() else \"cpu\")\n",
    "\n",
    "print(torch.__version__)\n",
    "print(torchaudio.__version__)\n",
    "print(device)\n",
    "\n",
    "SPEECH_URL = \"https://download.pytorch.org/torchaudio/tutorial-assets/Lab41-SRI-VOiCES-src-sp0307-ch127535-sg0042.wav\"\n",
    "SPEECH_FILE = \"_assets/speech.wav\"\n",
    "\n",
    "if not os.path.exists(SPEECH_FILE):\n",
    "    os.makedirs(\"_assets\", exist_ok=True)\n",
    "    with open(SPEECH_FILE, \"wb\") as file:\n",
    "        file.write(requests.get(SPEECH_URL).content)\n",
    "Audio(SPEECH_FILE)"
   ]
  },
  {
   "cell_type": "markdown",
   "metadata": {
    "id": "JCByHFR1vyyG"
   },
   "source": [
    "## Generate frame-wise label probability\n",
    "\n",
    "The first step is to generate the label class porbability of each aduio\n",
    "frame. We can use a Wav2Vec2 model that is trained for ASR. Here we use\n",
    ":py:func:`torchaudio.pipelines.WAV2VEC2_ASR_BASE_960H`.\n",
    "\n",
    "``torchaudio`` provides easy access to pretrained models with associated\n",
    "labels.\n",
    "\n",
    "<div class=\"alert alert-info\"><h4>Note</h4><p>In the subsequent sections, we will compute the probability in\n",
    "   log-domain to avoid numerical instability. For this purpose, we\n",
    "   normalize the ``emission`` with :py:func:`torch.log_softmax`.</p></div>\n",
    "\n",
    "\n"
   ]
  },
  {
   "cell_type": "code",
   "execution_count": 8,
   "metadata": {},
   "outputs": [
    {
     "data": {
      "text/plain": [
       "Linear(in_features=768, out_features=28, bias=True)"
      ]
     },
     "execution_count": 8,
     "metadata": {},
     "output_type": "execute_result"
    }
   ],
   "source": [
    "bundle = torchaudio.pipelines.VOXPOPULI_ASR_BASE_10K_EN\n",
    "model = bundle.get_model().to(device)\n",
    "labels = bundle.get_labels()\n",
    "\n",
    "model.aux"
   ]
  },
  {
   "cell_type": "code",
   "execution_count": 9,
   "metadata": {
    "id": "4VUWECy-vyyH"
   },
   "outputs": [],
   "source": [
    "\n",
    "with torch.inference_mode():\n",
    "    waveform, _ = torchaudio.load(SPEECH_FILE)\n",
    "    emissions, _ = model(waveform.to(device))\n",
    "    emissions = torch.log_softmax(emissions, dim=-1)\n",
    "\n",
    "emission = emissions[0].cpu().detach()"
   ]
  },
  {
   "cell_type": "code",
   "execution_count": 10,
   "metadata": {
    "colab": {
     "base_uri": "https://localhost:8080/"
    },
    "id": "abSv4WTl3RA-",
    "outputId": "b4ce1174-e211-4ff0-ffdf-24c4c6878ae7"
   },
   "outputs": [
    {
     "data": {
      "text/plain": [
       "torch.Size([169, 28])"
      ]
     },
     "execution_count": 10,
     "metadata": {},
     "output_type": "execute_result"
    }
   ],
   "source": [
    "emission.shape"
   ]
  },
  {
   "cell_type": "markdown",
   "metadata": {
    "id": "EWWEVxGq_OsY"
   },
   "source": [
    "## Do CTC Decoder"
   ]
  },
  {
   "cell_type": "code",
   "execution_count": 11,
   "metadata": {
    "id": "yPc48W-5-4U_"
   },
   "outputs": [],
   "source": [
    "class GreedyCTCDecoder(torch.nn.Module):\n",
    "    def __init__(self, labels, blank=0):\n",
    "        super().__init__()\n",
    "        self.labels = labels\n",
    "        self.blank = blank\n",
    "\n",
    "    def forward(self, emission: torch.Tensor) -> str:\n",
    "        \"\"\"Given a sequence emission over labels, get the best path string\n",
    "        Args:\n",
    "          emission (Tensor): Logit tensors. Shape `[num_seq, num_label]`.\n",
    "\n",
    "        Returns:\n",
    "          str: The resulting transcript\n",
    "        \"\"\"\n",
    "        indices = torch.argmax(emission, dim=-1)  # [num_seq,]\n",
    "        indices = torch.unique_consecutive(indices, dim=-1)\n",
    "        indices = [i for i in indices if i != self.blank]\n",
    "        return \"\".join([self.labels[i] for i in indices])\n",
    "\n",
    "class NaiveCTCDecoder(torch.nn.Module):\n",
    "    def __init__(self, labels, blank=0):\n",
    "        super().__init__()\n",
    "        self.labels = labels\n",
    "        self.blank = blank\n",
    "\n",
    "    def forward(self, emission: torch.Tensor) -> str:\n",
    "        \"\"\"Given a sequence emission over labels, get the best path string\n",
    "        Args:\n",
    "          emission (Tensor): Logit tensors. Shape `[num_seq, num_label]`.\n",
    "\n",
    "        Returns:\n",
    "          str: The resulting transcript\n",
    "        \"\"\"\n",
    "        indices = torch.argmax(emission, dim=-1)  # [num_seq,]\n",
    "        # indices = torch.unique_consecutive(indices, dim=-1)\n",
    "        # indices = [i for i in indices if i != self.blank]\n",
    "        return \"\".join([self.labels[i] for i in indices])"
   ]
  },
  {
   "cell_type": "code",
   "execution_count": 12,
   "metadata": {
    "id": "5fwzyz0acF-Q"
   },
   "outputs": [],
   "source": [
    "labels = bundle.get_labels()\n",
    "# labels = list(labels)\n",
    "look_up = {s: i for i, s in enumerate(labels)} # 字母转数字\n",
    "# labels = {i: s for i, s in enumerate(labels)} # 数字转字母"
   ]
  },
  {
   "cell_type": "code",
   "execution_count": 13,
   "metadata": {
    "colab": {
     "base_uri": "https://localhost:8080/"
    },
    "id": "HOs2C1gKfux8",
    "outputId": "6447c7e2-7bf7-44b0-bfe3-fa2efa3229f4"
   },
   "outputs": [
    {
     "name": "stdout",
     "output_type": "stream",
     "text": [
      "bundle labels ('-', '|', 'e', 't', 'o', 'i', 'a', 'n', 's', 'r', 'h', 'l', 'd', 'c', 'u', 'm', 'p', 'f', 'g', 'w', 'y', 'b', 'v', 'k', 'x', 'j', 'q', 'z')\n"
     ]
    }
   ],
   "source": [
    "print(\"bundle labels\", labels)"
   ]
  },
  {
   "cell_type": "code",
   "execution_count": 14,
   "metadata": {
    "id": "hu4lqBv8q7gh"
   },
   "outputs": [],
   "source": [
    "# indices = torch.argmax(emission, dim=-1)  # [num_seq,]\n",
    "# torch.unique_consecutive(indices, dim=0)"
   ]
  },
  {
   "cell_type": "code",
   "execution_count": 15,
   "metadata": {
    "colab": {
     "base_uri": "https://localhost:8080/",
     "height": 53
    },
    "id": "Ri-YGQhL-84k",
    "outputId": "294d7a51-d29f-4e8d-b1b8-73474d9c52b7"
   },
   "outputs": [
    {
     "data": {
      "text/plain": [
       "'i|had|that|kery|ask|tha|he|beside|me|at|this|moment'"
      ]
     },
     "execution_count": 15,
     "metadata": {},
     "output_type": "execute_result"
    }
   ],
   "source": [
    "decoder = GreedyCTCDecoder(labels=labels)\n",
    "transcript = decoder(emission)\n",
    "transcript"
   ]
  },
  {
   "cell_type": "markdown",
   "metadata": {
    "id": "338jGyiv2gLv"
   },
   "source": [
    "# Transfer Learning in Chinese"
   ]
  },
  {
   "cell_type": "code",
   "execution_count": 16,
   "metadata": {
    "colab": {
     "base_uri": "https://localhost:8080/"
    },
    "id": "XylZWY742s78",
    "outputId": "e0cc2af0-ed7f-4209-8630-d1b02503c578"
   },
   "outputs": [],
   "source": [
    "# ! pip install pypinyin"
   ]
  },
  {
   "cell_type": "markdown",
   "metadata": {},
   "source": [
    "创建中文注音label，不要让模型直接预测拼音，而是改为预测音素"
   ]
  },
  {
   "cell_type": "code",
   "execution_count": 17,
   "metadata": {},
   "outputs": [],
   "source": [
    "initial_table = ['b', 'p', 'm', 'f',\n",
    "                'd', 't', 'n', 'l',\n",
    "                'g', 'k', 'h',\n",
    "                'j', 'q', 'x',\n",
    "                'zh', 'ch', 'sh', 'r', 'z', 'c', 's']\n",
    "\n",
    "finals_table = [['i', 'u', 'v'], # 可以与下面的配成 iao, ue\n",
    "                ['a', 'o', 'e', \n",
    "                'ai', 'ei', 'ao',\n",
    "                'ou', 'an', 'en',\n",
    "                'ang', 'eng', 'ong',\n",
    "                'er']]\n",
    "\n",
    "# labels = ['-','|']+initial_table + finals_table[0] + finals_table[1]\n",
    "# look_up = {s: i for i, s in enumerate(labels)} # 字母转数字"
   ]
  },
  {
   "cell_type": "code",
   "execution_count": 18,
   "metadata": {},
   "outputs": [
    {
     "name": "stdout",
     "output_type": "stream",
     "text": [
      "('-', '|', 'e', 't', 'o', 'i', 'a', 'n', 's', 'r', 'h', 'l', 'd', 'c', 'u', 'm', 'p', 'f', 'g', 'w', 'y', 'b', 'v', 'k', 'x', 'j', 'q', 'z') 28\n"
     ]
    }
   ],
   "source": [
    "print(labels, len(labels))"
   ]
  },
  {
   "cell_type": "code",
   "execution_count": 19,
   "metadata": {},
   "outputs": [],
   "source": [
    "decoder = GreedyCTCDecoder(labels=labels)"
   ]
  },
  {
   "cell_type": "code",
   "execution_count": 20,
   "metadata": {
    "id": "PDZ4lCIE2r4C"
   },
   "outputs": [],
   "source": [
    "import pypinyin\n",
    "from pypinyin import lazy_pinyin, Style"
   ]
  },
  {
   "cell_type": "code",
   "execution_count": 21,
   "metadata": {},
   "outputs": [
    {
     "data": {
      "text/plain": [
       "(['l', '', '', ''], ['in', 'vn', 'er', ''])"
      ]
     },
     "execution_count": 21,
     "metadata": {},
     "output_type": "execute_result"
    }
   ],
   "source": [
    "lazy_pinyin('林允儿嗯', strict=True, style=Style.INITIALS, errors=lambda x: u'-'),\\\n",
    "    lazy_pinyin('林云儿嗯', strict=True, style=Style.FINALS, errors=lambda x: u'-')"
   ]
  },
  {
   "cell_type": "code",
   "execution_count": 24,
   "metadata": {
    "colab": {
     "base_uri": "https://localhost:8080/",
     "height": 35
    },
    "id": "Q2vrhkL624Qt",
    "outputId": "b2ea29d2-2b07-4561-f72b-e0dff33fe47d"
   },
   "outputs": [
    {
     "data": {
      "text/plain": [
       "'|lv|se|de|uen|shuei|v|huei|de|u|ian|liou|guo|a|ua|n|uen|niou|er|guei|qv'"
      ]
     },
     "execution_count": 24,
     "metadata": {},
     "output_type": "execute_result"
    }
   ],
   "source": [
    "def chinese2pinyin(text):\n",
    "    initials = lazy_pinyin(text, strict=True, style=Style.INITIALS, errors=lambda x: u'')\n",
    "    finals = lazy_pinyin(text, strict=True, style=Style.FINALS, errors=lambda x: u'')\n",
    "    pinyin = ''\n",
    "    for i in range(len(finals)):\n",
    "        pinyin+='|'\n",
    "        if (initials[i] == '-'):\n",
    "            continue\n",
    "        pinyin+=initials[i]\n",
    "        pinyin+=finals[i]\n",
    "        if finals[i] == '':\n",
    "            pinyin+='n'\n",
    "    if pinyin[-1] == '|':\n",
    "        pinyin = pinyin[:-1]\n",
    "    return '|'+pinyin[1:].lower()\n",
    "\n",
    "''.join(chinese2pinyin(\"绿色的温水，迂回的乌烟，流过。啊！哇！嗯，问妞儿归去.\"))"
   ]
  },
  {
   "cell_type": "code",
   "execution_count": 30,
   "metadata": {},
   "outputs": [
    {
     "data": {
      "text/plain": [
       "'|lv|se|de|wen|shui|yu|hui|de|wu|yan|liu|guo|a|wa|n|wen|niu|er|gui|qu'"
      ]
     },
     "execution_count": 30,
     "metadata": {},
     "output_type": "execute_result"
    }
   ],
   "source": [
    "def chinese2pinyin(text):\n",
    "    pinyin = lazy_pinyin(text, strict=True,errors=lambda x: u'')\n",
    "    pinyin = [i for i in '|'.join(pinyin)]\n",
    "    return ['|']+pinyin\n",
    "\n",
    "\n",
    "''.join(chinese2pinyin(\"绿色的温水，迂回的乌烟，流过。啊！哇！嗯，问妞儿归去.\"))"
   ]
  },
  {
   "cell_type": "code",
   "execution_count": 25,
   "metadata": {
    "colab": {
     "base_uri": "https://localhost:8080/"
    },
    "id": "ixhxpT2Z3Whj",
    "outputId": "a8880056-036d-4eb2-e9f2-51519fefc0a6"
   },
   "outputs": [],
   "source": [
    "def label2id(str):\n",
    "    return [look_up[i] for i in str]\n",
    "\n",
    "def id2label(idcs):\n",
    "    return [labels[i] for i in idcs]\n",
    "\n",
    "# label2id(chinese2pinyin(\"美好，我很开心儿！\")), ','.join(id2label(label2id(chinese2pinyin(\"美好，我很开心！\"))))"
   ]
  },
  {
   "cell_type": "code",
   "execution_count": 26,
   "metadata": {
    "id": "6Y46sWzp5My_"
   },
   "outputs": [],
   "source": [
    "from torch.utils.data import Dataset, DataLoader"
   ]
  },
  {
   "cell_type": "code",
   "execution_count": 32,
   "metadata": {
    "id": "Gk8MEOQa5NYi"
   },
   "outputs": [],
   "source": [
    "sr = 16000\n",
    "class AudioDataset(Dataset):\n",
    "\n",
    "    def __init__(self, file_names, data_path, sample_rate=16000, transform=None):\n",
    "        \"\"\"\n",
    "        Args:\n",
    "            csv_file (string): Path to the csv file with annotations.\n",
    "            root_dir (string): Directory with all the images.\n",
    "            transform (callable, optional): Optional transform to be applied\n",
    "                on a sample.\n",
    "        \"\"\"\n",
    "        self.file_names = file_names\n",
    "        self.root_dir = data_path\n",
    "        self.transform = transform\n",
    "        self.sample_rate = sample_rate\n",
    "\n",
    "    def __len__(self):\n",
    "        return len(self.file_names)\n",
    "\n",
    "    def __getitem__(self, idx):\n",
    "        if torch.is_tensor(idx):\n",
    "            idx = idx.tolist()\n",
    "\n",
    "        audio_name = get_audio(idx)\n",
    "        waveform, sample_rate = torchaudio.load(audio_name)\n",
    "        waveform = waveform.to(device)\n",
    "        \n",
    "        if sample_rate != sr:\n",
    "            waveform = torchaudio.functional.resample(waveform, sample_rate, self.sample_rate)\n",
    "        \n",
    "        audio_content = get_text(idx)\n",
    "        \n",
    "        sample = {'audio': waveform, 'text': audio_content}\n",
    "\n",
    "        if self.transform:\n",
    "            sample = self.transform(sample)\n",
    "\n",
    "        return sample"
   ]
  },
  {
   "cell_type": "code",
   "execution_count": 33,
   "metadata": {
    "colab": {
     "base_uri": "https://localhost:8080/"
    },
    "id": "VWLULmwu5ZwV",
    "outputId": "b79c6d77-cc6d-4c76-cd75-c6fd406a481e"
   },
   "outputs": [
    {
     "data": {
      "text/plain": [
       "{'audio': tensor([[ 4.8828e-04,  4.8828e-04,  2.4414e-04,  ...,  0.0000e+00,\n",
       "          -6.1035e-05, -4.5776e-04]]),\n",
       " 'text': '那爽死了呵呵你军训完了吗'}"
      ]
     },
     "execution_count": 33,
     "metadata": {},
     "output_type": "execute_result"
    }
   ],
   "source": [
    "audio_dataset = AudioDataset(file_names, data_path, sample_rate=16000)\n",
    "audio_dataset[0]"
   ]
  },
  {
   "cell_type": "code",
   "execution_count": 70,
   "metadata": {
    "colab": {
     "base_uri": "https://localhost:8080/"
    },
    "id": "halKAY734uTG",
    "outputId": "f08250be-05a8-4e38-fde6-6db9283c8e5d"
   },
   "outputs": [],
   "source": [
    "# with torch.no_grad():\n",
    "#     i = 1\n",
    "#     sample = audio_dataset[i]\n",
    "#     print(i, sample['audio'].shape, sample['text'])\n",
    "    \n",
    "#     waveform = sample['audio']\n",
    "#     emissions, _ = model(waveform.to(device))\n",
    "#     emissions = torch.log_softmax(emissions, dim=-1)\n",
    "\n",
    "# emission = emissions[0].cpu().detach().unsqueeze(1)"
   ]
  },
  {
   "cell_type": "code",
   "execution_count": 71,
   "metadata": {
    "colab": {
     "base_uri": "https://localhost:8080/"
    },
    "id": "vv_GXElL6bzt",
    "outputId": "17bf3048-27be-4c91-9d20-4b9b21eb4c6c"
   },
   "outputs": [],
   "source": [
    "# emission.shape, emission[90][0]"
   ]
  },
  {
   "cell_type": "code",
   "execution_count": 36,
   "metadata": {},
   "outputs": [],
   "source": [
    "model = bundle.get_model()\n",
    "for param in model.parameters():\n",
    "    param.requires_grad = False\n",
    "# model.aux = torch.nn.Linear(in_features=model.aux.in_features, out_features=model.aux.out_features, bias=True)\n",
    "# torch.nn.init.xavier_normal(model.aux.weight)\n",
    "for param in model.aux.parameters():\n",
    "    param.requires_grad = True\n",
    "model = model.to(device)"
   ]
  },
  {
   "cell_type": "code",
   "execution_count": 37,
   "metadata": {
    "colab": {
     "base_uri": "https://localhost:8080/"
    },
    "id": "on9zm2QrFu4K",
    "outputId": "55ec2cff-9147-4dd3-f65c-fd2d1c28c66f"
   },
   "outputs": [
    {
     "name": "stdout",
     "output_type": "stream",
     "text": [
      "2 torch.Size([1, 61664]) 领导都准备暗示让我辞职\n",
      "torch.Size([192, 1, 28]) torch.Size([1, 44])\n"
     ]
    },
    {
     "data": {
      "text/plain": [
       "('leann||no||thoughh||turn||they|antalo|what|s',\n",
       " 'l,i,n,g,|,d,a,o,|,d,o,u,|,z,h,u,e,n,|,b,e,i,|,a,n,|,s,h,i,|,r,a,n,g,|,u,o,|,c,i,|,z,h,i',\n",
       " 2.7934839725494385)"
      ]
     },
     "execution_count": 37,
     "metadata": {},
     "output_type": "execute_result"
    }
   ],
   "source": [
    "with torch.no_grad():\n",
    "    i = 2\n",
    "    sample = audio_dataset[i]\n",
    "    print(i, sample['audio'].shape, sample['text'])\n",
    "\n",
    "    waveform = sample['audio']\n",
    "    emissions, _ = model(waveform.to(device))\n",
    "    emissions = torch.log_softmax(emissions, dim=-1).permute(1, 0, 2)\n",
    "\n",
    "    ctc_loss = torch.nn.CTCLoss(zero_infinity=True)\n",
    "    target = torch.tensor([label2id(chinese2pinyin(sample['text']))])\n",
    "    # target = \n",
    "    print(emissions.shape, target.shape)\n",
    "    Input_lengths = (emissions.shape[0],)\n",
    "    Target_lengths = (target.shape[-1],)\n",
    "    loss = ctc_loss(emissions, target, Input_lengths, Target_lengths)\n",
    "\n",
    "emission = emissions.cpu().detach()\n",
    "transcript = decoder(emission)\n",
    "transcript, ','.join(chinese2pinyin(sample['text'])), loss.item()"
   ]
  },
  {
   "cell_type": "code",
   "execution_count": 74,
   "metadata": {},
   "outputs": [],
   "source": [
    "# chinese2pinyin(sample['text'])"
   ]
  },
  {
   "cell_type": "code",
   "execution_count": 76,
   "metadata": {},
   "outputs": [
    {
     "name": "stdout",
     "output_type": "stream",
     "text": [
      "[11, 7, 4, 6, 1, 8, 13, 4, 1, 28, 8, 4, 6, 1, 25, 7, 4, 6, 1, 1, 18, 4, 6, 1, 14, 4, 5, 1, 8, 4, 5, 1, 12, 2, 1, 14, 4, 1, 1, 28, 8, 2, 1, 28, 8, 5, 13, 1, 20, 4, 1, 9, 8, 4, 6, 1, 27, 22, 1, 1, 4, 1, 1, 27, 22, 1, 14, 4]\n"
     ]
    },
    {
     "data": {
      "text/plain": [
       "(68, None)"
      ]
     },
     "execution_count": 76,
     "metadata": {},
     "output_type": "execute_result"
    }
   ],
   "source": [
    "id = label2id(chinese2pinyin(sample['text']))\n",
    "len(id),print(id)"
   ]
  },
  {
   "cell_type": "code",
   "execution_count": 77,
   "metadata": {
    "colab": {
     "base_uri": "https://localhost:8080/"
    },
    "id": "1Jg4wgN2ASKy",
    "outputId": "543d3537-5e06-4d52-f58c-d4651cbbc74d"
   },
   "outputs": [
    {
     "data": {
      "text/plain": [
       "2400"
      ]
     },
     "execution_count": 77,
     "metadata": {},
     "output_type": "execute_result"
    }
   ],
   "source": [
    "len(audio_dataset)"
   ]
  },
  {
   "cell_type": "code",
   "execution_count": 78,
   "metadata": {
    "colab": {
     "base_uri": "https://localhost:8080/"
    },
    "id": "RlyFEvMlbrzD",
    "outputId": "09dfb456-5061-4cba-b9ad-59bf3de1d044"
   },
   "outputs": [
    {
     "data": {
      "text/plain": [
       "Linear(in_features=768, out_features=29, bias=True)"
      ]
     },
     "execution_count": 78,
     "metadata": {},
     "output_type": "execute_result"
    }
   ],
   "source": [
    "model.aux"
   ]
  },
  {
   "cell_type": "code",
   "execution_count": 50,
   "metadata": {
    "id": "UxcdEXcRBVvP"
   },
   "outputs": [],
   "source": [
    "# optimizer = torch.optim.SGD(model.aux.parameters(), lr=0.01, momentum=0.9)\n",
    "# optimizer = torch.optim.Adam(model.aux.parameters(), lr=0.01)\n",
    "optimizer = torch.optim.SGD(model.aux.parameters(), lr=0.01, momentum=0.9)\n",
    "scheduler = torch.optim.lr_scheduler.StepLR(optimizer, step_size=5, gamma=0.1)"
   ]
  },
  {
   "cell_type": "markdown",
   "metadata": {},
   "source": [
    "## Try to save checkpoint"
   ]
  },
  {
   "cell_type": "code",
   "execution_count": 51,
   "metadata": {},
   "outputs": [
    {
     "name": "stdout",
     "output_type": "stream",
     "text": [
      "file ./checkpoint/model.pt exist, load checkpoint...\n",
      "0 1.2667585973246984\n"
     ]
    }
   ],
   "source": [
    "from os.path import exists\n",
    "\n",
    "LOAD_PATH = './checkpoint/model.pt'\n",
    "if exists(LOAD_PATH):\n",
    "    print('file',LOAD_PATH,'exist, load checkpoint...')\n",
    "    checkpoint = torch.load(LOAD_PATH, map_location=torch.device('cpu'))\n",
    "    model.aux.load_state_dict(checkpoint['model_state_dict'])\n",
    "    optimizer.load_state_dict(checkpoint['optimizer_state_dict'])\n",
    "    epoch = checkpoint['epoch']\n",
    "    loss = checkpoint['loss']\n",
    "    print(epoch, loss)"
   ]
  },
  {
   "cell_type": "code",
   "execution_count": 81,
   "metadata": {},
   "outputs": [],
   "source": [
    "# checkpoint = torch.load(PATH)\n",
    "# model.aux.load_state_dict(checkpoint['model_state_dict'])\n",
    "# optimizer.load_state_dict(checkpoint['optimizer_state_dict'])\n",
    "# epoch = checkpoint['epoch']\n",
    "# loss = checkpoint['loss']\n",
    "# print(epoch, loss)"
   ]
  },
  {
   "cell_type": "markdown",
   "metadata": {
    "id": "ZeeQ6otzJaUb"
   },
   "source": [
    "使用DataLoader按照批次加载"
   ]
  },
  {
   "cell_type": "code",
   "execution_count": 82,
   "metadata": {
    "id": "1INMn0OwJZxz"
   },
   "outputs": [],
   "source": [
    "batch_size = 8\n",
    "\n",
    "def collate_wrapper(batch):\n",
    "    audio_list = [item['audio'] for item in batch]\n",
    "    target_list = [label2id(chinese2pinyin(item['text'])) for item in batch]\n",
    "    return {'audio': audio_list, 'target': target_list}\n",
    "\n",
    "dataloader = DataLoader(audio_dataset, batch_size=batch_size,\n",
    "                        shuffle=True, num_workers=0, collate_fn=collate_wrapper)"
   ]
  },
  {
   "cell_type": "code",
   "execution_count": 83,
   "metadata": {},
   "outputs": [
    {
     "data": {
      "text/plain": [
       "<torch.utils.data.dataloader.DataLoader at 0x7fdcba543fd0>"
      ]
     },
     "execution_count": 83,
     "metadata": {},
     "output_type": "execute_result"
    }
   ],
   "source": [
    "dataloader"
   ]
  },
  {
   "cell_type": "code",
   "execution_count": 84,
   "metadata": {
    "id": "1UpzN5A8gcG9"
   },
   "outputs": [],
   "source": [
    "def test(k):\n",
    "    model.eval()\n",
    "    with torch.no_grad():\n",
    "        for i in range(k):\n",
    "            sample = audio_dataset[i]\n",
    "            print(i, sample['audio'].shape, sample['text'])\n",
    "            waveform = sample['audio']\n",
    "            emissions, _ = model(waveform.to(device))\n",
    "            emissions = torch.log_softmax(emissions, dim=-1)\n",
    "            emission = emissions[0].cpu().detach()\n",
    "            transcript = decoder(emission)\n",
    "            print('transcript:', transcript, NaiveCTCDecoder(labels)(emission))"
   ]
  },
  {
   "cell_type": "code",
   "execution_count": 85,
   "metadata": {},
   "outputs": [],
   "source": [
    "def save_checkpoint(EPOCH, LOSS):\n",
    "    PATH = f\"./checkpoint/model_{EPOCH}_{LOSS}.pt\"\n",
    "    torch.save({\n",
    "            'epoch': EPOCH,\n",
    "            'model_state_dict': model.aux.state_dict(),\n",
    "            'optimizer_state_dict': optimizer.state_dict(),\n",
    "            'loss': LOSS,\n",
    "            }, PATH)"
   ]
  },
  {
   "cell_type": "code",
   "execution_count": 86,
   "metadata": {
    "colab": {
     "base_uri": "https://localhost:8080/"
    },
    "id": "2A-wEbquIHz6",
    "outputId": "caa08255-83fe-49b1-b850-d679ea632c58"
   },
   "outputs": [
    {
     "name": "stdout",
     "output_type": "stream",
     "text": [
      "epoch 0 loss 3.1583445072174072\n"
     ]
    },
    {
     "ename": "KeyboardInterrupt",
     "evalue": "",
     "output_type": "error",
     "traceback": [
      "\u001b[0;31m---------------------------------------------------------------------------\u001b[0m",
      "\u001b[0;31mKeyboardInterrupt\u001b[0m                         Traceback (most recent call last)",
      "\u001b[1;32m/scratch/bh2283/code/train.ipynb Cell 48'\u001b[0m in \u001b[0;36m<cell line: 1>\u001b[0;34m()\u001b[0m\n\u001b[1;32m      <a href='vscode-notebook-cell://ssh-remote%2B7b22686f73744e616d65223a224e5955485043227d/scratch/bh2283/code/train.ipynb#ch0000040vscode-remote?line=7'>8</a>\u001b[0m target \u001b[39m=\u001b[39m sample_batched[\u001b[39m'\u001b[39m\u001b[39mtarget\u001b[39m\u001b[39m'\u001b[39m][i]\n\u001b[1;32m     <a href='vscode-notebook-cell://ssh-remote%2B7b22686f73744e616d65223a224e5955485043227d/scratch/bh2283/code/train.ipynb#ch0000040vscode-remote?line=9'>10</a>\u001b[0m \u001b[39m# Step 2. Run our forward pass\u001b[39;00m\n\u001b[0;32m---> <a href='vscode-notebook-cell://ssh-remote%2B7b22686f73744e616d65223a224e5955485043227d/scratch/bh2283/code/train.ipynb#ch0000040vscode-remote?line=10'>11</a>\u001b[0m emissions, _ \u001b[39m=\u001b[39m model(waveform\u001b[39m.\u001b[39;49mto(device))\n\u001b[1;32m     <a href='vscode-notebook-cell://ssh-remote%2B7b22686f73744e616d65223a224e5955485043227d/scratch/bh2283/code/train.ipynb#ch0000040vscode-remote?line=11'>12</a>\u001b[0m emissions \u001b[39m=\u001b[39m torch\u001b[39m.\u001b[39mnn\u001b[39m.\u001b[39mfunctional\u001b[39m.\u001b[39mlog_softmax(emissions, dim\u001b[39m=\u001b[39m\u001b[39m-\u001b[39m\u001b[39m1\u001b[39m)\u001b[39m.\u001b[39mpermute(\u001b[39m1\u001b[39m, \u001b[39m0\u001b[39m, \u001b[39m2\u001b[39m)\n\u001b[1;32m     <a href='vscode-notebook-cell://ssh-remote%2B7b22686f73744e616d65223a224e5955485043227d/scratch/bh2283/code/train.ipynb#ch0000040vscode-remote?line=12'>13</a>\u001b[0m target \u001b[39m=\u001b[39m torch\u001b[39m.\u001b[39mtensor([target])\u001b[39m.\u001b[39mto(device)\n",
      "File \u001b[0;32m/scratch/bh2283/penv/lib/python3.10/site-packages/torch/nn/modules/module.py:1110\u001b[0m, in \u001b[0;36mModule._call_impl\u001b[0;34m(self, *input, **kwargs)\u001b[0m\n\u001b[1;32m   <a href='file:///scratch/bh2283/penv/lib/python3.10/site-packages/torch/nn/modules/module.py?line=1105'>1106</a>\u001b[0m \u001b[39m# If we don't have any hooks, we want to skip the rest of the logic in\u001b[39;00m\n\u001b[1;32m   <a href='file:///scratch/bh2283/penv/lib/python3.10/site-packages/torch/nn/modules/module.py?line=1106'>1107</a>\u001b[0m \u001b[39m# this function, and just call forward.\u001b[39;00m\n\u001b[1;32m   <a href='file:///scratch/bh2283/penv/lib/python3.10/site-packages/torch/nn/modules/module.py?line=1107'>1108</a>\u001b[0m \u001b[39mif\u001b[39;00m \u001b[39mnot\u001b[39;00m (\u001b[39mself\u001b[39m\u001b[39m.\u001b[39m_backward_hooks \u001b[39mor\u001b[39;00m \u001b[39mself\u001b[39m\u001b[39m.\u001b[39m_forward_hooks \u001b[39mor\u001b[39;00m \u001b[39mself\u001b[39m\u001b[39m.\u001b[39m_forward_pre_hooks \u001b[39mor\u001b[39;00m _global_backward_hooks\n\u001b[1;32m   <a href='file:///scratch/bh2283/penv/lib/python3.10/site-packages/torch/nn/modules/module.py?line=1108'>1109</a>\u001b[0m         \u001b[39mor\u001b[39;00m _global_forward_hooks \u001b[39mor\u001b[39;00m _global_forward_pre_hooks):\n\u001b[0;32m-> <a href='file:///scratch/bh2283/penv/lib/python3.10/site-packages/torch/nn/modules/module.py?line=1109'>1110</a>\u001b[0m     \u001b[39mreturn\u001b[39;00m forward_call(\u001b[39m*\u001b[39;49m\u001b[39minput\u001b[39;49m, \u001b[39m*\u001b[39;49m\u001b[39m*\u001b[39;49mkwargs)\n\u001b[1;32m   <a href='file:///scratch/bh2283/penv/lib/python3.10/site-packages/torch/nn/modules/module.py?line=1110'>1111</a>\u001b[0m \u001b[39m# Do not call functions when jit is used\u001b[39;00m\n\u001b[1;32m   <a href='file:///scratch/bh2283/penv/lib/python3.10/site-packages/torch/nn/modules/module.py?line=1111'>1112</a>\u001b[0m full_backward_hooks, non_full_backward_hooks \u001b[39m=\u001b[39m [], []\n",
      "File \u001b[0;32m/scratch/bh2283/penv/lib/python3.10/site-packages/torchaudio/models/wav2vec2/model.py:114\u001b[0m, in \u001b[0;36mWav2Vec2Model.forward\u001b[0;34m(self, waveforms, lengths)\u001b[0m\n\u001b[1;32m     <a href='file:///scratch/bh2283/penv/lib/python3.10/site-packages/torchaudio/models/wav2vec2/model.py?line=88'>89</a>\u001b[0m \u001b[39m\"\"\"Compute the sequence of probability distribution over labels.\u001b[39;00m\n\u001b[1;32m     <a href='file:///scratch/bh2283/penv/lib/python3.10/site-packages/torchaudio/models/wav2vec2/model.py?line=89'>90</a>\u001b[0m \n\u001b[1;32m     <a href='file:///scratch/bh2283/penv/lib/python3.10/site-packages/torchaudio/models/wav2vec2/model.py?line=90'>91</a>\u001b[0m \u001b[39mArgs:\u001b[39;00m\n\u001b[0;32m   (...)\u001b[0m\n\u001b[1;32m    <a href='file:///scratch/bh2283/penv/lib/python3.10/site-packages/torchaudio/models/wav2vec2/model.py?line=110'>111</a>\u001b[0m \u001b[39m        It indicates the valid length in time axis of the output Tensor.\u001b[39;00m\n\u001b[1;32m    <a href='file:///scratch/bh2283/penv/lib/python3.10/site-packages/torchaudio/models/wav2vec2/model.py?line=111'>112</a>\u001b[0m \u001b[39m\"\"\"\u001b[39;00m\n\u001b[1;32m    <a href='file:///scratch/bh2283/penv/lib/python3.10/site-packages/torchaudio/models/wav2vec2/model.py?line=112'>113</a>\u001b[0m x, lengths \u001b[39m=\u001b[39m \u001b[39mself\u001b[39m\u001b[39m.\u001b[39mfeature_extractor(waveforms, lengths)\n\u001b[0;32m--> <a href='file:///scratch/bh2283/penv/lib/python3.10/site-packages/torchaudio/models/wav2vec2/model.py?line=113'>114</a>\u001b[0m x \u001b[39m=\u001b[39m \u001b[39mself\u001b[39;49m\u001b[39m.\u001b[39;49mencoder(x, lengths)\n\u001b[1;32m    <a href='file:///scratch/bh2283/penv/lib/python3.10/site-packages/torchaudio/models/wav2vec2/model.py?line=114'>115</a>\u001b[0m \u001b[39mif\u001b[39;00m \u001b[39mself\u001b[39m\u001b[39m.\u001b[39maux \u001b[39mis\u001b[39;00m \u001b[39mnot\u001b[39;00m \u001b[39mNone\u001b[39;00m:\n\u001b[1;32m    <a href='file:///scratch/bh2283/penv/lib/python3.10/site-packages/torchaudio/models/wav2vec2/model.py?line=115'>116</a>\u001b[0m     x \u001b[39m=\u001b[39m \u001b[39mself\u001b[39m\u001b[39m.\u001b[39maux(x)\n",
      "File \u001b[0;32m/scratch/bh2283/penv/lib/python3.10/site-packages/torch/nn/modules/module.py:1110\u001b[0m, in \u001b[0;36mModule._call_impl\u001b[0;34m(self, *input, **kwargs)\u001b[0m\n\u001b[1;32m   <a href='file:///scratch/bh2283/penv/lib/python3.10/site-packages/torch/nn/modules/module.py?line=1105'>1106</a>\u001b[0m \u001b[39m# If we don't have any hooks, we want to skip the rest of the logic in\u001b[39;00m\n\u001b[1;32m   <a href='file:///scratch/bh2283/penv/lib/python3.10/site-packages/torch/nn/modules/module.py?line=1106'>1107</a>\u001b[0m \u001b[39m# this function, and just call forward.\u001b[39;00m\n\u001b[1;32m   <a href='file:///scratch/bh2283/penv/lib/python3.10/site-packages/torch/nn/modules/module.py?line=1107'>1108</a>\u001b[0m \u001b[39mif\u001b[39;00m \u001b[39mnot\u001b[39;00m (\u001b[39mself\u001b[39m\u001b[39m.\u001b[39m_backward_hooks \u001b[39mor\u001b[39;00m \u001b[39mself\u001b[39m\u001b[39m.\u001b[39m_forward_hooks \u001b[39mor\u001b[39;00m \u001b[39mself\u001b[39m\u001b[39m.\u001b[39m_forward_pre_hooks \u001b[39mor\u001b[39;00m _global_backward_hooks\n\u001b[1;32m   <a href='file:///scratch/bh2283/penv/lib/python3.10/site-packages/torch/nn/modules/module.py?line=1108'>1109</a>\u001b[0m         \u001b[39mor\u001b[39;00m _global_forward_hooks \u001b[39mor\u001b[39;00m _global_forward_pre_hooks):\n\u001b[0;32m-> <a href='file:///scratch/bh2283/penv/lib/python3.10/site-packages/torch/nn/modules/module.py?line=1109'>1110</a>\u001b[0m     \u001b[39mreturn\u001b[39;00m forward_call(\u001b[39m*\u001b[39;49m\u001b[39minput\u001b[39;49m, \u001b[39m*\u001b[39;49m\u001b[39m*\u001b[39;49mkwargs)\n\u001b[1;32m   <a href='file:///scratch/bh2283/penv/lib/python3.10/site-packages/torch/nn/modules/module.py?line=1110'>1111</a>\u001b[0m \u001b[39m# Do not call functions when jit is used\u001b[39;00m\n\u001b[1;32m   <a href='file:///scratch/bh2283/penv/lib/python3.10/site-packages/torch/nn/modules/module.py?line=1111'>1112</a>\u001b[0m full_backward_hooks, non_full_backward_hooks \u001b[39m=\u001b[39m [], []\n",
      "File \u001b[0;32m/scratch/bh2283/penv/lib/python3.10/site-packages/torchaudio/models/wav2vec2/components.py:457\u001b[0m, in \u001b[0;36mEncoder.forward\u001b[0;34m(self, features, lengths)\u001b[0m\n\u001b[1;32m    <a href='file:///scratch/bh2283/penv/lib/python3.10/site-packages/torchaudio/models/wav2vec2/components.py?line=450'>451</a>\u001b[0m \u001b[39mdef\u001b[39;00m \u001b[39mforward\u001b[39m(\n\u001b[1;32m    <a href='file:///scratch/bh2283/penv/lib/python3.10/site-packages/torchaudio/models/wav2vec2/components.py?line=451'>452</a>\u001b[0m     \u001b[39mself\u001b[39m,\n\u001b[1;32m    <a href='file:///scratch/bh2283/penv/lib/python3.10/site-packages/torchaudio/models/wav2vec2/components.py?line=452'>453</a>\u001b[0m     features: Tensor,\n\u001b[1;32m    <a href='file:///scratch/bh2283/penv/lib/python3.10/site-packages/torchaudio/models/wav2vec2/components.py?line=453'>454</a>\u001b[0m     lengths: Optional[Tensor] \u001b[39m=\u001b[39m \u001b[39mNone\u001b[39;00m,\n\u001b[1;32m    <a href='file:///scratch/bh2283/penv/lib/python3.10/site-packages/torchaudio/models/wav2vec2/components.py?line=454'>455</a>\u001b[0m ) \u001b[39m-\u001b[39m\u001b[39m>\u001b[39m Tensor:\n\u001b[1;32m    <a href='file:///scratch/bh2283/penv/lib/python3.10/site-packages/torchaudio/models/wav2vec2/components.py?line=455'>456</a>\u001b[0m     x, mask \u001b[39m=\u001b[39m \u001b[39mself\u001b[39m\u001b[39m.\u001b[39m_preprocess(features, lengths)\n\u001b[0;32m--> <a href='file:///scratch/bh2283/penv/lib/python3.10/site-packages/torchaudio/models/wav2vec2/components.py?line=456'>457</a>\u001b[0m     x \u001b[39m=\u001b[39m \u001b[39mself\u001b[39;49m\u001b[39m.\u001b[39;49mtransformer(x, attention_mask\u001b[39m=\u001b[39;49mmask)\n\u001b[1;32m    <a href='file:///scratch/bh2283/penv/lib/python3.10/site-packages/torchaudio/models/wav2vec2/components.py?line=457'>458</a>\u001b[0m     \u001b[39mreturn\u001b[39;00m x\n",
      "File \u001b[0;32m/scratch/bh2283/penv/lib/python3.10/site-packages/torch/nn/modules/module.py:1110\u001b[0m, in \u001b[0;36mModule._call_impl\u001b[0;34m(self, *input, **kwargs)\u001b[0m\n\u001b[1;32m   <a href='file:///scratch/bh2283/penv/lib/python3.10/site-packages/torch/nn/modules/module.py?line=1105'>1106</a>\u001b[0m \u001b[39m# If we don't have any hooks, we want to skip the rest of the logic in\u001b[39;00m\n\u001b[1;32m   <a href='file:///scratch/bh2283/penv/lib/python3.10/site-packages/torch/nn/modules/module.py?line=1106'>1107</a>\u001b[0m \u001b[39m# this function, and just call forward.\u001b[39;00m\n\u001b[1;32m   <a href='file:///scratch/bh2283/penv/lib/python3.10/site-packages/torch/nn/modules/module.py?line=1107'>1108</a>\u001b[0m \u001b[39mif\u001b[39;00m \u001b[39mnot\u001b[39;00m (\u001b[39mself\u001b[39m\u001b[39m.\u001b[39m_backward_hooks \u001b[39mor\u001b[39;00m \u001b[39mself\u001b[39m\u001b[39m.\u001b[39m_forward_hooks \u001b[39mor\u001b[39;00m \u001b[39mself\u001b[39m\u001b[39m.\u001b[39m_forward_pre_hooks \u001b[39mor\u001b[39;00m _global_backward_hooks\n\u001b[1;32m   <a href='file:///scratch/bh2283/penv/lib/python3.10/site-packages/torch/nn/modules/module.py?line=1108'>1109</a>\u001b[0m         \u001b[39mor\u001b[39;00m _global_forward_hooks \u001b[39mor\u001b[39;00m _global_forward_pre_hooks):\n\u001b[0;32m-> <a href='file:///scratch/bh2283/penv/lib/python3.10/site-packages/torch/nn/modules/module.py?line=1109'>1110</a>\u001b[0m     \u001b[39mreturn\u001b[39;00m forward_call(\u001b[39m*\u001b[39;49m\u001b[39minput\u001b[39;49m, \u001b[39m*\u001b[39;49m\u001b[39m*\u001b[39;49mkwargs)\n\u001b[1;32m   <a href='file:///scratch/bh2283/penv/lib/python3.10/site-packages/torch/nn/modules/module.py?line=1110'>1111</a>\u001b[0m \u001b[39m# Do not call functions when jit is used\u001b[39;00m\n\u001b[1;32m   <a href='file:///scratch/bh2283/penv/lib/python3.10/site-packages/torch/nn/modules/module.py?line=1111'>1112</a>\u001b[0m full_backward_hooks, non_full_backward_hooks \u001b[39m=\u001b[39m [], []\n",
      "File \u001b[0;32m/scratch/bh2283/penv/lib/python3.10/site-packages/torchaudio/models/wav2vec2/components.py:393\u001b[0m, in \u001b[0;36mTransformer.forward\u001b[0;34m(self, x, attention_mask)\u001b[0m\n\u001b[1;32m    <a href='file:///scratch/bh2283/penv/lib/python3.10/site-packages/torchaudio/models/wav2vec2/components.py?line=387'>388</a>\u001b[0m \u001b[39mdef\u001b[39;00m \u001b[39mforward\u001b[39m(\n\u001b[1;32m    <a href='file:///scratch/bh2283/penv/lib/python3.10/site-packages/torchaudio/models/wav2vec2/components.py?line=388'>389</a>\u001b[0m     \u001b[39mself\u001b[39m,\n\u001b[1;32m    <a href='file:///scratch/bh2283/penv/lib/python3.10/site-packages/torchaudio/models/wav2vec2/components.py?line=389'>390</a>\u001b[0m     x: Tensor,\n\u001b[1;32m    <a href='file:///scratch/bh2283/penv/lib/python3.10/site-packages/torchaudio/models/wav2vec2/components.py?line=390'>391</a>\u001b[0m     attention_mask: Optional[Tensor] \u001b[39m=\u001b[39m \u001b[39mNone\u001b[39;00m,\n\u001b[1;32m    <a href='file:///scratch/bh2283/penv/lib/python3.10/site-packages/torchaudio/models/wav2vec2/components.py?line=391'>392</a>\u001b[0m ):\n\u001b[0;32m--> <a href='file:///scratch/bh2283/penv/lib/python3.10/site-packages/torchaudio/models/wav2vec2/components.py?line=392'>393</a>\u001b[0m     x \u001b[39m=\u001b[39m \u001b[39mself\u001b[39;49m\u001b[39m.\u001b[39;49m_preprocess(x)\n\u001b[1;32m    <a href='file:///scratch/bh2283/penv/lib/python3.10/site-packages/torchaudio/models/wav2vec2/components.py?line=393'>394</a>\u001b[0m     \u001b[39mfor\u001b[39;00m layer \u001b[39min\u001b[39;00m \u001b[39mself\u001b[39m\u001b[39m.\u001b[39mlayers:\n\u001b[1;32m    <a href='file:///scratch/bh2283/penv/lib/python3.10/site-packages/torchaudio/models/wav2vec2/components.py?line=394'>395</a>\u001b[0m         \u001b[39mif\u001b[39;00m \u001b[39mnot\u001b[39;00m (\u001b[39mself\u001b[39m\u001b[39m.\u001b[39mtraining \u001b[39mand\u001b[39;00m torch\u001b[39m.\u001b[39mrand(\u001b[39m1\u001b[39m)\u001b[39m.\u001b[39mitem() \u001b[39m<\u001b[39m\u001b[39m=\u001b[39m \u001b[39mself\u001b[39m\u001b[39m.\u001b[39mlayer_drop):\n",
      "File \u001b[0;32m/scratch/bh2283/penv/lib/python3.10/site-packages/torchaudio/models/wav2vec2/components.py:380\u001b[0m, in \u001b[0;36mTransformer._preprocess\u001b[0;34m(self, x)\u001b[0m\n\u001b[1;32m    <a href='file:///scratch/bh2283/penv/lib/python3.10/site-packages/torchaudio/models/wav2vec2/components.py?line=378'>379</a>\u001b[0m \u001b[39mdef\u001b[39;00m \u001b[39m_preprocess\u001b[39m(\u001b[39mself\u001b[39m, x: Tensor):\n\u001b[0;32m--> <a href='file:///scratch/bh2283/penv/lib/python3.10/site-packages/torchaudio/models/wav2vec2/components.py?line=379'>380</a>\u001b[0m     x \u001b[39m=\u001b[39m x \u001b[39m+\u001b[39m \u001b[39mself\u001b[39;49m\u001b[39m.\u001b[39;49mpos_conv_embed(x)\n\u001b[1;32m    <a href='file:///scratch/bh2283/penv/lib/python3.10/site-packages/torchaudio/models/wav2vec2/components.py?line=381'>382</a>\u001b[0m     \u001b[39mif\u001b[39;00m \u001b[39mself\u001b[39m\u001b[39m.\u001b[39mlayer_norm_first:\n\u001b[1;32m    <a href='file:///scratch/bh2283/penv/lib/python3.10/site-packages/torchaudio/models/wav2vec2/components.py?line=382'>383</a>\u001b[0m         x \u001b[39m=\u001b[39m \u001b[39mself\u001b[39m\u001b[39m.\u001b[39mlayer_norm(x)\n",
      "File \u001b[0;32m/scratch/bh2283/penv/lib/python3.10/site-packages/torch/nn/modules/module.py:1110\u001b[0m, in \u001b[0;36mModule._call_impl\u001b[0;34m(self, *input, **kwargs)\u001b[0m\n\u001b[1;32m   <a href='file:///scratch/bh2283/penv/lib/python3.10/site-packages/torch/nn/modules/module.py?line=1105'>1106</a>\u001b[0m \u001b[39m# If we don't have any hooks, we want to skip the rest of the logic in\u001b[39;00m\n\u001b[1;32m   <a href='file:///scratch/bh2283/penv/lib/python3.10/site-packages/torch/nn/modules/module.py?line=1106'>1107</a>\u001b[0m \u001b[39m# this function, and just call forward.\u001b[39;00m\n\u001b[1;32m   <a href='file:///scratch/bh2283/penv/lib/python3.10/site-packages/torch/nn/modules/module.py?line=1107'>1108</a>\u001b[0m \u001b[39mif\u001b[39;00m \u001b[39mnot\u001b[39;00m (\u001b[39mself\u001b[39m\u001b[39m.\u001b[39m_backward_hooks \u001b[39mor\u001b[39;00m \u001b[39mself\u001b[39m\u001b[39m.\u001b[39m_forward_hooks \u001b[39mor\u001b[39;00m \u001b[39mself\u001b[39m\u001b[39m.\u001b[39m_forward_pre_hooks \u001b[39mor\u001b[39;00m _global_backward_hooks\n\u001b[1;32m   <a href='file:///scratch/bh2283/penv/lib/python3.10/site-packages/torch/nn/modules/module.py?line=1108'>1109</a>\u001b[0m         \u001b[39mor\u001b[39;00m _global_forward_hooks \u001b[39mor\u001b[39;00m _global_forward_pre_hooks):\n\u001b[0;32m-> <a href='file:///scratch/bh2283/penv/lib/python3.10/site-packages/torch/nn/modules/module.py?line=1109'>1110</a>\u001b[0m     \u001b[39mreturn\u001b[39;00m forward_call(\u001b[39m*\u001b[39;49m\u001b[39minput\u001b[39;49m, \u001b[39m*\u001b[39;49m\u001b[39m*\u001b[39;49mkwargs)\n\u001b[1;32m   <a href='file:///scratch/bh2283/penv/lib/python3.10/site-packages/torch/nn/modules/module.py?line=1110'>1111</a>\u001b[0m \u001b[39m# Do not call functions when jit is used\u001b[39;00m\n\u001b[1;32m   <a href='file:///scratch/bh2283/penv/lib/python3.10/site-packages/torch/nn/modules/module.py?line=1111'>1112</a>\u001b[0m full_backward_hooks, non_full_backward_hooks \u001b[39m=\u001b[39m [], []\n",
      "File \u001b[0;32m/scratch/bh2283/penv/lib/python3.10/site-packages/torchaudio/models/wav2vec2/components.py:200\u001b[0m, in \u001b[0;36mConvolutionalPositionalEmbedding.forward\u001b[0;34m(self, x)\u001b[0m\n\u001b[1;32m    <a href='file:///scratch/bh2283/penv/lib/python3.10/site-packages/torchaudio/models/wav2vec2/components.py?line=191'>192</a>\u001b[0m \u001b[39m\"\"\"\u001b[39;00m\n\u001b[1;32m    <a href='file:///scratch/bh2283/penv/lib/python3.10/site-packages/torchaudio/models/wav2vec2/components.py?line=192'>193</a>\u001b[0m \u001b[39mArgs:\u001b[39;00m\n\u001b[1;32m    <a href='file:///scratch/bh2283/penv/lib/python3.10/site-packages/torchaudio/models/wav2vec2/components.py?line=193'>194</a>\u001b[0m \u001b[39m    x (Tensor): shape ``[batch, frame, feature]``.\u001b[39;00m\n\u001b[0;32m   (...)\u001b[0m\n\u001b[1;32m    <a href='file:///scratch/bh2283/penv/lib/python3.10/site-packages/torchaudio/models/wav2vec2/components.py?line=196'>197</a>\u001b[0m \u001b[39m    Tensor: The resulting feature. Shape ``[batch, frame, feature]``.\u001b[39;00m\n\u001b[1;32m    <a href='file:///scratch/bh2283/penv/lib/python3.10/site-packages/torchaudio/models/wav2vec2/components.py?line=197'>198</a>\u001b[0m \u001b[39m\"\"\"\u001b[39;00m\n\u001b[1;32m    <a href='file:///scratch/bh2283/penv/lib/python3.10/site-packages/torchaudio/models/wav2vec2/components.py?line=198'>199</a>\u001b[0m x \u001b[39m=\u001b[39m x\u001b[39m.\u001b[39mtranspose(\u001b[39m-\u001b[39m\u001b[39m2\u001b[39m, \u001b[39m-\u001b[39m\u001b[39m1\u001b[39m)\n\u001b[0;32m--> <a href='file:///scratch/bh2283/penv/lib/python3.10/site-packages/torchaudio/models/wav2vec2/components.py?line=199'>200</a>\u001b[0m x \u001b[39m=\u001b[39m \u001b[39mself\u001b[39;49m\u001b[39m.\u001b[39;49mconv(x)\n\u001b[1;32m    <a href='file:///scratch/bh2283/penv/lib/python3.10/site-packages/torchaudio/models/wav2vec2/components.py?line=200'>201</a>\u001b[0m \u001b[39mif\u001b[39;00m \u001b[39mself\u001b[39m\u001b[39m.\u001b[39mnum_remove \u001b[39m>\u001b[39m \u001b[39m0\u001b[39m:\n\u001b[1;32m    <a href='file:///scratch/bh2283/penv/lib/python3.10/site-packages/torchaudio/models/wav2vec2/components.py?line=201'>202</a>\u001b[0m     x \u001b[39m=\u001b[39m x[\u001b[39m.\u001b[39m\u001b[39m.\u001b[39m\u001b[39m.\u001b[39m, : \u001b[39m-\u001b[39m\u001b[39mself\u001b[39m\u001b[39m.\u001b[39mnum_remove]\n",
      "File \u001b[0;32m/scratch/bh2283/penv/lib/python3.10/site-packages/torch/nn/modules/module.py:1128\u001b[0m, in \u001b[0;36mModule._call_impl\u001b[0;34m(self, *input, **kwargs)\u001b[0m\n\u001b[1;32m   <a href='file:///scratch/bh2283/penv/lib/python3.10/site-packages/torch/nn/modules/module.py?line=1124'>1125</a>\u001b[0m     bw_hook \u001b[39m=\u001b[39m hooks\u001b[39m.\u001b[39mBackwardHook(\u001b[39mself\u001b[39m, full_backward_hooks)\n\u001b[1;32m   <a href='file:///scratch/bh2283/penv/lib/python3.10/site-packages/torch/nn/modules/module.py?line=1125'>1126</a>\u001b[0m     \u001b[39minput\u001b[39m \u001b[39m=\u001b[39m bw_hook\u001b[39m.\u001b[39msetup_input_hook(\u001b[39minput\u001b[39m)\n\u001b[0;32m-> <a href='file:///scratch/bh2283/penv/lib/python3.10/site-packages/torch/nn/modules/module.py?line=1127'>1128</a>\u001b[0m result \u001b[39m=\u001b[39m forward_call(\u001b[39m*\u001b[39;49m\u001b[39minput\u001b[39;49m, \u001b[39m*\u001b[39;49m\u001b[39m*\u001b[39;49mkwargs)\n\u001b[1;32m   <a href='file:///scratch/bh2283/penv/lib/python3.10/site-packages/torch/nn/modules/module.py?line=1128'>1129</a>\u001b[0m \u001b[39mif\u001b[39;00m _global_forward_hooks \u001b[39mor\u001b[39;00m \u001b[39mself\u001b[39m\u001b[39m.\u001b[39m_forward_hooks:\n\u001b[1;32m   <a href='file:///scratch/bh2283/penv/lib/python3.10/site-packages/torch/nn/modules/module.py?line=1129'>1130</a>\u001b[0m     \u001b[39mfor\u001b[39;00m hook \u001b[39min\u001b[39;00m (\u001b[39m*\u001b[39m_global_forward_hooks\u001b[39m.\u001b[39mvalues(), \u001b[39m*\u001b[39m\u001b[39mself\u001b[39m\u001b[39m.\u001b[39m_forward_hooks\u001b[39m.\u001b[39mvalues()):\n",
      "File \u001b[0;32m/scratch/bh2283/penv/lib/python3.10/site-packages/torch/nn/modules/conv.py:302\u001b[0m, in \u001b[0;36mConv1d.forward\u001b[0;34m(self, input)\u001b[0m\n\u001b[1;32m    <a href='file:///scratch/bh2283/penv/lib/python3.10/site-packages/torch/nn/modules/conv.py?line=300'>301</a>\u001b[0m \u001b[39mdef\u001b[39;00m \u001b[39mforward\u001b[39m(\u001b[39mself\u001b[39m, \u001b[39minput\u001b[39m: Tensor) \u001b[39m-\u001b[39m\u001b[39m>\u001b[39m Tensor:\n\u001b[0;32m--> <a href='file:///scratch/bh2283/penv/lib/python3.10/site-packages/torch/nn/modules/conv.py?line=301'>302</a>\u001b[0m     \u001b[39mreturn\u001b[39;00m \u001b[39mself\u001b[39;49m\u001b[39m.\u001b[39;49m_conv_forward(\u001b[39minput\u001b[39;49m, \u001b[39mself\u001b[39;49m\u001b[39m.\u001b[39;49mweight, \u001b[39mself\u001b[39;49m\u001b[39m.\u001b[39;49mbias)\n",
      "File \u001b[0;32m/scratch/bh2283/penv/lib/python3.10/site-packages/torch/nn/modules/conv.py:298\u001b[0m, in \u001b[0;36mConv1d._conv_forward\u001b[0;34m(self, input, weight, bias)\u001b[0m\n\u001b[1;32m    <a href='file:///scratch/bh2283/penv/lib/python3.10/site-packages/torch/nn/modules/conv.py?line=293'>294</a>\u001b[0m \u001b[39mif\u001b[39;00m \u001b[39mself\u001b[39m\u001b[39m.\u001b[39mpadding_mode \u001b[39m!=\u001b[39m \u001b[39m'\u001b[39m\u001b[39mzeros\u001b[39m\u001b[39m'\u001b[39m:\n\u001b[1;32m    <a href='file:///scratch/bh2283/penv/lib/python3.10/site-packages/torch/nn/modules/conv.py?line=294'>295</a>\u001b[0m     \u001b[39mreturn\u001b[39;00m F\u001b[39m.\u001b[39mconv1d(F\u001b[39m.\u001b[39mpad(\u001b[39minput\u001b[39m, \u001b[39mself\u001b[39m\u001b[39m.\u001b[39m_reversed_padding_repeated_twice, mode\u001b[39m=\u001b[39m\u001b[39mself\u001b[39m\u001b[39m.\u001b[39mpadding_mode),\n\u001b[1;32m    <a href='file:///scratch/bh2283/penv/lib/python3.10/site-packages/torch/nn/modules/conv.py?line=295'>296</a>\u001b[0m                     weight, bias, \u001b[39mself\u001b[39m\u001b[39m.\u001b[39mstride,\n\u001b[1;32m    <a href='file:///scratch/bh2283/penv/lib/python3.10/site-packages/torch/nn/modules/conv.py?line=296'>297</a>\u001b[0m                     _single(\u001b[39m0\u001b[39m), \u001b[39mself\u001b[39m\u001b[39m.\u001b[39mdilation, \u001b[39mself\u001b[39m\u001b[39m.\u001b[39mgroups)\n\u001b[0;32m--> <a href='file:///scratch/bh2283/penv/lib/python3.10/site-packages/torch/nn/modules/conv.py?line=297'>298</a>\u001b[0m \u001b[39mreturn\u001b[39;00m F\u001b[39m.\u001b[39;49mconv1d(\u001b[39minput\u001b[39;49m, weight, bias, \u001b[39mself\u001b[39;49m\u001b[39m.\u001b[39;49mstride,\n\u001b[1;32m    <a href='file:///scratch/bh2283/penv/lib/python3.10/site-packages/torch/nn/modules/conv.py?line=298'>299</a>\u001b[0m                 \u001b[39mself\u001b[39;49m\u001b[39m.\u001b[39;49mpadding, \u001b[39mself\u001b[39;49m\u001b[39m.\u001b[39;49mdilation, \u001b[39mself\u001b[39;49m\u001b[39m.\u001b[39;49mgroups)\n",
      "\u001b[0;31mKeyboardInterrupt\u001b[0m: "
     ]
    }
   ],
   "source": [
    "for epoch in range(1):\n",
    "    model.train()\n",
    "    for i_batch, sample_batched in enumerate(dataloader):\n",
    "        for i in range(batch_size):  # Cannot run in batch, only 1 by 1\n",
    "            optimizer.zero_grad()\n",
    "            # Step 1. Prepare Data\n",
    "            waveform = sample_batched['audio'][i]\n",
    "            target = sample_batched['target'][i]\n",
    "\n",
    "            # Step 2. Run our forward pass\n",
    "            emissions, _ = model(waveform.to(device))\n",
    "            emissions = torch.nn.functional.log_softmax(emissions, dim=-1).permute(1, 0, 2)\n",
    "            target = torch.tensor([target]).to(device)\n",
    "            loss = ctc_loss(emissions, target, (emissions.shape[0],), (target.shape[-1],))\n",
    "\n",
    "            # Step 2. Run our backward pass\n",
    "            loss.backward()\n",
    "            optimizer.step()\n",
    "\n",
    "        if i_batch % (400 // batch_size) == 0:\n",
    "            print('epoch', epoch, 'loss', loss.item())\n",
    "    scheduler.step()\n",
    "    save_checkpoint(epoch, loss.item())\n",
    "    test(3) # run some sample prediction and see the result"
   ]
  },
  {
   "cell_type": "code",
   "execution_count": 52,
   "metadata": {
    "colab": {
     "base_uri": "https://localhost:8080/"
    },
    "id": "_W36_s3Z_CES",
    "outputId": "0e74fc48-7695-4bf3-c831-fe0ec2342971"
   },
   "outputs": [
    {
     "name": "stdout",
     "output_type": "stream",
     "text": [
      "1 torch.Size([1, 54352]) 他们摸过你胸吗\n"
     ]
    },
    {
     "data": {
      "text/plain": [
       "('pa|me|meo|goun|ni|xhio|ma',\n",
       " '-----------------------------------------------p-aa--|---me-------||----meo-||||---g-ou----n||----nii-|||---xhio--|||-----m-aa-------------------------------------------')"
      ]
     },
     "execution_count": 52,
     "metadata": {},
     "output_type": "execute_result"
    }
   ],
   "source": [
    "with torch.no_grad():\n",
    "    i = 1\n",
    "    sample = audio_dataset[i]\n",
    "    print(i, sample['audio'].shape, sample['text'])\n",
    "\n",
    "    waveform = sample['audio']\n",
    "    emissions, _ = model(waveform.to(device))\n",
    "    emissions = torch.log_softmax(emissions, dim=-1)\n",
    "\n",
    "emission = emissions[0].cpu().detach()\n",
    "transcript = decoder(emission)\n",
    "transcript, NaiveCTCDecoder(labels)(emission)"
   ]
  },
  {
   "cell_type": "code",
   "execution_count": null,
   "metadata": {
    "id": "1ObMkIb389M2"
   },
   "outputs": [],
   "source": [
    "# model.train()\n",
    "# for epoch in range(10):\n",
    "#     for i in range(len(audio_dataset)):\n",
    "#         optimizer.zero_grad()\n",
    "\n",
    "#         sample = audio_dataset[i]\n",
    "        \n",
    "#         # Step 1. Prepare Data\n",
    "#         waveform = sample['audio']\n",
    "#         text = sample['text']\n",
    "        \n",
    "#         # Step 2. Run our forward pass\n",
    "#         emissions, _ = model(waveform.to(device))\n",
    "#         emissions = torch.nn.functional.log_softmax(emissions, dim=-1).permute(1, 0, 2)\n",
    "#         target = torch.tensor([label2id(chinese2pinyin(sample['text']))])\n",
    "#         loss = ctc_loss(emissions, target, (emissions.shape[0],), (target.shape[-1],))\n",
    "        \n",
    "#         # Step 2. Run our backward pass\n",
    "#         loss.backward()\n",
    "#         optimizer.step()\n",
    "        \n",
    "#         if i%400==0: # and i == 0:\n",
    "#           print(epoch, loss.item())"
   ]
  },
  {
   "cell_type": "markdown",
   "metadata": {
    "id": "lSBVmG-mvyyH"
   },
   "source": [
    "### Visualization\n",
    "\n"
   ]
  },
  {
   "cell_type": "code",
   "execution_count": 54,
   "metadata": {
    "colab": {
     "base_uri": "https://localhost:8080/",
     "height": 244
    },
    "id": "QyrHL3FWvyyI",
    "outputId": "8d4df375-b10e-4219-f124-e5433357df2e"
   },
   "outputs": [
    {
     "name": "stdout",
     "output_type": "stream",
     "text": [
      "('-', '|', 'e', 't', 'o', 'i', 'a', 'n', 's', 'r', 'h', 'l', 'd', 'c', 'u', 'm', 'p', 'f', 'g', 'w', 'y', 'b', 'v', 'k', 'x', 'j', 'q', 'z')\n"
     ]
    },
    {
     "data": {
      "image/png": "[encoded data removed]",
      "text/plain": [
       "<Figure size 1152x345.6 with 2 Axes>"
      ]
     },
     "metadata": {
      "needs_background": "light"
     },
     "output_type": "display_data"
    }
   ],
   "source": [
    "print(labels)\n",
    "plt.imshow(emission.T)\n",
    "plt.colorbar()\n",
    "plt.title(\"Frame-wise class probability\")\n",
    "plt.xlabel(\"Time\")\n",
    "plt.ylabel(\"Labels\")\n",
    "plt.show()"
   ]
  },
  {
   "cell_type": "markdown",
   "metadata": {
    "id": "c6qWLK5ovyyI"
   },
   "source": [
    "## Generate alignment probability (trellis)\n",
    "\n",
    "From the emission matrix, next we generate the trellis which represents\n",
    "the probability of transcript labels occur at each time frame.\n",
    "\n",
    "Trellis is 2D matrix with time axis and label axis. The label axis\n",
    "represents the transcript that we are aligning. In the following, we use\n",
    "$t$ to denote the index in time axis and $j$ to denote the\n",
    "index in label axis. $c_j$ represents the label at label index\n",
    "$j$.\n",
    "\n",
    "To generate, the probability of time step $t+1$, we look at the\n",
    "trellis from time step $t$ and emission at time step $t+1$.\n",
    "There are two path to reach to time step $t+1$ with label\n",
    "$c_{j+1}$. The first one is the case where the label was\n",
    "$c_{j+1}$ at $t$ and there was no label change from\n",
    "$t$ to $t+1$. The other case is where the label was\n",
    "$c_j$ at $t$ and it transitioned to the next label\n",
    "$c_{j+1}$ at $t+1$.\n",
    "\n",
    "The follwoing diagram illustrates this transition.\n",
    "\n",
    "<img src=\"https://download.pytorch.org/torchaudio/tutorial-assets/ctc-forward.png\">\n",
    "\n",
    "Since we are looking for the most likely transitions, we take the more\n",
    "likely path for the value of $k_{(t+1, j+1)}$, that is\n",
    "\n",
    "$k_{(t+1, j+1)} = max( k_{(t, j)} p(t+1, c_{j+1}), k_{(t, j+1)} p(t+1, repeat) )$\n",
    "\n",
    "where $k$ represents is trellis matrix, and $p(t, c_j)$\n",
    "represents the probability of label $c_j$ at time step $t$.\n",
    "$repeat$ represents the blank token from CTC formulation. (For the\n",
    "detail of CTC algorithm, please refer to the *Sequence Modeling with CTC*\n",
    "[`distill.pub <https://distill.pub/2017/ctc/>`__])\n",
    "\n",
    "\n"
   ]
  },
  {
   "cell_type": "code",
   "execution_count": 55,
   "metadata": {
    "colab": {
     "base_uri": "https://localhost:8080/"
    },
    "id": "xFtP09eOvyyJ",
    "outputId": "730ec8c5-7f3e-4e57-8670-bd21d1330ccb"
   },
   "outputs": [
    {
     "name": "stdout",
     "output_type": "stream",
     "text": [
      "[('p', 16), ('a', 6), ('|', 1), ('m', 15), ('e', 2), ('|', 1), ('m', 15), ('e', 2), ('o', 4), ('|', 1), ('g', 18), ('o', 4), ('u', 14), ('n', 7), ('|', 1), ('n', 7), ('i', 5), ('|', 1), ('x', 24), ('h', 10), ('i', 5), ('o', 4), ('|', 1), ('m', 15), ('a', 6)]\n"
     ]
    }
   ],
   "source": [
    "transcript = transcript\n",
    "dictionary = {c: i for i, c in enumerate(labels)}\n",
    "\n",
    "tokens = [dictionary[c] for c in transcript]\n",
    "print(list(zip(transcript, tokens)))\n",
    "\n",
    "\n",
    "def get_trellis(emission, tokens, blank_id=0):\n",
    "    num_frame = emission.size(0)\n",
    "    num_tokens = len(tokens)\n",
    "\n",
    "    # Trellis has extra diemsions for both time axis and tokens.\n",
    "    # The extra dim for tokens represents <SoS> (start-of-sentence)\n",
    "    # The extra dim for time axis is for simplification of the code.\n",
    "    trellis = torch.full((num_frame + 1, num_tokens + 1), -float(\"inf\"))\n",
    "    trellis[:, 0] = 0\n",
    "    for t in range(num_frame):\n",
    "        trellis[t + 1, 1:] = torch.maximum(\n",
    "            # Score for staying at the same token\n",
    "            trellis[t, 1:] + emission[t, blank_id],\n",
    "            # Score for changing to the next token\n",
    "            trellis[t, :-1] + emission[t, tokens],\n",
    "        )\n",
    "    return trellis\n",
    "\n",
    "\n",
    "trellis = get_trellis(emission, tokens)"
   ]
  },
  {
   "cell_type": "code",
   "execution_count": 88,
   "metadata": {},
   "outputs": [
    {
     "data": {
      "text/plain": [
       "'-----------------------------------------------p-aa--|---me-------||----meo-||||---g-ou----n||----nii-|||---xhio--|||-----m-aa-------------------------------------------'"
      ]
     },
     "execution_count": 88,
     "metadata": {},
     "output_type": "execute_result"
    }
   ],
   "source": [
    "NaiveCTCDecoder(labels)(emission)"
   ]
  },
  {
   "cell_type": "markdown",
   "metadata": {
    "id": "H_dvx9i0vyyK"
   },
   "source": [
    "### Visualization\n",
    "\n"
   ]
  },
  {
   "cell_type": "code",
   "execution_count": 56,
   "metadata": {
    "colab": {
     "base_uri": "https://localhost:8080/",
     "height": 305
    },
    "id": "KK4HhTNivyyK",
    "outputId": "2e769389-700b-42f0-9dc5-f0f6dc45c492"
   },
   "outputs": [
    {
     "data": {
      "image/png": "[encoded data removed]",
      "text/plain": [
       "<Figure size 1152x345.6 with 2 Axes>"
      ]
     },
     "metadata": {
      "needs_background": "light"
     },
     "output_type": "display_data"
    }
   ],
   "source": [
    "plt.imshow(trellis[1:, 1:].T, origin=\"lower\")\n",
    "plt.annotate(\"- Inf\", (trellis.size(1) / 5, trellis.size(1) / 1.5))\n",
    "plt.colorbar()\n",
    "plt.show()"
   ]
  },
  {
   "cell_type": "markdown",
   "metadata": {
    "id": "OEFqlf0HvyyK"
   },
   "source": [
    "In the above visualization, we can see that there is a trace of high\n",
    "probability crossing the matrix diagonally.\n",
    "\n",
    "\n"
   ]
  },
  {
   "cell_type": "markdown",
   "metadata": {
    "id": "u4uxqOk5vyyK"
   },
   "source": [
    "## Find the most likely path (backtracking)\n",
    "\n",
    "Once the trellis is generated, we will traverse it following the\n",
    "elements with high probability.\n",
    "\n",
    "We will start from the last label index with the time step of highest\n",
    "probability, then, we traverse back in time, picking stay\n",
    "($c_j \\rightarrow c_j$) or transition\n",
    "($c_j \\rightarrow c_{j+1}$), based on the post-transition\n",
    "probability $k_{t, j} p(t+1, c_{j+1})$ or\n",
    "$k_{t, j+1} p(t+1, repeat)$.\n",
    "\n",
    "Transition is done once the label reaches the beginning.\n",
    "\n",
    "The trellis matrix is used for path-finding, but for the final\n",
    "probability of each segment, we take the frame-wise probability from\n",
    "emission matrix.\n",
    "\n",
    "\n"
   ]
  },
  {
   "cell_type": "code",
   "execution_count": 58,
   "metadata": {
    "colab": {
     "base_uri": "https://localhost:8080/"
    },
    "id": "1pKKf-3bvyyL",
    "outputId": "b5c48481-172b-4a6f-fe9c-992204e63afc"
   },
   "outputs": [],
   "source": [
    "@dataclass\n",
    "class Point:\n",
    "    token_index: int\n",
    "    time_index: int\n",
    "    score: float\n",
    "\n",
    "\n",
    "def backtrack(trellis, emission, tokens, blank_id=0):\n",
    "    # Note:\n",
    "    # j and t are indices for trellis, which has extra dimensions\n",
    "    # for time and tokens at the beginning.\n",
    "    # When referring to time frame index `T` in trellis,\n",
    "    # the corresponding index in emission is `T-1`.\n",
    "    # Similarly, when referring to token index `J` in trellis,\n",
    "    # the corresponding index in transcript is `J-1`.\n",
    "    j = trellis.size(1) - 1\n",
    "    t_start = torch.argmax(trellis[:, j]).item()\n",
    "\n",
    "    path = []\n",
    "    for t in range(t_start, 0, -1):\n",
    "        # 1. Figure out if the current position was stay or change\n",
    "        # Note (again):\n",
    "        # `emission[J-1]` is the emission at time frame `J` of trellis dimension.\n",
    "        # Score for token staying the same from time frame J-1 to T.\n",
    "        stayed = trellis[t - 1, j] + emission[t - 1, blank_id]\n",
    "        # Score for token changing from C-1 at T-1 to J at T.\n",
    "        changed = trellis[t - 1, j - 1] + emission[t - 1, tokens[j - 1]]\n",
    "\n",
    "        # 2. Store the path with frame-wise probability.\n",
    "        prob = emission[t - 1, tokens[j - 1] if changed > stayed else 0].exp().item()\n",
    "        # Return token index and time index in non-trellis coordinate.\n",
    "        path.append(Point(j - 1, t - 1, prob))\n",
    "\n",
    "        # 3. Update the token\n",
    "        if changed > stayed:\n",
    "            j -= 1\n",
    "            if j == 0:\n",
    "                break\n",
    "    else:\n",
    "        raise ValueError(\"Failed to align\")\n",
    "    return path[::-1]\n",
    "\n",
    "\n",
    "path = backtrack(trellis, emission, tokens)\n",
    "# print(path)"
   ]
  },
  {
   "cell_type": "markdown",
   "metadata": {
    "id": "lSqnnGwIvyyL"
   },
   "source": [
    "### Visualization\n",
    "\n"
   ]
  },
  {
   "cell_type": "code",
   "execution_count": 59,
   "metadata": {
    "colab": {
     "base_uri": "https://localhost:8080/",
     "height": 325
    },
    "id": "2HFZkcrzvyyM",
    "outputId": "a23f7dc6-85d4-498a-c96e-e6e0b01e8723"
   },
   "outputs": [
    {
     "data": {
      "image/png": "[encoded data removed]",
      "text/plain": [
       "<Figure size 1152x345.6 with 1 Axes>"
      ]
     },
     "metadata": {
      "needs_background": "light"
     },
     "output_type": "display_data"
    }
   ],
   "source": [
    "def plot_trellis_with_path(trellis, path):\n",
    "    # To plot trellis with path, we take advantage of 'nan' value\n",
    "    trellis_with_path = trellis.clone()\n",
    "    for _, p in enumerate(path):\n",
    "        trellis_with_path[p.time_index, p.token_index] = float(\"nan\")\n",
    "    plt.imshow(trellis_with_path[1:, 1:].T, origin=\"lower\")\n",
    "\n",
    "\n",
    "plot_trellis_with_path(trellis, path)\n",
    "plt.title(\"The path found by backtracking\")\n",
    "plt.show()"
   ]
  },
  {
   "cell_type": "markdown",
   "metadata": {
    "id": "m7ks1HuMvyyM"
   },
   "source": [
    "Looking good. Now this path contains repetations for the same labels, so\n",
    "let’s merge them to make it close to the original transcript.\n",
    "\n",
    "When merging the multiple path points, we simply take the average\n",
    "probability for the merged segments.\n",
    "\n",
    "\n"
   ]
  },
  {
   "cell_type": "code",
   "execution_count": 60,
   "metadata": {
    "colab": {
     "base_uri": "https://localhost:8080/"
    },
    "id": "HDGV3VcPvyyM",
    "outputId": "051a7f61-04d1-4502-fcd7-8d62bcecf167"
   },
   "outputs": [
    {
     "name": "stdout",
     "output_type": "stream",
     "text": [
      "p\t(0.37): [   47,    49)\n",
      "a\t(0.60): [   49,    53)\n",
      "|\t(0.81): [   53,    57)\n",
      "m\t(0.64): [   57,    58)\n",
      "e\t(0.62): [   58,    67)\n",
      "|\t(0.92): [   67,    72)\n",
      "m\t(0.90): [   72,    73)\n",
      "e\t(0.31): [   73,    74)\n",
      "o\t(0.56): [   74,    77)\n",
      "|\t(0.72): [   77,    83)\n",
      "g\t(0.74): [   83,    85)\n",
      "o\t(0.44): [   85,    86)\n",
      "u\t(0.66): [   86,    91)\n",
      "n\t(0.35): [   91,    93)\n",
      "|\t(0.87): [   93,    98)\n",
      "n\t(0.50): [   98,   100)\n",
      "i\t(0.46): [  100,   103)\n",
      "|\t(0.73): [  103,   108)\n",
      "x\t(0.60): [  108,   109)\n",
      "h\t(0.39): [  109,   110)\n",
      "i\t(0.60): [  110,   111)\n",
      "o\t(0.42): [  111,   115)\n",
      "|\t(0.85): [  115,   122)\n",
      "m\t(0.82): [  122,   123)\n",
      "a\t(0.38): [  123,   124)\n"
     ]
    }
   ],
   "source": [
    "# Merge the labels\n",
    "@dataclass\n",
    "class Segment:\n",
    "    label: str\n",
    "    start: int\n",
    "    end: int\n",
    "    score: float\n",
    "\n",
    "    def __repr__(self):\n",
    "        return f\"{self.label}\\t({self.score:4.2f}): [{self.start:5d}, {self.end:5d})\"\n",
    "\n",
    "    @property\n",
    "    def length(self):\n",
    "        return self.end - self.start\n",
    "\n",
    "\n",
    "def merge_repeats(path):\n",
    "    i1, i2 = 0, 0\n",
    "    segments = []\n",
    "    while i1 < len(path):\n",
    "        while i2 < len(path) and path[i1].token_index == path[i2].token_index:\n",
    "            i2 += 1\n",
    "        score = sum(path[k].score for k in range(i1, i2)) / (i2 - i1)\n",
    "        segments.append(\n",
    "            Segment(\n",
    "                transcript[path[i1].token_index],\n",
    "                path[i1].time_index,\n",
    "                path[i2 - 1].time_index + 1,\n",
    "                score,\n",
    "            )\n",
    "        )\n",
    "        i1 = i2\n",
    "    return segments\n",
    "\n",
    "\n",
    "segments = merge_repeats(path)\n",
    "for seg in segments:\n",
    "    print(seg)"
   ]
  },
  {
   "cell_type": "markdown",
   "metadata": {
    "id": "p_WBpafgvyyN"
   },
   "source": [
    "### Visualization\n",
    "\n"
   ]
  },
  {
   "cell_type": "code",
   "execution_count": 87,
   "metadata": {
    "colab": {
     "base_uri": "https://localhost:8080/",
     "height": 695
    },
    "id": "2mo24WabvyyN",
    "outputId": "e872589e-eb02-4729-cbf3-ed559f806bfe"
   },
   "outputs": [
    {
     "data": {
      "image/png": "[encoded data removed]",
      "text/plain": [
       "<Figure size 1152x684 with 2 Axes>"
      ]
     },
     "metadata": {
      "needs_background": "light"
     },
     "output_type": "display_data"
    }
   ],
   "source": [
    "def plot_trellis_with_segments(trellis, segments, transcript):\n",
    "    # To plot trellis with path, we take advantage of 'nan' value\n",
    "    trellis_with_path = trellis.clone()\n",
    "    \n",
    "    for i, seg in enumerate(segments):\n",
    "        if seg.label == '|':\n",
    "            seg.label = \",\"\n",
    "        if seg.label != \"|\":\n",
    "            trellis_with_path[seg.start + 1 : seg.end + 1, i + 1] = float(\"nan\")\n",
    "        \n",
    "\n",
    "    fig, [ax1, ax2] = plt.subplots(2, 1, figsize=(16, 9.5))\n",
    "    ax1.set_title(\"Path, label and probability for each label\")\n",
    "    ax1.imshow(trellis_with_path.T, origin=\"lower\")\n",
    "    ax1.set_xticks([])\n",
    "\n",
    "    for i, seg in enumerate(segments):\n",
    "        if seg.label != \"|\":\n",
    "            ax1.annotate(seg.label, (seg.start + 0.7, i + 0.3), weight=\"bold\")\n",
    "            ax1.annotate(f\"{seg.score:.2f}\", (seg.start - 0.3, i + 4.3))\n",
    "\n",
    "    ax2.set_title(\"Label probability with and without repetation\")\n",
    "    xs, hs, ws = [], [], []\n",
    "    for seg in segments:\n",
    "        if seg.label != \"|\":\n",
    "            xs.append((seg.end + seg.start) / 2 + 0.4)\n",
    "            hs.append(seg.score)\n",
    "            ws.append(seg.end - seg.start)\n",
    "            ax2.annotate(seg.label, (seg.start + 0.8, -0.07), weight=\"bold\")\n",
    "    ax2.bar(xs, hs, width=ws, color=\"gray\", alpha=0.5, edgecolor=\"black\")\n",
    "\n",
    "    xs, hs = [], []\n",
    "    for p in path:\n",
    "        label = transcript[p.token_index]\n",
    "        if label != \"|\":\n",
    "            xs.append(p.time_index + 1)\n",
    "            hs.append(p.score)\n",
    "\n",
    "    ax2.bar(xs, hs, width=0.5, alpha=0.5)\n",
    "    ax2.axhline(0, color=\"black\")\n",
    "    ax2.set_xlim(ax1.get_xlim())\n",
    "    ax2.set_ylim(-0.1, 1.1)\n",
    "\n",
    "\n",
    "plot_trellis_with_segments(trellis, segments, transcript)\n",
    "plt.tight_layout()\n",
    "plt.show()"
   ]
  },
  {
   "cell_type": "markdown",
   "metadata": {
    "id": "xGiUUXbjvyyN"
   },
   "source": [
    "Looks good. Now let’s merge the words. The Wav2Vec2 model uses ``'|'``\n",
    "as the word boundary, so we merge the segments before each occurance of\n",
    "``'|'``.\n",
    "\n",
    "Then, finally, we segment the original audio into segmented audio and\n",
    "listen to them to see if the segmentation is correct.\n",
    "\n",
    "\n"
   ]
  },
  {
   "cell_type": "code",
   "execution_count": 62,
   "metadata": {
    "colab": {
     "base_uri": "https://localhost:8080/"
    },
    "id": "ddKxlfcuvyyO",
    "outputId": "5c344c86-194f-439b-df54-a9c8d35c9180"
   },
   "outputs": [
    {
     "name": "stdout",
     "output_type": "stream",
     "text": [
      "pa\t(0.53): [   47,    53)\n",
      "me\t(0.62): [   57,    67)\n",
      "meo\t(0.58): [   72,    77)\n",
      "goun\t(0.59): [   83,    93)\n",
      "ni\t(0.47): [   98,   103)\n",
      "xhio\t(0.47): [  108,   115)\n",
      "ma\t(0.60): [  122,   124)\n"
     ]
    }
   ],
   "source": [
    "# Merge words\n",
    "def merge_words(segments, separator=\"|\"):\n",
    "    words = []\n",
    "    i1, i2 = 0, 0\n",
    "    while i1 < len(segments):\n",
    "        if i2 >= len(segments) or segments[i2].label == separator:\n",
    "            if i1 != i2:\n",
    "                segs = segments[i1:i2]\n",
    "                word = \"\".join([seg.label for seg in segs])\n",
    "                score = sum(seg.score * seg.length for seg in segs) / sum(seg.length for seg in segs)\n",
    "                words.append(Segment(word, segments[i1].start, segments[i2 - 1].end, score))\n",
    "            i1 = i2 + 1\n",
    "            i2 = i1\n",
    "        else:\n",
    "            i2 += 1\n",
    "    return words\n",
    "\n",
    "\n",
    "word_segments = merge_words(segments)\n",
    "for word in word_segments:\n",
    "    print(word)"
   ]
  },
  {
   "cell_type": "markdown",
   "metadata": {
    "id": "xT_pvROjvyyO"
   },
   "source": [
    "### Visualization\n",
    "\n"
   ]
  },
  {
   "cell_type": "code",
   "execution_count": 65,
   "metadata": {
    "colab": {
     "base_uri": "https://localhost:8080/",
     "height": 596
    },
    "id": "C3LvJEKkvyyO",
    "outputId": "70489578-0342-4808-ddbd-cedc4d2d6f5a"
   },
   "outputs": [
    {
     "data": {
      "image/png": "[encoded data removed]",
      "text/plain": [
       "<Figure size 1152x684 with 2 Axes>"
      ]
     },
     "metadata": {
      "needs_background": "light"
     },
     "output_type": "display_data"
    }
   ],
   "source": [
    "def plot_alignments(trellis, segments, word_segments, waveform):\n",
    "    trellis_with_path = trellis.clone()\n",
    "    for i, seg in enumerate(segments):\n",
    "        if seg.label != \"|\":\n",
    "            trellis_with_path[seg.start + 1 : seg.end + 1, i + 1] = float(\"nan\")\n",
    "\n",
    "    fig, [ax1, ax2] = plt.subplots(2, 1, figsize=(16, 9.5))\n",
    "\n",
    "    ax1.imshow(trellis_with_path[1:, 1:].T, origin=\"lower\")\n",
    "    ax1.set_xticks([])\n",
    "    ax1.set_yticks([])\n",
    "\n",
    "    for word in word_segments:\n",
    "        ax1.axvline(word.start - 0.5)\n",
    "        ax1.axvline(word.end - 0.5)\n",
    "\n",
    "    for i, seg in enumerate(segments):\n",
    "        if seg.label != \"|\":\n",
    "            ax1.annotate(seg.label, (seg.start, i + 0.3))\n",
    "            ax1.annotate(f\"{seg.score:.2f}\", (seg.start, i + 4), fontsize=8)\n",
    "\n",
    "    # The original waveform\n",
    "    ratio = waveform.size(0) / (trellis.size(0) - 1)\n",
    "    ax2.plot(waveform)\n",
    "    for word in word_segments:\n",
    "        x0 = ratio * word.start\n",
    "        x1 = ratio * word.end\n",
    "        ax2.axvspan(x0, x1, alpha=0.1, color=\"red\")\n",
    "        ax2.annotate(f\"{word.score:.2f}\", (x0, 0.8))\n",
    "\n",
    "    for seg in segments:\n",
    "        if seg.label != \"|\":\n",
    "            ax2.annotate(seg.label, (seg.start * ratio, 0.9))\n",
    "    xticks = ax2.get_xticks()\n",
    "    plt.xticks(xticks, xticks / bundle.sample_rate)\n",
    "    ax2.set_xlabel(\"time [second]\")\n",
    "    ax2.set_yticks([])\n",
    "    ax2.set_ylim(-1.0, 1.0)\n",
    "    ax2.set_xlim(0, waveform.size(-1))\n",
    "\n",
    "\n",
    "plot_alignments(\n",
    "    trellis,\n",
    "    segments,\n",
    "    word_segments,\n",
    "    waveform[0],\n",
    ")\n",
    "plt.show()\n",
    "\n",
    "\n",
    "# A trick to embed the resulting audio to the generated file.\n",
    "# `IPython.display.Audio` has to be the last call in a cell,\n",
    "# and there should be only one call par cell.\n",
    "def display_segment(i):\n",
    "    ratio = waveform.size(1) / (trellis.size(0) - 1)\n",
    "    word = word_segments[i]\n",
    "    x0 = int(ratio * word.start)\n",
    "    x1 = int(ratio * word.end)\n",
    "    filename = f\"_assets/{i}_{word.label}.wav\"\n",
    "    torchaudio.save(filename, waveform[:, x0:x1], bundle.sample_rate)\n",
    "    print(f\"{word.label} ({word.score:.2f}): {x0 / bundle.sample_rate:.3f} - {x1 / bundle.sample_rate:.3f} sec\")\n",
    "    return Audio(filename)"
   ]
  },
  {
   "cell_type": "code",
   "execution_count": 83,
   "metadata": {
    "colab": {
     "base_uri": "https://localhost:8080/",
     "height": 92
    },
    "id": "r2IBAQmXvyyO",
    "outputId": "95112e4e-bc04-4e96-e871-40d74e44e897"
   },
   "outputs": [
    {
     "name": "stdout",
     "output_type": "stream",
     "text": [
      "pa|me|meo|goun|ni|xhio|ma\n",
      "please check ./audio-temp.wav for audio\n"
     ]
    }
   ],
   "source": [
    "# Generate the audio for each segment\n",
    "print(transcript)\n",
    "Audio(get_audio(1))"
   ]
  },
  {
   "cell_type": "code",
   "execution_count": 75,
   "metadata": {
    "colab": {
     "base_uri": "https://localhost:8080/",
     "height": 92
    },
    "id": "KkH_ByaLvyyP",
    "outputId": "1a26f9b8-841f-443d-bba6-f662dbb0d7f7"
   },
   "outputs": [
    {
     "name": "stdout",
     "output_type": "stream",
     "text": [
      "pa (0.53): 0.945 - 1.065 sec\n",
      "please check ./audio-temp.wav for audio\n"
     ]
    }
   ],
   "source": [
    "display_segment(0)"
   ]
  },
  {
   "cell_type": "code",
   "execution_count": 76,
   "metadata": {
    "colab": {
     "base_uri": "https://localhost:8080/",
     "height": 92
    },
    "id": "uPAoznzPvyyP",
    "outputId": "25219a01-699e-487b-d6ee-a26fd78cdf4f"
   },
   "outputs": [
    {
     "name": "stdout",
     "output_type": "stream",
     "text": [
      "me (0.62): 1.146 - 1.347 sec\n",
      "please check ./audio-temp.wav for audio\n"
     ]
    }
   ],
   "source": [
    "display_segment(1)"
   ]
  },
  {
   "cell_type": "code",
   "execution_count": 77,
   "metadata": {
    "colab": {
     "base_uri": "https://localhost:8080/",
     "height": 92
    },
    "id": "xLnuMwGrvyyQ",
    "outputId": "58c77d9d-3ea1-46b0-f4c2-1157323e4bd2"
   },
   "outputs": [
    {
     "name": "stdout",
     "output_type": "stream",
     "text": [
      "meo (0.58): 1.447 - 1.548 sec\n",
      "please check ./audio-temp.wav for audio\n"
     ]
    }
   ],
   "source": [
    "display_segment(2)"
   ]
  },
  {
   "cell_type": "code",
   "execution_count": 78,
   "metadata": {
    "colab": {
     "base_uri": "https://localhost:8080/",
     "height": 92
    },
    "id": "06v76MuZvyyQ",
    "outputId": "a95b0e9a-a8c1-44c0-8567-7138325d3724"
   },
   "outputs": [
    {
     "name": "stdout",
     "output_type": "stream",
     "text": [
      "goun (0.59): 1.668 - 1.869 sec\n",
      "please check ./audio-temp.wav for audio\n"
     ]
    }
   ],
   "source": [
    "display_segment(3)"
   ]
  },
  {
   "cell_type": "code",
   "execution_count": 79,
   "metadata": {
    "colab": {
     "base_uri": "https://localhost:8080/",
     "height": 92
    },
    "id": "9c-1kqZwvyyQ",
    "outputId": "071e2ac4-0c6b-46c2-e704-c244bc7f4420"
   },
   "outputs": [
    {
     "name": "stdout",
     "output_type": "stream",
     "text": [
      "ni (0.47): 1.970 - 2.070 sec\n",
      "please check ./audio-temp.wav for audio\n"
     ]
    }
   ],
   "source": [
    "display_segment(4)"
   ]
  },
  {
   "cell_type": "code",
   "execution_count": 80,
   "metadata": {
    "colab": {
     "base_uri": "https://localhost:8080/",
     "height": 92
    },
    "id": "HatF3Wg3vyyQ",
    "outputId": "df5e88ee-d118-41da-f05e-f227fbbe0a94"
   },
   "outputs": [
    {
     "name": "stdout",
     "output_type": "stream",
     "text": [
      "xhio (0.47): 2.171 - 2.312 sec\n",
      "please check ./audio-temp.wav for audio\n"
     ]
    }
   ],
   "source": [
    "display_segment(5)"
   ]
  },
  {
   "cell_type": "code",
   "execution_count": 81,
   "metadata": {
    "colab": {
     "base_uri": "https://localhost:8080/",
     "height": 92
    },
    "id": "vHe4oQS4vyyQ",
    "outputId": "a7bed65d-a69c-4598-ba28-dfd1b475e734"
   },
   "outputs": [
    {
     "name": "stdout",
     "output_type": "stream",
     "text": [
      "ma (0.60): 2.452 - 2.492 sec\n",
      "please check ./audio-temp.wav for audio\n"
     ]
    }
   ],
   "source": [
    "display_segment(6)"
   ]
  },
  {
   "cell_type": "markdown",
   "metadata": {
    "id": "kE1mXsvQvyyR"
   },
   "source": [
    "## Conclusion\n",
    "\n",
    "In this tutorial, we looked how to use torchaudio’s Wav2Vec2 model to\n",
    "perform CTC segmentation for forced alignment.\n",
    "\n",
    "\n"
   ]
  }
 ],
 "metadata": {
  "accelerator": "GPU",
  "colab": {
   "collapsed_sections": [],
   "name": "“forced_alignment_tutorial.ipynb”的副本",
   "provenance": []
  },
  "kernelspec": {
   "display_name": "Python 3 (ipykernel)",
   "language": "python",
   "name": "python3"
  },
  "language_info": {
   "codemirror_mode": {
    "name": "ipython",
    "version": 3
   },
   "file_extension": ".py",
   "mimetype": "text/x-python",
   "name": "python",
   "nbconvert_exporter": "python",
   "pygments_lexer": "ipython3",
   "version": "3.10.4"
  }
 },
 "nbformat": 4,
 "nbformat_minor": 4
}
