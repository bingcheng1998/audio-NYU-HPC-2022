{
 "cells": [
  {
   "cell_type": "code",
   "execution_count": 3,
   "metadata": {},
   "outputs": [],
   "source": [
    "import torch\n",
    "import torchaudio\n",
    "import torch.nn as nn\n",
    "from pypinyin import lazy_pinyin\n",
    "import matplotlib\n",
    "import matplotlib.pyplot as plt\n",
    "# import os\n",
    "# from torch.utils.data import Dataset, DataLoader, random_split"
   ]
  },
  {
   "cell_type": "code",
   "execution_count": 4,
   "metadata": {},
   "outputs": [
    {
     "data": {
      "text/plain": [
       "'n,v,e,q,v,u,en,n,h,ao,u,n,i,ou,i,i,a,i,ou,v,an,er,ing,in,u,eng'"
      ]
     },
     "execution_count": 4,
     "metadata": {},
     "output_type": "execute_result"
    }
   ],
   "source": [
    "from pypinyin import Style, lazy_pinyin\n",
    "\n",
    "\n",
    "initial_table = ['b', 'p', 'm', 'f',\n",
    "                'd', 't', 'n', 'l',\n",
    "                'g', 'k', 'h',\n",
    "                'j', 'q', 'x',\n",
    "                'zh', 'ch', 'sh', 'r', 'z', 'c', 's']\n",
    "\n",
    "finals_table = [['i', 'u', 'v'], # 可以与下面的配成 iao, ue\n",
    "                ['a', 'o', 'e', \n",
    "                'ai', 'ei', 'ao', 'ou', \n",
    "                'an', 'en', 'on', 'in', 'vn', 'un',\n",
    "                'ang', 'eng', 'ong', 'ing', 'er']]\n",
    "\n",
    "def get_labels():\n",
    "    return ['-', '|'] + initial_table + finals_table[0] + finals_table[1]\n",
    "\n",
    "def chinese2pinyin(text):\n",
    "    initials = lazy_pinyin(text, strict=True, style=Style.INITIALS, errors=lambda x: u'')\n",
    "    finals = lazy_pinyin(text, strict=True, style=Style.FINALS, errors=lambda x: u'')\n",
    "    pinyin = []\n",
    "    for i in range(len(finals)):\n",
    "        # pinyin+=['|']\n",
    "        if initials[i] != '':\n",
    "            pinyin+=[initials[i]]\n",
    "        if finals[i] != '':\n",
    "            if len(finals[i])>1 and finals[i][0] in finals_table[0] and finals[i][1]!='n':\n",
    "                pinyin+=[finals[i][0], finals[i][1:]]\n",
    "            else: pinyin+=[finals[i]]\n",
    "        if initials[i] == '' and finals[i] == '':\n",
    "            pinyin+=['n']\n",
    "    # if pinyin[-1] == '|':\n",
    "    #     pinyin = pinyin[:-1]\n",
    "    return pinyin[:]\n",
    "\n",
    "','.join(chinese2pinyin('虐去无，恩，嗯好乌牛一呀忧元儿赢因翁'))"
   ]
  },
  {
   "cell_type": "code",
   "execution_count": 5,
   "metadata": {},
   "outputs": [],
   "source": [
    "from utils.chinese2pinyin2 import chinese2pinyin, get_labels"
   ]
  },
  {
   "cell_type": "code",
   "execution_count": 26,
   "metadata": {},
   "outputs": [],
   "source": [
    "from utils.dataset import SpeechOceanDataset, STCMDSDataset\n",
    "N_MELS = 80\n",
    "def audio_transform(sample, sample_rate):\n",
    "    audio = sample['audio']\n",
    "    text = sample['text']\n",
    "    mel_transform = torchaudio.transforms.MelSpectrogram(sample_rate=sample_rate,\\\n",
    "        n_fft=1024,power=1,hop_length=256,win_length=1024, n_mels=N_MELS, \\\n",
    "            f_min=0.0, f_max=8000.0, mel_scale=\"slaney\", norm=\"slaney\")\n",
    "    # mel_transform = torchaudio.transforms.MelSpectrogram(\n",
    "    #     sample_rate=16000,           ### 22050, 48000\n",
    "    #     n_fft=1024,\n",
    "    #     hop_length=256,\n",
    "    #     n_mels=N_MELS                ### 64,    80\n",
    "    # )\n",
    "    # def chinese2pinyin(text):\n",
    "    #     pinyin = lazy_pinyin(text, strict=True,errors=lambda x: u'')\n",
    "    #     pinyin = [i for i in '|'.join(pinyin)]\n",
    "    #     return pinyin\n",
    "    # safe_log = lambda x: torch.log(x+2**(-15))\n",
    "    return {'audio':mel_transform(audio),\n",
    "            'text': chinese2pinyin(text)}\n",
    "\n",
    "# dataset = SpeechOceanDataset('./data/zhspeechocean/', transform=audio_transform)\n",
    "dataset = STCMDSDataset('./data/ST-CMDS-20170001_1-OS/', transform=audio_transform)"
   ]
  },
  {
   "cell_type": "code",
   "execution_count": 27,
   "metadata": {},
   "outputs": [],
   "source": [
    "# from model.quartznet import QuartzNet\n",
    "# from model.config import quartznet5x5_config\n",
    "# from utils.helper import get_labels\n",
    "\n",
    "# model = QuartzNet(quartznet5x5_config, feat_in = 80, vocab_size=len(get_labels()))\n",
    "# out, length = model(torch.zeros([2,80,581]), torch.tensor([581]))\n",
    "# # model.encoder[0].net[0][0].stride[0]\n",
    "# model.eval()\n",
    "# out.shape, length"
   ]
  },
  {
   "cell_type": "code",
   "execution_count": 28,
   "metadata": {},
   "outputs": [
    {
     "name": "stdout",
     "output_type": "stream",
     "text": [
      "The autoreload extension is already loaded. To reload it, use:\n",
      "  %reload_ext autoreload\n"
     ]
    }
   ],
   "source": [
    "%load_ext autoreload\n",
    "%autoreload 2"
   ]
  },
  {
   "cell_type": "code",
   "execution_count": 29,
   "metadata": {},
   "outputs": [
    {
     "data": {
      "text/plain": [
       "(torch.Size([2, 28, 291]), tensor([291], dtype=torch.int32))"
      ]
     },
     "execution_count": 29,
     "metadata": {},
     "output_type": "execute_result"
    }
   ],
   "source": [
    "from model.quartz2 import QuartzNet\n",
    "model = QuartzNet(n_mels=N_MELS, num_classes=len(get_labels()))\n",
    "out, length = model(torch.zeros([2,80,581]), torch.tensor([581]))\n",
    "# model\n",
    "out.shape, length"
   ]
  },
  {
   "cell_type": "code",
   "execution_count": 30,
   "metadata": {},
   "outputs": [],
   "source": [
    "# model"
   ]
  },
  {
   "cell_type": "code",
   "execution_count": 34,
   "metadata": {},
   "outputs": [
    {
     "name": "stdout",
     "output_type": "stream",
     "text": [
      "\n"
     ]
    }
   ],
   "source": [
    "from os.path import exists\n",
    "def load_checkpoint(path):\n",
    "    if exists(path):\n",
    "        # save_log(f'e.txt', ['file',path,'exist, load checkpoint...'])\n",
    "        checkpoint = torch.load(path, map_location=device)\n",
    "        if 'model_state_dict' in checkpoint:\n",
    "            model.load_state_dict(checkpoint['model_state_dict'])\n",
    "        # optimizer.load_state_dict(checkpoint['optimizer_state_dict'])\n",
    "        initial_epoch = checkpoint['epoch']\n",
    "        # loss = checkpoint['loss']\n",
    "        # save_log(f'e.txt', ['initial_epoch:', initial_epoch, 'loss:', loss])\n",
    "LOAD_PATH = './checkpoint/quartz/model-temp.pt'\n",
    "# LOAD_PATH = './checkpoint/quartz/primewords-1.pt'\n",
    "device = torch.device(\"cuda\" if torch.cuda.is_available() else \"cpu\")\n",
    "load_checkpoint(LOAD_PATH)\n",
    "model.eval()\n",
    "print('')"
   ]
  },
  {
   "cell_type": "code",
   "execution_count": 35,
   "metadata": {},
   "outputs": [
    {
     "data": {
      "text/plain": [
       "('jin|er|zao|shang|wo|qi|lai|zai|yuan|zi|li|zou|le|ji|quan',\n",
       " torch.Size([1, 80, 270]))"
      ]
     },
     "execution_count": 35,
     "metadata": {},
     "output_type": "execute_result"
    },
    {
     "data": {
      "image/png": "[encoded data removed]",
      "text/plain": [
       "<Figure size 432x288 with 1 Axes>"
      ]
     },
     "metadata": {
      "needs_background": "light"
     },
     "output_type": "display_data"
    }
   ],
   "source": [
    "sample= dataset[5]\n",
    "safe_log = lambda x: torch.log(x+2**(-15))\n",
    "plt.imshow(safe_log(sample['audio'][0]))\n",
    "''.join(sample['text']), sample['audio'].shape"
   ]
  },
  {
   "cell_type": "code",
   "execution_count": 36,
   "metadata": {},
   "outputs": [
    {
     "data": {
      "text/plain": [
       "('ji|er|ziao|shang|wo|qi|la|jhan|yuan|zhi|li|zhu|e|qi|qun',\n",
       " torch.Size([135, 28]))"
      ]
     },
     "execution_count": 36,
     "metadata": {},
     "output_type": "execute_result"
    },
    {
     "data": {
      "image/png": "[encoded data removed]",
      "text/plain": [
       "<Figure size 432x288 with 1 Axes>"
      ]
     },
     "metadata": {
      "needs_background": "light"
     },
     "output_type": "display_data"
    }
   ],
   "source": [
    "from utils.textDecoder import GreedyCTCDecoder, NaiveDecoder\n",
    "# from utils.helper import get_labels\n",
    "model.eval()\n",
    "decoder = GreedyCTCDecoder(labels=get_labels())\n",
    "out, _ = model(safe_log(sample['audio']))\n",
    "p = torch.log_softmax(out, dim=-2)[0]\n",
    "plt.imshow(p.detach().numpy(), interpolation='none')\n",
    "decoder(p.T), p.T.shape"
   ]
  },
  {
   "cell_type": "code",
   "execution_count": 11,
   "metadata": {},
   "outputs": [],
   "source": [
    "# model"
   ]
  },
  {
   "cell_type": "code",
   "execution_count": 12,
   "metadata": {},
   "outputs": [
    {
     "data": {
      "text/plain": [
       "('ha||||||||||ha|||hia|||ha||||ha|||hua|||hi||||hi|||||a|||x-an||hi--||-a------------------------------------------------------------------',\n",
       " torch.Size([137, 28]))"
      ]
     },
     "execution_count": 12,
     "metadata": {},
     "output_type": "execute_result"
    }
   ],
   "source": [
    "decoder(out[0].T), out[0].T.shape"
   ]
  },
  {
   "cell_type": "code",
   "execution_count": 13,
   "metadata": {},
   "outputs": [],
   "source": [
    "from utils.dataset import SpeechDataset\n",
    "class STCMDSDataset(SpeechDataset):\n",
    "\n",
    "    def __init__(self, data_path, sample_rate=16000, transform=None):\n",
    "        super().__init__(data_path, sample_rate, transform)\n",
    "        files = os.listdir(data_path)\n",
    "        file_names = []\n",
    "        for file in files:\n",
    "            if file.split('.')[1] == 'txt':\n",
    "                file_names.append(file.split('.')[0])\n",
    "        self.dataset_file_num = len(file_names)\n",
    "        self.file_names = file_names\n",
    "        self.threshold = 90000 # to avoid GPU memory used out\n",
    "        self.batch_size = 128 # to avoid GPU memory used out\n",
    "        self.split_ratio = [1000, 5]\n",
    "\n",
    "    def __len__(self):\n",
    "        return len(self.file_names)\n",
    "\n",
    "    def __getitem__(self, idx):\n",
    "        if torch.is_tensor(idx):\n",
    "            idx = idx.tolist()\n",
    "\n",
    "        audio_name = self.get_audio(idx)\n",
    "        waveform, sample_rate = torchaudio.load(audio_name)\n",
    "        if sample_rate != self.sample_rate:\n",
    "            waveform = torchaudio.functional.resample(waveform, sample_rate, self.sample_rate)\n",
    "        audio_content = self.get_text(idx)\n",
    "        sample = {'audio': waveform, 'text': audio_content}\n",
    "        if self.transform:\n",
    "            sample = self.transform(sample, self.sample_rate)\n",
    "        return sample\n",
    "\n",
    "    def get_audio(self, x): \n",
    "        return self.data_path+self.file_names[x]+'.wav' if x < self.dataset_file_num else None\n",
    "        \n",
    "    def get_text(self, x): \n",
    "        return open(self.data_path+self.file_names[x]+'.txt', \"r\").read() if x < self.dataset_file_num else None\n",
    "\n",
    "dataset = STCMDSDataset('./data/ST-CMDS-20170001_1-OS/', transform=audio_transform)"
   ]
  },
  {
   "cell_type": "code",
   "execution_count": 14,
   "metadata": {},
   "outputs": [
    {
     "data": {
      "text/plain": [
       "('na-shuang-si-le-he-he-ni-jun-xun-wan-le-ma', torch.Size([1, 64, 274]))"
      ]
     },
     "execution_count": 14,
     "metadata": {},
     "output_type": "execute_result"
    },
    {
     "data": {
      "image/png": "[encoded data removed]",
      "text/plain": [
       "<Figure size 432x288 with 1 Axes>"
      ]
     },
     "metadata": {
      "needs_background": "light"
     },
     "output_type": "display_data"
    }
   ],
   "source": [
    "plt.imshow(dataset[0]['audio'][0])\n",
    "''.join(dataset[0]['text']), dataset[0]['audio'].shape"
   ]
  },
  {
   "cell_type": "code",
   "execution_count": 15,
   "metadata": {},
   "outputs": [
    {
     "name": "stdout",
     "output_type": "stream",
     "text": [
      "train_set: 102089 test_set: 511\n",
      "torch.Size([7, 64, 308]) torch.Size([7, 64])\n",
      "torch.Size([8, 64, 331]) torch.Size([8, 60])\n",
      "torch.Size([8, 64, 298]) torch.Size([8, 62])\n",
      "torch.Size([7, 64, 313]) torch.Size([7, 61])\n",
      "torch.Size([8, 64, 288]) torch.Size([8, 61])\n",
      "torch.Size([8, 64, 253]) torch.Size([8, 58])\n",
      "torch.Size([8, 64, 336]) torch.Size([8, 57])\n",
      "torch.Size([8, 64, 279]) torch.Size([8, 57])\n",
      "torch.Size([7, 64, 307]) torch.Size([7, 49])\n",
      "torch.Size([7, 64, 297]) torch.Size([7, 56])\n",
      "torch.Size([8, 64, 323]) torch.Size([8, 53])\n",
      "torch.Size([8, 64, 292]) torch.Size([8, 69])\n"
     ]
    }
   ],
   "source": [
    "from utils.dataset import LoaderGenerator\n",
    "from torch.utils.data import DataLoader, Dataset, random_split\n",
    "from utils.helper import get_labels\n",
    "loaderGenerator = LoaderGenerator(get_labels(), k_size=33)\n",
    "train_set, test_set = dataset.split()\n",
    "train_loader = loaderGenerator.dataloader(train_set, batch_size=8)\n",
    "print('train_set:', len(train_set), 'test_set:',len(test_set))\n",
    "steps = 10\n",
    "for i_batch, sample_batched in enumerate(train_loader):\n",
    "    print(sample_batched['audio'].shape, sample_batched['target'].shape)\n",
    "    # plt.imshow(sample_batched['audio'][0])\n",
    "    # print(loaderGenerator.id2label(sample_batched['target'][0].tolist()))\n",
    "    # print(sample_batched['audio_len'][0])\n",
    "    # print(sample_batched['target_len'][0])\n",
    "    # break\n",
    "    if steps < 0:\n",
    "        break\n",
    "    steps -= 1\n"
   ]
  },
  {
   "cell_type": "code",
   "execution_count": 16,
   "metadata": {},
   "outputs": [],
   "source": [
    "\n",
    "\n",
    "class AiShellDataset(Dataset):\n",
    "\n",
    "    def __init__(self, data_path, sample_rate=16000, transform=None):\n",
    "        transcript_file = data_path+'transcript/aishell_transcript_v0.8.txt'\n",
    "        self.transcript = self.gen_transcript(transcript_file)\n",
    "        self.wav_files = self.get_all_wav_files(data_path, self.transcript)\n",
    "        self.dataset_file_num = len(self.wav_files)\n",
    "        self.data_path = data_path\n",
    "        self.transform = transform\n",
    "        self.sample_rate = sample_rate\n",
    "        self.threshold = 120000 # to avoid GPU memory used out\n",
    "        self.batch_size = 80 # to avoid GPU memory used out\n",
    "        self.split_ratio = [1000, 1]\n",
    "\n",
    "    def __len__(self):\n",
    "        return self.dataset_file_num\n",
    "\n",
    "    def __getitem__(self, idx):\n",
    "        if torch.is_tensor(idx):\n",
    "            idx = idx.tolist()\n",
    "        if idx >= self.dataset_file_num:\n",
    "            return {'audio': None, 'text': None}\n",
    "        audio_name = self.wav_files[idx]\n",
    "        waveform, sample_rate = torchaudio.load(audio_name)\n",
    "        waveform = waveform\n",
    "        if sample_rate != self.sample_rate:\n",
    "            waveform = torchaudio.functional.resample(waveform, sample_rate, self.sample_rate)\n",
    "        dict_id = audio_name.rsplit('/',1)[-1].split('.')[0]\n",
    "        audio_content = self.transcript[dict_id]\n",
    "        sample = {'audio': waveform, 'text': audio_content}\n",
    "        if self.transform:\n",
    "            sample = self.transform(sample)\n",
    "        return sample\n",
    "\n",
    "    def parse_line(self, line):\n",
    "        id, text = line.split(' ', 1)\n",
    "        text = ''.join(text.split(' '))\n",
    "        return id, text\n",
    "\n",
    "    def gen_transcript(self, transcript_file):\n",
    "        transcript = {}\n",
    "        with open(transcript_file, 'r') as f:\n",
    "            content = f.read()\n",
    "            lines = content.split('\\n')[:-1]\n",
    "            for line in lines:\n",
    "                id, text = self.parse_line(line)\n",
    "                transcript[id] = text\n",
    "        return transcript\n",
    "\n",
    "    def get_all_wav_files(self, path, transcript):\n",
    "        folders = []\n",
    "        train = os.listdir(path+'wav/train/')\n",
    "        folders += [path+'wav/train/'+i for i in train]\n",
    "        dev = os.listdir(path+'wav/dev/')\n",
    "        folders += [path+'wav/dev/'+i for i in dev]\n",
    "        test = os.listdir(path+'wav/test/')\n",
    "        folders += [path+'wav/test/'+i for i in test]\n",
    "        files = []\n",
    "        for folder in folders:\n",
    "            files += [folder+'/'+i for i in os.listdir(folder) if i[:-4] in transcript]\n",
    "        return files\n",
    "    \n",
    "    def split(self, split_ratio=None, seed=42):\n",
    "        audio_dataset = self\n",
    "        size = len(audio_dataset)\n",
    "        my_split_ratio = self.split_ratio if split_ratio is None else split_ratio\n",
    "        lengths = [(i*size)//sum(my_split_ratio) for i in my_split_ratio]\n",
    "        lengths[-1] = size - sum(lengths[:-1])\n",
    "        split_dataset = random_split(audio_dataset, lengths, generator=torch.Generator().manual_seed(seed))\n",
    "        return split_dataset"
   ]
  },
  {
   "cell_type": "code",
   "execution_count": 17,
   "metadata": {},
   "outputs": [
    {
     "name": "stdout",
     "output_type": "stream",
     "text": [
      "train_set: 140895 test_set: 705\n"
     ]
    },
    {
     "ename": "TypeError",
     "evalue": "randint(): argument 'high' (position 1) must be int, not function",
     "output_type": "error",
     "traceback": [
      "\u001b[0;31m---------------------------------------------------------------------------\u001b[0m",
      "\u001b[0;31mTypeError\u001b[0m                                 Traceback (most recent call last)",
      "\u001b[1;32m/scratch/bh2283/code/test.ipynb Cell 17'\u001b[0m in \u001b[0;36m<cell line: 1>\u001b[0;34m()\u001b[0m\n\u001b[1;32m     <a href='vscode-notebook-cell://ssh-remote%2B7b22686f73744e616d65223a224e5955485043227d/scratch/bh2283/code/test.ipynb#ch0000016vscode-remote?line=17'>18</a>\u001b[0m \u001b[39mprint\u001b[39m(\u001b[39m'\u001b[39m\u001b[39mtrain_set:\u001b[39m\u001b[39m'\u001b[39m, \u001b[39mlen\u001b[39m(train_set), \u001b[39m'\u001b[39m\u001b[39mtest_set:\u001b[39m\u001b[39m'\u001b[39m,\u001b[39mlen\u001b[39m(test_set))\n\u001b[1;32m     <a href='vscode-notebook-cell://ssh-remote%2B7b22686f73744e616d65223a224e5955485043227d/scratch/bh2283/code/test.ipynb#ch0000016vscode-remote?line=18'>19</a>\u001b[0m steps \u001b[39m=\u001b[39m \u001b[39m10\u001b[39m\n\u001b[0;32m---> <a href='vscode-notebook-cell://ssh-remote%2B7b22686f73744e616d65223a224e5955485043227d/scratch/bh2283/code/test.ipynb#ch0000016vscode-remote?line=19'>20</a>\u001b[0m \u001b[39mfor\u001b[39;00m i_batch, sample_batched \u001b[39min\u001b[39;00m \u001b[39menumerate\u001b[39m(test_loader):\n\u001b[1;32m     <a href='vscode-notebook-cell://ssh-remote%2B7b22686f73744e616d65223a224e5955485043227d/scratch/bh2283/code/test.ipynb#ch0000016vscode-remote?line=20'>21</a>\u001b[0m     \u001b[39mprint\u001b[39m(sample_batched[\u001b[39m'\u001b[39m\u001b[39maudio\u001b[39m\u001b[39m'\u001b[39m]\u001b[39m.\u001b[39mshape, sample_batched[\u001b[39m'\u001b[39m\u001b[39mtarget\u001b[39m\u001b[39m'\u001b[39m]\u001b[39m.\u001b[39mshape)\n\u001b[1;32m     <a href='vscode-notebook-cell://ssh-remote%2B7b22686f73744e616d65223a224e5955485043227d/scratch/bh2283/code/test.ipynb#ch0000016vscode-remote?line=21'>22</a>\u001b[0m     \u001b[39m# for i in sample_batched['audio']:\u001b[39;00m\n\u001b[1;32m     <a href='vscode-notebook-cell://ssh-remote%2B7b22686f73744e616d65223a224e5955485043227d/scratch/bh2283/code/test.ipynb#ch0000016vscode-remote?line=22'>23</a>\u001b[0m     \u001b[39m#     print(i.shape)\u001b[39;00m\n",
      "File \u001b[0;32m/scratch/bh2283/penv/lib/python3.10/site-packages/torch/utils/data/dataloader.py:530\u001b[0m, in \u001b[0;36m_BaseDataLoaderIter.__next__\u001b[0;34m(self)\u001b[0m\n\u001b[1;32m    <a href='file:///scratch/bh2283/penv/lib/python3.10/site-packages/torch/utils/data/dataloader.py?line=527'>528</a>\u001b[0m \u001b[39mif\u001b[39;00m \u001b[39mself\u001b[39m\u001b[39m.\u001b[39m_sampler_iter \u001b[39mis\u001b[39;00m \u001b[39mNone\u001b[39;00m:\n\u001b[1;32m    <a href='file:///scratch/bh2283/penv/lib/python3.10/site-packages/torch/utils/data/dataloader.py?line=528'>529</a>\u001b[0m     \u001b[39mself\u001b[39m\u001b[39m.\u001b[39m_reset()\n\u001b[0;32m--> <a href='file:///scratch/bh2283/penv/lib/python3.10/site-packages/torch/utils/data/dataloader.py?line=529'>530</a>\u001b[0m data \u001b[39m=\u001b[39m \u001b[39mself\u001b[39;49m\u001b[39m.\u001b[39;49m_next_data()\n\u001b[1;32m    <a href='file:///scratch/bh2283/penv/lib/python3.10/site-packages/torch/utils/data/dataloader.py?line=530'>531</a>\u001b[0m \u001b[39mself\u001b[39m\u001b[39m.\u001b[39m_num_yielded \u001b[39m+\u001b[39m\u001b[39m=\u001b[39m \u001b[39m1\u001b[39m\n\u001b[1;32m    <a href='file:///scratch/bh2283/penv/lib/python3.10/site-packages/torch/utils/data/dataloader.py?line=531'>532</a>\u001b[0m \u001b[39mif\u001b[39;00m \u001b[39mself\u001b[39m\u001b[39m.\u001b[39m_dataset_kind \u001b[39m==\u001b[39m _DatasetKind\u001b[39m.\u001b[39mIterable \u001b[39mand\u001b[39;00m \\\n\u001b[1;32m    <a href='file:///scratch/bh2283/penv/lib/python3.10/site-packages/torch/utils/data/dataloader.py?line=532'>533</a>\u001b[0m         \u001b[39mself\u001b[39m\u001b[39m.\u001b[39m_IterableDataset_len_called \u001b[39mis\u001b[39;00m \u001b[39mnot\u001b[39;00m \u001b[39mNone\u001b[39;00m \u001b[39mand\u001b[39;00m \\\n\u001b[1;32m    <a href='file:///scratch/bh2283/penv/lib/python3.10/site-packages/torch/utils/data/dataloader.py?line=533'>534</a>\u001b[0m         \u001b[39mself\u001b[39m\u001b[39m.\u001b[39m_num_yielded \u001b[39m>\u001b[39m \u001b[39mself\u001b[39m\u001b[39m.\u001b[39m_IterableDataset_len_called:\n",
      "File \u001b[0;32m/scratch/bh2283/penv/lib/python3.10/site-packages/torch/utils/data/dataloader.py:570\u001b[0m, in \u001b[0;36m_SingleProcessDataLoaderIter._next_data\u001b[0;34m(self)\u001b[0m\n\u001b[1;32m    <a href='file:///scratch/bh2283/penv/lib/python3.10/site-packages/torch/utils/data/dataloader.py?line=567'>568</a>\u001b[0m \u001b[39mdef\u001b[39;00m \u001b[39m_next_data\u001b[39m(\u001b[39mself\u001b[39m):\n\u001b[1;32m    <a href='file:///scratch/bh2283/penv/lib/python3.10/site-packages/torch/utils/data/dataloader.py?line=568'>569</a>\u001b[0m     index \u001b[39m=\u001b[39m \u001b[39mself\u001b[39m\u001b[39m.\u001b[39m_next_index()  \u001b[39m# may raise StopIteration\u001b[39;00m\n\u001b[0;32m--> <a href='file:///scratch/bh2283/penv/lib/python3.10/site-packages/torch/utils/data/dataloader.py?line=569'>570</a>\u001b[0m     data \u001b[39m=\u001b[39m \u001b[39mself\u001b[39;49m\u001b[39m.\u001b[39;49m_dataset_fetcher\u001b[39m.\u001b[39;49mfetch(index)  \u001b[39m# may raise StopIteration\u001b[39;00m\n\u001b[1;32m    <a href='file:///scratch/bh2283/penv/lib/python3.10/site-packages/torch/utils/data/dataloader.py?line=570'>571</a>\u001b[0m     \u001b[39mif\u001b[39;00m \u001b[39mself\u001b[39m\u001b[39m.\u001b[39m_pin_memory:\n\u001b[1;32m    <a href='file:///scratch/bh2283/penv/lib/python3.10/site-packages/torch/utils/data/dataloader.py?line=571'>572</a>\u001b[0m         data \u001b[39m=\u001b[39m _utils\u001b[39m.\u001b[39mpin_memory\u001b[39m.\u001b[39mpin_memory(data)\n",
      "File \u001b[0;32m/scratch/bh2283/penv/lib/python3.10/site-packages/torch/utils/data/_utils/fetch.py:52\u001b[0m, in \u001b[0;36m_MapDatasetFetcher.fetch\u001b[0;34m(self, possibly_batched_index)\u001b[0m\n\u001b[1;32m     <a href='file:///scratch/bh2283/penv/lib/python3.10/site-packages/torch/utils/data/_utils/fetch.py?line=49'>50</a>\u001b[0m \u001b[39melse\u001b[39;00m:\n\u001b[1;32m     <a href='file:///scratch/bh2283/penv/lib/python3.10/site-packages/torch/utils/data/_utils/fetch.py?line=50'>51</a>\u001b[0m     data \u001b[39m=\u001b[39m \u001b[39mself\u001b[39m\u001b[39m.\u001b[39mdataset[possibly_batched_index]\n\u001b[0;32m---> <a href='file:///scratch/bh2283/penv/lib/python3.10/site-packages/torch/utils/data/_utils/fetch.py?line=51'>52</a>\u001b[0m \u001b[39mreturn\u001b[39;00m \u001b[39mself\u001b[39;49m\u001b[39m.\u001b[39;49mcollate_fn(data)\n",
      "File \u001b[0;32m/scratch/bh2283/code/utils/dataset.py:283\u001b[0m, in \u001b[0;36mLoaderGenerator.collate_wrapper\u001b[0;34m(self, batch)\u001b[0m\n\u001b[1;32m    <a href='file:///scratch/bh2283/code/utils/dataset.py?line=280'>281</a>\u001b[0m bs \u001b[39m=\u001b[39m \u001b[39mlen\u001b[39m(batch)\n\u001b[1;32m    <a href='file:///scratch/bh2283/code/utils/dataset.py?line=281'>282</a>\u001b[0m \u001b[39m# 1. shift each audio right with several blocks < first kernel in the model\u001b[39;00m\n\u001b[0;32m--> <a href='file:///scratch/bh2283/code/utils/dataset.py?line=282'>283</a>\u001b[0m rand_shift \u001b[39m=\u001b[39m torch\u001b[39m.\u001b[39;49mrandint(\u001b[39mself\u001b[39;49m\u001b[39m.\u001b[39;49mk_size, (bs,))\n\u001b[1;32m    <a href='file:///scratch/bh2283/code/utils/dataset.py?line=283'>284</a>\u001b[0m n_mel \u001b[39m=\u001b[39m batch[\u001b[39m0\u001b[39m][\u001b[39m'\u001b[39m\u001b[39maudio\u001b[39m\u001b[39m'\u001b[39m]\u001b[39m.\u001b[39mshape[\u001b[39m-\u001b[39m\u001b[39m2\u001b[39m]\n\u001b[1;32m    <a href='file:///scratch/bh2283/code/utils/dataset.py?line=284'>285</a>\u001b[0m audio_list \u001b[39m=\u001b[39m [\n\u001b[1;32m    <a href='file:///scratch/bh2283/code/utils/dataset.py?line=285'>286</a>\u001b[0m     torch\u001b[39m.\u001b[39mcat(\n\u001b[1;32m    <a href='file:///scratch/bh2283/code/utils/dataset.py?line=286'>287</a>\u001b[0m     (torch\u001b[39m.\u001b[39mzeros((\u001b[39m1\u001b[39m, n_mel, rand_shift[i])), batch[i][\u001b[39m'\u001b[39m\u001b[39maudio\u001b[39m\u001b[39m'\u001b[39m]), \u001b[39m-\u001b[39m\u001b[39m1\u001b[39m)\n\u001b[1;32m    <a href='file:///scratch/bh2283/code/utils/dataset.py?line=287'>288</a>\u001b[0m     \u001b[39mfor\u001b[39;00m i \u001b[39min\u001b[39;00m \u001b[39mrange\u001b[39m(bs)]\n",
      "\u001b[0;31mTypeError\u001b[0m: randint(): argument 'high' (position 1) must be int, not function"
     ]
    }
   ],
   "source": [
    "if __name__ == '__main__':\n",
    "    # dataset = AudioDataset('./data/ST-CMDS-20170001_1-OS/')\n",
    "    dataset = AiShellDataset('./data/data_aishell/')\n",
    "    batch_size = 8\n",
    "    train_set, test_set = dataset.split([1000, 5])\n",
    "    k_size = 5 # kernel size for audio encoder\n",
    "    from pypinyin import lazy_pinyin\n",
    "    def chinese2pinyin(text):\n",
    "        pinyin = lazy_pinyin(text, strict=True,errors=lambda x: u'')\n",
    "        pinyin = [i for i in '|'.join(pinyin)]\n",
    "        return pinyin\n",
    "    from utils.helper import get_labels\n",
    "    from utils.dataset import LoaderGenerator\n",
    "    labels = get_labels()\n",
    "    loaderGenerator = LoaderGenerator(labels, chinese2pinyin, k_size)\n",
    "    train_loader = loaderGenerator.dataloader(train_set, batch_size)\n",
    "    test_loader = loaderGenerator.dataloader(test_set, batch_size) # without backprop, can use larger batch\n",
    "    print('train_set:', len(train_set), 'test_set:',len(test_set))\n",
    "    steps = 10\n",
    "    for i_batch, sample_batched in enumerate(test_loader):\n",
    "        print(sample_batched['audio'].shape, sample_batched['target'].shape)\n",
    "        # for i in sample_batched['audio']:\n",
    "        #     print(i.shape)\n",
    "        if steps < 0:\n",
    "            break\n",
    "        steps -= 1"
   ]
  },
  {
   "cell_type": "code",
   "execution_count": null,
   "metadata": {},
   "outputs": [],
   "source": [
    "dataset = AiShellDataset('./data/data_aishell/')\n",
    "lens = [dataset[i]['audio'].shape[-1] for i in range(500)]"
   ]
  },
  {
   "cell_type": "code",
   "execution_count": null,
   "metadata": {},
   "outputs": [],
   "source": [
    "lens2 = [dataset[i+500]['audio'].shape[-1] for i in range(1000)]"
   ]
  },
  {
   "cell_type": "code",
   "execution_count": null,
   "metadata": {},
   "outputs": [
    {
     "data": {
      "image/png": "[encoded data removed]",
      "text/plain": [
       "<Figure size 432x288 with 1 Axes>"
      ]
     },
     "metadata": {
      "needs_background": "light"
     },
     "output_type": "display_data"
    }
   ],
   "source": [
    "import matplotlib.pyplot as plt\n",
    "plt.hist(lens+lens2, bins = 50)\n",
    "plt.show()"
   ]
  },
  {
   "cell_type": "code",
   "execution_count": 20,
   "metadata": {},
   "outputs": [],
   "source": [
    "import json"
   ]
  },
  {
   "cell_type": "code",
   "execution_count": 21,
   "metadata": {},
   "outputs": [],
   "source": [
    "import os\n",
    "from numpy import dtype\n",
    "import torch\n",
    "from torch.utils.data import Dataset, DataLoader, random_split\n",
    "import torchaudio\n",
    "\n",
    "class PrimeWordsDataset(Dataset):\n",
    "\n",
    "    def __init__(self, data_path, sample_rate=16000, transform=None):\n",
    "        with open(data_path+'set1_transcript.json') as f:\n",
    "            json_data = json.load(f)\n",
    "        self.json_data = json_data\n",
    "        # self.wav_files = self.get_all_wav_files(data_path, self.transcript)\n",
    "        self.dataset_file_num = len(self.json_data)\n",
    "        self.data_path = data_path\n",
    "        self.transform = transform\n",
    "        self.sample_rate = sample_rate\n",
    "        self.threshold = 220000 # to avoid GPU memory used out\n",
    "        self.batch_size = 40 # to avoid GPU memory used out\n",
    "        self.split_ratio = [1000, 2]\n",
    "\n",
    "    def __len__(self):\n",
    "        return self.dataset_file_num\n",
    "\n",
    "    def __getitem__(self, idx):\n",
    "        if torch.is_tensor(idx):\n",
    "            idx = idx.tolist()\n",
    "        if idx >= self.dataset_file_num:\n",
    "            return {'audio': None, 'text': None}\n",
    "        audio_file, audio_content = self.parse_line(self.json_data[idx])\n",
    "        waveform, sample_rate = torchaudio.load(self.get_wav(audio_file))\n",
    "        waveform = waveform\n",
    "        if sample_rate != self.sample_rate:\n",
    "            waveform = torchaudio.functional.resample(waveform, sample_rate, self.sample_rate)\n",
    "        sample = {'audio': waveform, 'text': audio_content}\n",
    "        if self.transform:\n",
    "            sample = self.transform(sample)\n",
    "        return sample\n",
    "\n",
    "    def parse_line(self, line):\n",
    "        return line['file'], line['text']\n",
    "\n",
    "    def get_wav(self, file_name):\n",
    "        path = self.data_path+'audio_files/'+file_name[0]+'/'+file_name[:2]+'/'+file_name\n",
    "        return path\n",
    "\n",
    "    def split(self, split_ratio=None, seed=42):\n",
    "        audio_dataset = self\n",
    "        size = len(audio_dataset)\n",
    "        my_split_ratio = self.split_ratio if split_ratio is None else split_ratio\n",
    "        lengths = [(i*size)//sum(my_split_ratio) for i in my_split_ratio]\n",
    "        lengths[-1] = size - sum(lengths[:-1])\n",
    "        split_dataset = random_split(audio_dataset, lengths, generator=torch.Generator().manual_seed(seed))\n",
    "        return split_dataset"
   ]
  },
  {
   "cell_type": "code",
   "execution_count": 22,
   "metadata": {},
   "outputs": [
    {
     "name": "stdout",
     "output_type": "stream",
     "text": [
      "train_set: 50648 test_set: 254\n"
     ]
    },
    {
     "ename": "TypeError",
     "evalue": "randint(): argument 'high' (position 1) must be int, not function",
     "output_type": "error",
     "traceback": [
      "\u001b[0;31m---------------------------------------------------------------------------\u001b[0m",
      "\u001b[0;31mTypeError\u001b[0m                                 Traceback (most recent call last)",
      "\u001b[1;32m/scratch/bh2283/code/test.ipynb Cell 24'\u001b[0m in \u001b[0;36m<cell line: 1>\u001b[0;34m()\u001b[0m\n\u001b[1;32m     <a href='vscode-notebook-cell://ssh-remote%2B7b22686f73744e616d65223a224e5955485043227d/scratch/bh2283/code/test.ipynb#ch0000023vscode-remote?line=16'>17</a>\u001b[0m \u001b[39mprint\u001b[39m(\u001b[39m'\u001b[39m\u001b[39mtrain_set:\u001b[39m\u001b[39m'\u001b[39m, \u001b[39mlen\u001b[39m(train_set), \u001b[39m'\u001b[39m\u001b[39mtest_set:\u001b[39m\u001b[39m'\u001b[39m,\u001b[39mlen\u001b[39m(test_set))\n\u001b[1;32m     <a href='vscode-notebook-cell://ssh-remote%2B7b22686f73744e616d65223a224e5955485043227d/scratch/bh2283/code/test.ipynb#ch0000023vscode-remote?line=17'>18</a>\u001b[0m steps \u001b[39m=\u001b[39m \u001b[39m10\u001b[39m\n\u001b[0;32m---> <a href='vscode-notebook-cell://ssh-remote%2B7b22686f73744e616d65223a224e5955485043227d/scratch/bh2283/code/test.ipynb#ch0000023vscode-remote?line=18'>19</a>\u001b[0m \u001b[39mfor\u001b[39;00m i_batch, sample_batched \u001b[39min\u001b[39;00m \u001b[39menumerate\u001b[39m(test_loader):\n\u001b[1;32m     <a href='vscode-notebook-cell://ssh-remote%2B7b22686f73744e616d65223a224e5955485043227d/scratch/bh2283/code/test.ipynb#ch0000023vscode-remote?line=19'>20</a>\u001b[0m     \u001b[39mprint\u001b[39m(sample_batched[\u001b[39m'\u001b[39m\u001b[39maudio\u001b[39m\u001b[39m'\u001b[39m]\u001b[39m.\u001b[39mshape, sample_batched[\u001b[39m'\u001b[39m\u001b[39mtarget\u001b[39m\u001b[39m'\u001b[39m]\u001b[39m.\u001b[39mshape)\n\u001b[1;32m     <a href='vscode-notebook-cell://ssh-remote%2B7b22686f73744e616d65223a224e5955485043227d/scratch/bh2283/code/test.ipynb#ch0000023vscode-remote?line=20'>21</a>\u001b[0m     \u001b[39m# for i in sample_batched['audio']:\u001b[39;00m\n\u001b[1;32m     <a href='vscode-notebook-cell://ssh-remote%2B7b22686f73744e616d65223a224e5955485043227d/scratch/bh2283/code/test.ipynb#ch0000023vscode-remote?line=21'>22</a>\u001b[0m     \u001b[39m#     print(i.shape)\u001b[39;00m\n",
      "File \u001b[0;32m/scratch/bh2283/penv/lib/python3.10/site-packages/torch/utils/data/dataloader.py:530\u001b[0m, in \u001b[0;36m_BaseDataLoaderIter.__next__\u001b[0;34m(self)\u001b[0m\n\u001b[1;32m    <a href='file:///scratch/bh2283/penv/lib/python3.10/site-packages/torch/utils/data/dataloader.py?line=527'>528</a>\u001b[0m \u001b[39mif\u001b[39;00m \u001b[39mself\u001b[39m\u001b[39m.\u001b[39m_sampler_iter \u001b[39mis\u001b[39;00m \u001b[39mNone\u001b[39;00m:\n\u001b[1;32m    <a href='file:///scratch/bh2283/penv/lib/python3.10/site-packages/torch/utils/data/dataloader.py?line=528'>529</a>\u001b[0m     \u001b[39mself\u001b[39m\u001b[39m.\u001b[39m_reset()\n\u001b[0;32m--> <a href='file:///scratch/bh2283/penv/lib/python3.10/site-packages/torch/utils/data/dataloader.py?line=529'>530</a>\u001b[0m data \u001b[39m=\u001b[39m \u001b[39mself\u001b[39;49m\u001b[39m.\u001b[39;49m_next_data()\n\u001b[1;32m    <a href='file:///scratch/bh2283/penv/lib/python3.10/site-packages/torch/utils/data/dataloader.py?line=530'>531</a>\u001b[0m \u001b[39mself\u001b[39m\u001b[39m.\u001b[39m_num_yielded \u001b[39m+\u001b[39m\u001b[39m=\u001b[39m \u001b[39m1\u001b[39m\n\u001b[1;32m    <a href='file:///scratch/bh2283/penv/lib/python3.10/site-packages/torch/utils/data/dataloader.py?line=531'>532</a>\u001b[0m \u001b[39mif\u001b[39;00m \u001b[39mself\u001b[39m\u001b[39m.\u001b[39m_dataset_kind \u001b[39m==\u001b[39m _DatasetKind\u001b[39m.\u001b[39mIterable \u001b[39mand\u001b[39;00m \\\n\u001b[1;32m    <a href='file:///scratch/bh2283/penv/lib/python3.10/site-packages/torch/utils/data/dataloader.py?line=532'>533</a>\u001b[0m         \u001b[39mself\u001b[39m\u001b[39m.\u001b[39m_IterableDataset_len_called \u001b[39mis\u001b[39;00m \u001b[39mnot\u001b[39;00m \u001b[39mNone\u001b[39;00m \u001b[39mand\u001b[39;00m \\\n\u001b[1;32m    <a href='file:///scratch/bh2283/penv/lib/python3.10/site-packages/torch/utils/data/dataloader.py?line=533'>534</a>\u001b[0m         \u001b[39mself\u001b[39m\u001b[39m.\u001b[39m_num_yielded \u001b[39m>\u001b[39m \u001b[39mself\u001b[39m\u001b[39m.\u001b[39m_IterableDataset_len_called:\n",
      "File \u001b[0;32m/scratch/bh2283/penv/lib/python3.10/site-packages/torch/utils/data/dataloader.py:570\u001b[0m, in \u001b[0;36m_SingleProcessDataLoaderIter._next_data\u001b[0;34m(self)\u001b[0m\n\u001b[1;32m    <a href='file:///scratch/bh2283/penv/lib/python3.10/site-packages/torch/utils/data/dataloader.py?line=567'>568</a>\u001b[0m \u001b[39mdef\u001b[39;00m \u001b[39m_next_data\u001b[39m(\u001b[39mself\u001b[39m):\n\u001b[1;32m    <a href='file:///scratch/bh2283/penv/lib/python3.10/site-packages/torch/utils/data/dataloader.py?line=568'>569</a>\u001b[0m     index \u001b[39m=\u001b[39m \u001b[39mself\u001b[39m\u001b[39m.\u001b[39m_next_index()  \u001b[39m# may raise StopIteration\u001b[39;00m\n\u001b[0;32m--> <a href='file:///scratch/bh2283/penv/lib/python3.10/site-packages/torch/utils/data/dataloader.py?line=569'>570</a>\u001b[0m     data \u001b[39m=\u001b[39m \u001b[39mself\u001b[39;49m\u001b[39m.\u001b[39;49m_dataset_fetcher\u001b[39m.\u001b[39;49mfetch(index)  \u001b[39m# may raise StopIteration\u001b[39;00m\n\u001b[1;32m    <a href='file:///scratch/bh2283/penv/lib/python3.10/site-packages/torch/utils/data/dataloader.py?line=570'>571</a>\u001b[0m     \u001b[39mif\u001b[39;00m \u001b[39mself\u001b[39m\u001b[39m.\u001b[39m_pin_memory:\n\u001b[1;32m    <a href='file:///scratch/bh2283/penv/lib/python3.10/site-packages/torch/utils/data/dataloader.py?line=571'>572</a>\u001b[0m         data \u001b[39m=\u001b[39m _utils\u001b[39m.\u001b[39mpin_memory\u001b[39m.\u001b[39mpin_memory(data)\n",
      "File \u001b[0;32m/scratch/bh2283/penv/lib/python3.10/site-packages/torch/utils/data/_utils/fetch.py:52\u001b[0m, in \u001b[0;36m_MapDatasetFetcher.fetch\u001b[0;34m(self, possibly_batched_index)\u001b[0m\n\u001b[1;32m     <a href='file:///scratch/bh2283/penv/lib/python3.10/site-packages/torch/utils/data/_utils/fetch.py?line=49'>50</a>\u001b[0m \u001b[39melse\u001b[39;00m:\n\u001b[1;32m     <a href='file:///scratch/bh2283/penv/lib/python3.10/site-packages/torch/utils/data/_utils/fetch.py?line=50'>51</a>\u001b[0m     data \u001b[39m=\u001b[39m \u001b[39mself\u001b[39m\u001b[39m.\u001b[39mdataset[possibly_batched_index]\n\u001b[0;32m---> <a href='file:///scratch/bh2283/penv/lib/python3.10/site-packages/torch/utils/data/_utils/fetch.py?line=51'>52</a>\u001b[0m \u001b[39mreturn\u001b[39;00m \u001b[39mself\u001b[39;49m\u001b[39m.\u001b[39;49mcollate_fn(data)\n",
      "File \u001b[0;32m/scratch/bh2283/code/utils/dataset.py:284\u001b[0m, in \u001b[0;36mLoaderGenerator.collate_wrapper\u001b[0;34m(self, batch)\u001b[0m\n\u001b[1;32m    <a href='file:///scratch/bh2283/code/utils/dataset.py?line=281'>282</a>\u001b[0m bs \u001b[39m=\u001b[39m \u001b[39mlen\u001b[39m(batch) \u001b[39m# after filter, the size may change\u001b[39;00m\n\u001b[1;32m    <a href='file:///scratch/bh2283/code/utils/dataset.py?line=282'>283</a>\u001b[0m \u001b[39m# 1. shift each audio right with several blocks < first kernel in the model\u001b[39;00m\n\u001b[0;32m--> <a href='file:///scratch/bh2283/code/utils/dataset.py?line=283'>284</a>\u001b[0m rand_shift \u001b[39m=\u001b[39m torch\u001b[39m.\u001b[39;49mrandint(\u001b[39mself\u001b[39;49m\u001b[39m.\u001b[39;49mk_size, (bs,))\n\u001b[1;32m    <a href='file:///scratch/bh2283/code/utils/dataset.py?line=284'>285</a>\u001b[0m n_mel \u001b[39m=\u001b[39m batch[\u001b[39m0\u001b[39m][\u001b[39m'\u001b[39m\u001b[39maudio\u001b[39m\u001b[39m'\u001b[39m]\u001b[39m.\u001b[39mshape[\u001b[39m-\u001b[39m\u001b[39m2\u001b[39m]\n\u001b[1;32m    <a href='file:///scratch/bh2283/code/utils/dataset.py?line=285'>286</a>\u001b[0m audio_list \u001b[39m=\u001b[39m [\n\u001b[1;32m    <a href='file:///scratch/bh2283/code/utils/dataset.py?line=286'>287</a>\u001b[0m     torch\u001b[39m.\u001b[39mcat(\n\u001b[1;32m    <a href='file:///scratch/bh2283/code/utils/dataset.py?line=287'>288</a>\u001b[0m     (torch\u001b[39m.\u001b[39mzeros((\u001b[39m1\u001b[39m, n_mel, rand_shift[i])), batch[i][\u001b[39m'\u001b[39m\u001b[39maudio\u001b[39m\u001b[39m'\u001b[39m]), \u001b[39m-\u001b[39m\u001b[39m1\u001b[39m)\u001b[39m.\u001b[39mpermute(\u001b[39m0\u001b[39m,\u001b[39m2\u001b[39m,\u001b[39m1\u001b[39m)\u001b[39m.\u001b[39msqueeze()\n\u001b[1;32m    <a href='file:///scratch/bh2283/code/utils/dataset.py?line=288'>289</a>\u001b[0m     \u001b[39mfor\u001b[39;00m i \u001b[39min\u001b[39;00m \u001b[39mrange\u001b[39m(bs)]\n",
      "\u001b[0;31mTypeError\u001b[0m: randint(): argument 'high' (position 1) must be int, not function"
     ]
    }
   ],
   "source": [
    "if __name__ == '__main__':\n",
    "    dataset = PrimeWordsDataset('./data/primewords_md_2018_set1/')\n",
    "    batch_size = 8\n",
    "    train_set, test_set = dataset.split([1000, 5])\n",
    "    k_size = 5 # kernel size for audio encoder\n",
    "    from pypinyin import lazy_pinyin\n",
    "    def chinese2pinyin(text):\n",
    "        pinyin = lazy_pinyin(text, strict=True,errors=lambda x: u'')\n",
    "        pinyin = [i for i in '|'.join(pinyin)]\n",
    "        return pinyin\n",
    "    from utils.helper import get_labels\n",
    "    from utils.dataset import LoaderGenerator\n",
    "    labels = get_labels()\n",
    "    loaderGenerator = LoaderGenerator(labels, chinese2pinyin, k_size)\n",
    "    train_loader = loaderGenerator.dataloader(train_set, batch_size)\n",
    "    test_loader = loaderGenerator.dataloader(test_set, batch_size) # without backprop, can use larger batch\n",
    "    print('train_set:', len(train_set), 'test_set:',len(test_set))\n",
    "    steps = 10\n",
    "    for i_batch, sample_batched in enumerate(test_loader):\n",
    "        print(sample_batched['audio'].shape, sample_batched['target'].shape)\n",
    "        # for i in sample_batched['audio']:\n",
    "        #     print(i.shape)\n",
    "        if steps < 0:\n",
    "            break\n",
    "        steps -= 1"
   ]
  },
  {
   "cell_type": "code",
   "execution_count": null,
   "metadata": {},
   "outputs": [],
   "source": [
    "dataset = PrimeWordsDataset('./data/primewords_md_2018_set1/')\n",
    "lens = [dataset[i]['audio'].shape[-1] for i in range(500)]"
   ]
  },
  {
   "cell_type": "code",
   "execution_count": null,
   "metadata": {},
   "outputs": [
    {
     "data": {
      "text/plain": [
       "{'audio': tensor([[0.0000, 0.0000, 0.0000,  ..., 0.0003, 0.0002, 0.0001]]),\n",
       " 'text': '两碑尺寸相同 规格一致 均高六点八七米 分别由螭龙碑首'}"
      ]
     },
     "execution_count": 51,
     "metadata": {},
     "output_type": "execute_result"
    }
   ],
   "source": [
    "i=15\n",
    "torchaudio.save('./audio-temp.wav', dataset[i]['audio'], 16000)\n",
    "dataset[i]"
   ]
  },
  {
   "cell_type": "code",
   "execution_count": null,
   "metadata": {},
   "outputs": [],
   "source": [
    "lens2 = [dataset[i+500]['audio'].shape[-1] for i in range(1000)]"
   ]
  },
  {
   "cell_type": "code",
   "execution_count": null,
   "metadata": {},
   "outputs": [
    {
     "data": {
      "image/png": "[encoded data removed]",
      "text/plain": [
       "<Figure size 432x288 with 1 Axes>"
      ]
     },
     "metadata": {
      "needs_background": "light"
     },
     "output_type": "display_data"
    }
   ],
   "source": [
    "import matplotlib.pyplot as plt\n",
    "plt.hist(lens+lens2, bins = 50)\n",
    "plt.show()"
   ]
  },
  {
   "cell_type": "code",
   "execution_count": null,
   "metadata": {},
   "outputs": [],
   "source": [
    "import pandas as pd\n",
    "data_path = './data/zhspeechocean/'\n",
    "\n",
    "\n",
    "class SpeechOceanDataset(Dataset):\n",
    "    def __init__(self, data_path, sample_rate=16000, transform=None):\n",
    "        meta_data = data_path + 'metadata.csv'\n",
    "        self.meta_data = pd.read_csv(meta_data, sep='\\t')\n",
    "        self.dataset_file_num = len(self.meta_data)\n",
    "        self.data_path = data_path\n",
    "        self.transform = transform\n",
    "        self.sample_rate = sample_rate\n",
    "        self.threshold = 90000 # to avoid GPU memory used out\n",
    "        self.batch_size = 128 # to avoid GPU memory used out\n",
    "        self.split_ratio = [100, 5]\n",
    "\n",
    "    def __len__(self):\n",
    "        return self.dataset_file_num\n",
    "\n",
    "    def __getitem__(self, idx):\n",
    "        if torch.is_tensor(idx):\n",
    "            idx = idx.tolist()\n",
    "        if idx >= self.dataset_file_num:\n",
    "            return {'audio': None, 'text': None}\n",
    "        audio_name = os.path.join(self.data_path,\n",
    "                                  self.meta_data.iloc[idx, 0])\n",
    "        waveform, sample_rate = torchaudio.load(audio_name)\n",
    "        audio_content = self.meta_data.iloc[idx, 1]\n",
    "        if sample_rate != self.sample_rate:\n",
    "            waveform = torchaudio.functional.resample(waveform, sample_rate, self.sample_rate)\n",
    "        sample = {'audio': waveform, 'text': audio_content}\n",
    "        if self.transform:\n",
    "            sample = self.transform(sample)\n",
    "        return sample\n",
    "\n",
    "    def split(self, split_ratio=None, seed=42):\n",
    "        audio_dataset = self\n",
    "        size = len(audio_dataset)\n",
    "        my_split_ratio = self.split_ratio if split_ratio is None else split_ratio\n",
    "        lengths = [(i*size)//sum(my_split_ratio) for i in my_split_ratio]\n",
    "        lengths[-1] = size - sum(lengths[:-1])\n",
    "        split_dataset = random_split(audio_dataset, lengths, generator=torch.Generator().manual_seed(seed))\n",
    "        return split_dataset"
   ]
  },
  {
   "cell_type": "code",
   "execution_count": null,
   "metadata": {},
   "outputs": [
    {
     "name": "stdout",
     "output_type": "stream",
     "text": [
      "train_set: 2285 test_set: 115\n",
      "torch.Size([7, 76030]) torch.Size([7, 66])\n",
      "torch.Size([8, 85818]) torch.Size([8, 66])\n",
      "torch.Size([8, 80063]) torch.Size([8, 89])\n",
      "torch.Size([7, 56436]) torch.Size([7, 54])\n",
      "torch.Size([8, 76025]) torch.Size([8, 67])\n",
      "torch.Size([8, 79484]) torch.Size([8, 68])\n",
      "torch.Size([8, 65661]) torch.Size([8, 76])\n",
      "torch.Size([8, 67958]) torch.Size([8, 75])\n",
      "torch.Size([8, 59323]) torch.Size([8, 70])\n",
      "torch.Size([8, 86392]) torch.Size([8, 66])\n",
      "torch.Size([8, 55872]) torch.Size([8, 50])\n",
      "torch.Size([8, 52413]) torch.Size([8, 47])\n"
     ]
    }
   ],
   "source": [
    "if __name__ == '__main__':\n",
    "    dataset = SpeechOceanDataset('./data/zhspeechocean/')\n",
    "    batch_size = 8\n",
    "    train_set, test_set = dataset.split([100, 5])\n",
    "    k_size = 5 # kernel size for audio encoder\n",
    "    from pypinyin import lazy_pinyin\n",
    "    def chinese2pinyin(text):\n",
    "        pinyin = lazy_pinyin(text, strict=True,errors=lambda x: u'')\n",
    "        pinyin = [i for i in '|'.join(pinyin)]\n",
    "        return pinyin\n",
    "    from utils.helper import get_labels\n",
    "    from utils.dataset import LoaderGenerator\n",
    "    labels = get_labels()\n",
    "    loaderGenerator = LoaderGenerator(labels, chinese2pinyin, k_size)\n",
    "    train_loader = loaderGenerator.dataloader(train_set, batch_size)\n",
    "    test_loader = loaderGenerator.dataloader(test_set, batch_size) # without backprop, can use larger batch\n",
    "    print('train_set:', len(train_set), 'test_set:',len(test_set))\n",
    "    steps = 10\n",
    "    for i_batch, sample_batched in enumerate(test_loader):\n",
    "        print(sample_batched['audio'].shape, sample_batched['target'].shape)\n",
    "        # for i in sample_batched['audio']:\n",
    "        #     print(i.shape)\n",
    "        if steps < 0:\n",
    "            break\n",
    "        steps -= 1"
   ]
  },
  {
   "cell_type": "code",
   "execution_count": null,
   "metadata": {},
   "outputs": [],
   "source": [
    "dataset = SpeechOceanDataset('./data/zhspeechocean/')\n",
    "lens = [dataset[i]['audio'].shape[-1] for i in range(2000)]"
   ]
  },
  {
   "cell_type": "code",
   "execution_count": null,
   "metadata": {},
   "outputs": [
    {
     "data": {
      "image/png": "[encoded data removed]",
      "text/plain": [
       "<Figure size 432x288 with 1 Axes>"
      ]
     },
     "metadata": {
      "needs_background": "light"
     },
     "output_type": "display_data"
    }
   ],
   "source": [
    "import matplotlib.pyplot as plt\n",
    "plt.hist(lens, bins = 50)\n",
    "plt.show()"
   ]
  },
  {
   "cell_type": "code",
   "execution_count": null,
   "metadata": {},
   "outputs": [
    {
     "data": {
      "text/plain": [
       "{'audio': tensor([[ 0.0000e+00,  0.0000e+00,  0.0000e+00,  ..., -2.2709e-05,\n",
       "          -7.3612e-05, -1.0139e-04]]),\n",
       " 'text': '你这个周末有时间吗？你陪我去看看手机行吗？'}"
      ]
     },
     "execution_count": 72,
     "metadata": {},
     "output_type": "execute_result"
    }
   ],
   "source": [
    "i=15\n",
    "torchaudio.save('./audio-temp.wav', dataset[i]['audio'], 16000)\n",
    "dataset[i]"
   ]
  },
  {
   "cell_type": "code",
   "execution_count": null,
   "metadata": {},
   "outputs": [
    {
     "data": {
      "text/plain": [
       "'ni|zhe|ge|zhou|mo|you|shi|jian|ma|ni|pei|wo|qu|kan|kan|shou|ji|xing|ma'"
      ]
     },
     "execution_count": 74,
     "metadata": {},
     "output_type": "execute_result"
    }
   ],
   "source": [
    "def chinese2pinyin(text):\n",
    "    pinyin = lazy_pinyin(text, strict=True,errors=lambda x: u'')\n",
    "    pinyin = [i for i in '|'.join(pinyin)]\n",
    "    return pinyin\n",
    "''.join(chinese2pinyin('你这个周末有时间吗？你陪我去看看手机行吗？'))"
   ]
  },
  {
   "cell_type": "code",
   "execution_count": null,
   "metadata": {},
   "outputs": [],
   "source": [
    "class CvCorpus8Dataset(Dataset):\n",
    "\n",
    "    def __init__(self, data_path, sample_rate=16000, transform=None):\n",
    "        df1 = pd.read_csv(data_path+'validated.tsv',sep='\\t')[['path', 'sentence']]\n",
    "        # df2 = pd.read_csv(data_path+'invalidated.tsv',sep='\\t')[['path', 'sentence']]\n",
    "        # df3 = pd.read_csv(data_path+'other.tsv',sep='\\t')[['path', 'sentence']]\n",
    "        # df = pd.concat([df1, df2, df3])\n",
    "        df = df1\n",
    "        audio_path = df['path'].to_list()\n",
    "        sentence_text = df['sentence'].to_list()\n",
    "        assert len(audio_path) == len(sentence_text)\n",
    "        self.audio_path = audio_path\n",
    "        self.sentence_text = sentence_text\n",
    "        self.size = len(audio_path)\n",
    "        self.data_path = data_path\n",
    "        self.transform = transform\n",
    "        self.sample_rate = sample_rate\n",
    "        self.threshold = 170000 # to avoid GPU memory used out\n",
    "        self.batch_size = 64 # to avoid GPU memory used out\n",
    "        self.split_ratio = [100, 1]\n",
    "\n",
    "    def __len__(self):\n",
    "        return len(self.audio_path)\n",
    "\n",
    "    def __getitem__(self, idx):\n",
    "        if torch.is_tensor(idx):\n",
    "            idx = idx.tolist()\n",
    "\n",
    "        audio_name = self.get_audio(idx)\n",
    "        waveform, sample_rate = torchaudio.load(audio_name)\n",
    "        waveform = waveform\n",
    "        if sample_rate != self.sample_rate:\n",
    "            waveform = torchaudio.functional.resample(waveform, sample_rate, self.sample_rate)\n",
    "        audio_content = self.get_text(idx)\n",
    "        sample = {'audio': waveform, 'text': audio_content}\n",
    "        if self.transform:\n",
    "            sample = self.transform(sample)\n",
    "        return sample\n",
    "\n",
    "    def get_audio(self, x): \n",
    "        return self.data_path+'clips/'+self.audio_path[x] if x < len(self) else None\n",
    "        \n",
    "    def get_text(self, x): \n",
    "        return self.sentence_text[x] if x < len(self) else None\n",
    "    \n",
    "    def split(self, split_ratio=None, seed=42):\n",
    "        audio_dataset = self\n",
    "        size = len(audio_dataset)\n",
    "        my_split_ratio = self.split_ratio if split_ratio is None else split_ratio\n",
    "        lengths = [(i*size)//sum(my_split_ratio) for i in my_split_ratio]\n",
    "        lengths[-1] = size - sum(lengths[:-1])\n",
    "        split_dataset = random_split(audio_dataset, lengths, generator=torch.Generator().manual_seed(seed))\n",
    "        return split_dataset"
   ]
  },
  {
   "cell_type": "code",
   "execution_count": null,
   "metadata": {},
   "outputs": [
    {
     "name": "stdout",
     "output_type": "stream",
     "text": [
      "train_set: 44517 test_set: 2226\n",
      "torch.Size([8, 124029]) torch.Size([8, 71])\n",
      "torch.Size([8, 155901]) torch.Size([8, 126])\n",
      "torch.Size([8, 148988]) torch.Size([8, 128])\n",
      "torch.Size([8, 122877]) torch.Size([8, 110])\n",
      "torch.Size([8, 142838]) torch.Size([8, 107])\n",
      "torch.Size([8, 153984]) torch.Size([8, 131])\n",
      "torch.Size([8, 142079]) torch.Size([8, 121])\n",
      "torch.Size([8, 155904]) torch.Size([8, 90])\n",
      "torch.Size([8, 131712]) torch.Size([8, 93])\n",
      "torch.Size([8, 101753]) torch.Size([8, 94])\n",
      "torch.Size([8, 97920]) torch.Size([8, 89])\n",
      "torch.Size([8, 165877]) torch.Size([8, 140])\n"
     ]
    }
   ],
   "source": [
    "if __name__ == '__main__':\n",
    "    dataset = CvCorpus8Dataset('./data/cv-corpus-8.0-2022-01-19/zh-CN/')\n",
    "    batch_size = 8\n",
    "    train_set, test_set = dataset.split([100, 5])\n",
    "    k_size = 5 # kernel size for audio encoder\n",
    "    from pypinyin import lazy_pinyin\n",
    "    def chinese2pinyin(text):\n",
    "        pinyin = lazy_pinyin(text, strict=True,errors=lambda x: u'')\n",
    "        pinyin = [i for i in '|'.join(pinyin)]\n",
    "        return pinyin\n",
    "    from utils.helper import get_labels\n",
    "    from utils.dataset import LoaderGenerator\n",
    "    labels = get_labels()\n",
    "    loaderGenerator = LoaderGenerator(labels, chinese2pinyin, k_size)\n",
    "    train_loader = loaderGenerator.dataloader(train_set, batch_size)\n",
    "    test_loader = loaderGenerator.dataloader(test_set, batch_size) # without backprop, can use larger batch\n",
    "    print('train_set:', len(train_set), 'test_set:',len(test_set))\n",
    "    steps = 10\n",
    "    for i_batch, sample_batched in enumerate(test_loader):\n",
    "        print(sample_batched['audio'].shape, sample_batched['target'].shape)\n",
    "        # for i in sample_batched['audio']:\n",
    "        #     print(i.shape)\n",
    "        if steps < 0:\n",
    "            break\n",
    "        steps -= 1"
   ]
  },
  {
   "cell_type": "code",
   "execution_count": null,
   "metadata": {},
   "outputs": [],
   "source": [
    "dataset = CvCorpus8Dataset('./data/cv-corpus-8.0-2022-01-19/zh-CN/')"
   ]
  },
  {
   "cell_type": "code",
   "execution_count": null,
   "metadata": {},
   "outputs": [
    {
     "data": {
      "text/plain": [
       "{'audio': tensor([[ 0.0000,  0.0000,  0.0000,  ..., -0.0020, -0.0029, -0.0024]]),\n",
       " 'text': '台湾北部地区家庭多以在农历年前时段包润饼则是在清明期间。'}"
      ]
     },
     "execution_count": 81,
     "metadata": {},
     "output_type": "execute_result"
    }
   ],
   "source": [
    "i=18\n",
    "torchaudio.save('./audio-temp.wav', dataset[i]['audio'], 16000)\n",
    "dataset[i]"
   ]
  },
  {
   "cell_type": "code",
   "execution_count": null,
   "metadata": {},
   "outputs": [],
   "source": []
  }
 ],
 "metadata": {
  "interpreter": {
   "hash": "e3322949f56cb4db99427e05ed2d4a87f0497ffa3e41dd81b99d577253bd3be5"
  },
  "kernelspec": {
   "display_name": "Python 3.10.4 (conda)",
   "language": "python",
   "name": "python3"
  },
  "language_info": {
   "codemirror_mode": {
    "name": "ipython",
    "version": 3
   },
   "file_extension": ".py",
   "mimetype": "text/x-python",
   "name": "python",
   "nbconvert_exporter": "python",
   "pygments_lexer": "ipython3",
   "version": "3.10.4"
  },
  "orig_nbformat": 4
 },
 "nbformat": 4,
 "nbformat_minor": 2
}
