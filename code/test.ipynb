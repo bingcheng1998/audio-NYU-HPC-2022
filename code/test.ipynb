{
 "cells": [
  {
   "cell_type": "code",
   "execution_count": null,
   "metadata": {},
   "outputs": [],
   "source": [
    "def chinese2pinyin(text):\n",
    "    pinyin = lazy_pinyin(text, strict=True,errors=lambda x: u'')\n",
    "    pinyin = [i for i in '|'.join(pinyin)]\n",
    "\n"
   ]
  },
  {
   "cell_type": "code",
   "execution_count": 10,
   "metadata": {},
   "outputs": [],
   "source": [
    "import os\n",
    "from numpy import dtype\n",
    "import torch\n",
    "from torch.utils.data import Dataset, DataLoader, random_split\n",
    "import torchaudio\n",
    "\n",
    "class AiShellDataset(Dataset):\n",
    "\n",
    "    def __init__(self, data_path, sample_rate=16000, transform=None):\n",
    "        transcript_file = data_path+'transcript/aishell_transcript_v0.8.txt'\n",
    "        self.transcript = self.gen_transcript(transcript_file)\n",
    "        self.wav_files = self.get_all_wav_files(data_path, self.transcript)\n",
    "        self.dataset_file_num = len(self.wav_files)\n",
    "        self.data_path = data_path\n",
    "        self.transform = transform\n",
    "        self.sample_rate = sample_rate\n",
    "        self.threshold = 120000 # to avoid GPU memory used out\n",
    "        self.batch_size = 80 # to avoid GPU memory used out\n",
    "        self.split_ratio = [1000, 1]\n",
    "\n",
    "    def __len__(self):\n",
    "        return self.dataset_file_num\n",
    "\n",
    "    def __getitem__(self, idx):\n",
    "        if torch.is_tensor(idx):\n",
    "            idx = idx.tolist()\n",
    "        if idx >= self.dataset_file_num:\n",
    "            return {'audio': None, 'text': None}\n",
    "        audio_name = self.wav_files[idx]\n",
    "        waveform, sample_rate = torchaudio.load(audio_name)\n",
    "        waveform = waveform\n",
    "        if sample_rate != self.sample_rate:\n",
    "            waveform = torchaudio.functional.resample(waveform, sample_rate, self.sample_rate)\n",
    "        dict_id = audio_name.rsplit('/',1)[-1].split('.')[0]\n",
    "        audio_content = self.transcript[dict_id]\n",
    "        sample = {'audio': waveform, 'text': audio_content}\n",
    "        if self.transform:\n",
    "            sample = self.transform(sample)\n",
    "        return sample\n",
    "\n",
    "    def parse_line(self, line):\n",
    "        id, text = line.split(' ', 1)\n",
    "        text = ''.join(text.split(' '))\n",
    "        return id, text\n",
    "\n",
    "    def gen_transcript(self, transcript_file):\n",
    "        transcript = {}\n",
    "        with open(transcript_file, 'r') as f:\n",
    "            content = f.read()\n",
    "            lines = content.split('\\n')[:-1]\n",
    "            for line in lines:\n",
    "                id, text = self.parse_line(line)\n",
    "                transcript[id] = text\n",
    "        return transcript\n",
    "\n",
    "    def get_all_wav_files(self, path, transcript):\n",
    "        folders = []\n",
    "        train = os.listdir(path+'wav/train/')\n",
    "        folders += [path+'wav/train/'+i for i in train]\n",
    "        dev = os.listdir(path+'wav/dev/')\n",
    "        folders += [path+'wav/dev/'+i for i in dev]\n",
    "        test = os.listdir(path+'wav/test/')\n",
    "        folders += [path+'wav/test/'+i for i in test]\n",
    "        files = []\n",
    "        for folder in folders:\n",
    "            files += [folder+'/'+i for i in os.listdir(folder) if i[:-4] in transcript]\n",
    "        return files\n",
    "    \n",
    "    def split(self, split_ratio=None, seed=42):\n",
    "        audio_dataset = self\n",
    "        size = len(audio_dataset)\n",
    "        my_split_ratio = self.split_ratio if split_ratio is None else split_ratio\n",
    "        lengths = [(i*size)//sum(my_split_ratio) for i in my_split_ratio]\n",
    "        lengths[-1] = size - sum(lengths[:-1])\n",
    "        split_dataset = random_split(audio_dataset, lengths, generator=torch.Generator().manual_seed(seed))\n",
    "        return split_dataset"
   ]
  },
  {
   "cell_type": "code",
   "execution_count": 11,
   "metadata": {},
   "outputs": [
    {
     "name": "stdout",
     "output_type": "stream",
     "text": [
      "train_set: 140895 test_set: 705\n",
      "torch.Size([8, 94301]) torch.Size([8, 82])\n",
      "torch.Size([7, 90778]) torch.Size([7, 75])\n",
      "torch.Size([8, 95557]) torch.Size([8, 90])\n",
      "torch.Size([8, 96123]) torch.Size([8, 89])\n",
      "torch.Size([8, 102204]) torch.Size([8, 95])\n",
      "torch.Size([6, 97673]) torch.Size([6, 93])\n",
      "torch.Size([8, 88088]) torch.Size([8, 76])\n",
      "torch.Size([8, 95365]) torch.Size([8, 75])\n",
      "torch.Size([7, 77399]) torch.Size([7, 67])\n",
      "torch.Size([8, 102859]) torch.Size([8, 73])\n",
      "torch.Size([8, 93783]) torch.Size([8, 78])\n",
      "torch.Size([8, 103609]) torch.Size([8, 82])\n"
     ]
    }
   ],
   "source": [
    "if __name__ == '__main__':\n",
    "    # dataset = AudioDataset('./data/ST-CMDS-20170001_1-OS/')\n",
    "    dataset = AiShellDataset('./data/data_aishell/')\n",
    "    batch_size = 8\n",
    "    train_set, test_set = dataset.split([1000, 5])\n",
    "    k_size = 5 # kernel size for audio encoder\n",
    "    from pypinyin import lazy_pinyin\n",
    "    def chinese2pinyin(text):\n",
    "        pinyin = lazy_pinyin(text, strict=True,errors=lambda x: u'')\n",
    "        pinyin = [i for i in '|'.join(pinyin)]\n",
    "        return pinyin\n",
    "    from utils.helper import get_labels\n",
    "    from utils.dataset import LoaderGenerator\n",
    "    labels = get_labels()\n",
    "    loaderGenerator = LoaderGenerator(labels, chinese2pinyin, k_size)\n",
    "    train_loader = loaderGenerator.dataloader(train_set, batch_size)\n",
    "    test_loader = loaderGenerator.dataloader(test_set, batch_size) # without backprop, can use larger batch\n",
    "    print('train_set:', len(train_set), 'test_set:',len(test_set))\n",
    "    steps = 10\n",
    "    for i_batch, sample_batched in enumerate(test_loader):\n",
    "        print(sample_batched['audio'].shape, sample_batched['target'].shape)\n",
    "        # for i in sample_batched['audio']:\n",
    "        #     print(i.shape)\n",
    "        if steps < 0:\n",
    "            break\n",
    "        steps -= 1"
   ]
  },
  {
   "cell_type": "code",
   "execution_count": 12,
   "metadata": {},
   "outputs": [],
   "source": [
    "dataset = AiShellDataset('./data/data_aishell/')\n",
    "lens = [dataset[i]['audio'].shape[-1] for i in range(500)]"
   ]
  },
  {
   "cell_type": "code",
   "execution_count": 13,
   "metadata": {},
   "outputs": [],
   "source": [
    "lens2 = [dataset[i+500]['audio'].shape[-1] for i in range(1000)]"
   ]
  },
  {
   "cell_type": "code",
   "execution_count": 14,
   "metadata": {},
   "outputs": [
    {
     "data": {
      "image/png": "[encoded data removed]",
      "text/plain": [
       "<Figure size 432x288 with 1 Axes>"
      ]
     },
     "metadata": {
      "needs_background": "light"
     },
     "output_type": "display_data"
    }
   ],
   "source": [
    "import matplotlib.pyplot as plt\n",
    "plt.hist(lens+lens2, bins = 50)\n",
    "plt.show()"
   ]
  },
  {
   "cell_type": "code",
   "execution_count": 15,
   "metadata": {},
   "outputs": [],
   "source": [
    "import json"
   ]
  },
  {
   "cell_type": "code",
   "execution_count": 34,
   "metadata": {},
   "outputs": [],
   "source": [
    "import os\n",
    "from numpy import dtype\n",
    "import torch\n",
    "from torch.utils.data import Dataset, DataLoader, random_split\n",
    "import torchaudio\n",
    "\n",
    "class PrimeWordsDataset(Dataset):\n",
    "\n",
    "    def __init__(self, data_path, sample_rate=16000, transform=None):\n",
    "        with open(data_path+'set1_transcript.json') as f:\n",
    "            json_data = json.load(f)\n",
    "        self.json_data = json_data\n",
    "        # self.wav_files = self.get_all_wav_files(data_path, self.transcript)\n",
    "        self.dataset_file_num = len(self.json_data)\n",
    "        self.data_path = data_path\n",
    "        self.transform = transform\n",
    "        self.sample_rate = sample_rate\n",
    "        self.threshold = 220000 # to avoid GPU memory used out\n",
    "        self.batch_size = 40 # to avoid GPU memory used out\n",
    "        self.split_ratio = [1000, 2]\n",
    "\n",
    "    def __len__(self):\n",
    "        return self.dataset_file_num\n",
    "\n",
    "    def __getitem__(self, idx):\n",
    "        if torch.is_tensor(idx):\n",
    "            idx = idx.tolist()\n",
    "        if idx >= self.dataset_file_num:\n",
    "            return {'audio': None, 'text': None}\n",
    "        audio_file, audio_content = self.parse_line(self.json_data[idx])\n",
    "        waveform, sample_rate = torchaudio.load(self.get_wav(audio_file))\n",
    "        waveform = waveform\n",
    "        if sample_rate != self.sample_rate:\n",
    "            waveform = torchaudio.functional.resample(waveform, sample_rate, self.sample_rate)\n",
    "        sample = {'audio': waveform, 'text': audio_content}\n",
    "        if self.transform:\n",
    "            sample = self.transform(sample)\n",
    "        return sample\n",
    "\n",
    "    def parse_line(self, line):\n",
    "        return line['file'], line['text']\n",
    "\n",
    "    def get_wav(self, file_name):\n",
    "        path = self.data_path+'audio_files/'+file_name[0]+'/'+file_name[:2]+'/'+file_name\n",
    "        return path\n",
    "\n",
    "    def split(self, split_ratio=None, seed=42):\n",
    "        audio_dataset = self\n",
    "        size = len(audio_dataset)\n",
    "        my_split_ratio = self.split_ratio if split_ratio is None else split_ratio\n",
    "        lengths = [(i*size)//sum(my_split_ratio) for i in my_split_ratio]\n",
    "        lengths[-1] = size - sum(lengths[:-1])\n",
    "        split_dataset = random_split(audio_dataset, lengths, generator=torch.Generator().manual_seed(seed))\n",
    "        return split_dataset"
   ]
  },
  {
   "cell_type": "code",
   "execution_count": 35,
   "metadata": {},
   "outputs": [
    {
     "name": "stdout",
     "output_type": "stream",
     "text": [
      "train_set: 50648 test_set: 254\n",
      "torch.Size([8, 176636]) torch.Size([8, 102])\n",
      "torch.Size([8, 145909]) torch.Size([8, 94])\n",
      "torch.Size([8, 139198]) torch.Size([8, 92])\n",
      "torch.Size([8, 140152]) torch.Size([8, 94])\n",
      "torch.Size([8, 151359]) torch.Size([8, 98])\n",
      "torch.Size([8, 130548]) torch.Size([8, 97])\n",
      "torch.Size([8, 182392]) torch.Size([8, 108])\n",
      "torch.Size([7, 152315]) torch.Size([7, 101])\n",
      "torch.Size([8, 176638]) torch.Size([8, 92])\n",
      "torch.Size([7, 161280]) torch.Size([7, 88])\n",
      "torch.Size([8, 168951]) torch.Size([8, 112])\n",
      "torch.Size([8, 169595]) torch.Size([8, 106])\n"
     ]
    }
   ],
   "source": [
    "if __name__ == '__main__':\n",
    "    dataset = PrimeWordsDataset('./data/primewords_md_2018_set1/')\n",
    "    batch_size = 8\n",
    "    train_set, test_set = dataset.split([1000, 5])\n",
    "    k_size = 5 # kernel size for audio encoder\n",
    "    from pypinyin import lazy_pinyin\n",
    "    def chinese2pinyin(text):\n",
    "        pinyin = lazy_pinyin(text, strict=True,errors=lambda x: u'')\n",
    "        pinyin = [i for i in '|'.join(pinyin)]\n",
    "        return pinyin\n",
    "    from utils.helper import get_labels\n",
    "    from utils.dataset import LoaderGenerator\n",
    "    labels = get_labels()\n",
    "    loaderGenerator = LoaderGenerator(labels, chinese2pinyin, k_size)\n",
    "    train_loader = loaderGenerator.dataloader(train_set, batch_size)\n",
    "    test_loader = loaderGenerator.dataloader(test_set, batch_size) # without backprop, can use larger batch\n",
    "    print('train_set:', len(train_set), 'test_set:',len(test_set))\n",
    "    steps = 10\n",
    "    for i_batch, sample_batched in enumerate(test_loader):\n",
    "        print(sample_batched['audio'].shape, sample_batched['target'].shape)\n",
    "        # for i in sample_batched['audio']:\n",
    "        #     print(i.shape)\n",
    "        if steps < 0:\n",
    "            break\n",
    "        steps -= 1"
   ]
  },
  {
   "cell_type": "code",
   "execution_count": 27,
   "metadata": {},
   "outputs": [],
   "source": [
    "dataset = PrimeWordsDataset('./data/primewords_md_2018_set1/')\n",
    "lens = [dataset[i]['audio'].shape[-1] for i in range(500)]"
   ]
  },
  {
   "cell_type": "code",
   "execution_count": 51,
   "metadata": {},
   "outputs": [
    {
     "data": {
      "text/plain": [
       "{'audio': tensor([[0.0000, 0.0000, 0.0000,  ..., 0.0003, 0.0002, 0.0001]]),\n",
       " 'text': '两碑尺寸相同 规格一致 均高六点八七米 分别由螭龙碑首'}"
      ]
     },
     "execution_count": 51,
     "metadata": {},
     "output_type": "execute_result"
    }
   ],
   "source": [
    "i=15\n",
    "torchaudio.save('./audio-temp.wav', dataset[i]['audio'], 16000)\n",
    "dataset[i]"
   ]
  },
  {
   "cell_type": "code",
   "execution_count": 28,
   "metadata": {},
   "outputs": [],
   "source": [
    "lens2 = [dataset[i+500]['audio'].shape[-1] for i in range(1000)]"
   ]
  },
  {
   "cell_type": "code",
   "execution_count": 29,
   "metadata": {},
   "outputs": [
    {
     "data": {
      "image/png": "[encoded data removed]",
      "text/plain": [
       "<Figure size 432x288 with 1 Axes>"
      ]
     },
     "metadata": {
      "needs_background": "light"
     },
     "output_type": "display_data"
    }
   ],
   "source": [
    "import matplotlib.pyplot as plt\n",
    "plt.hist(lens+lens2, bins = 50)\n",
    "plt.show()"
   ]
  },
  {
   "cell_type": "code",
   "execution_count": 65,
   "metadata": {},
   "outputs": [],
   "source": [
    "import pandas as pd\n",
    "data_path = './data/zhspeechocean/'\n",
    "\n",
    "\n",
    "class SpeechOceanDataset(Dataset):\n",
    "    def __init__(self, data_path, sample_rate=16000, transform=None):\n",
    "        meta_data = data_path + 'metadata.csv'\n",
    "        self.meta_data = pd.read_csv(meta_data, sep='\\t')\n",
    "        self.dataset_file_num = len(self.meta_data)\n",
    "        self.data_path = data_path\n",
    "        self.transform = transform\n",
    "        self.sample_rate = sample_rate\n",
    "        self.threshold = 90000 # to avoid GPU memory used out\n",
    "        self.batch_size = 128 # to avoid GPU memory used out\n",
    "        self.split_ratio = [100, 5]\n",
    "\n",
    "    def __len__(self):\n",
    "        return self.dataset_file_num\n",
    "\n",
    "    def __getitem__(self, idx):\n",
    "        if torch.is_tensor(idx):\n",
    "            idx = idx.tolist()\n",
    "        if idx >= self.dataset_file_num:\n",
    "            return {'audio': None, 'text': None}\n",
    "        audio_name = os.path.join(self.data_path,\n",
    "                                  self.meta_data.iloc[idx, 0])\n",
    "        waveform, sample_rate = torchaudio.load(audio_name)\n",
    "        audio_content = self.meta_data.iloc[idx, 1]\n",
    "        if sample_rate != self.sample_rate:\n",
    "            waveform = torchaudio.functional.resample(waveform, sample_rate, self.sample_rate)\n",
    "        sample = {'audio': waveform, 'text': audio_content}\n",
    "        if self.transform:\n",
    "            sample = self.transform(sample)\n",
    "        return sample\n",
    "\n",
    "    def split(self, split_ratio=None, seed=42):\n",
    "        audio_dataset = self\n",
    "        size = len(audio_dataset)\n",
    "        my_split_ratio = self.split_ratio if split_ratio is None else split_ratio\n",
    "        lengths = [(i*size)//sum(my_split_ratio) for i in my_split_ratio]\n",
    "        lengths[-1] = size - sum(lengths[:-1])\n",
    "        split_dataset = random_split(audio_dataset, lengths, generator=torch.Generator().manual_seed(seed))\n",
    "        return split_dataset"
   ]
  },
  {
   "cell_type": "code",
   "execution_count": 66,
   "metadata": {},
   "outputs": [
    {
     "name": "stdout",
     "output_type": "stream",
     "text": [
      "train_set: 2285 test_set: 115\n",
      "torch.Size([7, 76030]) torch.Size([7, 66])\n",
      "torch.Size([8, 85818]) torch.Size([8, 66])\n",
      "torch.Size([8, 80063]) torch.Size([8, 89])\n",
      "torch.Size([7, 56436]) torch.Size([7, 54])\n",
      "torch.Size([8, 76025]) torch.Size([8, 67])\n",
      "torch.Size([8, 79484]) torch.Size([8, 68])\n",
      "torch.Size([8, 65661]) torch.Size([8, 76])\n",
      "torch.Size([8, 67958]) torch.Size([8, 75])\n",
      "torch.Size([8, 59323]) torch.Size([8, 70])\n",
      "torch.Size([8, 86392]) torch.Size([8, 66])\n",
      "torch.Size([8, 55872]) torch.Size([8, 50])\n",
      "torch.Size([8, 52413]) torch.Size([8, 47])\n"
     ]
    }
   ],
   "source": [
    "if __name__ == '__main__':\n",
    "    dataset = SpeechOceanDataset('./data/zhspeechocean/')\n",
    "    batch_size = 8\n",
    "    train_set, test_set = dataset.split([100, 5])\n",
    "    k_size = 5 # kernel size for audio encoder\n",
    "    from pypinyin import lazy_pinyin\n",
    "    def chinese2pinyin(text):\n",
    "        pinyin = lazy_pinyin(text, strict=True,errors=lambda x: u'')\n",
    "        pinyin = [i for i in '|'.join(pinyin)]\n",
    "        return pinyin\n",
    "    from utils.helper import get_labels\n",
    "    from utils.dataset import LoaderGenerator\n",
    "    labels = get_labels()\n",
    "    loaderGenerator = LoaderGenerator(labels, chinese2pinyin, k_size)\n",
    "    train_loader = loaderGenerator.dataloader(train_set, batch_size)\n",
    "    test_loader = loaderGenerator.dataloader(test_set, batch_size) # without backprop, can use larger batch\n",
    "    print('train_set:', len(train_set), 'test_set:',len(test_set))\n",
    "    steps = 10\n",
    "    for i_batch, sample_batched in enumerate(test_loader):\n",
    "        print(sample_batched['audio'].shape, sample_batched['target'].shape)\n",
    "        # for i in sample_batched['audio']:\n",
    "        #     print(i.shape)\n",
    "        if steps < 0:\n",
    "            break\n",
    "        steps -= 1"
   ]
  },
  {
   "cell_type": "code",
   "execution_count": 70,
   "metadata": {},
   "outputs": [],
   "source": [
    "dataset = SpeechOceanDataset('./data/zhspeechocean/')\n",
    "lens = [dataset[i]['audio'].shape[-1] for i in range(2000)]"
   ]
  },
  {
   "cell_type": "code",
   "execution_count": 71,
   "metadata": {},
   "outputs": [
    {
     "data": {
      "image/png": "[encoded data removed]",
      "text/plain": [
       "<Figure size 432x288 with 1 Axes>"
      ]
     },
     "metadata": {
      "needs_background": "light"
     },
     "output_type": "display_data"
    }
   ],
   "source": [
    "import matplotlib.pyplot as plt\n",
    "plt.hist(lens, bins = 50)\n",
    "plt.show()"
   ]
  },
  {
   "cell_type": "code",
   "execution_count": 72,
   "metadata": {},
   "outputs": [
    {
     "data": {
      "text/plain": [
       "{'audio': tensor([[ 0.0000e+00,  0.0000e+00,  0.0000e+00,  ..., -2.2709e-05,\n",
       "          -7.3612e-05, -1.0139e-04]]),\n",
       " 'text': '你这个周末有时间吗？你陪我去看看手机行吗？'}"
      ]
     },
     "execution_count": 72,
     "metadata": {},
     "output_type": "execute_result"
    }
   ],
   "source": [
    "i=15\n",
    "torchaudio.save('./audio-temp.wav', dataset[i]['audio'], 16000)\n",
    "dataset[i]"
   ]
  },
  {
   "cell_type": "code",
   "execution_count": 74,
   "metadata": {},
   "outputs": [
    {
     "data": {
      "text/plain": [
       "'ni|zhe|ge|zhou|mo|you|shi|jian|ma|ni|pei|wo|qu|kan|kan|shou|ji|xing|ma'"
      ]
     },
     "execution_count": 74,
     "metadata": {},
     "output_type": "execute_result"
    }
   ],
   "source": [
    "def chinese2pinyin(text):\n",
    "    pinyin = lazy_pinyin(text, strict=True,errors=lambda x: u'')\n",
    "    pinyin = [i for i in '|'.join(pinyin)]\n",
    "    return pinyin\n",
    "''.join(chinese2pinyin('你这个周末有时间吗？你陪我去看看手机行吗？'))"
   ]
  },
  {
   "cell_type": "code",
   "execution_count": 75,
   "metadata": {},
   "outputs": [],
   "source": [
    "class CvCorpus8Dataset(Dataset):\n",
    "\n",
    "    def __init__(self, data_path, sample_rate=16000, transform=None):\n",
    "        df1 = pd.read_csv(data_path+'validated.tsv',sep='\\t')[['path', 'sentence']]\n",
    "        # df2 = pd.read_csv(data_path+'invalidated.tsv',sep='\\t')[['path', 'sentence']]\n",
    "        # df3 = pd.read_csv(data_path+'other.tsv',sep='\\t')[['path', 'sentence']]\n",
    "        # df = pd.concat([df1, df2, df3])\n",
    "        df = df1\n",
    "        audio_path = df['path'].to_list()\n",
    "        sentence_text = df['sentence'].to_list()\n",
    "        assert len(audio_path) == len(sentence_text)\n",
    "        self.audio_path = audio_path\n",
    "        self.sentence_text = sentence_text\n",
    "        self.size = len(audio_path)\n",
    "        self.data_path = data_path\n",
    "        self.transform = transform\n",
    "        self.sample_rate = sample_rate\n",
    "        self.threshold = 170000 # to avoid GPU memory used out\n",
    "        self.batch_size = 64 # to avoid GPU memory used out\n",
    "        self.split_ratio = [100, 1]\n",
    "\n",
    "    def __len__(self):\n",
    "        return len(self.audio_path)\n",
    "\n",
    "    def __getitem__(self, idx):\n",
    "        if torch.is_tensor(idx):\n",
    "            idx = idx.tolist()\n",
    "\n",
    "        audio_name = self.get_audio(idx)\n",
    "        waveform, sample_rate = torchaudio.load(audio_name)\n",
    "        waveform = waveform\n",
    "        if sample_rate != self.sample_rate:\n",
    "            waveform = torchaudio.functional.resample(waveform, sample_rate, self.sample_rate)\n",
    "        audio_content = self.get_text(idx)\n",
    "        sample = {'audio': waveform, 'text': audio_content}\n",
    "        if self.transform:\n",
    "            sample = self.transform(sample)\n",
    "        return sample\n",
    "\n",
    "    def get_audio(self, x): \n",
    "        return self.data_path+'clips/'+self.audio_path[x] if x < len(self) else None\n",
    "        \n",
    "    def get_text(self, x): \n",
    "        return self.sentence_text[x] if x < len(self) else None\n",
    "    \n",
    "    def split(self, split_ratio=None, seed=42):\n",
    "        audio_dataset = self\n",
    "        size = len(audio_dataset)\n",
    "        my_split_ratio = self.split_ratio if split_ratio is None else split_ratio\n",
    "        lengths = [(i*size)//sum(my_split_ratio) for i in my_split_ratio]\n",
    "        lengths[-1] = size - sum(lengths[:-1])\n",
    "        split_dataset = random_split(audio_dataset, lengths, generator=torch.Generator().manual_seed(seed))\n",
    "        return split_dataset"
   ]
  },
  {
   "cell_type": "code",
   "execution_count": 76,
   "metadata": {},
   "outputs": [
    {
     "name": "stdout",
     "output_type": "stream",
     "text": [
      "train_set: 44517 test_set: 2226\n",
      "torch.Size([8, 124029]) torch.Size([8, 71])\n",
      "torch.Size([8, 155901]) torch.Size([8, 126])\n",
      "torch.Size([8, 148988]) torch.Size([8, 128])\n",
      "torch.Size([8, 122877]) torch.Size([8, 110])\n",
      "torch.Size([8, 142838]) torch.Size([8, 107])\n",
      "torch.Size([8, 153984]) torch.Size([8, 131])\n",
      "torch.Size([8, 142079]) torch.Size([8, 121])\n",
      "torch.Size([8, 155904]) torch.Size([8, 90])\n",
      "torch.Size([8, 131712]) torch.Size([8, 93])\n",
      "torch.Size([8, 101753]) torch.Size([8, 94])\n",
      "torch.Size([8, 97920]) torch.Size([8, 89])\n",
      "torch.Size([8, 165877]) torch.Size([8, 140])\n"
     ]
    }
   ],
   "source": [
    "if __name__ == '__main__':\n",
    "    dataset = CvCorpus8Dataset('./data/cv-corpus-8.0-2022-01-19/zh-CN/')\n",
    "    batch_size = 8\n",
    "    train_set, test_set = dataset.split([100, 5])\n",
    "    k_size = 5 # kernel size for audio encoder\n",
    "    from pypinyin import lazy_pinyin\n",
    "    def chinese2pinyin(text):\n",
    "        pinyin = lazy_pinyin(text, strict=True,errors=lambda x: u'')\n",
    "        pinyin = [i for i in '|'.join(pinyin)]\n",
    "        return pinyin\n",
    "    from utils.helper import get_labels\n",
    "    from utils.dataset import LoaderGenerator\n",
    "    labels = get_labels()\n",
    "    loaderGenerator = LoaderGenerator(labels, chinese2pinyin, k_size)\n",
    "    train_loader = loaderGenerator.dataloader(train_set, batch_size)\n",
    "    test_loader = loaderGenerator.dataloader(test_set, batch_size) # without backprop, can use larger batch\n",
    "    print('train_set:', len(train_set), 'test_set:',len(test_set))\n",
    "    steps = 10\n",
    "    for i_batch, sample_batched in enumerate(test_loader):\n",
    "        print(sample_batched['audio'].shape, sample_batched['target'].shape)\n",
    "        # for i in sample_batched['audio']:\n",
    "        #     print(i.shape)\n",
    "        if steps < 0:\n",
    "            break\n",
    "        steps -= 1"
   ]
  },
  {
   "cell_type": "code",
   "execution_count": 77,
   "metadata": {},
   "outputs": [],
   "source": [
    "dataset = CvCorpus8Dataset('./data/cv-corpus-8.0-2022-01-19/zh-CN/')"
   ]
  },
  {
   "cell_type": "code",
   "execution_count": 81,
   "metadata": {},
   "outputs": [
    {
     "data": {
      "text/plain": [
       "{'audio': tensor([[ 0.0000,  0.0000,  0.0000,  ..., -0.0020, -0.0029, -0.0024]]),\n",
       " 'text': '台湾北部地区家庭多以在农历年前时段包润饼则是在清明期间。'}"
      ]
     },
     "execution_count": 81,
     "metadata": {},
     "output_type": "execute_result"
    }
   ],
   "source": [
    "i=18\n",
    "torchaudio.save('./audio-temp.wav', dataset[i]['audio'], 16000)\n",
    "dataset[i]"
   ]
  },
  {
   "cell_type": "code",
   "execution_count": null,
   "metadata": {},
   "outputs": [],
   "source": []
  }
 ],
 "metadata": {
  "interpreter": {
   "hash": "e3322949f56cb4db99427e05ed2d4a87f0497ffa3e41dd81b99d577253bd3be5"
  },
  "kernelspec": {
   "display_name": "Python 3.10.4 (conda)",
   "language": "python",
   "name": "python3"
  },
  "language_info": {
   "codemirror_mode": {
    "name": "ipython",
    "version": 3
   },
   "file_extension": ".py",
   "mimetype": "text/x-python",
   "name": "python",
   "nbconvert_exporter": "python",
   "pygments_lexer": "ipython3",
   "version": "3.10.4"
  },
  "orig_nbformat": 4
 },
 "nbformat": 4,
 "nbformat_minor": 2
}
