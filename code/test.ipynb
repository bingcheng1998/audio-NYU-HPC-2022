{
 "cells": [
  {
   "cell_type": "code",
   "execution_count": 1,
   "metadata": {},
   "outputs": [],
   "source": [
    "# def save_log(file_name, log, mode='a', path = './checkpoint/'):\n",
    "#     with open(path+file_name, mode) as f:\n",
    "#         if mode == 'a':\n",
    "#             f.write('\\n')\n",
    "#         if type(log) is str:\n",
    "#             f.write(log)\n",
    "#             print(log)\n",
    "#         else:\n",
    "#             log = [str(l) for l in log]\n",
    "#             f.write(' '.join(log))\n",
    "#             print(' '.join(log))\n",
    "\n",
    "# save_log('test.txt', ['I like',100,'l'], 'a')"
   ]
  },
  {
   "cell_type": "code",
   "execution_count": 2,
   "metadata": {},
   "outputs": [],
   "source": [
    "import os\n",
    "import torch\n",
    "import torch.nn as nn\n",
    "from torch.utils.data import Dataset, DataLoader, random_split\n",
    "import torchaudio\n",
    "from pypinyin import lazy_pinyin, Style"
   ]
  },
  {
   "cell_type": "code",
   "execution_count": 3,
   "metadata": {},
   "outputs": [],
   "source": [
    "bundle = torchaudio.pipelines.WAV2VEC2_XLSR53\n",
    "wave2vec_model = bundle.get_model()"
   ]
  },
  {
   "cell_type": "code",
   "execution_count": 4,
   "metadata": {},
   "outputs": [],
   "source": [
    "# wave2vec_model"
   ]
  },
  {
   "cell_type": "code",
   "execution_count": 5,
   "metadata": {},
   "outputs": [],
   "source": [
    "k_size = wave2vec_model.feature_extractor.conv_layers[0].conv.kernel_size[0]"
   ]
  },
  {
   "cell_type": "code",
   "execution_count": 6,
   "metadata": {},
   "outputs": [
    {
     "data": {
      "text/plain": [
       "1024"
      ]
     },
     "execution_count": 6,
     "metadata": {},
     "output_type": "execute_result"
    }
   ],
   "source": [
    "wave2vec_model.encoder.transformer.layers[-1].final_layer_norm.normalized_shape[0]"
   ]
  },
  {
   "cell_type": "code",
   "execution_count": 16,
   "metadata": {},
   "outputs": [],
   "source": [
    "class ChineseStt(torch.nn.Module):\n",
    "    def __init__(self, wave2vec_model, out_features):\n",
    "        super(ChineseStt, self).__init__()\n",
    "        self.feature_extractor = wave2vec_model.feature_extractor\n",
    "        self.encoder = wave2vec_model.encoder\n",
    "        in_features = wave2vec_model.encoder.transformer.layers[-1].final_layer_norm.normalized_shape[0]\n",
    "        self.aux = nn.Linear(in_features, out_features, bias=True)\n",
    "\n",
    "    def forward(self, x, lengths=None):\n",
    "        x, lengths = self.feature_extractor(x, lengths)\n",
    "        x = self.encoder(x, lengths)\n",
    "        x = self.aux(x)\n",
    "        return x, lengths\n",
    "\n",
    "chineseStt = ChineseStt(wave2vec_model, 10)"
   ]
  },
  {
   "cell_type": "code",
   "execution_count": 17,
   "metadata": {},
   "outputs": [],
   "source": [
    "import requests\n",
    "SPEECH_URL = \"https://download.pytorch.org/torchaudio/tutorial-assets/Lab41-SRI-VOiCES-src-sp0307-ch127535-sg0042.wav\"\n",
    "SPEECH_FILE = \"_assets/speech.wav\"\n",
    "\n",
    "if not os.path.exists(SPEECH_FILE):\n",
    "    os.makedirs(\"_assets\", exist_ok=True)\n",
    "    with open(SPEECH_FILE, \"wb\") as file:\n",
    "        file.write(requests.get(SPEECH_URL).content)"
   ]
  },
  {
   "cell_type": "code",
   "execution_count": 18,
   "metadata": {},
   "outputs": [
    {
     "name": "stdout",
     "output_type": "stream",
     "text": [
      "torch.Size([1, 54400])\n"
     ]
    }
   ],
   "source": [
    "\n",
    "with torch.inference_mode():\n",
    "    waveform, _ = torchaudio.load(SPEECH_FILE)\n",
    "    print(waveform.shape)\n",
    "    emissions, _ = chineseStt(waveform)\n",
    "    emissions = torch.log_softmax(emissions, dim=-1)\n",
    "\n",
    "emission = emissions[0].cpu().detach()"
   ]
  },
  {
   "cell_type": "code",
   "execution_count": 26,
   "metadata": {},
   "outputs": [],
   "source": [
    "from pypinyin import lazy_pinyin, Style\n",
    "\n",
    "\n",
    "def chinese2pinyin(text):\n",
    "    initials = lazy_pinyin(text, strict=True, style=Style.INITIALS, errors=lambda x: u'')\n",
    "    finals = lazy_pinyin(text, strict=True, style=Style.FINALS, errors=lambda x: u'')\n",
    "    pinyin = ''\n",
    "    for i in range(len(finals)):\n",
    "        pinyin+='|'\n",
    "        if (initials[i] == '-'):\n",
    "            continue\n",
    "        pinyin+=initials[i]\n",
    "        pinyin+=finals[i]\n",
    "        if finals[i] == '':\n",
    "            pinyin+='n'\n",
    "    if pinyin[-1] == '|':\n",
    "        pinyin = pinyin[:-1]\n",
    "    return pinyin[1:].lower().replace('w','u')"
   ]
  },
  {
   "cell_type": "code",
   "execution_count": 41,
   "metadata": {},
   "outputs": [],
   "source": [
    "import sys\n",
    "importlib.reload(sys.modules['utils.dataset'])\n",
    "from utils.dataset import AudioDataset, LoaderGenerator\n",
    "import importlib\n"
   ]
  },
  {
   "cell_type": "code",
   "execution_count": null,
   "metadata": {},
   "outputs": [],
   "source": [
    "from utils.helper import get_labels\n",
    "labels = get_labels()"
   ]
  },
  {
   "cell_type": "code",
   "execution_count": 42,
   "metadata": {},
   "outputs": [
    {
     "name": "stdout",
     "output_type": "stream",
     "text": [
      "82080 20520\n",
      "10260 2565\n",
      "torch.Size([8, 84119]) torch.Size([8, 59])\n"
     ]
    }
   ],
   "source": [
    "dataset = AudioDataset('./data/ST-CMDS-20170001_1-OS/')\n",
    "train_set, test_set = dataset.split([8, 2])\n",
    "loaderGenerator = LoaderGenerator(labels, chinese2pinyin, k_size)\n",
    "train_loader = loaderGenerator.dataloader(train_set, 8)\n",
    "test_loader = loaderGenerator.dataloader(test_set, 8)\n",
    "print(len(a), len(b))\n",
    "for data in a:\n",
    "    print(data['audio'].shape, data['target'].shape)\n",
    "    break"
   ]
  },
  {
   "cell_type": "code",
   "execution_count": 43,
   "metadata": {},
   "outputs": [],
   "source": [
    "from utils.textDecoder import GreedyCTCDecoder, NaiveDecoder"
   ]
  },
  {
   "cell_type": "code",
   "execution_count": 19,
   "metadata": {},
   "outputs": [
    {
     "data": {
      "text/plain": [
       "(82080, 20520)"
      ]
     },
     "execution_count": 19,
     "metadata": {},
     "output_type": "execute_result"
    }
   ],
   "source": [
    "len(a), len(b)"
   ]
  },
  {
   "cell_type": "code",
   "execution_count": 48,
   "metadata": {},
   "outputs": [
    {
     "data": {
      "text/plain": [
       "2.0"
      ]
     },
     "execution_count": 48,
     "metadata": {},
     "output_type": "execute_result"
    }
   ],
   "source": [
    "mean = lambda x: sum(x)/len(x)\n",
    "mean([1,2,3])"
   ]
  },
  {
   "cell_type": "code",
   "execution_count": null,
   "metadata": {},
   "outputs": [],
   "source": []
  }
 ],
 "metadata": {
  "interpreter": {
   "hash": "e3322949f56cb4db99427e05ed2d4a87f0497ffa3e41dd81b99d577253bd3be5"
  },
  "kernelspec": {
   "display_name": "Python 3.10.4 (conda)",
   "language": "python",
   "name": "python3"
  },
  "language_info": {
   "codemirror_mode": {
    "name": "ipython",
    "version": 3
   },
   "file_extension": ".py",
   "mimetype": "text/x-python",
   "name": "python",
   "nbconvert_exporter": "python",
   "pygments_lexer": "ipython3",
   "version": "3.10.4"
  },
  "orig_nbformat": 4
 },
 "nbformat": 4,
 "nbformat_minor": 2
}
