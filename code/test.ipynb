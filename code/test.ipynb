{
 "cells": [
  {
   "cell_type": "code",
   "execution_count": 45,
   "metadata": {},
   "outputs": [],
   "source": [
    "import torch\n",
    "import torchaudio\n",
    "import torch.nn as nn\n",
    "from pypinyin import lazy_pinyin\n",
    "import matplotlib\n",
    "import matplotlib.pyplot as plt\n",
    "from dataclasses import dataclass\n",
    "# import os\n",
    "# from torch.utils.data import Dataset, DataLoader, random_split"
   ]
  },
  {
   "cell_type": "code",
   "execution_count": 2,
   "metadata": {},
   "outputs": [
    {
     "data": {
      "text/plain": [
       "'n,v,e,q,v,u,en,n,h,ao,u,n,i,ou,i,i,a,i,ou,v,an,er,ing,in,u,eng'"
      ]
     },
     "execution_count": 2,
     "metadata": {},
     "output_type": "execute_result"
    }
   ],
   "source": [
    "from pypinyin import Style, lazy_pinyin\n",
    "\n",
    "\n",
    "initial_table = ['b', 'p', 'm', 'f',\n",
    "                'd', 't', 'n', 'l',\n",
    "                'g', 'k', 'h',\n",
    "                'j', 'q', 'x',\n",
    "                'zh', 'ch', 'sh', 'r', 'z', 'c', 's']\n",
    "\n",
    "finals_table = [['i', 'u', 'v'], # 可以与下面的配成 iao, ue\n",
    "                ['a', 'o', 'e', \n",
    "                'ai', 'ei', 'ao', 'ou', \n",
    "                'an', 'en', 'on', 'in', 'vn', 'un',\n",
    "                'ang', 'eng', 'ong', 'ing', 'er']]\n",
    "\n",
    "def get_labels():\n",
    "    return ['-', '|'] + initial_table + finals_table[0] + finals_table[1]\n",
    "\n",
    "def chinese2pinyin(text):\n",
    "    initials = lazy_pinyin(text, strict=True, style=Style.INITIALS, errors=lambda x: u'')\n",
    "    finals = lazy_pinyin(text, strict=True, style=Style.FINALS, errors=lambda x: u'')\n",
    "    pinyin = []\n",
    "    for i in range(len(finals)):\n",
    "        # pinyin+=['|']\n",
    "        if initials[i] != '':\n",
    "            pinyin+=[initials[i]]\n",
    "        if finals[i] != '':\n",
    "            if len(finals[i])>1 and finals[i][0] in finals_table[0] and finals[i][1]!='n':\n",
    "                pinyin+=[finals[i][0], finals[i][1:]]\n",
    "            else: pinyin+=[finals[i]]\n",
    "        if initials[i] == '' and finals[i] == '':\n",
    "            pinyin+=['n']\n",
    "    # if pinyin[-1] == '|':\n",
    "    #     pinyin = pinyin[:-1]\n",
    "    return pinyin[:]\n",
    "\n",
    "','.join(chinese2pinyin('虐去无，恩，嗯好乌牛一呀忧元儿赢因翁'))"
   ]
  },
  {
   "cell_type": "code",
   "execution_count": 3,
   "metadata": {},
   "outputs": [],
   "source": [
    "from utils.chinese2pinyin2 import chinese2pinyin, get_labels"
   ]
  },
  {
   "cell_type": "code",
   "execution_count": 7,
   "metadata": {},
   "outputs": [],
   "source": [
    "from utils.dataset import SpeechOceanDataset, STCMDSDataset\n",
    "N_MELS = 80\n",
    "def audio_transform(sample, sample_rate):\n",
    "    audio = sample['audio']\n",
    "    text = sample['text']\n",
    "    mel_transform = torchaudio.transforms.MelSpectrogram(sample_rate=sample_rate,\\\n",
    "        n_fft=1024,power=1,hop_length=256,win_length=1024, n_mels=N_MELS, \\\n",
    "            f_min=0.0, f_max=8000.0, mel_scale=\"slaney\", norm=\"slaney\")\n",
    "    # mel_transform = torchaudio.transforms.MelSpectrogram(\n",
    "    #     sample_rate=16000,           ### 22050, 48000\n",
    "    #     n_fft=1024,\n",
    "    #     hop_length=256,\n",
    "    #     n_mels=N_MELS                ### 64,    80\n",
    "    # )\n",
    "    # def chinese2pinyin(text):\n",
    "    #     pinyin = lazy_pinyin(text, strict=True,errors=lambda x: u'')\n",
    "    #     pinyin = [i for i in '|'.join(pinyin)]\n",
    "    #     return pinyin\n",
    "    # safe_log = lambda x: torch.log(x+2**(-15))\n",
    "    return {'audio':mel_transform(audio),\n",
    "            'text': chinese2pinyin(text)}\n",
    "\n",
    "dataset = SpeechOceanDataset('../data/zhspeechocean/', transform=audio_transform)\n",
    "# dataset = STCMDSDataset('./data/ST-CMDS-20170001_1-OS/', transform=audio_transform)"
   ]
  },
  {
   "cell_type": "code",
   "execution_count": null,
   "metadata": {},
   "outputs": [],
   "source": [
    "# from model.quartznet import QuartzNet\n",
    "# from model.config import quartznet5x5_config\n",
    "# from utils.helper import get_labels\n",
    "\n",
    "# model = QuartzNet(quartznet5x5_config, feat_in = 80, vocab_size=len(get_labels()))\n",
    "# out, length = model(torch.zeros([2,80,581]), torch.tensor([581]))\n",
    "# # model.encoder[0].net[0][0].stride[0]\n",
    "# model.eval()\n",
    "# out.shape, length"
   ]
  },
  {
   "cell_type": "code",
   "execution_count": 8,
   "metadata": {},
   "outputs": [],
   "source": [
    "%load_ext autoreload\n",
    "%autoreload 2"
   ]
  },
  {
   "cell_type": "code",
   "execution_count": 9,
   "metadata": {},
   "outputs": [
    {
     "data": {
      "text/plain": [
       "(torch.Size([2, 28, 291]), tensor([291], dtype=torch.int32))"
      ]
     },
     "execution_count": 9,
     "metadata": {},
     "output_type": "execute_result"
    }
   ],
   "source": [
    "from model.quartz2 import QuartzNet\n",
    "model = QuartzNet(n_mels=N_MELS, num_classes=len(get_labels()))\n",
    "out, length = model(torch.zeros([2,80,581]), torch.tensor([581]))\n",
    "# model\n",
    "out.shape, length"
   ]
  },
  {
   "cell_type": "code",
   "execution_count": 10,
   "metadata": {},
   "outputs": [],
   "source": [
    "# model"
   ]
  },
  {
   "cell_type": "code",
   "execution_count": 11,
   "metadata": {},
   "outputs": [
    {
     "name": "stdout",
     "output_type": "stream",
     "text": [
      "\n"
     ]
    }
   ],
   "source": [
    "from os.path import exists\n",
    "def load_checkpoint(path):\n",
    "    if exists(path):\n",
    "        # save_log(f'e.txt', ['file',path,'exist, load checkpoint...'])\n",
    "        checkpoint = torch.load(path, map_location=device)\n",
    "        if 'model_state_dict' in checkpoint:\n",
    "            model.load_state_dict(checkpoint['model_state_dict'])\n",
    "        # optimizer.load_state_dict(checkpoint['optimizer_state_dict'])\n",
    "        initial_epoch = checkpoint['epoch']\n",
    "        # loss = checkpoint['loss']\n",
    "        # save_log(f'e.txt', ['initial_epoch:', initial_epoch, 'loss:', loss])\n",
    "LOAD_PATH = './checkpoint/quartz/model-temp.pt'\n",
    "# LOAD_PATH = './checkpoint/quartz/primewords-1.pt'\n",
    "device = torch.device(\"cuda\" if torch.cuda.is_available() else \"cpu\")\n",
    "load_checkpoint(LOAD_PATH)\n",
    "model.eval()\n",
    "print('')"
   ]
  },
  {
   "cell_type": "code",
   "execution_count": 12,
   "metadata": {},
   "outputs": [
    {
     "data": {
      "text/plain": [
       "('hao|jiu|bu|jian|zhao|yi|tian|ju|ju|ba', torch.Size([1, 80, 169]))"
      ]
     },
     "execution_count": 12,
     "metadata": {},
     "output_type": "execute_result"
    },
    {
     "data": {
      "image/png": "[encoded data removed]",
      "text/plain": [
       "<Figure size 432x288 with 1 Axes>"
      ]
     },
     "metadata": {
      "needs_background": "light"
     },
     "output_type": "display_data"
    }
   ],
   "source": [
    "sample= dataset[5]\n",
    "safe_log = lambda x: torch.log(x+2**(-15))\n",
    "plt.imshow(safe_log(sample['audio'][0]))\n",
    "''.join(sample['text']), sample['audio'].shape"
   ]
  },
  {
   "cell_type": "code",
   "execution_count": 51,
   "metadata": {},
   "outputs": [
    {
     "data": {
      "text/plain": [
       "('hao|ye|bu|yie|kao|yi|jin|ju||ba', torch.Size([85, 28]))"
      ]
     },
     "execution_count": 51,
     "metadata": {},
     "output_type": "execute_result"
    },
    {
     "data": {
      "image/png": "[encoded data removed]",
      "text/plain": [
       "<Figure size 432x288 with 1 Axes>"
      ]
     },
     "metadata": {
      "needs_background": "light"
     },
     "output_type": "display_data"
    }
   ],
   "source": [
    "from utils.textDecoder import GreedyCTCDecoder, NaiveDecoder\n",
    "# from utils.helper import get_labels\n",
    "model.eval()\n",
    "labels=get_labels()\n",
    "decoder = GreedyCTCDecoder(labels)\n",
    "out, _ = model(safe_log(sample['audio']))\n",
    "emission = torch.log_softmax(out, dim=-2)[0]\n",
    "emission = emission.T\n",
    "plt.imshow(emission.T.detach().numpy(), interpolation='none')\n",
    "transcript = sample['text']\n",
    "''.join(decoder(emission)), emission.shape"
   ]
  },
  {
   "cell_type": "code",
   "execution_count": 52,
   "metadata": {},
   "outputs": [
    {
     "name": "stdout",
     "output_type": "stream",
     "text": [
      "[('h', 10), ('a', 6), ('o', 4), ('|', 1), ('j', 25), ('i', 5), ('u', 14), ('|', 1), ('b', 21), ('u', 14), ('|', 1), ('j', 25), ('i', 5), ('a', 6), ('n', 7), ('|', 1), ('z', 27), ('h', 10), ('a', 6), ('o', 4), ('|', 1), ('y', 20), ('i', 5), ('|', 1), ('t', 3), ('i', 5), ('a', 6), ('n', 7), ('|', 1), ('j', 25), ('u', 14), ('|', 1), ('j', 25), ('u', 14), ('|', 1), ('b', 21), ('a', 6)]\n"
     ]
    }
   ],
   "source": [
    "dictionary = {c: i for i, c in enumerate(labels)}\n",
    "\n",
    "tokens = [dictionary[c] for c in transcript]\n",
    "print(list(zip(transcript, tokens)))\n",
    "\n",
    "\n",
    "def get_trellis(emission, tokens, blank_id=0):\n",
    "    num_frame = emission.size(0)\n",
    "    num_tokens = len(tokens)\n",
    "\n",
    "    # Trellis has extra diemsions for both time axis and tokens.\n",
    "    # The extra dim for tokens represents <SoS> (start-of-sentence)\n",
    "    # The extra dim for time axis is for simplification of the code.\n",
    "    trellis = torch.full((num_frame + 1, num_tokens + 1), -float(\"inf\"))\n",
    "    trellis[:, 0] = 0\n",
    "    for t in range(num_frame):\n",
    "        # print(emission[t, blank_id])\n",
    "        trellis[t + 1, 1:] = torch.maximum(\n",
    "            # Score for staying at the same token\n",
    "            trellis[t, 1:] + emission[t, blank_id],\n",
    "            # Score for changing to the next token\n",
    "            trellis[t, :-1] + emission[t, tokens],\n",
    "        )\n",
    "    return trellis\n",
    "\n",
    "\n",
    "trellis = get_trellis(emission, tokens).detach()"
   ]
  },
  {
   "cell_type": "code",
   "execution_count": 53,
   "metadata": {},
   "outputs": [
    {
     "data": {
      "image/png": "[encoded data removed]",
      "text/plain": [
       "<Figure size 432x288 with 1 Axes>"
      ]
     },
     "metadata": {
      "needs_background": "light"
     },
     "output_type": "display_data"
    }
   ],
   "source": [
    "plt.imshow(trellis[1:, 1:].T, interpolation=None, origin=\"lower\")\n",
    "plt.annotate(\"- Inf\", (trellis.size(1) / 5, trellis.size(1) / 1.5))\n",
    "# plt.colorbar()\n",
    "plt.show()"
   ]
  },
  {
   "cell_type": "code",
   "execution_count": 54,
   "metadata": {},
   "outputs": [],
   "source": [
    "@dataclass\n",
    "class Point:\n",
    "    token_index: int\n",
    "    time_index: int\n",
    "    score: float\n",
    "\n",
    "\n",
    "def backtrack(trellis, emission, tokens, blank_id=0):\n",
    "    # Note:\n",
    "    # j and t are indices for trellis, which has extra dimensions\n",
    "    # for time and tokens at the beginning.\n",
    "    # When referring to time frame index `T` in trellis,\n",
    "    # the corresponding index in emission is `T-1`.\n",
    "    # Similarly, when referring to token index `J` in trellis,\n",
    "    # the corresponding index in transcript is `J-1`.\n",
    "    j = trellis.size(1) - 1\n",
    "    t_start = torch.argmax(trellis[:, j]).item()\n",
    "\n",
    "    path = []\n",
    "    for t in range(t_start, 0, -1):\n",
    "        # 1. Figure out if the current position was stay or change\n",
    "        # Note (again):\n",
    "        # `emission[J-1]` is the emission at time frame `J` of trellis dimension.\n",
    "        # Score for token staying the same from time frame J-1 to T.\n",
    "        stayed = trellis[t - 1, j] + emission[t - 1, blank_id]\n",
    "        # Score for token changing from C-1 at T-1 to J at T.\n",
    "        changed = trellis[t - 1, j - 1] + emission[t - 1, tokens[j - 1]]\n",
    "\n",
    "        # 2. Store the path with frame-wise probability.\n",
    "        prob = emission[t - 1, tokens[j - 1] if changed > stayed else 0].exp().item()\n",
    "        # Return token index and time index in non-trellis coordinate.\n",
    "        path.append(Point(j - 1, t - 1, prob))\n",
    "\n",
    "        # 3. Update the token\n",
    "        if changed > stayed:\n",
    "            j -= 1\n",
    "            if j == 0:\n",
    "                break\n",
    "    else:\n",
    "        raise ValueError(\"Failed to align\")\n",
    "    return path[::-1]\n",
    "\n",
    "\n",
    "path = backtrack(trellis, emission, tokens)\n",
    "# print(path)"
   ]
  },
  {
   "cell_type": "code",
   "execution_count": 55,
   "metadata": {},
   "outputs": [
    {
     "data": {
      "image/png": "[encoded data removed]",
      "text/plain": [
       "<Figure size 432x288 with 1 Axes>"
      ]
     },
     "metadata": {
      "needs_background": "light"
     },
     "output_type": "display_data"
    }
   ],
   "source": [
    "def plot_trellis_with_path(trellis, path):\n",
    "    # To plot trellis with path, we take advantage of 'nan' value\n",
    "    trellis_with_path = trellis.clone()\n",
    "    for _, p in enumerate(path):\n",
    "        trellis_with_path[p.time_index, p.token_index] = float(\"nan\")\n",
    "    plt.imshow(trellis_with_path[1:, 1:].T, origin=\"lower\")\n",
    "\n",
    "\n",
    "plot_trellis_with_path(trellis, path)\n",
    "plt.title(\"The path found by backtracking\")\n",
    "plt.show()"
   ]
  },
  {
   "cell_type": "code",
   "execution_count": 56,
   "metadata": {},
   "outputs": [
    {
     "name": "stdout",
     "output_type": "stream",
     "text": [
      "h\t(0.53): [    4,     6)\n",
      "a\t(0.87): [    6,     7)\n",
      "o\t(0.27): [    7,    10)\n",
      "|\t(0.55): [   10,    12)\n",
      "j\t(0.10): [   12,    13)\n",
      "i\t(0.07): [   13,    15)\n",
      "u\t(0.02): [   15,    16)\n",
      "|\t(0.38): [   16,    19)\n",
      "b\t(0.49): [   19,    20)\n",
      "u\t(0.74): [   20,    22)\n",
      "|\t(0.64): [   22,    24)\n",
      "j\t(0.03): [   24,    25)\n",
      "i\t(0.21): [   25,    29)\n",
      "a\t(0.00): [   29,    30)\n",
      "n\t(0.00): [   30,    31)\n",
      "|\t(0.82): [   31,    36)\n",
      "z\t(0.52): [   36,    38)\n",
      "h\t(0.01): [   38,    39)\n",
      "a\t(0.97): [   39,    40)\n",
      "o\t(0.55): [   40,    42)\n",
      "|\t(0.37): [   42,    45)\n",
      "y\t(0.84): [   45,    46)\n",
      "i\t(0.73): [   46,    47)\n",
      "|\t(0.71): [   47,    49)\n",
      "t\t(0.55): [   49,    51)\n",
      "i\t(0.69): [   51,    52)\n",
      "a\t(0.01): [   52,    53)\n",
      "n\t(0.36): [   53,    55)\n",
      "|\t(0.88): [   55,    60)\n",
      "j\t(0.29): [   60,    61)\n",
      "u\t(0.67): [   61,    68)\n",
      "|\t(0.87): [   68,    69)\n",
      "j\t(0.00): [   69,    70)\n",
      "u\t(0.62): [   70,    73)\n",
      "|\t(0.54): [   73,    75)\n",
      "b\t(0.65): [   75,    77)\n",
      "a\t(0.68): [   77,    78)\n"
     ]
    }
   ],
   "source": [
    "# Merge the labels\n",
    "@dataclass\n",
    "class Segment:\n",
    "    label: str\n",
    "    start: int\n",
    "    end: int\n",
    "    score: float\n",
    "\n",
    "    def __repr__(self):\n",
    "        return f\"{self.label}\\t({self.score:4.2f}): [{self.start:5d}, {self.end:5d})\"\n",
    "\n",
    "    @property\n",
    "    def length(self):\n",
    "        return self.end - self.start\n",
    "\n",
    "\n",
    "def merge_repeats(path):\n",
    "    i1, i2 = 0, 0\n",
    "    segments = []\n",
    "    while i1 < len(path):\n",
    "        while i2 < len(path) and path[i1].token_index == path[i2].token_index:\n",
    "            i2 += 1\n",
    "        score = sum(path[k].score for k in range(i1, i2)) / (i2 - i1)\n",
    "        segments.append(\n",
    "            Segment(\n",
    "                transcript[path[i1].token_index],\n",
    "                path[i1].time_index,\n",
    "                path[i2 - 1].time_index + 1,\n",
    "                score,\n",
    "            )\n",
    "        )\n",
    "        i1 = i2\n",
    "    return segments\n",
    "\n",
    "\n",
    "segments = merge_repeats(path)\n",
    "for seg in segments:\n",
    "    print(seg)"
   ]
  },
  {
   "cell_type": "code",
   "execution_count": 57,
   "metadata": {},
   "outputs": [
    {
     "data": {
      "image/png": "[encoded data removed]",
      "text/plain": [
       "<Figure size 1152x684 with 2 Axes>"
      ]
     },
     "metadata": {
      "needs_background": "light"
     },
     "output_type": "display_data"
    }
   ],
   "source": [
    "def plot_trellis_with_segments(trellis, segments, transcript):\n",
    "    # To plot trellis with path, we take advantage of 'nan' value\n",
    "    trellis_with_path = trellis.clone()\n",
    "    \n",
    "    for i, seg in enumerate(segments):\n",
    "        # if seg.label == '|':\n",
    "        #     seg.label = \",\"\n",
    "        if seg.label != \"|\":\n",
    "            trellis_with_path[seg.start + 1 : seg.end + 1, i + 1] = float(\"nan\")\n",
    "        \n",
    "\n",
    "    fig, [ax1, ax2] = plt.subplots(2, 1, figsize=(16, 9.5))\n",
    "    ax1.set_title(\"Path, label and probability for each label\")\n",
    "    ax1.imshow(trellis_with_path.T, origin=\"lower\")\n",
    "    ax1.set_xticks([])\n",
    "\n",
    "    for i, seg in enumerate(segments):\n",
    "        if seg.label != \"|\":\n",
    "            ax1.annotate(seg.label, (seg.start + 0.7, i + 0.3), weight=\"bold\")\n",
    "            ax1.annotate(f\"{seg.score:.2f}\", (seg.start - 0.3, i + 4.3))\n",
    "\n",
    "    ax2.set_title(\"Label probability with and without repetation\")\n",
    "    xs, hs, ws = [], [], []\n",
    "    for seg in segments:\n",
    "        if seg.label != \"|\":\n",
    "            xs.append((seg.end + seg.start) / 2 + 0.4)\n",
    "            hs.append(seg.score)\n",
    "            ws.append(seg.end - seg.start)\n",
    "            ax2.annotate(seg.label, (seg.start + 0.8, -0.07), weight=\"bold\")\n",
    "    ax2.bar(xs, hs, width=ws, color=\"gray\", alpha=0.5, edgecolor=\"black\")\n",
    "\n",
    "    xs, hs = [], []\n",
    "    for p in path:\n",
    "        label = transcript[p.token_index]\n",
    "        if label != \"|\":\n",
    "            xs.append(p.time_index + 1)\n",
    "            hs.append(p.score)\n",
    "\n",
    "    ax2.bar(xs, hs, width=0.5, alpha=0.5)\n",
    "    ax2.axhline(0, color=\"black\")\n",
    "    ax2.set_xlim(ax1.get_xlim())\n",
    "    ax2.set_ylim(-0.1, 1.1)\n",
    "    \n",
    "\n",
    "\n",
    "plot_trellis_with_segments(trellis, segments, transcript)\n",
    "plt.tight_layout()\n",
    "plt.show()"
   ]
  },
  {
   "cell_type": "code",
   "execution_count": 11,
   "metadata": {},
   "outputs": [],
   "source": [
    "# model"
   ]
  },
  {
   "cell_type": "code",
   "execution_count": 12,
   "metadata": {},
   "outputs": [
    {
     "data": {
      "text/plain": [
       "('ha||||||||||ha|||hia|||ha||||ha|||hua|||hi||||hi|||||a|||x-an||hi--||-a------------------------------------------------------------------',\n",
       " torch.Size([137, 28]))"
      ]
     },
     "execution_count": 12,
     "metadata": {},
     "output_type": "execute_result"
    }
   ],
   "source": [
    "decoder(out[0].T), out[0].T.shape"
   ]
  },
  {
   "cell_type": "code",
   "execution_count": 47,
   "metadata": {},
   "outputs": [],
   "source": [
    "from utils.dataset import SpeechDataset\n",
    "class STCMDSDataset(SpeechDataset):\n",
    "\n",
    "    def __init__(self, data_path, sample_rate=16000, transform=None):\n",
    "        super().__init__(data_path, sample_rate, transform)\n",
    "        files = os.listdir(data_path)\n",
    "        file_names = []\n",
    "        for file in files:\n",
    "            if file.split('.')[1] == 'txt':\n",
    "                file_names.append(file.split('.')[0])\n",
    "        self.dataset_file_num = len(file_names)\n",
    "        self.file_names = file_names\n",
    "        self.threshold = 90000 # to avoid GPU memory used out\n",
    "        self.batch_size = 128 # to avoid GPU memory used out\n",
    "        self.split_ratio = [1000, 5]\n",
    "\n",
    "    def __len__(self):\n",
    "        return len(self.file_names)\n",
    "\n",
    "    def __getitem__(self, idx):\n",
    "        if torch.is_tensor(idx):\n",
    "            idx = idx.tolist()\n",
    "\n",
    "        audio_name = self.get_audio(idx)\n",
    "        waveform, sample_rate = torchaudio.load(audio_name)\n",
    "        if sample_rate != self.sample_rate:\n",
    "            waveform = torchaudio.functional.resample(waveform, sample_rate, self.sample_rate)\n",
    "        audio_content = self.get_text(idx)\n",
    "        sample = {'audio': waveform, 'text': audio_content}\n",
    "        if self.transform:\n",
    "            sample = self.transform(sample, self.sample_rate)\n",
    "        return sample\n",
    "\n",
    "    def get_audio(self, x): \n",
    "        return self.data_path+self.file_names[x]+'.wav' if x < self.dataset_file_num else None\n",
    "        \n",
    "    def get_text(self, x): \n",
    "        return open(self.data_path+self.file_names[x]+'.txt', \"r\").read() if x < self.dataset_file_num else None\n",
    "\n",
    "dataset = STCMDSDataset('./data/ST-CMDS-20170001_1-OS/', transform=audio_transform)"
   ]
  },
  {
   "cell_type": "code",
   "execution_count": null,
   "metadata": {},
   "outputs": [],
   "source": [
    "plt.imshow(dataset[0]['audio'][0])\n",
    "''.join(dataset[0]['text']), dataset[0]['audio'].shape"
   ]
  },
  {
   "cell_type": "code",
   "execution_count": 52,
   "metadata": {},
   "outputs": [
    {
     "name": "stdout",
     "output_type": "stream",
     "text": [
      "train_set: 102089 test_set: 511\n",
      "torch.Size([8, 80, 343]) torch.Size([8, 56])\n",
      "torch.Size([8, 80, 323]) torch.Size([8, 59])\n",
      "torch.Size([8, 80, 287]) torch.Size([8, 57])\n",
      "torch.Size([7, 80, 351]) torch.Size([7, 63])\n",
      "torch.Size([8, 80, 342]) torch.Size([8, 58])\n",
      "torch.Size([7, 80, 342]) torch.Size([7, 46])\n",
      "torch.Size([8, 80, 330]) torch.Size([8, 53])\n",
      "torch.Size([8, 80, 299]) torch.Size([8, 54])\n",
      "torch.Size([8, 80, 343]) torch.Size([8, 59])\n",
      "torch.Size([8, 80, 336]) torch.Size([8, 45])\n",
      "torch.Size([7, 80, 306]) torch.Size([7, 60])\n",
      "torch.Size([8, 80, 331]) torch.Size([8, 59])\n"
     ]
    }
   ],
   "source": [
    "from utils.dataset import LoaderGenerator\n",
    "from torch.utils.data import DataLoader, Dataset, random_split\n",
    "from utils.helper import get_labels\n",
    "loaderGenerator = LoaderGenerator(get_labels(), k_size=33)\n",
    "train_set, test_set = dataset.split()\n",
    "train_loader = loaderGenerator.dataloader(train_set, batch_size=8)\n",
    "print('train_set:', len(train_set), 'test_set:',len(test_set))\n",
    "steps = 10\n",
    "for i_batch, sample_batched in enumerate(train_loader):\n",
    "    print(sample_batched['audio'].shape, sample_batched['target'].shape)\n",
    "    # plt.imshow(sample_batched['audio'][0])\n",
    "    # print(loaderGenerator.id2label(sample_batched['target'][0].tolist()))\n",
    "    # print(sample_batched['audio_len'][0])\n",
    "    # print(sample_batched['target_len'][0])\n",
    "    # break\n",
    "    if steps < 0:\n",
    "        break\n",
    "    steps -= 1\n"
   ]
  },
  {
   "cell_type": "code",
   "execution_count": 41,
   "metadata": {},
   "outputs": [
    {
     "data": {
      "text/plain": [
       "'/scratch/bh2283/data/data_aishell3/train/wav/SSB0241/SSB02410469.wav'"
      ]
     },
     "execution_count": 41,
     "metadata": {},
     "output_type": "execute_result"
    }
   ],
   "source": [
    "path = '/scratch/bh2283/data/data_aishell3/train/'\n",
    "people_folder = path+'wav/'\n",
    "wav_folders = [people_folder+i for i in os.listdir(people_folder)]\n",
    "files = []\n",
    "for wav_folder in wav_folders:\n",
    "    files += [wav_folder+'/'+i for i in os.listdir(wav_folder)]\n",
    "files[0]"
   ]
  },
  {
   "cell_type": "code",
   "execution_count": 56,
   "metadata": {},
   "outputs": [],
   "source": [
    "from utils.dataset import SpeechDataset, random_split, RAWLoaderGenerator\n",
    "\n",
    "class AiShell3Dataset(SpeechDataset):\n",
    "\n",
    "    def __init__(self, data_path, sample_rate=16000, transform=None):\n",
    "        super().__init__(data_path, sample_rate, transform)\n",
    "        transcript_file = data_path+'content.txt'\n",
    "        self.transcript = self.gen_transcript(transcript_file)\n",
    "        self.wav_files = self.get_all_wav_files(data_path, self.transcript)\n",
    "        self.dataset_file_num = len(self.wav_files)\n",
    "        self.threshold = 120000 # to avoid GPU memory used out\n",
    "        self.batch_size = 80 # to avoid GPU memory used out\n",
    "        self.split_ratio = [1000, 5]\n",
    "\n",
    "    def __len__(self):\n",
    "        return self.dataset_file_num\n",
    "\n",
    "    def __getitem__(self, idx):\n",
    "        if torch.is_tensor(idx):\n",
    "            idx = idx.tolist()\n",
    "        if idx >= self.dataset_file_num:\n",
    "            return {'audio': None, 'text': None}\n",
    "        audio_name = self.wav_files[idx]\n",
    "        waveform, sample_rate = torchaudio.load(audio_name)\n",
    "        if sample_rate != self.sample_rate:\n",
    "            waveform = torchaudio.functional.resample(waveform, sample_rate, self.sample_rate)\n",
    "        dict_id = audio_name.rsplit('/',1)[-1].split('.')[0]\n",
    "        audio_content = self.transcript[dict_id]\n",
    "        sample = {'audio': waveform, 'text': audio_content}\n",
    "        if self.transform:\n",
    "            sample = self.transform(sample, self.sample_rate)\n",
    "        return sample\n",
    "\n",
    "    def parse_line(self, line):\n",
    "        id, text = line.split('\\t', 1)\n",
    "        id = id.split('.')[0]\n",
    "        # text = ''.join(text.split(' '))\n",
    "        return id, text\n",
    "\n",
    "    def gen_transcript(self, transcript_file):\n",
    "        transcript = {}\n",
    "        with open(transcript_file, 'r') as f:\n",
    "            content = f.read()\n",
    "            lines = content.split('\\n')[:-1]\n",
    "            for line in lines:\n",
    "                id, text = self.parse_line(line)\n",
    "                transcript[id] = text\n",
    "        return transcript\n",
    "\n",
    "    def get_all_wav_files(self, path, transcript):\n",
    "        people_folder = path+'wav/'\n",
    "        wav_folders = [people_folder+i for i in os.listdir(people_folder)]\n",
    "        files = []\n",
    "        for wav_folder in wav_folders:\n",
    "            files += [wav_folder+'/'+i for i in os.listdir(wav_folder) if i[:-4] in transcript]\n",
    "        return files\n",
    "    \n",
    "    def split(self, split_ratio=None, seed=42):\n",
    "        audio_dataset = self\n",
    "        size = len(audio_dataset)\n",
    "        my_split_ratio = self.split_ratio if split_ratio is None else split_ratio\n",
    "        lengths = [(i*size)//sum(my_split_ratio) for i in my_split_ratio]\n",
    "        lengths[-1] = size - sum(lengths[:-1])\n",
    "        split_dataset = random_split(audio_dataset, lengths, generator=torch.Generator().manual_seed(seed))\n",
    "        return split_dataset"
   ]
  },
  {
   "cell_type": "code",
   "execution_count": 57,
   "metadata": {},
   "outputs": [],
   "source": [
    "N_MELS = 80\n",
    "def audio_transform(sample, sample_rate):\n",
    "    audio = sample['audio']\n",
    "    text = sample['text']\n",
    "    mel_transform = torchaudio.transforms.MelSpectrogram(sample_rate=sample_rate,\\\n",
    "        n_fft=1024,power=1,hop_length=256,win_length=1024, n_mels=N_MELS, \\\n",
    "            f_min=0.0, f_max=8000.0, mel_scale=\"slaney\", norm=\"slaney\")\n",
    "    return {'audio':audio,\n",
    "            'text': chinese2pinyin(text)}\n",
    "dataset = AiShell3Dataset('/scratch/bh2283/data/data_aishell3/train/', transform=audio_transform)"
   ]
  },
  {
   "cell_type": "code",
   "execution_count": 58,
   "metadata": {},
   "outputs": [],
   "source": [
    "# dataset.transcript"
   ]
  },
  {
   "cell_type": "code",
   "execution_count": 60,
   "metadata": {},
   "outputs": [
    {
     "name": "stdout",
     "output_type": "stream",
     "text": [
      "train_set: 62947 test_set: 315\n",
      "torch.Size([8, 72778]) torch.Size([8, 61]) tensor([60790, 72778, 36290, 35330, 66714, 71862, 49486, 52726]) tensor([43, 61, 29, 25, 56, 34, 37, 39])\n",
      "torch.Size([8, 106300]) torch.Size([8, 77]) tensor([ 85887,  65399,  33960,  47972, 106300,  82818,  60740,  40103]) tensor([60, 44, 37, 52, 75, 77, 50, 49])\n",
      "torch.Size([8, 102549]) torch.Size([8, 84]) tensor([ 66040,  62781,  58409,  76205,  52040, 102549,  62239,  61150]) tensor([55, 43, 42, 50, 46, 84, 39, 32])\n",
      "torch.Size([7, 85415]) torch.Size([7, 67]) tensor([84047, 85415, 37132, 42758, 45056, 70646, 50985]) tensor([62, 67, 20, 40, 34, 50, 53])\n",
      "torch.Size([8, 96562]) torch.Size([8, 89]) tensor([45400, 42464, 47538, 44617, 62074, 44857, 59351, 96562]) tensor([32, 31, 43, 34, 57, 23, 42, 89])\n",
      "torch.Size([8, 82427]) torch.Size([8, 60]) tensor([82427, 64774, 70970, 51840, 51657, 35905, 73412, 44614]) tensor([60, 33, 38, 31, 42, 33, 34, 39])\n",
      "torch.Size([8, 83448]) torch.Size([8, 70]) tensor([42774, 46059, 35022, 28951, 59105, 36945, 83448, 41989]) tensor([26, 23, 42, 17, 52, 30, 70, 30])\n",
      "torch.Size([8, 111188]) torch.Size([8, 95]) tensor([ 71712, 111188,  29500,  40099,  51674,  39349,  99212,  95778]) tensor([69, 95, 26, 31, 39, 22, 91, 72])\n",
      "torch.Size([8, 59816]) torch.Size([8, 36]) tensor([51823, 32881, 59816, 51039, 32951, 41575, 35350, 47988]) tensor([36, 28, 36, 22, 20, 33, 30, 36])\n",
      "torch.Size([8, 104162]) torch.Size([8, 83]) tensor([ 64224,  41515,  85588,  45005,  44122,  44944,  97225, 104162]) tensor([55, 31, 72, 39, 40, 39, 66, 83])\n",
      "torch.Size([8, 98400]) torch.Size([8, 82]) tensor([30542, 43422, 44928, 87224, 74989, 57103, 98400, 48223]) tensor([22, 36, 43, 70, 55, 52, 82, 61])\n",
      "torch.Size([8, 88624]) torch.Size([8, 72]) tensor([30896, 43490, 78057, 54876, 65453, 88624, 55036, 43671]) tensor([ 7, 32, 62, 37, 43, 72, 46, 36])\n"
     ]
    }
   ],
   "source": [
    "from pypinyin import lazy_pinyin\n",
    "from utils.helper import get_labels\n",
    "labels = get_labels()\n",
    "loaderGenerator = RAWLoaderGenerator(get_labels(), k_size=33)\n",
    "train_set, test_set = dataset.split()\n",
    "train_loader = loaderGenerator.dataloader(train_set, batch_size=8)\n",
    "print('train_set:', len(train_set), 'test_set:',len(test_set))\n",
    "steps = 10\n",
    "for i_batch, sample_batched in enumerate(train_loader):\n",
    "    print(sample_batched['audio'].shape, sample_batched['target'].shape, \\\n",
    "        sample_batched['audio_len'], sample_batched['target_len'])\n",
    "    if steps < 0:\n",
    "        break\n",
    "    steps -= 1"
   ]
  },
  {
   "cell_type": "code",
   "execution_count": 61,
   "metadata": {},
   "outputs": [],
   "source": [
    "lens2 = [dataset[i+500]['audio'].shape[-1] for i in range(1000)]"
   ]
  },
  {
   "cell_type": "code",
   "execution_count": 62,
   "metadata": {},
   "outputs": [],
   "source": [
    "lens = [dataset[i+1500]['audio'].shape[-1] for i in range(1000)]"
   ]
  },
  {
   "cell_type": "code",
   "execution_count": 63,
   "metadata": {},
   "outputs": [
    {
     "data": {
      "image/png": "[encoded data removed]",
      "text/plain": [
       "<Figure size 432x288 with 1 Axes>"
      ]
     },
     "metadata": {
      "needs_background": "light"
     },
     "output_type": "display_data"
    }
   ],
   "source": [
    "import matplotlib.pyplot as plt\n",
    "plt.hist(lens+lens2, bins = 50)\n",
    "plt.show()"
   ]
  },
  {
   "cell_type": "code",
   "execution_count": 20,
   "metadata": {},
   "outputs": [],
   "source": [
    "import json"
   ]
  },
  {
   "cell_type": "code",
   "execution_count": 21,
   "metadata": {},
   "outputs": [],
   "source": [
    "import os\n",
    "from numpy import dtype\n",
    "import torch\n",
    "from torch.utils.data import Dataset, DataLoader, random_split\n",
    "import torchaudio\n",
    "\n",
    "class PrimeWordsDataset(Dataset):\n",
    "\n",
    "    def __init__(self, data_path, sample_rate=16000, transform=None):\n",
    "        with open(data_path+'set1_transcript.json') as f:\n",
    "            json_data = json.load(f)\n",
    "        self.json_data = json_data\n",
    "        # self.wav_files = self.get_all_wav_files(data_path, self.transcript)\n",
    "        self.dataset_file_num = len(self.json_data)\n",
    "        self.data_path = data_path\n",
    "        self.transform = transform\n",
    "        self.sample_rate = sample_rate\n",
    "        self.threshold = 220000 # to avoid GPU memory used out\n",
    "        self.batch_size = 40 # to avoid GPU memory used out\n",
    "        self.split_ratio = [1000, 2]\n",
    "\n",
    "    def __len__(self):\n",
    "        return self.dataset_file_num\n",
    "\n",
    "    def __getitem__(self, idx):\n",
    "        if torch.is_tensor(idx):\n",
    "            idx = idx.tolist()\n",
    "        if idx >= self.dataset_file_num:\n",
    "            return {'audio': None, 'text': None}\n",
    "        audio_file, audio_content = self.parse_line(self.json_data[idx])\n",
    "        waveform, sample_rate = torchaudio.load(self.get_wav(audio_file))\n",
    "        waveform = waveform\n",
    "        if sample_rate != self.sample_rate:\n",
    "            waveform = torchaudio.functional.resample(waveform, sample_rate, self.sample_rate)\n",
    "        sample = {'audio': waveform, 'text': audio_content}\n",
    "        if self.transform:\n",
    "            sample = self.transform(sample)\n",
    "        return sample\n",
    "\n",
    "    def parse_line(self, line):\n",
    "        return line['file'], line['text']\n",
    "\n",
    "    def get_wav(self, file_name):\n",
    "        path = self.data_path+'audio_files/'+file_name[0]+'/'+file_name[:2]+'/'+file_name\n",
    "        return path\n",
    "\n",
    "    def split(self, split_ratio=None, seed=42):\n",
    "        audio_dataset = self\n",
    "        size = len(audio_dataset)\n",
    "        my_split_ratio = self.split_ratio if split_ratio is None else split_ratio\n",
    "        lengths = [(i*size)//sum(my_split_ratio) for i in my_split_ratio]\n",
    "        lengths[-1] = size - sum(lengths[:-1])\n",
    "        split_dataset = random_split(audio_dataset, lengths, generator=torch.Generator().manual_seed(seed))\n",
    "        return split_dataset"
   ]
  },
  {
   "cell_type": "code",
   "execution_count": null,
   "metadata": {},
   "outputs": [],
   "source": [
    "dataset = PrimeWordsDataset('./data/primewords_md_2018_set1/')\n",
    "lens = [dataset[i]['audio'].shape[-1] for i in range(500)]"
   ]
  },
  {
   "cell_type": "code",
   "execution_count": null,
   "metadata": {},
   "outputs": [
    {
     "data": {
      "text/plain": [
       "{'audio': tensor([[0.0000, 0.0000, 0.0000,  ..., 0.0003, 0.0002, 0.0001]]),\n",
       " 'text': '两碑尺寸相同 规格一致 均高六点八七米 分别由螭龙碑首'}"
      ]
     },
     "execution_count": 51,
     "metadata": {},
     "output_type": "execute_result"
    }
   ],
   "source": [
    "i=15\n",
    "torchaudio.save('./audio-temp.wav', dataset[i]['audio'], 16000)\n",
    "dataset[i]"
   ]
  },
  {
   "cell_type": "code",
   "execution_count": null,
   "metadata": {},
   "outputs": [],
   "source": [
    "lens2 = [dataset[i+500]['audio'].shape[-1] for i in range(1000)]"
   ]
  },
  {
   "cell_type": "code",
   "execution_count": null,
   "metadata": {},
   "outputs": [
    {
     "data": {
      "image/png": "[encoded data removed]",
      "text/plain": [
       "<Figure size 432x288 with 1 Axes>"
      ]
     },
     "metadata": {
      "needs_background": "light"
     },
     "output_type": "display_data"
    }
   ],
   "source": [
    "import matplotlib.pyplot as plt\n",
    "plt.hist(lens+lens2, bins = 50)\n",
    "plt.show()"
   ]
  },
  {
   "cell_type": "code",
   "execution_count": null,
   "metadata": {},
   "outputs": [],
   "source": [
    "import pandas as pd\n",
    "data_path = './data/zhspeechocean/'\n",
    "\n",
    "\n",
    "class SpeechOceanDataset(Dataset):\n",
    "    def __init__(self, data_path, sample_rate=16000, transform=None):\n",
    "        meta_data = data_path + 'metadata.csv'\n",
    "        self.meta_data = pd.read_csv(meta_data, sep='\\t')\n",
    "        self.dataset_file_num = len(self.meta_data)\n",
    "        self.data_path = data_path\n",
    "        self.transform = transform\n",
    "        self.sample_rate = sample_rate\n",
    "        self.threshold = 90000 # to avoid GPU memory used out\n",
    "        self.batch_size = 128 # to avoid GPU memory used out\n",
    "        self.split_ratio = [100, 5]\n",
    "\n",
    "    def __len__(self):\n",
    "        return self.dataset_file_num\n",
    "\n",
    "    def __getitem__(self, idx):\n",
    "        if torch.is_tensor(idx):\n",
    "            idx = idx.tolist()\n",
    "        if idx >= self.dataset_file_num:\n",
    "            return {'audio': None, 'text': None}\n",
    "        audio_name = os.path.join(self.data_path,\n",
    "                                  self.meta_data.iloc[idx, 0])\n",
    "        waveform, sample_rate = torchaudio.load(audio_name)\n",
    "        audio_content = self.meta_data.iloc[idx, 1]\n",
    "        if sample_rate != self.sample_rate:\n",
    "            waveform = torchaudio.functional.resample(waveform, sample_rate, self.sample_rate)\n",
    "        sample = {'audio': waveform, 'text': audio_content}\n",
    "        if self.transform:\n",
    "            sample = self.transform(sample)\n",
    "        return sample\n",
    "\n",
    "    def split(self, split_ratio=None, seed=42):\n",
    "        audio_dataset = self\n",
    "        size = len(audio_dataset)\n",
    "        my_split_ratio = self.split_ratio if split_ratio is None else split_ratio\n",
    "        lengths = [(i*size)//sum(my_split_ratio) for i in my_split_ratio]\n",
    "        lengths[-1] = size - sum(lengths[:-1])\n",
    "        split_dataset = random_split(audio_dataset, lengths, generator=torch.Generator().manual_seed(seed))\n",
    "        return split_dataset"
   ]
  },
  {
   "cell_type": "code",
   "execution_count": null,
   "metadata": {},
   "outputs": [
    {
     "name": "stdout",
     "output_type": "stream",
     "text": [
      "train_set: 2285 test_set: 115\n",
      "torch.Size([7, 76030]) torch.Size([7, 66])\n",
      "torch.Size([8, 85818]) torch.Size([8, 66])\n",
      "torch.Size([8, 80063]) torch.Size([8, 89])\n",
      "torch.Size([7, 56436]) torch.Size([7, 54])\n",
      "torch.Size([8, 76025]) torch.Size([8, 67])\n",
      "torch.Size([8, 79484]) torch.Size([8, 68])\n",
      "torch.Size([8, 65661]) torch.Size([8, 76])\n",
      "torch.Size([8, 67958]) torch.Size([8, 75])\n",
      "torch.Size([8, 59323]) torch.Size([8, 70])\n",
      "torch.Size([8, 86392]) torch.Size([8, 66])\n",
      "torch.Size([8, 55872]) torch.Size([8, 50])\n",
      "torch.Size([8, 52413]) torch.Size([8, 47])\n"
     ]
    }
   ],
   "source": [
    "if __name__ == '__main__':\n",
    "    dataset = SpeechOceanDataset('./data/zhspeechocean/')\n",
    "    batch_size = 8\n",
    "    train_set, test_set = dataset.split([100, 5])\n",
    "    k_size = 5 # kernel size for audio encoder\n",
    "    from pypinyin import lazy_pinyin\n",
    "    def chinese2pinyin(text):\n",
    "        pinyin = lazy_pinyin(text, strict=True,errors=lambda x: u'')\n",
    "        pinyin = [i for i in '|'.join(pinyin)]\n",
    "        return pinyin\n",
    "    from utils.helper import get_labels\n",
    "    from utils.dataset import LoaderGenerator\n",
    "    labels = get_labels()\n",
    "    loaderGenerator = LoaderGenerator(labels, chinese2pinyin, k_size)\n",
    "    train_loader = loaderGenerator.dataloader(train_set, batch_size)\n",
    "    test_loader = loaderGenerator.dataloader(test_set, batch_size) # without backprop, can use larger batch\n",
    "    print('train_set:', len(train_set), 'test_set:',len(test_set))\n",
    "    steps = 10\n",
    "    for i_batch, sample_batched in enumerate(test_loader):\n",
    "        print(sample_batched['audio'].shape, sample_batched['target'].shape)\n",
    "        # for i in sample_batched['audio']:\n",
    "        #     print(i.shape)\n",
    "        if steps < 0:\n",
    "            break\n",
    "        steps -= 1"
   ]
  },
  {
   "cell_type": "code",
   "execution_count": null,
   "metadata": {},
   "outputs": [],
   "source": [
    "dataset = SpeechOceanDataset('./data/zhspeechocean/')\n",
    "lens = [dataset[i]['audio'].shape[-1] for i in range(2000)]"
   ]
  },
  {
   "cell_type": "code",
   "execution_count": null,
   "metadata": {},
   "outputs": [
    {
     "data": {
      "image/png": "[encoded data removed]",
      "text/plain": [
       "<Figure size 432x288 with 1 Axes>"
      ]
     },
     "metadata": {
      "needs_background": "light"
     },
     "output_type": "display_data"
    }
   ],
   "source": [
    "import matplotlib.pyplot as plt\n",
    "plt.hist(lens, bins = 50)\n",
    "plt.show()"
   ]
  },
  {
   "cell_type": "code",
   "execution_count": null,
   "metadata": {},
   "outputs": [
    {
     "data": {
      "text/plain": [
       "{'audio': tensor([[ 0.0000e+00,  0.0000e+00,  0.0000e+00,  ..., -2.2709e-05,\n",
       "          -7.3612e-05, -1.0139e-04]]),\n",
       " 'text': '你这个周末有时间吗？你陪我去看看手机行吗？'}"
      ]
     },
     "execution_count": 72,
     "metadata": {},
     "output_type": "execute_result"
    }
   ],
   "source": [
    "i=15\n",
    "torchaudio.save('./audio-temp.wav', dataset[i]['audio'], 16000)\n",
    "dataset[i]"
   ]
  },
  {
   "cell_type": "code",
   "execution_count": null,
   "metadata": {},
   "outputs": [
    {
     "data": {
      "text/plain": [
       "'ni|zhe|ge|zhou|mo|you|shi|jian|ma|ni|pei|wo|qu|kan|kan|shou|ji|xing|ma'"
      ]
     },
     "execution_count": 74,
     "metadata": {},
     "output_type": "execute_result"
    }
   ],
   "source": [
    "def chinese2pinyin(text):\n",
    "    pinyin = lazy_pinyin(text, strict=True,errors=lambda x: u'')\n",
    "    pinyin = [i for i in '|'.join(pinyin)]\n",
    "    return pinyin\n",
    "''.join(chinese2pinyin('你这个周末有时间吗？你陪我去看看手机行吗？'))"
   ]
  },
  {
   "cell_type": "code",
   "execution_count": null,
   "metadata": {},
   "outputs": [],
   "source": [
    "class CvCorpus8Dataset(Dataset):\n",
    "\n",
    "    def __init__(self, data_path, sample_rate=16000, transform=None):\n",
    "        df1 = pd.read_csv(data_path+'validated.tsv',sep='\\t')[['path', 'sentence']]\n",
    "        # df2 = pd.read_csv(data_path+'invalidated.tsv',sep='\\t')[['path', 'sentence']]\n",
    "        # df3 = pd.read_csv(data_path+'other.tsv',sep='\\t')[['path', 'sentence']]\n",
    "        # df = pd.concat([df1, df2, df3])\n",
    "        df = df1\n",
    "        audio_path = df['path'].to_list()\n",
    "        sentence_text = df['sentence'].to_list()\n",
    "        assert len(audio_path) == len(sentence_text)\n",
    "        self.audio_path = audio_path\n",
    "        self.sentence_text = sentence_text\n",
    "        self.size = len(audio_path)\n",
    "        self.data_path = data_path\n",
    "        self.transform = transform\n",
    "        self.sample_rate = sample_rate\n",
    "        self.threshold = 170000 # to avoid GPU memory used out\n",
    "        self.batch_size = 64 # to avoid GPU memory used out\n",
    "        self.split_ratio = [100, 1]\n",
    "\n",
    "    def __len__(self):\n",
    "        return len(self.audio_path)\n",
    "\n",
    "    def __getitem__(self, idx):\n",
    "        if torch.is_tensor(idx):\n",
    "            idx = idx.tolist()\n",
    "\n",
    "        audio_name = self.get_audio(idx)\n",
    "        waveform, sample_rate = torchaudio.load(audio_name)\n",
    "        waveform = waveform\n",
    "        if sample_rate != self.sample_rate:\n",
    "            waveform = torchaudio.functional.resample(waveform, sample_rate, self.sample_rate)\n",
    "        audio_content = self.get_text(idx)\n",
    "        sample = {'audio': waveform, 'text': audio_content}\n",
    "        if self.transform:\n",
    "            sample = self.transform(sample)\n",
    "        return sample\n",
    "\n",
    "    def get_audio(self, x): \n",
    "        return self.data_path+'clips/'+self.audio_path[x] if x < len(self) else None\n",
    "        \n",
    "    def get_text(self, x): \n",
    "        return self.sentence_text[x] if x < len(self) else None\n",
    "    \n",
    "    def split(self, split_ratio=None, seed=42):\n",
    "        audio_dataset = self\n",
    "        size = len(audio_dataset)\n",
    "        my_split_ratio = self.split_ratio if split_ratio is None else split_ratio\n",
    "        lengths = [(i*size)//sum(my_split_ratio) for i in my_split_ratio]\n",
    "        lengths[-1] = size - sum(lengths[:-1])\n",
    "        split_dataset = random_split(audio_dataset, lengths, generator=torch.Generator().manual_seed(seed))\n",
    "        return split_dataset"
   ]
  },
  {
   "cell_type": "code",
   "execution_count": null,
   "metadata": {},
   "outputs": [
    {
     "name": "stdout",
     "output_type": "stream",
     "text": [
      "train_set: 44517 test_set: 2226\n",
      "torch.Size([8, 124029]) torch.Size([8, 71])\n",
      "torch.Size([8, 155901]) torch.Size([8, 126])\n",
      "torch.Size([8, 148988]) torch.Size([8, 128])\n",
      "torch.Size([8, 122877]) torch.Size([8, 110])\n",
      "torch.Size([8, 142838]) torch.Size([8, 107])\n",
      "torch.Size([8, 153984]) torch.Size([8, 131])\n",
      "torch.Size([8, 142079]) torch.Size([8, 121])\n",
      "torch.Size([8, 155904]) torch.Size([8, 90])\n",
      "torch.Size([8, 131712]) torch.Size([8, 93])\n",
      "torch.Size([8, 101753]) torch.Size([8, 94])\n",
      "torch.Size([8, 97920]) torch.Size([8, 89])\n",
      "torch.Size([8, 165877]) torch.Size([8, 140])\n"
     ]
    }
   ],
   "source": [
    "if __name__ == '__main__':\n",
    "    dataset = CvCorpus8Dataset('./data/cv-corpus-8.0-2022-01-19/zh-CN/')\n",
    "    batch_size = 8\n",
    "    train_set, test_set = dataset.split([100, 5])\n",
    "    k_size = 5 # kernel size for audio encoder\n",
    "    from pypinyin import lazy_pinyin\n",
    "    def chinese2pinyin(text):\n",
    "        pinyin = lazy_pinyin(text, strict=True,errors=lambda x: u'')\n",
    "        pinyin = [i for i in '|'.join(pinyin)]\n",
    "        return pinyin\n",
    "    from utils.helper import get_labels\n",
    "    from utils.dataset import LoaderGenerator\n",
    "    labels = get_labels()\n",
    "    loaderGenerator = LoaderGenerator(labels, chinese2pinyin, k_size)\n",
    "    train_loader = loaderGenerator.dataloader(train_set, batch_size)\n",
    "    test_loader = loaderGenerator.dataloader(test_set, batch_size) # without backprop, can use larger batch\n",
    "    print('train_set:', len(train_set), 'test_set:',len(test_set))\n",
    "    steps = 10\n",
    "    for i_batch, sample_batched in enumerate(test_loader):\n",
    "        print(sample_batched['audio'].shape, sample_batched['target'].shape)\n",
    "        # for i in sample_batched['audio']:\n",
    "        #     print(i.shape)\n",
    "        if steps < 0:\n",
    "            break\n",
    "        steps -= 1"
   ]
  },
  {
   "cell_type": "code",
   "execution_count": null,
   "metadata": {},
   "outputs": [],
   "source": [
    "dataset = CvCorpus8Dataset('./data/cv-corpus-8.0-2022-01-19/zh-CN/')"
   ]
  },
  {
   "cell_type": "code",
   "execution_count": null,
   "metadata": {},
   "outputs": [
    {
     "data": {
      "text/plain": [
       "{'audio': tensor([[ 0.0000,  0.0000,  0.0000,  ..., -0.0020, -0.0029, -0.0024]]),\n",
       " 'text': '台湾北部地区家庭多以在农历年前时段包润饼则是在清明期间。'}"
      ]
     },
     "execution_count": 81,
     "metadata": {},
     "output_type": "execute_result"
    }
   ],
   "source": [
    "i=18\n",
    "torchaudio.save('./audio-temp.wav', dataset[i]['audio'], 16000)\n",
    "dataset[i]"
   ]
  },
  {
   "cell_type": "code",
   "execution_count": 10,
   "metadata": {},
   "outputs": [],
   "source": [
    "from utils.dataset import AiDataTangDataset\n",
    "\n",
    "def raw_audio_transform(sample, sample_rate=None):\n",
    "        audio = sample['audio']\n",
    "        audio = audio / torch.abs(audio).max()*0.15\n",
    "        sample['audio'] = audio\n",
    "        sample['chinese'] = sample['text']\n",
    "        return sample\n",
    "\n",
    "dataset = AiDataTangDataset('/scratch/bh2283/data/aidatatang_200zh/', transform=raw_audio_transform)"
   ]
  },
  {
   "cell_type": "code",
   "execution_count": 16,
   "metadata": {},
   "outputs": [
    {
     "data": {
      "text/plain": [
       "{'audio': tensor([[0.0007, 0.0007, 0.0006,  ..., 0.0005, 0.0005, 0.0005]]),\n",
       " 'text': '这两天研究生考试',\n",
       " 'chinese': '这两天研究生考试'}"
      ]
     },
     "execution_count": 16,
     "metadata": {},
     "output_type": "execute_result"
    }
   ],
   "source": [
    "dataset[0]"
   ]
  },
  {
   "cell_type": "code",
   "execution_count": 13,
   "metadata": {},
   "outputs": [],
   "source": [
    "lens = [dataset[i]['audio'].shape[-1] for i in range(2000)]"
   ]
  },
  {
   "cell_type": "code",
   "execution_count": 14,
   "metadata": {},
   "outputs": [
    {
     "data": {
      "image/png": "[encoded data removed]",
      "text/plain": [
       "<Figure size 432x288 with 1 Axes>"
      ]
     },
     "metadata": {
      "needs_background": "light"
     },
     "output_type": "display_data"
    }
   ],
   "source": [
    "import matplotlib.pyplot as plt\n",
    "plt.hist(lens, bins = 50)\n",
    "plt.show()"
   ]
  },
  {
   "cell_type": "code",
   "execution_count": 21,
   "metadata": {},
   "outputs": [
    {
     "data": {
      "text/plain": [
       "['-']"
      ]
     },
     "execution_count": 21,
     "metadata": {},
     "output_type": "execute_result"
    }
   ],
   "source": [
    "def chinese2alphabet(chinese):\n",
    "    pinyin = lazy_pinyin(chinese, strict=True,errors=lambda x: u'-')\n",
    "    pinyin = [i for i in '|'.join(pinyin)]\n",
    "    return pinyin\n",
    "\n",
    "chinese2alphabet('HELLO?')"
   ]
  },
  {
   "cell_type": "code",
   "execution_count": 23,
   "metadata": {},
   "outputs": [
    {
     "data": {
      "text/plain": [
       "('ABCDEFGHIJKLMNOPQRSTUVWXYZ', 'abcdefghijklmnopqrstuvwxyz')"
      ]
     },
     "execution_count": 23,
     "metadata": {},
     "output_type": "execute_result"
    }
   ],
   "source": [
    "from string import ascii_uppercase, ascii_lowercase\n",
    "ascii_uppercase, ascii_lowercase"
   ]
  },
  {
   "cell_type": "code",
   "execution_count": 24,
   "metadata": {},
   "outputs": [],
   "source": []
  },
  {
   "cell_type": "code",
   "execution_count": 9,
   "metadata": {},
   "outputs": [],
   "source": [
    "import torch\n",
    "from torchaudio.models.tacotron2 import _get_mask_from_lengths, _Decoder"
   ]
  },
  {
   "cell_type": "code",
   "execution_count": 10,
   "metadata": {},
   "outputs": [
    {
     "data": {
      "text/plain": [
       "tensor([[False,  True,  True,  True,  True],\n",
       "        [False, False,  True,  True,  True],\n",
       "        [False, False, False, False,  True],\n",
       "        [False, False, False, False, False]])"
      ]
     },
     "execution_count": 10,
     "metadata": {},
     "output_type": "execute_result"
    }
   ],
   "source": [
    "_get_mask_from_lengths(torch.Tensor([1,2,4,5]))"
   ]
  },
  {
   "cell_type": "code",
   "execution_count": 15,
   "metadata": {},
   "outputs": [
    {
     "data": {
      "text/plain": [
       "tensor([[[0.3865, 0.2079, 0.2112],\n",
       "         [0.3973, 0.7489, 0.3942]]])"
      ]
     },
     "execution_count": 15,
     "metadata": {},
     "output_type": "execute_result"
    }
   ],
   "source": [
    "input = torch.rand((1,2,3))\n",
    "input"
   ]
  },
  {
   "cell_type": "code",
   "execution_count": 19,
   "metadata": {},
   "outputs": [
    {
     "ename": "TypeError",
     "evalue": "_Decoder.__init__() missing 14 required positional arguments: 'n_mels', 'n_frames_per_step', 'encoder_embedding_dim', 'decoder_rnn_dim', 'decoder_max_step', 'decoder_dropout', 'decoder_early_stopping', 'attention_rnn_dim', 'attention_hidden_dim', 'attention_location_n_filter', 'attention_location_kernel_size', 'attention_dropout', 'prenet_dim', and 'gate_threshold'",
     "output_type": "error",
     "traceback": [
      "\u001b[0;31m---------------------------------------------------------------------------\u001b[0m",
      "\u001b[0;31mTypeError\u001b[0m                                 Traceback (most recent call last)",
      "\u001b[1;32m/scratch/bh2283/code/test.ipynb Cell 57'\u001b[0m in \u001b[0;36m<cell line: 1>\u001b[0;34m()\u001b[0m\n\u001b[0;32m----> <a href='vscode-notebook-cell://ssh-remote%2B7b22686f73744e616d65223a224e5955485043227d/scratch/bh2283/code/test.ipynb#ch0000055vscode-remote?line=0'>1</a>\u001b[0m decoder \u001b[39m=\u001b[39m _Decoder()\n\u001b[1;32m      <a href='vscode-notebook-cell://ssh-remote%2B7b22686f73744e616d65223a224e5955485043227d/scratch/bh2283/code/test.ipynb#ch0000055vscode-remote?line=1'>2</a>\u001b[0m decoder\u001b[39m.\u001b[39m_parse_decoder_inputs(decoder, \u001b[39minput\u001b[39m)\n",
      "\u001b[0;31mTypeError\u001b[0m: _Decoder.__init__() missing 14 required positional arguments: 'n_mels', 'n_frames_per_step', 'encoder_embedding_dim', 'decoder_rnn_dim', 'decoder_max_step', 'decoder_dropout', 'decoder_early_stopping', 'attention_rnn_dim', 'attention_hidden_dim', 'attention_location_n_filter', 'attention_location_kernel_size', 'attention_dropout', 'prenet_dim', and 'gate_threshold'"
     ]
    }
   ],
   "source": [
    "decoder = _Decoder()\n",
    "decoder._parse_decoder_inputs(decoder, input)"
   ]
  },
  {
   "cell_type": "code",
   "execution_count": null,
   "metadata": {},
   "outputs": [],
   "source": []
  }
 ],
 "metadata": {
  "interpreter": {
   "hash": "e3322949f56cb4db99427e05ed2d4a87f0497ffa3e41dd81b99d577253bd3be5"
  },
  "kernelspec": {
   "display_name": "Python 3.10.4 (conda)",
   "language": "python",
   "name": "python3"
  },
  "language_info": {
   "codemirror_mode": {
    "name": "ipython",
    "version": 3
   },
   "file_extension": ".py",
   "mimetype": "text/x-python",
   "name": "python",
   "nbconvert_exporter": "python",
   "pygments_lexer": "ipython3",
   "version": "3.10.4"
  },
  "orig_nbformat": 4
 },
 "nbformat": 4,
 "nbformat_minor": 2
}
