{
 "cells": [
  {
   "cell_type": "markdown",
   "metadata": {
    "id": "81p3Y2g4vyx9"
   },
   "source": [
    "\n",
    "# Forced Alignment with Wav2Vec2\n",
    "\n"
   ]
  },
  {
   "cell_type": "code",
   "execution_count": 1,
   "metadata": {
    "id": "FUePjluA1Q4z"
   },
   "outputs": [
    {
     "data": {
      "text/plain": [
       "102600"
      ]
     },
     "execution_count": 1,
     "metadata": {},
     "output_type": "execute_result"
    }
   ],
   "source": [
    "import os\n",
    "data_path = './data/ST-CMDS-20170001_1-OS/'\n",
    "files = os.listdir(data_path)\n",
    "file_names = []\n",
    "for file in files:\n",
    "    if file.split('.')[1] == 'txt':\n",
    "        file_names.append(file.split('.')[0])\n",
    "dataset_file_num = len(file_names)\n",
    "dataset_file_num"
   ]
  },
  {
   "cell_type": "code",
   "execution_count": 2,
   "metadata": {},
   "outputs": [],
   "source": [
    "get_audio = lambda x: data_path+file_names[x]+'.wav' if x < dataset_file_num else None\n",
    "get_text = lambda x: open(data_path+file_names[x]+'.txt', \"r\").read() if x < dataset_file_num else None"
   ]
  },
  {
   "cell_type": "code",
   "execution_count": 4,
   "metadata": {},
   "outputs": [],
   "source": [
    "# fix Audio for vscode notebook\n",
    "def Audio(path):\n",
    "    os.popen(f'cp {path} ./audio-temp.wav') \n",
    "    print('please check ./audio-temp.wav for audio')"
   ]
  },
  {
   "cell_type": "code",
   "execution_count": 5,
   "metadata": {
    "colab": {
     "base_uri": "https://localhost:8080/",
     "height": 92
    },
    "id": "bOMD2oDU1rWv",
    "outputId": "2a866db2-b825-44c9-ddc3-3b24a389fff0"
   },
   "outputs": [
    {
     "name": "stdout",
     "output_type": "stream",
     "text": [
      "963 威\n",
      "please check ./audio-temp.wav for audio\n"
     ]
    }
   ],
   "source": [
    "import random\n",
    "# from IPython.display import Audio\n",
    "\n",
    "rand_id = 963 # random.randint(0, dataset_file_num-1)\n",
    "\n",
    "audio_file = get_audio(rand_id)\n",
    "\n",
    "sentence = get_text(rand_id)\n",
    "\n",
    "print(rand_id, sentence)\n",
    "Audio(audio_file)"
   ]
  },
  {
   "cell_type": "markdown",
   "metadata": {
    "id": "xfiFbScJvyyE"
   },
   "source": [
    "## Preparation\n",
    "\n",
    "First we import the necessary packages, and fetch data that we work on.\n",
    "\n",
    "\n"
   ]
  },
  {
   "cell_type": "code",
   "execution_count": 6,
   "metadata": {
    "colab": {
     "base_uri": "https://localhost:8080/"
    },
    "id": "jfy3k0sTvyyE",
    "outputId": "e3f5aef6-9e28-479b-d7c4-33109bfd95ff"
   },
   "outputs": [
    {
     "name": "stdout",
     "output_type": "stream",
     "text": [
      "1.11.0\n",
      "0.11.0\n",
      "cpu\n",
      "please check ./audio-temp.wav for audio\n"
     ]
    }
   ],
   "source": [
    "# %matplotlib inline\n",
    "\n",
    "import os\n",
    "from dataclasses import dataclass\n",
    "\n",
    "import IPython\n",
    "import matplotlib\n",
    "import matplotlib.pyplot as plt\n",
    "import requests\n",
    "import torch\n",
    "import torchaudio\n",
    "import torch.nn as nn\n",
    "import torch.nn.functional as F\n",
    "\n",
    "matplotlib.rcParams[\"figure.figsize\"] = [16.0, 4.8]\n",
    "\n",
    "torch.random.manual_seed(0)\n",
    "device = torch.device(\"cuda\" if torch.cuda.is_available() else \"cpu\")\n",
    "\n",
    "print(torch.__version__)\n",
    "print(torchaudio.__version__)\n",
    "print(device)\n",
    "\n",
    "SPEECH_URL = \"https://download.pytorch.org/torchaudio/tutorial-assets/Lab41-SRI-VOiCES-src-sp0307-ch127535-sg0042.wav\"\n",
    "SPEECH_FILE = \"_assets/speech.wav\"\n",
    "\n",
    "if not os.path.exists(SPEECH_FILE):\n",
    "    os.makedirs(\"_assets\", exist_ok=True)\n",
    "    with open(SPEECH_FILE, \"wb\") as file:\n",
    "        file.write(requests.get(SPEECH_URL).content)\n",
    "Audio(SPEECH_FILE)"
   ]
  },
  {
   "cell_type": "markdown",
   "metadata": {
    "id": "JCByHFR1vyyG"
   },
   "source": [
    "## Generate frame-wise label probability\n",
    "\n",
    "The first step is to generate the label class porbability of each aduio\n",
    "frame. We can use a Wav2Vec2 model that is trained for ASR. Here we use\n",
    ":py:func:`torchaudio.pipelines.WAV2VEC2_ASR_BASE_960H`.\n",
    "\n",
    "``torchaudio`` provides easy access to pretrained models with associated\n",
    "labels.\n",
    "\n",
    "<div class=\"alert alert-info\"><h4>Note</h4><p>In the subsequent sections, we will compute the probability in\n",
    "   log-domain to avoid numerical instability. For this purpose, we\n",
    "   normalize the ``emission`` with :py:func:`torch.log_softmax`.</p></div>\n",
    "\n",
    "\n"
   ]
  },
  {
   "cell_type": "code",
   "execution_count": 34,
   "metadata": {},
   "outputs": [
    {
     "data": {
      "text/plain": [
       "Linear(in_features=768, out_features=28, bias=True)"
      ]
     },
     "execution_count": 34,
     "metadata": {},
     "output_type": "execute_result"
    }
   ],
   "source": [
    "bundle = torchaudio.pipelines.VOXPOPULI_ASR_BASE_10K_EN\n",
    "wave2vec_model = bundle.get_model().to(device)\n",
    "labels = bundle.get_labels()\n",
    "\n",
    "wave2vec_model.aux"
   ]
  },
  {
   "cell_type": "code",
   "execution_count": 8,
   "metadata": {},
   "outputs": [],
   "source": [
    "# model"
   ]
  },
  {
   "cell_type": "code",
   "execution_count": 35,
   "metadata": {},
   "outputs": [],
   "source": [
    "k = wave2vec_model.feature_extractor.conv_layers[0].conv.kernel_size[0]"
   ]
  },
  {
   "cell_type": "code",
   "execution_count": 36,
   "metadata": {
    "id": "4VUWECy-vyyH"
   },
   "outputs": [
    {
     "name": "stdout",
     "output_type": "stream",
     "text": [
      "torch.Size([1, 54400])\n"
     ]
    }
   ],
   "source": [
    "\n",
    "with torch.inference_mode():\n",
    "    waveform, _ = torchaudio.load(SPEECH_FILE)\n",
    "    print(waveform.shape)\n",
    "    emissions, _ = wave2vec_model(waveform.to(device))\n",
    "    emissions = torch.log_softmax(emissions, dim=-1)\n",
    "\n",
    "emission = emissions[0].cpu().detach()"
   ]
  },
  {
   "cell_type": "code",
   "execution_count": 11,
   "metadata": {
    "colab": {
     "base_uri": "https://localhost:8080/"
    },
    "id": "abSv4WTl3RA-",
    "outputId": "b4ce1174-e211-4ff0-ffdf-24c4c6878ae7"
   },
   "outputs": [
    {
     "data": {
      "text/plain": [
       "torch.Size([169, 28])"
      ]
     },
     "execution_count": 11,
     "metadata": {},
     "output_type": "execute_result"
    }
   ],
   "source": [
    "emission.shape"
   ]
  },
  {
   "cell_type": "markdown",
   "metadata": {
    "id": "EWWEVxGq_OsY"
   },
   "source": [
    "## Do CTC Decoder"
   ]
  },
  {
   "cell_type": "code",
   "execution_count": 12,
   "metadata": {
    "id": "yPc48W-5-4U_"
   },
   "outputs": [],
   "source": [
    "class GreedyCTCDecoder(torch.nn.Module):\n",
    "    def __init__(self, labels, blank=0):\n",
    "        super().__init__()\n",
    "        self.labels = labels\n",
    "        self.blank = blank\n",
    "\n",
    "    def forward(self, emission: torch.Tensor) -> str:\n",
    "        \"\"\"Given a sequence emission over labels, get the best path string\n",
    "        Args:\n",
    "          emission (Tensor): Logit tensors. Shape `[num_seq, num_label]`.\n",
    "\n",
    "        Returns:\n",
    "          str: The resulting transcript\n",
    "        \"\"\"\n",
    "        indices = torch.argmax(emission, dim=-1)  # [num_seq,]\n",
    "        indices = torch.unique_consecutive(indices, dim=-1)\n",
    "        indices = [i for i in indices if i != self.blank]\n",
    "        return \"\".join([self.labels[i] for i in indices])\n",
    "\n",
    "class NaiveCTCDecoder(torch.nn.Module):\n",
    "    def __init__(self, labels, blank=0):\n",
    "        super().__init__()\n",
    "        self.labels = labels\n",
    "        self.blank = blank\n",
    "\n",
    "    def forward(self, emission: torch.Tensor) -> str:\n",
    "        \"\"\"Given a sequence emission over labels, get the best path string\n",
    "        Args:\n",
    "          emission (Tensor): Logit tensors. Shape `[num_seq, num_label]`.\n",
    "\n",
    "        Returns:\n",
    "          str: The resulting transcript\n",
    "        \"\"\"\n",
    "        indices = torch.argmax(emission, dim=-1)  # [num_seq,]\n",
    "        # indices = torch.unique_consecutive(indices, dim=-1)\n",
    "        # indices = [i for i in indices if i != self.blank]\n",
    "        return \"\".join([self.labels[i] for i in indices])"
   ]
  },
  {
   "cell_type": "code",
   "execution_count": 53,
   "metadata": {
    "id": "5fwzyz0acF-Q"
   },
   "outputs": [],
   "source": [
    "from utils.helper import get_labels\n",
    "\n",
    "labels = get_labels()\n",
    "look_up = {s: i for i, s in enumerate(labels)} # 字母转数字"
   ]
  },
  {
   "cell_type": "code",
   "execution_count": 55,
   "metadata": {
    "colab": {
     "base_uri": "https://localhost:8080/"
    },
    "id": "HOs2C1gKfux8",
    "outputId": "6447c7e2-7bf7-44b0-bfe3-fa2efa3229f4"
   },
   "outputs": [
    {
     "name": "stdout",
     "output_type": "stream",
     "text": [
      "labels ('-', '|', 'e', 't', 'o', 'i', 'a', 'n', 's', 'r', 'h', 'l', 'd', 'c', 'u', 'm', 'p', 'f', 'g', 'w', 'y', 'b', 'v', 'k', 'x', 'j', 'q', 'z')\n"
     ]
    }
   ],
   "source": [
    "print(\"labels\", labels)"
   ]
  },
  {
   "cell_type": "markdown",
   "metadata": {
    "id": "338jGyiv2gLv"
   },
   "source": [
    "# Transfer Learning in Chinese"
   ]
  },
  {
   "cell_type": "code",
   "execution_count": 16,
   "metadata": {
    "colab": {
     "base_uri": "https://localhost:8080/"
    },
    "id": "XylZWY742s78",
    "outputId": "e0cc2af0-ed7f-4209-8630-d1b02503c578"
   },
   "outputs": [],
   "source": [
    "# ! pip install pypinyin"
   ]
  },
  {
   "cell_type": "markdown",
   "metadata": {},
   "source": [
    "创建中文注音label，不要让模型直接预测拼音，而是改为预测音素"
   ]
  },
  {
   "cell_type": "code",
   "execution_count": 59,
   "metadata": {},
   "outputs": [
    {
     "name": "stdout",
     "output_type": "stream",
     "text": [
      "('-', '|', 'e', 't', 'o', 'i', 'a', 'n', 's', 'r', 'h', 'l', 'd', 'c', 'u', 'm', 'p', 'f', 'g', 'w', 'y', 'b', 'v', 'k', 'x', 'j', 'q', 'z') 28\n"
     ]
    }
   ],
   "source": [
    "print(labels, len(labels))"
   ]
  },
  {
   "cell_type": "code",
   "execution_count": 19,
   "metadata": {},
   "outputs": [],
   "source": [
    "decoder = GreedyCTCDecoder(labels=labels)"
   ]
  },
  {
   "cell_type": "code",
   "execution_count": 20,
   "metadata": {
    "id": "PDZ4lCIE2r4C"
   },
   "outputs": [],
   "source": [
    "import pypinyin\n",
    "from pypinyin import lazy_pinyin, Style"
   ]
  },
  {
   "cell_type": "code",
   "execution_count": 60,
   "metadata": {},
   "outputs": [
    {
     "data": {
      "text/plain": [
       "(['l', '', '', ''], ['in', 'vn', 'er', ''])"
      ]
     },
     "execution_count": 60,
     "metadata": {},
     "output_type": "execute_result"
    }
   ],
   "source": [
    "lazy_pinyin('林允儿嗯', strict=True, style=Style.INITIALS, errors=lambda x: u'-'),\\\n",
    "    lazy_pinyin('林云儿嗯', strict=True, style=Style.FINALS, errors=lambda x: u'-')"
   ]
  },
  {
   "cell_type": "code",
   "execution_count": 61,
   "metadata": {
    "colab": {
     "base_uri": "https://localhost:8080/",
     "height": 35
    },
    "id": "Q2vrhkL624Qt",
    "outputId": "b2ea29d2-2b07-4561-f72b-e0dff33fe47d"
   },
   "outputs": [
    {
     "data": {
      "text/plain": [
       "'lv|se|de|wen|shui|yu|hui|de|wu|yan|liu|guo|a|wa|n|wen|niu|er|gui|qu'"
      ]
     },
     "execution_count": 61,
     "metadata": {},
     "output_type": "execute_result"
    }
   ],
   "source": [
    "# def chinese2pinyin(text):\n",
    "#     initials = lazy_pinyin(text, strict=True, style=Style.INITIALS, errors=lambda x: u'')\n",
    "#     finals = lazy_pinyin(text, strict=True, style=Style.FINALS, errors=lambda x: u'')\n",
    "#     pinyin = ''\n",
    "#     for i in range(len(finals)):\n",
    "#         pinyin+='|'\n",
    "#         if (initials[i] == '-'):\n",
    "#             continue\n",
    "#         pinyin+=initials[i]\n",
    "#         pinyin+=finals[i]\n",
    "#         if finals[i] == '':\n",
    "#             pinyin+='n'\n",
    "#     if pinyin[-1] == '|':\n",
    "#         pinyin = pinyin[:-1]\n",
    "#     return pinyin[1:].lower().replace('w','u')\n",
    "\n",
    "def chinese2pinyin(text):\n",
    "    pinyin = lazy_pinyin(text, strict=True,errors=lambda x: u'')\n",
    "    pinyin = [i for i in '|'.join(pinyin)]\n",
    "    return pinyin\n",
    "\n",
    "''.join(chinese2pinyin(\"绿色的温水，迂回的乌烟，流过。啊！哇！嗯，问妞儿归去.\"))"
   ]
  },
  {
   "cell_type": "code",
   "execution_count": 62,
   "metadata": {
    "colab": {
     "base_uri": "https://localhost:8080/"
    },
    "id": "ixhxpT2Z3Whj",
    "outputId": "a8880056-036d-4eb2-e9f2-51519fefc0a6"
   },
   "outputs": [],
   "source": [
    "def label2id(str):\n",
    "    return [look_up[i] for i in str]\n",
    "\n",
    "def id2label(idcs):\n",
    "    return [labels[i] for i in idcs]\n",
    "\n",
    "# label2id(chinese2pinyin(\"美好，我很开心儿！\")), ','.join(id2label(label2id(chinese2pinyin(\"美好，我很开心！\"))))"
   ]
  },
  {
   "cell_type": "code",
   "execution_count": 63,
   "metadata": {
    "id": "6Y46sWzp5My_"
   },
   "outputs": [],
   "source": [
    "from torch.utils.data import Dataset, DataLoader, default_collate"
   ]
  },
  {
   "cell_type": "code",
   "execution_count": 67,
   "metadata": {
    "id": "Gk8MEOQa5NYi"
   },
   "outputs": [],
   "source": [
    "from utils.dataset import AudioDataset, LoaderGenerator"
   ]
  },
  {
   "cell_type": "code",
   "execution_count": 68,
   "metadata": {
    "colab": {
     "base_uri": "https://localhost:8080/"
    },
    "id": "VWLULmwu5ZwV",
    "outputId": "b79c6d77-cc6d-4c76-cd75-c6fd406a481e"
   },
   "outputs": [
    {
     "name": "stdout",
     "output_type": "stream",
     "text": [
      "train_set: 102089 test_set: 511\n"
     ]
    }
   ],
   "source": [
    "dataset = AudioDataset('./data/ST-CMDS-20170001_1-OS/')\n",
    "batch_size = 8\n",
    "train_set, test_set = dataset.split([1000, 5])\n",
    "k_size = wave2vec_model.feature_extractor.conv_layers[0].conv.kernel_size[0] # kernel size for audio encoder\n",
    "loaderGenerator = LoaderGenerator(labels, chinese2pinyin, k_size)\n",
    "train_loader = loaderGenerator.dataloader(train_set, batch_size)\n",
    "test_loader = loaderGenerator.dataloader(test_set, batch_size) # without backprop, can use larger batch\n",
    "print('train_set:', len(train_set), 'test_set:',len(test_set))"
   ]
  },
  {
   "cell_type": "code",
   "execution_count": 69,
   "metadata": {},
   "outputs": [
    {
     "name": "stdout",
     "output_type": "stream",
     "text": [
      "torch.Size([8, 87178]) torch.Size([8, 56])\n"
     ]
    }
   ],
   "source": [
    "for i_batch, sample_batched in enumerate(test_loader):\n",
    "    print(sample_batched['audio'].shape, sample_batched['target'].shape)\n",
    "    # for i in sample_batched['audio']:\n",
    "    #     print(i.shape)\n",
    "    break"
   ]
  },
  {
   "cell_type": "code",
   "execution_count": 70,
   "metadata": {
    "colab": {
     "base_uri": "https://localhost:8080/"
    },
    "id": "halKAY734uTG",
    "outputId": "f08250be-05a8-4e38-fde6-6db9283c8e5d"
   },
   "outputs": [
    {
     "data": {
      "text/plain": [
       "(torch.Size([8, 272, 28]), torch.Size([8]))"
      ]
     },
     "execution_count": 70,
     "metadata": {},
     "output_type": "execute_result"
    }
   ],
   "source": [
    "o, l = wave2vec_model(sample_batched['audio'], sample_batched['audio_len'])\n",
    "o.shape, l.shape"
   ]
  },
  {
   "cell_type": "code",
   "execution_count": 71,
   "metadata": {
    "colab": {
     "base_uri": "https://localhost:8080/"
    },
    "id": "vv_GXElL6bzt",
    "outputId": "17bf3048-27be-4c91-9d20-4b9b21eb4c6c"
   },
   "outputs": [
    {
     "data": {
      "text/plain": [
       "'cind|dea|whoni|on|year|hind|our|toms|yr|who|otsinceta'"
      ]
     },
     "execution_count": 71,
     "metadata": {},
     "output_type": "execute_result"
    }
   ],
   "source": [
    "emissions = torch.log_softmax(o, dim=-1)\n",
    "transcript = decoder(emissions[2])\n",
    "transcript"
   ]
  },
  {
   "cell_type": "code",
   "execution_count": 32,
   "metadata": {},
   "outputs": [
    {
     "name": "stdout",
     "output_type": "stream",
     "text": [
      "torch.Size([8, 229, 28]) torch.Size([8, 60]) torch.Size([8]) torch.Size([8])\n"
     ]
    },
    {
     "data": {
      "text/plain": [
       "tensor(2.6494, grad_fn=<MeanBackward0>)"
      ]
     },
     "execution_count": 32,
     "metadata": {},
     "output_type": "execute_result"
    }
   ],
   "source": [
    "ctc_loss = torch.nn.CTCLoss(zero_infinity=True)\n",
    "print(emissions.shape, sample_batched['target'].shape, l.shape, sample_batched['target_len'].shape)\n",
    "loss = ctc_loss(emissions.permute(1,0,2), sample_batched['target'], l, sample_batched['target_len'])\n",
    "loss"
   ]
  },
  {
   "cell_type": "code",
   "execution_count": 72,
   "metadata": {},
   "outputs": [],
   "source": [
    "# model = bundle.get_model()\n",
    "# for param in model.parameters():\n",
    "#     param.requires_grad = False\n",
    "# # model.aux = torch.nn.Linear(in_features=model.aux.in_features, out_features=model.aux.out_features, bias=True)\n",
    "# # torch.nn.init.xavier_normal(model.aux.weight)\n",
    "# for param in model.aux.parameters():\n",
    "#     param.requires_grad = True\n",
    "# model = model.to(device)\n",
    "\n",
    "class ChineseStt(torch.nn.Module):\n",
    "    def __init__(self, wave2vec_model, out_features):\n",
    "        super(ChineseStt, self).__init__()\n",
    "        self.feature_extractor = wave2vec_model.feature_extractor\n",
    "        self.encoder = wave2vec_model.encoder\n",
    "        in_features = wave2vec_model.encoder.transformer.layers[-1].final_layer_norm.normalized_shape[0]\n",
    "        self.aux = nn.Linear(in_features, out_features, bias=True)\n",
    "\n",
    "    def forward(self, x, lengths=None):\n",
    "        x, lengths = self.feature_extractor(x, lengths)\n",
    "        x = self.encoder(x, lengths)\n",
    "        x = self.aux(x)\n",
    "        return x, lengths"
   ]
  },
  {
   "cell_type": "code",
   "execution_count": 73,
   "metadata": {
    "colab": {
     "base_uri": "https://localhost:8080/"
    },
    "id": "on9zm2QrFu4K",
    "outputId": "55ec2cff-9147-4dd3-f65c-fd2d1c28c66f"
   },
   "outputs": [],
   "source": [
    "# with torch.no_grad():\n",
    "#     i = 2\n",
    "#     sample = audio_dataset[i]\n",
    "#     print(i, sample['audio'].shape, sample['text'])\n",
    "\n",
    "#     waveform = sample['audio']\n",
    "#     emissions, _ = model(waveform.to(device))\n",
    "#     emissions = torch.log_softmax(emissions, dim=-1).permute(1, 0, 2)\n",
    "\n",
    "#     ctc_loss = torch.nn.CTCLoss(zero_infinity=True)\n",
    "#     target = torch.tensor([label2id(chinese2pinyin(sample['text']))])\n",
    "#     # target = \n",
    "#     print(emissions.shape, target.shape)\n",
    "#     Input_lengths = (emissions.shape[0],)\n",
    "#     Target_lengths = (target.shape[-1],)\n",
    "#     loss = ctc_loss(emissions, target, Input_lengths, Target_lengths)\n",
    "\n",
    "# emission = emissions.cpu().detach()\n",
    "# transcript = decoder(emission)\n",
    "# transcript, ','.join(chinese2pinyin(sample['text'])), loss.item()"
   ]
  },
  {
   "cell_type": "code",
   "execution_count": 74,
   "metadata": {},
   "outputs": [],
   "source": [
    "# chinese2pinyin(sample['text'])"
   ]
  },
  {
   "cell_type": "code",
   "execution_count": 75,
   "metadata": {},
   "outputs": [],
   "source": [
    "# id = label2id(chinese2pinyin(sample['text']))\n",
    "# len(id),print(id)"
   ]
  },
  {
   "cell_type": "code",
   "execution_count": 76,
   "metadata": {
    "colab": {
     "base_uri": "https://localhost:8080/"
    },
    "id": "1Jg4wgN2ASKy",
    "outputId": "543d3537-5e06-4d52-f58c-d4651cbbc74d"
   },
   "outputs": [],
   "source": [
    "# len(audio_dataset)"
   ]
  },
  {
   "cell_type": "code",
   "execution_count": 44,
   "metadata": {},
   "outputs": [],
   "source": [
    "# model"
   ]
  },
  {
   "cell_type": "code",
   "execution_count": 81,
   "metadata": {
    "colab": {
     "base_uri": "https://localhost:8080/"
    },
    "id": "RlyFEvMlbrzD",
    "outputId": "09dfb456-5061-4cba-b9ad-59bf3de1d044"
   },
   "outputs": [],
   "source": [
    "model = ChineseStt(wave2vec_model, len(labels))\n",
    "for param in model.feature_extractor.parameters():\n",
    "    param.requires_grad = False\n",
    "torch.nn.init.xavier_normal_(model.aux.weight)\n",
    "for param in model.encoder.parameters():\n",
    "    param.requires_grad = True\n",
    "params = list(model.aux.parameters())+list(model.encoder.parameters())\n",
    "# params = model.aux.parameters()\n",
    "model = model.to(device)"
   ]
  },
  {
   "cell_type": "code",
   "execution_count": 78,
   "metadata": {
    "id": "UxcdEXcRBVvP"
   },
   "outputs": [],
   "source": [
    "# optimizer = torch.optim.SGD(model.aux.parameters(), lr=0.01, momentum=0.9)\n",
    "# optimizer = torch.optim.Adam(model.aux.parameters(), lr=0.01)\n",
    "optimizer = torch.optim.SGD(model.aux.parameters(), lr=0.01, momentum=0.9)\n",
    "scheduler = torch.optim.lr_scheduler.StepLR(optimizer, step_size=5, gamma=0.1)"
   ]
  },
  {
   "cell_type": "markdown",
   "metadata": {},
   "source": [
    "## Try to save checkpoint"
   ]
  },
  {
   "cell_type": "code",
   "execution_count": 82,
   "metadata": {},
   "outputs": [
    {
     "name": "stdout",
     "output_type": "stream",
     "text": [
      "file ./checkpoint/model_temp.pt exist, load checkpoint...\n",
      "-1 tensor(0.2292, requires_grad=True)\n"
     ]
    }
   ],
   "source": [
    "from os.path import exists\n",
    "LOAD_PATH = './checkpoint/model_temp.pt'\n",
    "def load_checkpoint(path):\n",
    "    if exists(path):\n",
    "        print('file',path,'exist, load checkpoint...')\n",
    "        checkpoint = torch.load(path, map_location=device)\n",
    "        if 'model_state_dict' in checkpoint:\n",
    "            model.aux.load_state_dict(checkpoint['model_state_dict'])\n",
    "        if 'model_encoder_dict' in checkpoint:\n",
    "            model.encoder.load_state_dict(checkpoint['model_encoder_dict'])\n",
    "        # optimizer.load_state_dict(checkpoint['optimizer_state_dict'])\n",
    "        epoch = checkpoint['epoch']\n",
    "        loss = checkpoint['loss']\n",
    "        print(epoch, loss)\n",
    "load_checkpoint(LOAD_PATH)"
   ]
  },
  {
   "cell_type": "code",
   "execution_count": 83,
   "metadata": {},
   "outputs": [],
   "source": [
    "optimizer = torch.optim.SGD(params, lr=0.01, momentum=0.9)\n",
    "scheduler = torch.optim.lr_scheduler.StepLR(optimizer, step_size=1, gamma=0.5)\n",
    "ctc_loss = torch.nn.CTCLoss(zero_infinity=True)"
   ]
  },
  {
   "cell_type": "code",
   "execution_count": 84,
   "metadata": {
    "id": "1UpzN5A8gcG9"
   },
   "outputs": [],
   "source": [
    "def test(k):\n",
    "    model.eval()\n",
    "    with torch.no_grad():\n",
    "        for i in range(k):\n",
    "            sample = test_set[i]\n",
    "            print(i, sample['audio'].shape, sample['text'])\n",
    "            waveform = sample['audio']\n",
    "            emissions, _ = model(waveform.to(device))\n",
    "            emissions = torch.log_softmax(emissions, dim=-1)\n",
    "            emission = emissions[0].cpu().detach()\n",
    "            transcript = decoder(emission)\n",
    "            print('transcript:', transcript, NaiveCTCDecoder(labels)(emission))"
   ]
  },
  {
   "cell_type": "code",
   "execution_count": 218,
   "metadata": {},
   "outputs": [],
   "source": [
    "def save_checkpoint(EPOCH, LOSS):\n",
    "    PATH = f\"./checkpoint/model_{EPOCH}_{LOSS}.pt\"\n",
    "    torch.save({\n",
    "            'epoch': EPOCH,\n",
    "            'model_state_dict': model.aux.state_dict(),\n",
    "            'optimizer_state_dict': optimizer.state_dict(),\n",
    "            'loss': LOSS,\n",
    "            }, PATH)"
   ]
  },
  {
   "cell_type": "code",
   "execution_count": 51,
   "metadata": {
    "colab": {
     "base_uri": "https://localhost:8080/"
    },
    "id": "2A-wEbquIHz6",
    "outputId": "caa08255-83fe-49b1-b850-d679ea632c58"
   },
   "outputs": [],
   "source": [
    "def train():\n",
    "    for epoch in range(1):\n",
    "        model.train()\n",
    "        current_loss = 0\n",
    "        for i_batch, sample_batched in enumerate(dataloader):\n",
    "            batch_loss = 0\n",
    "            optimizer.zero_grad()\n",
    "            # for i in range(batch_size):  # Cannot run in batch, only 1 by 1\n",
    "                \n",
    "            # Step 1. Prepare Data\n",
    "            waveform = sample_batched['audio']\n",
    "            wave_len = sample_batched['audio_len']\n",
    "            target = sample_batched['target']\n",
    "            target_len = sample_batched['target_len']\n",
    "\n",
    "            # Step 2. Run our forward pass\n",
    "            emissions, emission_len = model(waveform, wave_len)\n",
    "            # emissions, _ = model(waveform.to(device))\n",
    "            emissions = torch.nn.functional.log_softmax(emissions, dim=-1).permute(1,0,2)\n",
    "            # target = torch.tensor([target]).to(device)\n",
    "            loss = ctc_loss(emissions, target, emission_len, target_len)\n",
    "\n",
    "            # Step 2. Run our backward pass\n",
    "            loss.backward()\n",
    "            \n",
    "            if loss.item()!=loss.item():\n",
    "                print('NaN hit!')\n",
    "                exit()\n",
    "            current_loss += loss.item()\n",
    "            batch_loss += loss.item()\n",
    "\n",
    "            optimizer.step()\n",
    "            if i_batch % (2000 // batch_size) == 0:\n",
    "                # print('epoch', epoch, 'lr', scheduler.get_lr(), 'loss', batch_loss/batch_size)\n",
    "                save_log(f'e{epoch}.txt', ['epoch', epoch, 'lr', scheduler.get_last_lr(), 'loss', batch_loss/batch_size])\n",
    "                test(epoch, 5)\n",
    "            \n",
    "        # scheduler.step()\n",
    "        save_checkpoint(epoch, current_loss/len(dataloader.dataset))\n",
    "        test(epoch, 10) # run some sample prediction and see the result\n",
    "\n",
    "# train()"
   ]
  },
  {
   "cell_type": "code",
   "execution_count": 86,
   "metadata": {
    "colab": {
     "base_uri": "https://localhost:8080/"
    },
    "id": "_W36_s3Z_CES",
    "outputId": "0e74fc48-7695-4bf3-c831-fe0ec2342971"
   },
   "outputs": [
    {
     "name": "stdout",
     "output_type": "stream",
     "text": [
      "please check ./audio-temp.wav for audio\n",
      "0 torch.Size([1, 65968]) 我们准星期天约起克烧烤勒\n"
     ]
    },
    {
     "data": {
      "text/plain": [
       "('wo|men|zhun|xing|qi|tian|yue|qi|ke|shao|kao|lei',\n",
       " '---------------------------------------wo----||mennn--||zhuunn---||x-inngg-||q--i---||t-ii--aan---||yuue-----||q--i-----|||k-e----||sh-aoo---||k--aoo--||l--eii----------------------------------------------')"
      ]
     },
     "execution_count": 86,
     "metadata": {},
     "output_type": "execute_result"
    }
   ],
   "source": [
    "with torch.no_grad():\n",
    "    i = 0\n",
    "    sample = test_set[i]\n",
    "    Audio(get_audio(i))\n",
    "    print(i, sample['audio'].shape, sample['text'])\n",
    "\n",
    "    waveform = sample['audio']\n",
    "    # waveform, sample_rate = torchaudio.load('./_assets/t3.wav')\n",
    "    # waveform = torchaudio.functional.resample(waveform, sample_rate, sr)\n",
    "    emissions_org, _ = model(waveform.to(device))\n",
    "    emissions = torch.log_softmax(emissions_org, dim=-1)\n",
    "\n",
    "emission = emissions[0].cpu().detach()\n",
    "transcript = decoder(emission)\n",
    "transcript, NaiveCTCDecoder(labels)(emission)"
   ]
  },
  {
   "cell_type": "markdown",
   "metadata": {
    "id": "lSBVmG-mvyyH"
   },
   "source": [
    "### Visualization\n",
    "\n"
   ]
  },
  {
   "cell_type": "code",
   "execution_count": 87,
   "metadata": {
    "colab": {
     "base_uri": "https://localhost:8080/",
     "height": 244
    },
    "id": "QyrHL3FWvyyI",
    "outputId": "8d4df375-b10e-4219-f124-e5433357df2e"
   },
   "outputs": [
    {
     "name": "stdout",
     "output_type": "stream",
     "text": [
      "('-', '|', 'e', 't', 'o', 'i', 'a', 'n', 's', 'r', 'h', 'l', 'd', 'c', 'u', 'm', 'p', 'f', 'g', 'w', 'y', 'b', 'v', 'k', 'x', 'j', 'q', 'z')\n"
     ]
    },
    {
     "data": {
      "image/png": "[encoded data removed]",
      "text/plain": [
       "<Figure size 1152x345.6 with 2 Axes>"
      ]
     },
     "metadata": {
      "needs_background": "light"
     },
     "output_type": "display_data"
    }
   ],
   "source": [
    "print(labels)\n",
    "plt.imshow(emission.T)\n",
    "plt.colorbar()\n",
    "plt.title(\"Frame-wise class probability\")\n",
    "plt.xlabel(\"Time\")\n",
    "plt.ylabel(\"Labels\")\n",
    "plt.show()"
   ]
  },
  {
   "cell_type": "code",
   "execution_count": 88,
   "metadata": {
    "colab": {
     "base_uri": "https://localhost:8080/"
    },
    "id": "xFtP09eOvyyJ",
    "outputId": "730ec8c5-7f3e-4e57-8670-bd21d1330ccb"
   },
   "outputs": [
    {
     "name": "stdout",
     "output_type": "stream",
     "text": [
      "[('w', 19), ('o', 4), ('|', 1), ('m', 15), ('e', 2), ('n', 7), ('|', 1), ('z', 27), ('h', 10), ('u', 14), ('n', 7), ('|', 1), ('x', 24), ('i', 5), ('n', 7), ('g', 18), ('|', 1), ('q', 26), ('i', 5), ('|', 1), ('t', 3), ('i', 5), ('a', 6), ('n', 7), ('|', 1), ('y', 20), ('u', 14), ('e', 2), ('|', 1), ('q', 26), ('i', 5), ('|', 1), ('k', 23), ('e', 2), ('|', 1), ('s', 8), ('h', 10), ('a', 6), ('o', 4), ('|', 1), ('k', 23), ('a', 6), ('o', 4), ('|', 1), ('l', 11), ('e', 2), ('i', 5)]\n"
     ]
    }
   ],
   "source": [
    "transcript = transcript\n",
    "dictionary = {c: i for i, c in enumerate(labels)}\n",
    "\n",
    "tokens = [dictionary[c] for c in transcript]\n",
    "print(list(zip(transcript, tokens)))\n",
    "\n",
    "\n",
    "def get_trellis(emission, tokens, blank_id=0):\n",
    "    num_frame = emission.size(0)\n",
    "    num_tokens = len(tokens)\n",
    "\n",
    "    # Trellis has extra diemsions for both time axis and tokens.\n",
    "    # The extra dim for tokens represents <SoS> (start-of-sentence)\n",
    "    # The extra dim for time axis is for simplification of the code.\n",
    "    trellis = torch.full((num_frame + 1, num_tokens + 1), -float(\"inf\"))\n",
    "    trellis[:, 0] = 0\n",
    "    for t in range(num_frame):\n",
    "        trellis[t + 1, 1:] = torch.maximum(\n",
    "            # Score for staying at the same token\n",
    "            trellis[t, 1:] + emission[t, blank_id],\n",
    "            # Score for changing to the next token\n",
    "            trellis[t, :-1] + emission[t, tokens],\n",
    "        )\n",
    "    return trellis\n",
    "\n",
    "\n",
    "trellis = get_trellis(emission, tokens)"
   ]
  },
  {
   "cell_type": "code",
   "execution_count": 89,
   "metadata": {},
   "outputs": [
    {
     "data": {
      "text/plain": [
       "'---------------------------------------wo----||mennn--||zhuunn---||x-inngg-||q--i---||t-ii--aan---||yuue-----||q--i-----|||k-e----||sh-aoo---||k--aoo--||l--eii----------------------------------------------'"
      ]
     },
     "execution_count": 89,
     "metadata": {},
     "output_type": "execute_result"
    }
   ],
   "source": [
    "NaiveCTCDecoder(labels)(emission)"
   ]
  },
  {
   "cell_type": "code",
   "execution_count": 90,
   "metadata": {},
   "outputs": [
    {
     "data": {
      "text/plain": [
       "tensor([[14.9373,  0.1133,  0.1590, -0.1610, -0.2751,  1.2146,  0.3598,  0.3131,\n",
       "         -1.8640, -0.1544,  0.9459, -0.9797, -0.4989, -0.2222,  0.6553, -1.6033,\n",
       "         -0.4222, -0.2284, -1.1644, -0.5645, -0.8655, -0.5716, -1.5488, -0.7369,\n",
       "         -2.1012, -1.9985, -1.4473, -0.7816]])"
      ]
     },
     "execution_count": 90,
     "metadata": {},
     "output_type": "execute_result"
    }
   ],
   "source": [
    "emissions_org[:,0]"
   ]
  },
  {
   "cell_type": "code",
   "execution_count": 91,
   "metadata": {},
   "outputs": [
    {
     "data": {
      "text/plain": [
       "'---------------------------------------wo----||mennn--||zhuunn---||x-inngg-||q--i---||t-ii--aan---||yuue-----||q--i-----|||k-e----||sh-aoo---||k--aoo--||l--eii----------------------------------------------'"
      ]
     },
     "execution_count": 91,
     "metadata": {},
     "output_type": "execute_result"
    }
   ],
   "source": [
    "class ChineseDecoder(torch.nn.Module):\n",
    "    def __init__(self, labels, blank=0):\n",
    "        super().__init__()\n",
    "        self.labels = labels\n",
    "        self.blank = blank\n",
    "\n",
    "    def forward(self, emission: torch.Tensor) -> str:\n",
    "        \"\"\"Given a sequence emission over labels, get the best path string\n",
    "        Args:\n",
    "          emission (Tensor): Logit tensors. Shape `[num_seq, num_label]`.\n",
    "\n",
    "        Returns:\n",
    "          str: The resulting transcript\n",
    "        \"\"\"\n",
    "        indices = torch.argmax(emission, dim=-1)  # [num_seq,]\n",
    "        # indices = torch.unique_consecutive(indices, dim=-1)\n",
    "        # indices = [i for i in indices if i != self.blank]\n",
    "        return \"\".join([self.labels[i] for i in indices])\n",
    "\n",
    "ChineseDecoder(labels)(emission)"
   ]
  },
  {
   "cell_type": "markdown",
   "metadata": {
    "id": "H_dvx9i0vyyK"
   },
   "source": [
    "### Visualization\n",
    "\n"
   ]
  },
  {
   "cell_type": "code",
   "execution_count": 92,
   "metadata": {
    "colab": {
     "base_uri": "https://localhost:8080/",
     "height": 305
    },
    "id": "KK4HhTNivyyK",
    "outputId": "2e769389-700b-42f0-9dc5-f0f6dc45c492"
   },
   "outputs": [
    {
     "data": {
      "image/png": "[encoded data removed]",
      "text/plain": [
       "<Figure size 1152x345.6 with 2 Axes>"
      ]
     },
     "metadata": {
      "needs_background": "light"
     },
     "output_type": "display_data"
    }
   ],
   "source": [
    "plt.imshow(trellis[1:, 1:].T, origin=\"lower\")\n",
    "plt.annotate(\"- Inf\", (trellis.size(1) / 5, trellis.size(1) / 1.5))\n",
    "plt.colorbar()\n",
    "plt.show()"
   ]
  },
  {
   "cell_type": "markdown",
   "metadata": {
    "id": "OEFqlf0HvyyK"
   },
   "source": [
    "In the above visualization, we can see that there is a trace of high\n",
    "probability crossing the matrix diagonally.\n",
    "\n",
    "\n"
   ]
  },
  {
   "cell_type": "markdown",
   "metadata": {
    "id": "u4uxqOk5vyyK"
   },
   "source": [
    "## Find the most likely path (backtracking)\n",
    "\n",
    "Once the trellis is generated, we will traverse it following the\n",
    "elements with high probability.\n",
    "\n",
    "We will start from the last label index with the time step of highest\n",
    "probability, then, we traverse back in time, picking stay\n",
    "($c_j \\rightarrow c_j$) or transition\n",
    "($c_j \\rightarrow c_{j+1}$), based on the post-transition\n",
    "probability $k_{t, j} p(t+1, c_{j+1})$ or\n",
    "$k_{t, j+1} p(t+1, repeat)$.\n",
    "\n",
    "Transition is done once the label reaches the beginning.\n",
    "\n",
    "The trellis matrix is used for path-finding, but for the final\n",
    "probability of each segment, we take the frame-wise probability from\n",
    "emission matrix.\n",
    "\n",
    "\n"
   ]
  },
  {
   "cell_type": "code",
   "execution_count": 93,
   "metadata": {
    "colab": {
     "base_uri": "https://localhost:8080/"
    },
    "id": "1pKKf-3bvyyL",
    "outputId": "b5c48481-172b-4a6f-fe9c-992204e63afc"
   },
   "outputs": [],
   "source": [
    "@dataclass\n",
    "class Point:\n",
    "    token_index: int\n",
    "    time_index: int\n",
    "    score: float\n",
    "\n",
    "\n",
    "def backtrack(trellis, emission, tokens, blank_id=0):\n",
    "    # Note:\n",
    "    # j and t are indices for trellis, which has extra dimensions\n",
    "    # for time and tokens at the beginning.\n",
    "    # When referring to time frame index `T` in trellis,\n",
    "    # the corresponding index in emission is `T-1`.\n",
    "    # Similarly, when referring to token index `J` in trellis,\n",
    "    # the corresponding index in transcript is `J-1`.\n",
    "    j = trellis.size(1) - 1\n",
    "    t_start = torch.argmax(trellis[:, j]).item()\n",
    "\n",
    "    path = []\n",
    "    for t in range(t_start, 0, -1):\n",
    "        # 1. Figure out if the current position was stay or change\n",
    "        # Note (again):\n",
    "        # `emission[J-1]` is the emission at time frame `J` of trellis dimension.\n",
    "        # Score for token staying the same from time frame J-1 to T.\n",
    "        stayed = trellis[t - 1, j] + emission[t - 1, blank_id]\n",
    "        # Score for token changing from C-1 at T-1 to J at T.\n",
    "        changed = trellis[t - 1, j - 1] + emission[t - 1, tokens[j - 1]]\n",
    "\n",
    "        # 2. Store the path with frame-wise probability.\n",
    "        prob = emission[t - 1, tokens[j - 1] if changed > stayed else 0].exp().item()\n",
    "        # Return token index and time index in non-trellis coordinate.\n",
    "        path.append(Point(j - 1, t - 1, prob))\n",
    "\n",
    "        # 3. Update the token\n",
    "        if changed > stayed:\n",
    "            j -= 1\n",
    "            if j == 0:\n",
    "                break\n",
    "    else:\n",
    "        raise ValueError(\"Failed to align\")\n",
    "    return path[::-1]\n",
    "\n",
    "\n",
    "path = backtrack(trellis, emission, tokens)\n",
    "# print(path)"
   ]
  },
  {
   "cell_type": "markdown",
   "metadata": {
    "id": "lSqnnGwIvyyL"
   },
   "source": [
    "### Visualization\n",
    "\n"
   ]
  },
  {
   "cell_type": "code",
   "execution_count": 94,
   "metadata": {
    "colab": {
     "base_uri": "https://localhost:8080/",
     "height": 325
    },
    "id": "2HFZkcrzvyyM",
    "outputId": "a23f7dc6-85d4-498a-c96e-e6e0b01e8723"
   },
   "outputs": [
    {
     "data": {
      "image/png": "[encoded data removed]",
      "text/plain": [
       "<Figure size 1152x345.6 with 1 Axes>"
      ]
     },
     "metadata": {
      "needs_background": "light"
     },
     "output_type": "display_data"
    }
   ],
   "source": [
    "def plot_trellis_with_path(trellis, path):\n",
    "    # To plot trellis with path, we take advantage of 'nan' value\n",
    "    trellis_with_path = trellis.clone()\n",
    "    for _, p in enumerate(path):\n",
    "        trellis_with_path[p.time_index, p.token_index] = float(\"nan\")\n",
    "    plt.imshow(trellis_with_path[1:, 1:].T, origin=\"lower\")\n",
    "\n",
    "\n",
    "plot_trellis_with_path(trellis, path)\n",
    "plt.title(\"The path found by backtracking\")\n",
    "plt.show()"
   ]
  },
  {
   "cell_type": "markdown",
   "metadata": {
    "id": "m7ks1HuMvyyM"
   },
   "source": [
    "Looking good. Now this path contains repetations for the same labels, so\n",
    "let’s merge them to make it close to the original transcript.\n",
    "\n",
    "When merging the multiple path points, we simply take the average\n",
    "probability for the merged segments.\n",
    "\n",
    "\n"
   ]
  },
  {
   "cell_type": "code",
   "execution_count": 95,
   "metadata": {
    "colab": {
     "base_uri": "https://localhost:8080/"
    },
    "id": "HDGV3VcPvyyM",
    "outputId": "051a7f61-04d1-4502-fcd7-8d62bcecf167"
   },
   "outputs": [
    {
     "name": "stdout",
     "output_type": "stream",
     "text": [
      "w\t(0.99): [   39,    40)\n",
      "o\t(0.82): [   40,    46)\n",
      "|\t(1.00): [   46,    47)\n",
      "m\t(0.99): [   47,    48)\n",
      "e\t(0.53): [   48,    50)\n",
      "n\t(0.84): [   50,    54)\n",
      "|\t(0.54): [   54,    56)\n",
      "z\t(0.98): [   56,    57)\n",
      "h\t(0.62): [   57,    59)\n",
      "u\t(0.96): [   59,    60)\n",
      "n\t(0.80): [   60,    65)\n",
      "|\t(0.50): [   65,    67)\n",
      "x\t(0.99): [   67,    69)\n",
      "i\t(0.53): [   69,    71)\n",
      "n\t(1.00): [   71,    72)\n",
      "g\t(0.61): [   72,    75)\n",
      "|\t(0.50): [   75,    77)\n",
      "q\t(0.92): [   77,    80)\n",
      "i\t(0.80): [   80,    85)\n",
      "|\t(1.00): [   85,    86)\n",
      "t\t(0.70): [   86,    89)\n",
      "i\t(0.75): [   89,    93)\n",
      "a\t(0.95): [   93,    94)\n",
      "n\t(1.00): [   94,    98)\n",
      "|\t(0.58): [   98,   100)\n",
      "y\t(0.99): [  100,   101)\n",
      "u\t(0.69): [  101,   103)\n",
      "e\t(0.98): [  103,   109)\n",
      "|\t(0.56): [  109,   111)\n",
      "q\t(0.99): [  111,   114)\n",
      "i\t(0.91): [  114,   121)\n",
      "|\t(0.51): [  121,   123)\n",
      "k\t(0.99): [  123,   125)\n",
      "e\t(1.00): [  125,   130)\n",
      "|\t(0.54): [  130,   132)\n",
      "s\t(0.98): [  132,   133)\n",
      "h\t(0.97): [  133,   135)\n",
      "a\t(1.00): [  135,   136)\n",
      "o\t(0.89): [  136,   141)\n",
      "|\t(0.51): [  141,   143)\n",
      "k\t(0.99): [  143,   146)\n",
      "a\t(0.98): [  146,   147)\n",
      "o\t(0.61): [  147,   152)\n",
      "|\t(1.00): [  152,   153)\n",
      "l\t(0.99): [  153,   156)\n",
      "e\t(0.98): [  156,   157)\n",
      "i\t(0.94): [  157,   158)\n"
     ]
    }
   ],
   "source": [
    "# Merge the labels\n",
    "@dataclass\n",
    "class Segment:\n",
    "    label: str\n",
    "    start: int\n",
    "    end: int\n",
    "    score: float\n",
    "\n",
    "    def __repr__(self):\n",
    "        return f\"{self.label}\\t({self.score:4.2f}): [{self.start:5d}, {self.end:5d})\"\n",
    "\n",
    "    @property\n",
    "    def length(self):\n",
    "        return self.end - self.start\n",
    "\n",
    "\n",
    "def merge_repeats(path):\n",
    "    i1, i2 = 0, 0\n",
    "    segments = []\n",
    "    while i1 < len(path):\n",
    "        while i2 < len(path) and path[i1].token_index == path[i2].token_index:\n",
    "            i2 += 1\n",
    "        score = sum(path[k].score for k in range(i1, i2)) / (i2 - i1)\n",
    "        segments.append(\n",
    "            Segment(\n",
    "                transcript[path[i1].token_index],\n",
    "                path[i1].time_index,\n",
    "                path[i2 - 1].time_index + 1,\n",
    "                score,\n",
    "            )\n",
    "        )\n",
    "        i1 = i2\n",
    "    return segments\n",
    "\n",
    "\n",
    "segments = merge_repeats(path)\n",
    "for seg in segments:\n",
    "    print(seg)"
   ]
  },
  {
   "cell_type": "markdown",
   "metadata": {
    "id": "p_WBpafgvyyN"
   },
   "source": [
    "### Visualization\n",
    "\n"
   ]
  },
  {
   "cell_type": "code",
   "execution_count": 96,
   "metadata": {
    "colab": {
     "base_uri": "https://localhost:8080/",
     "height": 695
    },
    "id": "2mo24WabvyyN",
    "outputId": "e872589e-eb02-4729-cbf3-ed559f806bfe"
   },
   "outputs": [
    {
     "data": {
      "image/png": "[encoded data removed]",
      "text/plain": [
       "<Figure size 1152x684 with 2 Axes>"
      ]
     },
     "metadata": {
      "needs_background": "light"
     },
     "output_type": "display_data"
    }
   ],
   "source": [
    "def plot_trellis_with_segments(trellis, segments, transcript):\n",
    "    # To plot trellis with path, we take advantage of 'nan' value\n",
    "    trellis_with_path = trellis.clone()\n",
    "    \n",
    "    for i, seg in enumerate(segments):\n",
    "        # if seg.label == '|':\n",
    "        #     seg.label = \",\"\n",
    "        if seg.label != \"|\":\n",
    "            trellis_with_path[seg.start + 1 : seg.end + 1, i + 1] = float(\"nan\")\n",
    "        \n",
    "\n",
    "    fig, [ax1, ax2] = plt.subplots(2, 1, figsize=(16, 9.5))\n",
    "    ax1.set_title(\"Path, label and probability for each label\")\n",
    "    ax1.imshow(trellis_with_path.T, origin=\"lower\")\n",
    "    ax1.set_xticks([])\n",
    "\n",
    "    for i, seg in enumerate(segments):\n",
    "        if seg.label != \"|\":\n",
    "            ax1.annotate(seg.label, (seg.start + 0.7, i + 0.3), weight=\"bold\")\n",
    "            ax1.annotate(f\"{seg.score:.2f}\", (seg.start - 0.3, i + 4.3))\n",
    "\n",
    "    ax2.set_title(\"Label probability with and without repetation\")\n",
    "    xs, hs, ws = [], [], []\n",
    "    for seg in segments:\n",
    "        if seg.label != \"|\":\n",
    "            xs.append((seg.end + seg.start) / 2 + 0.4)\n",
    "            hs.append(seg.score)\n",
    "            ws.append(seg.end - seg.start)\n",
    "            ax2.annotate(seg.label, (seg.start + 0.8, -0.07), weight=\"bold\")\n",
    "    ax2.bar(xs, hs, width=ws, color=\"gray\", alpha=0.5, edgecolor=\"black\")\n",
    "\n",
    "    xs, hs = [], []\n",
    "    for p in path:\n",
    "        label = transcript[p.token_index]\n",
    "        if label != \"|\":\n",
    "            xs.append(p.time_index + 1)\n",
    "            hs.append(p.score)\n",
    "\n",
    "    ax2.bar(xs, hs, width=0.5, alpha=0.5)\n",
    "    ax2.axhline(0, color=\"black\")\n",
    "    ax2.set_xlim(ax1.get_xlim())\n",
    "    ax2.set_ylim(-0.1, 1.1)\n",
    "    \n",
    "\n",
    "\n",
    "plot_trellis_with_segments(trellis, segments, transcript)\n",
    "plt.tight_layout()\n",
    "plt.show()"
   ]
  },
  {
   "cell_type": "markdown",
   "metadata": {
    "id": "xGiUUXbjvyyN"
   },
   "source": [
    "Looks good. Now let’s merge the words. The Wav2Vec2 model uses ``'|'``\n",
    "as the word boundary, so we merge the segments before each occurance of\n",
    "``'|'``.\n",
    "\n",
    "Then, finally, we segment the original audio into segmented audio and\n",
    "listen to them to see if the segmentation is correct.\n",
    "\n",
    "\n"
   ]
  },
  {
   "cell_type": "code",
   "execution_count": 97,
   "metadata": {
    "colab": {
     "base_uri": "https://localhost:8080/"
    },
    "id": "ddKxlfcuvyyO",
    "outputId": "5c344c86-194f-439b-df54-a9c8d35c9180"
   },
   "outputs": [
    {
     "name": "stdout",
     "output_type": "stream",
     "text": [
      "wo\t(0.85): [   39,    46)\n",
      "men\t(0.77): [   47,    54)\n",
      "zhun\t(0.80): [   56,    65)\n",
      "xing\t(0.73): [   67,    75)\n",
      "qi\t(0.84): [   77,    85)\n",
      "tian\t(0.84): [   86,    98)\n",
      "yue\t(0.91): [  100,   109)\n",
      "qi\t(0.93): [  111,   121)\n",
      "ke\t(1.00): [  123,   130)\n",
      "shao\t(0.93): [  132,   141)\n",
      "kao\t(0.78): [  143,   152)\n",
      "lei\t(0.98): [  153,   158)\n"
     ]
    }
   ],
   "source": [
    "# Merge words\n",
    "def merge_words(segments, separator=\"|\"):\n",
    "    words = []\n",
    "    i1, i2 = 0, 0\n",
    "    while i1 < len(segments):\n",
    "        if i2 >= len(segments) or segments[i2].label == separator:\n",
    "            if i1 != i2:\n",
    "                segs = segments[i1:i2]\n",
    "                word = \"\".join([seg.label for seg in segs])\n",
    "                score = sum(seg.score * seg.length for seg in segs) / sum(seg.length for seg in segs)\n",
    "                words.append(Segment(word, segments[i1].start, segments[i2 - 1].end, score))\n",
    "            i1 = i2 + 1\n",
    "            i2 = i1\n",
    "        else:\n",
    "            i2 += 1\n",
    "    return words\n",
    "\n",
    "\n",
    "word_segments = merge_words(segments)\n",
    "for word in word_segments:\n",
    "    print(word)"
   ]
  },
  {
   "cell_type": "markdown",
   "metadata": {
    "id": "xT_pvROjvyyO"
   },
   "source": [
    "### Visualization\n",
    "\n"
   ]
  },
  {
   "cell_type": "code",
   "execution_count": 98,
   "metadata": {
    "colab": {
     "base_uri": "https://localhost:8080/",
     "height": 596
    },
    "id": "C3LvJEKkvyyO",
    "outputId": "70489578-0342-4808-ddbd-cedc4d2d6f5a"
   },
   "outputs": [
    {
     "data": {
      "image/png": "[encoded data removed]",
      "text/plain": [
       "<Figure size 1152x1080 with 3 Axes>"
      ]
     },
     "metadata": {
      "needs_background": "light"
     },
     "output_type": "display_data"
    }
   ],
   "source": [
    "def plot_alignments(trellis, segments, word_segments, waveform):\n",
    "    trellis_with_path = trellis.clone()\n",
    "    for i, seg in enumerate(segments):\n",
    "        if seg.label != \"|\":\n",
    "            trellis_with_path[seg.start + 1 : seg.end + 1, i + 1] = float(\"nan\")\n",
    "\n",
    "    fig, [ax1, ax2, ax3] = plt.subplots(3, 1, figsize=(16, 15))\n",
    "\n",
    "    ax1.imshow(trellis_with_path[1:, 1:].T, origin=\"lower\")\n",
    "    ax1.set_xticks([])\n",
    "    ax1.set_yticks([])\n",
    "\n",
    "    for word in word_segments:\n",
    "        ax1.axvline(word.start - 0.5)\n",
    "        ax1.axvline(word.end - 0.5)\n",
    "\n",
    "    for i, seg in enumerate(segments):\n",
    "        if seg.label != \"|\":\n",
    "            ax1.annotate(seg.label, (seg.start, i + 0.3))\n",
    "            ax1.annotate(f\"{seg.score:.2f}\", (seg.start, i + 4), fontsize=8)\n",
    "\n",
    "\n",
    "    # The original waveform\n",
    "    ratio = waveform.size(0) / (trellis.size(0) - 1)\n",
    "    ax2.plot(waveform)\n",
    "    for word in word_segments:\n",
    "        x0 = ratio * word.start\n",
    "        x1 = ratio * word.end\n",
    "        ax2.axvspan(x0, x1, alpha=0.1, color=\"red\")\n",
    "        ax2.annotate(f\"{word.score:.2f}\", (x0, 0.8))\n",
    "\n",
    "    for seg in segments:\n",
    "        if seg.label != \"|\":\n",
    "            ax2.annotate(seg.label, (seg.start * ratio, 0.9))\n",
    "    xticks = ax2.get_xticks()\n",
    "    plt.xticks(xticks, xticks / bundle.sample_rate)\n",
    "    ax2.set_xlabel(\"time [second]\")\n",
    "    ax2.set_yticks([])\n",
    "    ax2.set_ylim(-1.0, 1.0)\n",
    "    ax2.set_xlim(0, waveform.size(-1))\n",
    "\n",
    "    ax3.imshow(emission.T, origin=\"lower\")\n",
    "    ax3.set_xticks([])\n",
    "    ax3.set_yticks([])\n",
    "    ax3.set_title(\"Frame-wise class probability\")\n",
    "    ax3.set_xlabel(\"Time\")\n",
    "    ax3.set_ylabel(\"Labels\")\n",
    "    # ax3.set_xlim(0, len(emission))\n",
    "    for word in word_segments:\n",
    "        ax3.axvline(word.start - 0.5, color = 'red')\n",
    "        ax3.axvline(word.end - 0.5, color = 'red')\n",
    "    for i, seg in enumerate(segments):\n",
    "        if seg.label != \"|\":\n",
    "            id = label2id(seg.label)[0]\n",
    "            ax3.annotate(seg.label, (seg.start, id -0.3), color='red')\n",
    "            ax3.annotate(f\"{seg.score:.2f}\", (seg.start, id + 4), fontsize=8, color='red')\n",
    "    for i, label in enumerate(labels):\n",
    "        ax3.annotate(label, (i*1.2, i - 0.3), color='white')\n",
    "\n",
    "\n",
    "plot_alignments(\n",
    "    trellis,\n",
    "    segments,\n",
    "    word_segments,\n",
    "    waveform[0],\n",
    ")\n",
    "plt.show()"
   ]
  },
  {
   "cell_type": "code",
   "execution_count": 99,
   "metadata": {},
   "outputs": [],
   "source": [
    "# A trick to embed the resulting audio to the generated file.\n",
    "# `IPython.display.Audio` has to be the last call in a cell,\n",
    "# and there should be only one call par cell.\n",
    "def display_segment(i):\n",
    "    ratio = waveform.size(1) / (trellis.size(0) - 1)\n",
    "    word = word_segments[i]\n",
    "    x0 = int(ratio * word.start)\n",
    "    x1 = int(ratio * word.end)\n",
    "    filename = f\"_assets/{i}_{word.label}.wav\"\n",
    "    torchaudio.save(filename, waveform[:, x0:x1], bundle.sample_rate)\n",
    "    print(f\"{word.label} ({word.score:.2f}): {x0 / bundle.sample_rate:.3f} - {x1 / bundle.sample_rate:.3f} sec\")\n",
    "    return Audio(filename)"
   ]
  },
  {
   "cell_type": "code",
   "execution_count": 113,
   "metadata": {
    "colab": {
     "base_uri": "https://localhost:8080/",
     "height": 92
    },
    "id": "r2IBAQmXvyyO",
    "outputId": "95112e4e-bc04-4e96-e871-40d74e44e897"
   },
   "outputs": [
    {
     "name": "stdout",
     "output_type": "stream",
     "text": [
      "wo|men|zhun|xing|qi|tian|yue|qi|ke|shao|kao|lei\n"
     ]
    }
   ],
   "source": [
    "# Generate the audio for each segment\n",
    "print(transcript)\n",
    "i = 0"
   ]
  },
  {
   "cell_type": "code",
   "execution_count": 125,
   "metadata": {
    "colab": {
     "base_uri": "https://localhost:8080/",
     "height": 92
    },
    "id": "KkH_ByaLvyyP",
    "outputId": "1a26f9b8-841f-443d-bba6-f662dbb0d7f7"
   },
   "outputs": [
    {
     "name": "stdout",
     "output_type": "stream",
     "text": [
      "lei (0.98): 3.077 - 3.178 sec\n",
      "please check ./audio-temp.wav for audio\n"
     ]
    }
   ],
   "source": [
    "display_segment(i)\n",
    "i+=1"
   ]
  },
  {
   "cell_type": "markdown",
   "metadata": {
    "id": "kE1mXsvQvyyR"
   },
   "source": [
    "## Conclusion\n",
    "\n",
    "In this tutorial, we looked how to use torchaudio’s Wav2Vec2 model to\n",
    "perform CTC segmentation for forced alignment.\n",
    "\n",
    "\n"
   ]
  }
 ],
 "metadata": {
  "accelerator": "GPU",
  "colab": {
   "collapsed_sections": [],
   "name": "“forced_alignment_tutorial.ipynb”的副本",
   "provenance": []
  },
  "kernelspec": {
   "display_name": "Python 3 (ipykernel)",
   "language": "python",
   "name": "python3"
  },
  "language_info": {
   "codemirror_mode": {
    "name": "ipython",
    "version": 3
   },
   "file_extension": ".py",
   "mimetype": "text/x-python",
   "name": "python",
   "nbconvert_exporter": "python",
   "pygments_lexer": "ipython3",
   "version": "3.10.4"
  }
 },
 "nbformat": 4,
 "nbformat_minor": 4
}
