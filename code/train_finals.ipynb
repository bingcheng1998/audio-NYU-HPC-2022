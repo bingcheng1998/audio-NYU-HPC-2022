{
 "cells": [
  {
   "cell_type": "markdown",
   "metadata": {
    "id": "81p3Y2g4vyx9"
   },
   "source": [
    "\n",
    "# Forced Alignment with Wav2Vec2\n",
    "\n"
   ]
  },
  {
   "cell_type": "code",
   "execution_count": 1,
   "metadata": {
    "id": "FUePjluA1Q4z"
   },
   "outputs": [
    {
     "data": {
      "text/plain": [
       "102600"
      ]
     },
     "execution_count": 1,
     "metadata": {},
     "output_type": "execute_result"
    }
   ],
   "source": [
    "import os\n",
    "data_path = './data/ST-CMDS-20170001_1-OS/'\n",
    "files = os.listdir(data_path)\n",
    "file_names = []\n",
    "for file in files:\n",
    "    if file.split('.')[1] == 'txt':\n",
    "        file_names.append(file.split('.')[0])\n",
    "dataset_file_num = len(file_names)\n",
    "dataset_file_num"
   ]
  },
  {
   "cell_type": "code",
   "execution_count": 2,
   "metadata": {},
   "outputs": [],
   "source": [
    "get_audio = lambda x: data_path+file_names[x]+'.wav' if x < dataset_file_num else None\n",
    "get_text = lambda x: open(data_path+file_names[x]+'.txt', \"r\").read() if x < dataset_file_num else None"
   ]
  },
  {
   "cell_type": "code",
   "execution_count": 4,
   "metadata": {},
   "outputs": [],
   "source": [
    "# # 测试是否有文件兼容性问题\n",
    "# min = 100000\n",
    "# max = 0\n",
    "# for i in range(dataset_file_num):\n",
    "#     text = get_text(i)\n",
    "#     if len(text) < min:\n",
    "#         min = len(text)\n",
    "#     if len(text) > max:\n",
    "#         max = len(text)\n",
    "#     if len(text) == 1:\n",
    "#         print(i, text)\n",
    "# min, max"
   ]
  },
  {
   "cell_type": "code",
   "execution_count": 5,
   "metadata": {},
   "outputs": [],
   "source": [
    "# fix Audio for vscode notebook\n",
    "def Audio(path):\n",
    "    os.popen(f'cp {path} ./audio-temp.wav') \n",
    "    print('please check ./audio-temp.wav for audio')"
   ]
  },
  {
   "cell_type": "code",
   "execution_count": 6,
   "metadata": {
    "colab": {
     "base_uri": "https://localhost:8080/",
     "height": 92
    },
    "id": "bOMD2oDU1rWv",
    "outputId": "2a866db2-b825-44c9-ddc3-3b24a389fff0"
   },
   "outputs": [
    {
     "name": "stdout",
     "output_type": "stream",
     "text": [
      "963 威\n",
      "please check ./audio-temp.wav for audio\n"
     ]
    }
   ],
   "source": [
    "import random\n",
    "# from IPython.display import Audio\n",
    "\n",
    "rand_id = 963 # random.randint(0, dataset_file_num-1)\n",
    "\n",
    "audio_file = get_audio(rand_id)\n",
    "\n",
    "sentence = get_text(rand_id)\n",
    "\n",
    "print(rand_id, sentence)\n",
    "Audio(audio_file)"
   ]
  },
  {
   "cell_type": "markdown",
   "metadata": {
    "id": "xfiFbScJvyyE"
   },
   "source": [
    "## Preparation\n",
    "\n",
    "First we import the necessary packages, and fetch data that we work on.\n",
    "\n",
    "\n"
   ]
  },
  {
   "cell_type": "code",
   "execution_count": 7,
   "metadata": {
    "colab": {
     "base_uri": "https://localhost:8080/"
    },
    "id": "jfy3k0sTvyyE",
    "outputId": "e3f5aef6-9e28-479b-d7c4-33109bfd95ff"
   },
   "outputs": [
    {
     "name": "stdout",
     "output_type": "stream",
     "text": [
      "1.11.0\n",
      "0.11.0\n",
      "cpu\n",
      "please check ./audio-temp.wav for audio\n"
     ]
    }
   ],
   "source": [
    "# %matplotlib inline\n",
    "\n",
    "import os\n",
    "from dataclasses import dataclass\n",
    "\n",
    "import IPython\n",
    "import matplotlib\n",
    "import matplotlib.pyplot as plt\n",
    "import requests\n",
    "import torch\n",
    "import torchaudio\n",
    "import torch.nn as nn\n",
    "import torch.nn.functional as F\n",
    "\n",
    "matplotlib.rcParams[\"figure.figsize\"] = [16.0, 4.8]\n",
    "\n",
    "torch.random.manual_seed(0)\n",
    "device = torch.device(\"cuda\" if torch.cuda.is_available() else \"cpu\")\n",
    "\n",
    "print(torch.__version__)\n",
    "print(torchaudio.__version__)\n",
    "print(device)\n",
    "\n",
    "SPEECH_URL = \"https://download.pytorch.org/torchaudio/tutorial-assets/Lab41-SRI-VOiCES-src-sp0307-ch127535-sg0042.wav\"\n",
    "SPEECH_FILE = \"_assets/speech.wav\"\n",
    "\n",
    "if not os.path.exists(SPEECH_FILE):\n",
    "    os.makedirs(\"_assets\", exist_ok=True)\n",
    "    with open(SPEECH_FILE, \"wb\") as file:\n",
    "        file.write(requests.get(SPEECH_URL).content)\n",
    "Audio(SPEECH_FILE)"
   ]
  },
  {
   "cell_type": "markdown",
   "metadata": {
    "id": "JCByHFR1vyyG"
   },
   "source": [
    "## Generate frame-wise label probability\n",
    "\n",
    "The first step is to generate the label class porbability of each aduio\n",
    "frame. We can use a Wav2Vec2 model that is trained for ASR. Here we use\n",
    ":py:func:`torchaudio.pipelines.WAV2VEC2_ASR_BASE_960H`.\n",
    "\n",
    "``torchaudio`` provides easy access to pretrained models with associated\n",
    "labels.\n",
    "\n",
    "<div class=\"alert alert-info\"><h4>Note</h4><p>In the subsequent sections, we will compute the probability in\n",
    "   log-domain to avoid numerical instability. For this purpose, we\n",
    "   normalize the ``emission`` with :py:func:`torch.log_softmax`.</p></div>\n",
    "\n",
    "\n"
   ]
  },
  {
   "cell_type": "code",
   "execution_count": 359,
   "metadata": {},
   "outputs": [
    {
     "data": {
      "text/plain": [
       "Linear(in_features=768, out_features=28, bias=True)"
      ]
     },
     "execution_count": 359,
     "metadata": {},
     "output_type": "execute_result"
    }
   ],
   "source": [
    "bundle = torchaudio.pipelines.VOXPOPULI_ASR_BASE_10K_EN\n",
    "model = bundle.get_model().to(device)\n",
    "labels = bundle.get_labels()\n",
    "\n",
    "model.aux"
   ]
  },
  {
   "cell_type": "code",
   "execution_count": 276,
   "metadata": {},
   "outputs": [
    {
     "data": {
      "text/plain": [
       "Wav2Vec2Model(\n",
       "  (feature_extractor): FeatureExtractor(\n",
       "    (conv_layers): ModuleList(\n",
       "      (0): ConvLayerBlock(\n",
       "        (layer_norm): GroupNorm(512, 512, eps=1e-05, affine=True)\n",
       "        (conv): Conv1d(1, 512, kernel_size=(10,), stride=(5,), bias=False)\n",
       "      )\n",
       "      (1): ConvLayerBlock(\n",
       "        (conv): Conv1d(512, 512, kernel_size=(3,), stride=(2,), bias=False)\n",
       "      )\n",
       "      (2): ConvLayerBlock(\n",
       "        (conv): Conv1d(512, 512, kernel_size=(3,), stride=(2,), bias=False)\n",
       "      )\n",
       "      (3): ConvLayerBlock(\n",
       "        (conv): Conv1d(512, 512, kernel_size=(3,), stride=(2,), bias=False)\n",
       "      )\n",
       "      (4): ConvLayerBlock(\n",
       "        (conv): Conv1d(512, 512, kernel_size=(3,), stride=(2,), bias=False)\n",
       "      )\n",
       "      (5): ConvLayerBlock(\n",
       "        (conv): Conv1d(512, 512, kernel_size=(2,), stride=(2,), bias=False)\n",
       "      )\n",
       "      (6): ConvLayerBlock(\n",
       "        (conv): Conv1d(512, 512, kernel_size=(2,), stride=(2,), bias=False)\n",
       "      )\n",
       "    )\n",
       "  )\n",
       "  (encoder): Encoder(\n",
       "    (feature_projection): FeatureProjection(\n",
       "      (layer_norm): LayerNorm((512,), eps=1e-05, elementwise_affine=True)\n",
       "      (projection): Linear(in_features=512, out_features=768, bias=True)\n",
       "      (dropout): Dropout(p=0.0, inplace=False)\n",
       "    )\n",
       "    (transformer): Transformer(\n",
       "      (pos_conv_embed): ConvolutionalPositionalEmbedding(\n",
       "        (conv): Conv1d(768, 768, kernel_size=(128,), stride=(1,), padding=(64,), groups=16)\n",
       "      )\n",
       "      (layer_norm): LayerNorm((768,), eps=1e-05, elementwise_affine=True)\n",
       "      (dropout): Dropout(p=0.0, inplace=False)\n",
       "      (layers): ModuleList(\n",
       "        (0): EncoderLayer(\n",
       "          (attention): SelfAttention(\n",
       "            (dropout): Dropout(p=0.0, inplace=False)\n",
       "            (k_proj): Linear(in_features=768, out_features=768, bias=True)\n",
       "            (v_proj): Linear(in_features=768, out_features=768, bias=True)\n",
       "            (q_proj): Linear(in_features=768, out_features=768, bias=True)\n",
       "            (out_proj): Linear(in_features=768, out_features=768, bias=True)\n",
       "          )\n",
       "          (dropout): Dropout(p=0.0, inplace=False)\n",
       "          (layer_norm): LayerNorm((768,), eps=1e-05, elementwise_affine=True)\n",
       "          (feed_forward): FeedForward(\n",
       "            (intermediate_dense): Linear(in_features=768, out_features=3072, bias=True)\n",
       "            (intermediate_dropout): Dropout(p=0.1, inplace=False)\n",
       "            (output_dense): Linear(in_features=3072, out_features=768, bias=True)\n",
       "            (output_dropout): Dropout(p=0.0, inplace=False)\n",
       "          )\n",
       "          (final_layer_norm): LayerNorm((768,), eps=1e-05, elementwise_affine=True)\n",
       "        )\n",
       "        (1): EncoderLayer(\n",
       "          (attention): SelfAttention(\n",
       "            (dropout): Dropout(p=0.0, inplace=False)\n",
       "            (k_proj): Linear(in_features=768, out_features=768, bias=True)\n",
       "            (v_proj): Linear(in_features=768, out_features=768, bias=True)\n",
       "            (q_proj): Linear(in_features=768, out_features=768, bias=True)\n",
       "            (out_proj): Linear(in_features=768, out_features=768, bias=True)\n",
       "          )\n",
       "          (dropout): Dropout(p=0.0, inplace=False)\n",
       "          (layer_norm): LayerNorm((768,), eps=1e-05, elementwise_affine=True)\n",
       "          (feed_forward): FeedForward(\n",
       "            (intermediate_dense): Linear(in_features=768, out_features=3072, bias=True)\n",
       "            (intermediate_dropout): Dropout(p=0.1, inplace=False)\n",
       "            (output_dense): Linear(in_features=3072, out_features=768, bias=True)\n",
       "            (output_dropout): Dropout(p=0.0, inplace=False)\n",
       "          )\n",
       "          (final_layer_norm): LayerNorm((768,), eps=1e-05, elementwise_affine=True)\n",
       "        )\n",
       "        (2): EncoderLayer(\n",
       "          (attention): SelfAttention(\n",
       "            (dropout): Dropout(p=0.0, inplace=False)\n",
       "            (k_proj): Linear(in_features=768, out_features=768, bias=True)\n",
       "            (v_proj): Linear(in_features=768, out_features=768, bias=True)\n",
       "            (q_proj): Linear(in_features=768, out_features=768, bias=True)\n",
       "            (out_proj): Linear(in_features=768, out_features=768, bias=True)\n",
       "          )\n",
       "          (dropout): Dropout(p=0.0, inplace=False)\n",
       "          (layer_norm): LayerNorm((768,), eps=1e-05, elementwise_affine=True)\n",
       "          (feed_forward): FeedForward(\n",
       "            (intermediate_dense): Linear(in_features=768, out_features=3072, bias=True)\n",
       "            (intermediate_dropout): Dropout(p=0.1, inplace=False)\n",
       "            (output_dense): Linear(in_features=3072, out_features=768, bias=True)\n",
       "            (output_dropout): Dropout(p=0.0, inplace=False)\n",
       "          )\n",
       "          (final_layer_norm): LayerNorm((768,), eps=1e-05, elementwise_affine=True)\n",
       "        )\n",
       "        (3): EncoderLayer(\n",
       "          (attention): SelfAttention(\n",
       "            (dropout): Dropout(p=0.0, inplace=False)\n",
       "            (k_proj): Linear(in_features=768, out_features=768, bias=True)\n",
       "            (v_proj): Linear(in_features=768, out_features=768, bias=True)\n",
       "            (q_proj): Linear(in_features=768, out_features=768, bias=True)\n",
       "            (out_proj): Linear(in_features=768, out_features=768, bias=True)\n",
       "          )\n",
       "          (dropout): Dropout(p=0.0, inplace=False)\n",
       "          (layer_norm): LayerNorm((768,), eps=1e-05, elementwise_affine=True)\n",
       "          (feed_forward): FeedForward(\n",
       "            (intermediate_dense): Linear(in_features=768, out_features=3072, bias=True)\n",
       "            (intermediate_dropout): Dropout(p=0.1, inplace=False)\n",
       "            (output_dense): Linear(in_features=3072, out_features=768, bias=True)\n",
       "            (output_dropout): Dropout(p=0.0, inplace=False)\n",
       "          )\n",
       "          (final_layer_norm): LayerNorm((768,), eps=1e-05, elementwise_affine=True)\n",
       "        )\n",
       "        (4): EncoderLayer(\n",
       "          (attention): SelfAttention(\n",
       "            (dropout): Dropout(p=0.0, inplace=False)\n",
       "            (k_proj): Linear(in_features=768, out_features=768, bias=True)\n",
       "            (v_proj): Linear(in_features=768, out_features=768, bias=True)\n",
       "            (q_proj): Linear(in_features=768, out_features=768, bias=True)\n",
       "            (out_proj): Linear(in_features=768, out_features=768, bias=True)\n",
       "          )\n",
       "          (dropout): Dropout(p=0.0, inplace=False)\n",
       "          (layer_norm): LayerNorm((768,), eps=1e-05, elementwise_affine=True)\n",
       "          (feed_forward): FeedForward(\n",
       "            (intermediate_dense): Linear(in_features=768, out_features=3072, bias=True)\n",
       "            (intermediate_dropout): Dropout(p=0.1, inplace=False)\n",
       "            (output_dense): Linear(in_features=3072, out_features=768, bias=True)\n",
       "            (output_dropout): Dropout(p=0.0, inplace=False)\n",
       "          )\n",
       "          (final_layer_norm): LayerNorm((768,), eps=1e-05, elementwise_affine=True)\n",
       "        )\n",
       "        (5): EncoderLayer(\n",
       "          (attention): SelfAttention(\n",
       "            (dropout): Dropout(p=0.0, inplace=False)\n",
       "            (k_proj): Linear(in_features=768, out_features=768, bias=True)\n",
       "            (v_proj): Linear(in_features=768, out_features=768, bias=True)\n",
       "            (q_proj): Linear(in_features=768, out_features=768, bias=True)\n",
       "            (out_proj): Linear(in_features=768, out_features=768, bias=True)\n",
       "          )\n",
       "          (dropout): Dropout(p=0.0, inplace=False)\n",
       "          (layer_norm): LayerNorm((768,), eps=1e-05, elementwise_affine=True)\n",
       "          (feed_forward): FeedForward(\n",
       "            (intermediate_dense): Linear(in_features=768, out_features=3072, bias=True)\n",
       "            (intermediate_dropout): Dropout(p=0.1, inplace=False)\n",
       "            (output_dense): Linear(in_features=3072, out_features=768, bias=True)\n",
       "            (output_dropout): Dropout(p=0.0, inplace=False)\n",
       "          )\n",
       "          (final_layer_norm): LayerNorm((768,), eps=1e-05, elementwise_affine=True)\n",
       "        )\n",
       "        (6): EncoderLayer(\n",
       "          (attention): SelfAttention(\n",
       "            (dropout): Dropout(p=0.0, inplace=False)\n",
       "            (k_proj): Linear(in_features=768, out_features=768, bias=True)\n",
       "            (v_proj): Linear(in_features=768, out_features=768, bias=True)\n",
       "            (q_proj): Linear(in_features=768, out_features=768, bias=True)\n",
       "            (out_proj): Linear(in_features=768, out_features=768, bias=True)\n",
       "          )\n",
       "          (dropout): Dropout(p=0.0, inplace=False)\n",
       "          (layer_norm): LayerNorm((768,), eps=1e-05, elementwise_affine=True)\n",
       "          (feed_forward): FeedForward(\n",
       "            (intermediate_dense): Linear(in_features=768, out_features=3072, bias=True)\n",
       "            (intermediate_dropout): Dropout(p=0.1, inplace=False)\n",
       "            (output_dense): Linear(in_features=3072, out_features=768, bias=True)\n",
       "            (output_dropout): Dropout(p=0.0, inplace=False)\n",
       "          )\n",
       "          (final_layer_norm): LayerNorm((768,), eps=1e-05, elementwise_affine=True)\n",
       "        )\n",
       "        (7): EncoderLayer(\n",
       "          (attention): SelfAttention(\n",
       "            (dropout): Dropout(p=0.0, inplace=False)\n",
       "            (k_proj): Linear(in_features=768, out_features=768, bias=True)\n",
       "            (v_proj): Linear(in_features=768, out_features=768, bias=True)\n",
       "            (q_proj): Linear(in_features=768, out_features=768, bias=True)\n",
       "            (out_proj): Linear(in_features=768, out_features=768, bias=True)\n",
       "          )\n",
       "          (dropout): Dropout(p=0.0, inplace=False)\n",
       "          (layer_norm): LayerNorm((768,), eps=1e-05, elementwise_affine=True)\n",
       "          (feed_forward): FeedForward(\n",
       "            (intermediate_dense): Linear(in_features=768, out_features=3072, bias=True)\n",
       "            (intermediate_dropout): Dropout(p=0.1, inplace=False)\n",
       "            (output_dense): Linear(in_features=3072, out_features=768, bias=True)\n",
       "            (output_dropout): Dropout(p=0.0, inplace=False)\n",
       "          )\n",
       "          (final_layer_norm): LayerNorm((768,), eps=1e-05, elementwise_affine=True)\n",
       "        )\n",
       "        (8): EncoderLayer(\n",
       "          (attention): SelfAttention(\n",
       "            (dropout): Dropout(p=0.0, inplace=False)\n",
       "            (k_proj): Linear(in_features=768, out_features=768, bias=True)\n",
       "            (v_proj): Linear(in_features=768, out_features=768, bias=True)\n",
       "            (q_proj): Linear(in_features=768, out_features=768, bias=True)\n",
       "            (out_proj): Linear(in_features=768, out_features=768, bias=True)\n",
       "          )\n",
       "          (dropout): Dropout(p=0.0, inplace=False)\n",
       "          (layer_norm): LayerNorm((768,), eps=1e-05, elementwise_affine=True)\n",
       "          (feed_forward): FeedForward(\n",
       "            (intermediate_dense): Linear(in_features=768, out_features=3072, bias=True)\n",
       "            (intermediate_dropout): Dropout(p=0.1, inplace=False)\n",
       "            (output_dense): Linear(in_features=3072, out_features=768, bias=True)\n",
       "            (output_dropout): Dropout(p=0.0, inplace=False)\n",
       "          )\n",
       "          (final_layer_norm): LayerNorm((768,), eps=1e-05, elementwise_affine=True)\n",
       "        )\n",
       "        (9): EncoderLayer(\n",
       "          (attention): SelfAttention(\n",
       "            (dropout): Dropout(p=0.0, inplace=False)\n",
       "            (k_proj): Linear(in_features=768, out_features=768, bias=True)\n",
       "            (v_proj): Linear(in_features=768, out_features=768, bias=True)\n",
       "            (q_proj): Linear(in_features=768, out_features=768, bias=True)\n",
       "            (out_proj): Linear(in_features=768, out_features=768, bias=True)\n",
       "          )\n",
       "          (dropout): Dropout(p=0.0, inplace=False)\n",
       "          (layer_norm): LayerNorm((768,), eps=1e-05, elementwise_affine=True)\n",
       "          (feed_forward): FeedForward(\n",
       "            (intermediate_dense): Linear(in_features=768, out_features=3072, bias=True)\n",
       "            (intermediate_dropout): Dropout(p=0.1, inplace=False)\n",
       "            (output_dense): Linear(in_features=3072, out_features=768, bias=True)\n",
       "            (output_dropout): Dropout(p=0.0, inplace=False)\n",
       "          )\n",
       "          (final_layer_norm): LayerNorm((768,), eps=1e-05, elementwise_affine=True)\n",
       "        )\n",
       "        (10): EncoderLayer(\n",
       "          (attention): SelfAttention(\n",
       "            (dropout): Dropout(p=0.0, inplace=False)\n",
       "            (k_proj): Linear(in_features=768, out_features=768, bias=True)\n",
       "            (v_proj): Linear(in_features=768, out_features=768, bias=True)\n",
       "            (q_proj): Linear(in_features=768, out_features=768, bias=True)\n",
       "            (out_proj): Linear(in_features=768, out_features=768, bias=True)\n",
       "          )\n",
       "          (dropout): Dropout(p=0.0, inplace=False)\n",
       "          (layer_norm): LayerNorm((768,), eps=1e-05, elementwise_affine=True)\n",
       "          (feed_forward): FeedForward(\n",
       "            (intermediate_dense): Linear(in_features=768, out_features=3072, bias=True)\n",
       "            (intermediate_dropout): Dropout(p=0.1, inplace=False)\n",
       "            (output_dense): Linear(in_features=3072, out_features=768, bias=True)\n",
       "            (output_dropout): Dropout(p=0.0, inplace=False)\n",
       "          )\n",
       "          (final_layer_norm): LayerNorm((768,), eps=1e-05, elementwise_affine=True)\n",
       "        )\n",
       "        (11): EncoderLayer(\n",
       "          (attention): SelfAttention(\n",
       "            (dropout): Dropout(p=0.0, inplace=False)\n",
       "            (k_proj): Linear(in_features=768, out_features=768, bias=True)\n",
       "            (v_proj): Linear(in_features=768, out_features=768, bias=True)\n",
       "            (q_proj): Linear(in_features=768, out_features=768, bias=True)\n",
       "            (out_proj): Linear(in_features=768, out_features=768, bias=True)\n",
       "          )\n",
       "          (dropout): Dropout(p=0.0, inplace=False)\n",
       "          (layer_norm): LayerNorm((768,), eps=1e-05, elementwise_affine=True)\n",
       "          (feed_forward): FeedForward(\n",
       "            (intermediate_dense): Linear(in_features=768, out_features=3072, bias=True)\n",
       "            (intermediate_dropout): Dropout(p=0.1, inplace=False)\n",
       "            (output_dense): Linear(in_features=3072, out_features=768, bias=True)\n",
       "            (output_dropout): Dropout(p=0.0, inplace=False)\n",
       "          )\n",
       "          (final_layer_norm): LayerNorm((768,), eps=1e-05, elementwise_affine=True)\n",
       "        )\n",
       "      )\n",
       "    )\n",
       "  )\n",
       "  (aux): Linear(in_features=768, out_features=28, bias=True)\n",
       ")"
      ]
     },
     "execution_count": 276,
     "metadata": {},
     "output_type": "execute_result"
    }
   ],
   "source": [
    "model"
   ]
  },
  {
   "cell_type": "code",
   "execution_count": 281,
   "metadata": {},
   "outputs": [],
   "source": [
    "k = model.feature_extractor.conv_layers[0].conv.kernel_size[0]"
   ]
  },
  {
   "cell_type": "code",
   "execution_count": 277,
   "metadata": {
    "id": "4VUWECy-vyyH"
   },
   "outputs": [
    {
     "name": "stdout",
     "output_type": "stream",
     "text": [
      "torch.Size([1, 54400])\n"
     ]
    }
   ],
   "source": [
    "\n",
    "with torch.inference_mode():\n",
    "    waveform, _ = torchaudio.load(SPEECH_FILE)\n",
    "    print(waveform.shape)\n",
    "    emissions, _ = model(waveform.to(device))\n",
    "    emissions = torch.log_softmax(emissions, dim=-1)\n",
    "\n",
    "emission = emissions[0].cpu().detach()"
   ]
  },
  {
   "cell_type": "code",
   "execution_count": 10,
   "metadata": {
    "colab": {
     "base_uri": "https://localhost:8080/"
    },
    "id": "abSv4WTl3RA-",
    "outputId": "b4ce1174-e211-4ff0-ffdf-24c4c6878ae7"
   },
   "outputs": [
    {
     "data": {
      "text/plain": [
       "torch.Size([169, 28])"
      ]
     },
     "execution_count": 10,
     "metadata": {},
     "output_type": "execute_result"
    }
   ],
   "source": [
    "emission.shape"
   ]
  },
  {
   "cell_type": "markdown",
   "metadata": {
    "id": "EWWEVxGq_OsY"
   },
   "source": [
    "## Do CTC Decoder"
   ]
  },
  {
   "cell_type": "code",
   "execution_count": 11,
   "metadata": {
    "id": "yPc48W-5-4U_"
   },
   "outputs": [],
   "source": [
    "class GreedyCTCDecoder(torch.nn.Module):\n",
    "    def __init__(self, labels, blank=0):\n",
    "        super().__init__()\n",
    "        self.labels = labels\n",
    "        self.blank = blank\n",
    "\n",
    "    def forward(self, emission: torch.Tensor) -> str:\n",
    "        \"\"\"Given a sequence emission over labels, get the best path string\n",
    "        Args:\n",
    "          emission (Tensor): Logit tensors. Shape `[num_seq, num_label]`.\n",
    "\n",
    "        Returns:\n",
    "          str: The resulting transcript\n",
    "        \"\"\"\n",
    "        indices = torch.argmax(emission, dim=-1)  # [num_seq,]\n",
    "        indices = torch.unique_consecutive(indices, dim=-1)\n",
    "        indices = [i for i in indices if i != self.blank]\n",
    "        return \"\".join([self.labels[i] for i in indices])\n",
    "\n",
    "class NaiveCTCDecoder(torch.nn.Module):\n",
    "    def __init__(self, labels, blank=0):\n",
    "        super().__init__()\n",
    "        self.labels = labels\n",
    "        self.blank = blank\n",
    "\n",
    "    def forward(self, emission: torch.Tensor) -> str:\n",
    "        \"\"\"Given a sequence emission over labels, get the best path string\n",
    "        Args:\n",
    "          emission (Tensor): Logit tensors. Shape `[num_seq, num_label]`.\n",
    "\n",
    "        Returns:\n",
    "          str: The resulting transcript\n",
    "        \"\"\"\n",
    "        indices = torch.argmax(emission, dim=-1)  # [num_seq,]\n",
    "        # indices = torch.unique_consecutive(indices, dim=-1)\n",
    "        # indices = [i for i in indices if i != self.blank]\n",
    "        return \"\".join([self.labels[i] for i in indices])"
   ]
  },
  {
   "cell_type": "code",
   "execution_count": 12,
   "metadata": {
    "id": "5fwzyz0acF-Q"
   },
   "outputs": [],
   "source": [
    "labels = bundle.get_labels()\n",
    "# labels = list(labels)\n",
    "look_up = {s: i for i, s in enumerate(labels)} # 字母转数字\n",
    "# labels = {i: s for i, s in enumerate(labels)} # 数字转字母"
   ]
  },
  {
   "cell_type": "code",
   "execution_count": 13,
   "metadata": {
    "colab": {
     "base_uri": "https://localhost:8080/"
    },
    "id": "HOs2C1gKfux8",
    "outputId": "6447c7e2-7bf7-44b0-bfe3-fa2efa3229f4"
   },
   "outputs": [
    {
     "name": "stdout",
     "output_type": "stream",
     "text": [
      "bundle labels ('-', '|', 'e', 't', 'o', 'i', 'a', 'n', 's', 'r', 'h', 'l', 'd', 'c', 'u', 'm', 'p', 'f', 'g', 'w', 'y', 'b', 'v', 'k', 'x', 'j', 'q', 'z')\n"
     ]
    }
   ],
   "source": [
    "print(\"bundle labels\", labels)"
   ]
  },
  {
   "cell_type": "code",
   "execution_count": 14,
   "metadata": {
    "id": "hu4lqBv8q7gh"
   },
   "outputs": [],
   "source": [
    "# indices = torch.argmax(emission, dim=-1)  # [num_seq,]\n",
    "# torch.unique_consecutive(indices, dim=0)"
   ]
  },
  {
   "cell_type": "code",
   "execution_count": 15,
   "metadata": {
    "colab": {
     "base_uri": "https://localhost:8080/",
     "height": 53
    },
    "id": "Ri-YGQhL-84k",
    "outputId": "294d7a51-d29f-4e8d-b1b8-73474d9c52b7"
   },
   "outputs": [
    {
     "data": {
      "text/plain": [
       "'i|had|that|kery|ask|tha|he|beside|me|at|this|moment'"
      ]
     },
     "execution_count": 15,
     "metadata": {},
     "output_type": "execute_result"
    }
   ],
   "source": [
    "decoder = GreedyCTCDecoder(labels=labels)\n",
    "transcript = decoder(emission)\n",
    "transcript"
   ]
  },
  {
   "cell_type": "markdown",
   "metadata": {
    "id": "338jGyiv2gLv"
   },
   "source": [
    "# Transfer Learning in Chinese"
   ]
  },
  {
   "cell_type": "code",
   "execution_count": 14,
   "metadata": {
    "colab": {
     "base_uri": "https://localhost:8080/"
    },
    "id": "XylZWY742s78",
    "outputId": "e0cc2af0-ed7f-4209-8630-d1b02503c578"
   },
   "outputs": [],
   "source": [
    "# ! pip install pypinyin"
   ]
  },
  {
   "cell_type": "markdown",
   "metadata": {},
   "source": [
    "创建中文注音label，不要让模型直接预测拼音，而是改为预测音素"
   ]
  },
  {
   "cell_type": "code",
   "execution_count": 16,
   "metadata": {},
   "outputs": [],
   "source": [
    "initial_table = ['b', 'p', 'm', 'f',\n",
    "                'd', 't', 'n', 'l',\n",
    "                'g', 'k', 'h',\n",
    "                'j', 'q', 'x',\n",
    "                'zh', 'ch', 'sh', 'r', 'z', 'c', 's']\n",
    "\n",
    "finals_table = [['i', 'u', 'v'], # 可以与下面的配成 iao, ue\n",
    "                ['a', 'o', 'e', \n",
    "                'ai', 'ei', 'ao',\n",
    "                'ou', 'an', 'en',\n",
    "                'ang', 'eng', 'ong',\n",
    "                'er']]\n",
    "\n",
    "# labels = ['-','|']+initial_table + finals_table[0] + finals_table[1]\n",
    "# look_up = {s: i for i, s in enumerate(labels)} # 字母转数字"
   ]
  },
  {
   "cell_type": "code",
   "execution_count": 17,
   "metadata": {},
   "outputs": [
    {
     "name": "stdout",
     "output_type": "stream",
     "text": [
      "('-', '|', 'e', 't', 'o', 'i', 'a', 'n', 's', 'r', 'h', 'l', 'd', 'c', 'u', 'm', 'p', 'f', 'g', 'w', 'y', 'b', 'v', 'k', 'x', 'j', 'q', 'z') 28\n"
     ]
    }
   ],
   "source": [
    "print(labels, len(labels))"
   ]
  },
  {
   "cell_type": "code",
   "execution_count": 18,
   "metadata": {},
   "outputs": [],
   "source": [
    "decoder = GreedyCTCDecoder(labels=labels)"
   ]
  },
  {
   "cell_type": "code",
   "execution_count": 19,
   "metadata": {
    "id": "PDZ4lCIE2r4C"
   },
   "outputs": [],
   "source": [
    "import pypinyin\n",
    "from pypinyin import lazy_pinyin, Style"
   ]
  },
  {
   "cell_type": "code",
   "execution_count": 20,
   "metadata": {},
   "outputs": [
    {
     "data": {
      "text/plain": [
       "(['l', '', '', ''], ['in', 'vn', 'er', ''])"
      ]
     },
     "execution_count": 20,
     "metadata": {},
     "output_type": "execute_result"
    }
   ],
   "source": [
    "lazy_pinyin('林允儿嗯', strict=True, style=Style.INITIALS, errors=lambda x: u'-'),\\\n",
    "    lazy_pinyin('林云儿嗯', strict=True, style=Style.FINALS, errors=lambda x: u'-')"
   ]
  },
  {
   "cell_type": "code",
   "execution_count": 231,
   "metadata": {
    "colab": {
     "base_uri": "https://localhost:8080/",
     "height": 35
    },
    "id": "Q2vrhkL624Qt",
    "outputId": "b2ea29d2-2b07-4561-f72b-e0dff33fe47d"
   },
   "outputs": [
    {
     "data": {
      "text/plain": [
       "'|lv|se|de|uen|shuei|v|huei|de|u|ian|liou|guo|a|ua|n|uen|niou|er|guei|qv'"
      ]
     },
     "execution_count": 231,
     "metadata": {},
     "output_type": "execute_result"
    }
   ],
   "source": [
    "def chinese2pinyin(text):\n",
    "    initials = lazy_pinyin(text, strict=True, style=Style.INITIALS, errors=lambda x: u'')\n",
    "    finals = lazy_pinyin(text, strict=True, style=Style.FINALS, errors=lambda x: u'')\n",
    "    pinyin = ''\n",
    "    for i in range(len(finals)):\n",
    "        pinyin+='|'\n",
    "        if (initials[i] == '-'):\n",
    "            continue\n",
    "        pinyin+=initials[i]\n",
    "        pinyin+=finals[i]\n",
    "        if finals[i] == '':\n",
    "            pinyin+='n'\n",
    "    if pinyin[-1] == '|':\n",
    "        pinyin = pinyin[:-1]\n",
    "    return pinyin.lower().replace('w','u')\n",
    "\n",
    "''.join(chinese2pinyin(\"绿色的温水，迂回的乌烟，流过。啊！哇！嗯，问妞儿归去.\"))"
   ]
  },
  {
   "cell_type": "code",
   "execution_count": 22,
   "metadata": {
    "colab": {
     "base_uri": "https://localhost:8080/"
    },
    "id": "ixhxpT2Z3Whj",
    "outputId": "a8880056-036d-4eb2-e9f2-51519fefc0a6"
   },
   "outputs": [],
   "source": [
    "def label2id(str):\n",
    "    return [look_up[i] for i in str]\n",
    "\n",
    "def id2label(idcs):\n",
    "    return [labels[i] for i in idcs]\n",
    "\n",
    "# label2id(chinese2pinyin(\"美好，我很开心儿！\")), ','.join(id2label(label2id(chinese2pinyin(\"美好，我很开心！\"))))"
   ]
  },
  {
   "cell_type": "code",
   "execution_count": 261,
   "metadata": {
    "id": "6Y46sWzp5My_"
   },
   "outputs": [],
   "source": [
    "from torch.utils.data import Dataset, DataLoader, default_collate"
   ]
  },
  {
   "cell_type": "code",
   "execution_count": 368,
   "metadata": {
    "id": "Gk8MEOQa5NYi"
   },
   "outputs": [],
   "source": [
    "sr = 16000\n",
    "class AudioDataset(Dataset):\n",
    "\n",
    "    def __init__(self, file_names, data_path, sample_rate=sr, transform=None):\n",
    "        \"\"\"\n",
    "        Args:\n",
    "            csv_file (string): Path to the csv file with annotations.\n",
    "            root_dir (string): Directory with all the images.\n",
    "            transform (callable, optional): Optional transform to be applied\n",
    "                on a sample.\n",
    "        \"\"\"\n",
    "        self.file_names = file_names\n",
    "        self.root_dir = data_path\n",
    "        self.transform = transform\n",
    "        self.sample_rate = sample_rate\n",
    "\n",
    "    def __len__(self):\n",
    "        return len(self.file_names)\n",
    "\n",
    "    def __getitem__(self, idx):\n",
    "        if torch.is_tensor(idx):\n",
    "            idx = idx.tolist()\n",
    "\n",
    "        audio_name = get_audio(idx)\n",
    "        waveform, sample_rate = torchaudio.load(audio_name)\n",
    "        waveform = waveform.to(device)\n",
    "        \n",
    "        if sample_rate != self.sample_rate:\n",
    "            waveform = torchaudio.functional.resample(waveform, sample_rate, self.sample_rate)\n",
    "        \n",
    "        audio_content = get_text(idx)\n",
    "        \n",
    "        sample = {'audio': waveform, 'text': audio_content}\n",
    "\n",
    "        if self.transform:\n",
    "            sample = self.transform(sample)\n",
    "\n",
    "        return sample"
   ]
  },
  {
   "cell_type": "code",
   "execution_count": 369,
   "metadata": {
    "colab": {
     "base_uri": "https://localhost:8080/"
    },
    "id": "VWLULmwu5ZwV",
    "outputId": "b79c6d77-cc6d-4c76-cd75-c6fd406a481e"
   },
   "outputs": [
    {
     "data": {
      "text/plain": [
       "{'audio': tensor([[ 4.8828e-04,  4.8828e-04,  2.4414e-04,  ...,  0.0000e+00,\n",
       "          -6.1035e-05, -4.5776e-04]]),\n",
       " 'text': '那爽死了呵呵你军训完了吗'}"
      ]
     },
     "execution_count": 369,
     "metadata": {},
     "output_type": "execute_result"
    }
   ],
   "source": [
    "audio_dataset = AudioDataset(file_names, data_path, sample_rate=16000)\n",
    "audio_dataset[0]"
   ]
  },
  {
   "cell_type": "code",
   "execution_count": 399,
   "metadata": {},
   "outputs": [],
   "source": [
    "batch_size = 8\n",
    "k_size = model.feature_extractor.conv_layers[0].conv.kernel_size[0]\n",
    "def collate_wrapper(batch):\n",
    "    rand_shift = torch.randint(k_size, (batch_size,))\n",
    "    audio_list = [batch[i]['audio'][:,rand_shift[i]:] for i in range(batch_size)]\n",
    "    audio_length = torch.tensor([audio.shape[-1] for audio in audio_list])\n",
    "    max_audio_length = torch.max(audio_length)\n",
    "    audio_list = torch.cat([torch.cat(\n",
    "        (audio, torch.zeros(max_audio_length-audio.shape[-1]).unsqueeze(0)), -1)\n",
    "         for audio in audio_list], 0)\n",
    "    target_list = [label2id(chinese2pinyin(item['text'])) for item in batch]\n",
    "    target_length = torch.tensor([len(l) for l in target_list])\n",
    "    max_target_length = torch.max(target_length)\n",
    "    target_list = torch.cat([torch.cat(\n",
    "        (torch.tensor(l), torch.zeros(max_target_length-len(l))), -1).unsqueeze(0) \n",
    "        for l in target_list], 0)\n",
    "    return {'audio': audio_list, 'target': target_list, 'audio_len': audio_length, 'target_len': target_length}\n",
    "\n",
    "dataloader = DataLoader(audio_dataset, batch_size=batch_size,\n",
    "                        shuffle=True, num_workers=0, collate_fn=collate_wrapper)"
   ]
  },
  {
   "cell_type": "code",
   "execution_count": 400,
   "metadata": {},
   "outputs": [
    {
     "name": "stdout",
     "output_type": "stream",
     "text": [
      "torch.Size([8, 95978]) torch.Size([8, 58])\n"
     ]
    }
   ],
   "source": [
    "for i_batch, sample_batched in enumerate(dataloader):\n",
    "    print(sample_batched['audio'].shape, sample_batched['target'].shape)\n",
    "    # for i in sample_batched['audio']:\n",
    "    #     print(i.shape)\n",
    "    break"
   ]
  },
  {
   "cell_type": "code",
   "execution_count": 401,
   "metadata": {
    "colab": {
     "base_uri": "https://localhost:8080/"
    },
    "id": "halKAY734uTG",
    "outputId": "f08250be-05a8-4e38-fde6-6db9283c8e5d"
   },
   "outputs": [
    {
     "data": {
      "text/plain": [
       "(torch.Size([8, 299, 28]), torch.Size([8]))"
      ]
     },
     "execution_count": 401,
     "metadata": {},
     "output_type": "execute_result"
    }
   ],
   "source": [
    "o, l = model(sample_batched['audio'], sample_batched['audio_len'])\n",
    "o.shape, l.shape"
   ]
  },
  {
   "cell_type": "code",
   "execution_count": 402,
   "metadata": {
    "colab": {
     "base_uri": "https://localhost:8080/"
    },
    "id": "vv_GXElL6bzt",
    "outputId": "17bf3048-27be-4c91-9d20-4b9b21eb4c6c"
   },
   "outputs": [
    {
     "data": {
      "text/plain": [
       "'|ruga|was|how|indo|har|take|wer|yor|gowong|ton'"
      ]
     },
     "execution_count": 402,
     "metadata": {},
     "output_type": "execute_result"
    }
   ],
   "source": [
    "emissions = torch.log_softmax(o, dim=-1)\n",
    "transcript = decoder(emissions[2])\n",
    "transcript"
   ]
  },
  {
   "cell_type": "code",
   "execution_count": 403,
   "metadata": {},
   "outputs": [
    {
     "name": "stdout",
     "output_type": "stream",
     "text": [
      "torch.Size([8, 299, 28]) torch.Size([8, 58]) torch.Size([8]) torch.Size([8])\n"
     ]
    },
    {
     "data": {
      "text/plain": [
       "tensor(-25.5624, grad_fn=<MeanBackward0>)"
      ]
     },
     "execution_count": 403,
     "metadata": {},
     "output_type": "execute_result"
    }
   ],
   "source": [
    "ctc_loss = torch.nn.CTCLoss(zero_infinity=True)\n",
    "print(o.shape, sample_batched['target'].shape, l.shape, sample_batched['target_len'].shape)\n",
    "loss = ctc_loss(o.permute(1,0,2), sample_batched['target'], l, sample_batched['target_len'])\n",
    "loss"
   ]
  },
  {
   "cell_type": "code",
   "execution_count": 238,
   "metadata": {},
   "outputs": [],
   "source": [
    "model = bundle.get_model()\n",
    "for param in model.parameters():\n",
    "    param.requires_grad = False\n",
    "# model.aux = torch.nn.Linear(in_features=model.aux.in_features, out_features=model.aux.out_features, bias=True)\n",
    "# torch.nn.init.xavier_normal(model.aux.weight)\n",
    "for param in model.aux.parameters():\n",
    "    param.requires_grad = True\n",
    "model = model.to(device)"
   ]
  },
  {
   "cell_type": "code",
   "execution_count": 29,
   "metadata": {
    "colab": {
     "base_uri": "https://localhost:8080/"
    },
    "id": "on9zm2QrFu4K",
    "outputId": "55ec2cff-9147-4dd3-f65c-fd2d1c28c66f"
   },
   "outputs": [
    {
     "name": "stdout",
     "output_type": "stream",
     "text": [
      "2 torch.Size([1, 61664]) 领导都准备暗示让我辞职\n",
      "torch.Size([192, 1, 28]) torch.Size([1, 44])\n"
     ]
    },
    {
     "data": {
      "text/plain": [
       "('leann||no||thoughh||turn||they|antalo|what|s',\n",
       " 'l,i,n,g,|,d,a,o,|,d,o,u,|,z,h,u,e,n,|,b,e,i,|,a,n,|,s,h,i,|,r,a,n,g,|,u,o,|,c,i,|,z,h,i',\n",
       " 2.7934839725494385)"
      ]
     },
     "execution_count": 29,
     "metadata": {},
     "output_type": "execute_result"
    }
   ],
   "source": [
    "with torch.no_grad():\n",
    "    i = 2\n",
    "    sample = audio_dataset[i]\n",
    "    print(i, sample['audio'].shape, sample['text'])\n",
    "\n",
    "    waveform = sample['audio']\n",
    "    emissions, _ = model(waveform.to(device))\n",
    "    emissions = torch.log_softmax(emissions, dim=-1).permute(1, 0, 2)\n",
    "\n",
    "    ctc_loss = torch.nn.CTCLoss(zero_infinity=True)\n",
    "    target = torch.tensor([label2id(chinese2pinyin(sample['text']))])\n",
    "    # target = \n",
    "    print(emissions.shape, target.shape)\n",
    "    Input_lengths = (emissions.shape[0],)\n",
    "    Target_lengths = (target.shape[-1],)\n",
    "    loss = ctc_loss(emissions, target, Input_lengths, Target_lengths)\n",
    "\n",
    "emission = emissions.cpu().detach()\n",
    "transcript = decoder(emission)\n",
    "transcript, ','.join(chinese2pinyin(sample['text'])), loss.item()"
   ]
  },
  {
   "cell_type": "code",
   "execution_count": 30,
   "metadata": {},
   "outputs": [],
   "source": [
    "# chinese2pinyin(sample['text'])"
   ]
  },
  {
   "cell_type": "code",
   "execution_count": 31,
   "metadata": {},
   "outputs": [
    {
     "name": "stdout",
     "output_type": "stream",
     "text": [
      "[11, 5, 7, 18, 1, 12, 6, 4, 1, 12, 4, 14, 1, 27, 10, 14, 2, 7, 1, 21, 2, 5, 1, 6, 7, 1, 8, 10, 5, 1, 9, 6, 7, 18, 1, 14, 4, 1, 13, 5, 1, 27, 10, 5]\n"
     ]
    },
    {
     "data": {
      "text/plain": [
       "(44, None)"
      ]
     },
     "execution_count": 31,
     "metadata": {},
     "output_type": "execute_result"
    }
   ],
   "source": [
    "id = label2id(chinese2pinyin(sample['text']))\n",
    "len(id),print(id)"
   ]
  },
  {
   "cell_type": "code",
   "execution_count": 32,
   "metadata": {
    "colab": {
     "base_uri": "https://localhost:8080/"
    },
    "id": "1Jg4wgN2ASKy",
    "outputId": "543d3537-5e06-4d52-f58c-d4651cbbc74d"
   },
   "outputs": [
    {
     "data": {
      "text/plain": [
       "102600"
      ]
     },
     "execution_count": 32,
     "metadata": {},
     "output_type": "execute_result"
    }
   ],
   "source": [
    "len(audio_dataset)"
   ]
  },
  {
   "cell_type": "code",
   "execution_count": 113,
   "metadata": {},
   "outputs": [],
   "source": [
    "# model"
   ]
  },
  {
   "cell_type": "code",
   "execution_count": 33,
   "metadata": {
    "colab": {
     "base_uri": "https://localhost:8080/"
    },
    "id": "RlyFEvMlbrzD",
    "outputId": "09dfb456-5061-4cba-b9ad-59bf3de1d044"
   },
   "outputs": [
    {
     "data": {
      "text/plain": [
       "Linear(in_features=768, out_features=28, bias=True)"
      ]
     },
     "execution_count": 33,
     "metadata": {},
     "output_type": "execute_result"
    }
   ],
   "source": [
    "model.aux"
   ]
  },
  {
   "cell_type": "code",
   "execution_count": 34,
   "metadata": {
    "id": "UxcdEXcRBVvP"
   },
   "outputs": [],
   "source": [
    "# optimizer = torch.optim.SGD(model.aux.parameters(), lr=0.01, momentum=0.9)\n",
    "# optimizer = torch.optim.Adam(model.aux.parameters(), lr=0.01)\n",
    "optimizer = torch.optim.SGD(model.aux.parameters(), lr=0.01, momentum=0.9)\n",
    "scheduler = torch.optim.lr_scheduler.StepLR(optimizer, step_size=5, gamma=0.1)"
   ]
  },
  {
   "cell_type": "markdown",
   "metadata": {},
   "source": [
    "## Try to save checkpoint"
   ]
  },
  {
   "cell_type": "code",
   "execution_count": 239,
   "metadata": {},
   "outputs": [
    {
     "name": "stdout",
     "output_type": "stream",
     "text": [
      "file ./checkpoint/model3.pt exist, load checkpoint...\n",
      "0 0.8972475091874832\n"
     ]
    }
   ],
   "source": [
    "from os.path import exists\n",
    "\n",
    "LOAD_PATH = './checkpoint/model3.pt'\n",
    "if exists(LOAD_PATH):\n",
    "    print('file',LOAD_PATH,'exist, load checkpoint...')\n",
    "    checkpoint = torch.load(LOAD_PATH, map_location=torch.device('cpu'))\n",
    "    model.aux.load_state_dict(checkpoint['model_state_dict'])\n",
    "    optimizer.load_state_dict(checkpoint['optimizer_state_dict'])\n",
    "    epoch = checkpoint['epoch']\n",
    "    loss = checkpoint['loss']\n",
    "    print(epoch, loss)"
   ]
  },
  {
   "cell_type": "code",
   "execution_count": 214,
   "metadata": {},
   "outputs": [],
   "source": [
    "# checkpoint = torch.load(PATH)\n",
    "# model.aux.load_state_dict(checkpoint['model_state_dict'])\n",
    "# optimizer.load_state_dict(checkpoint['optimizer_state_dict'])\n",
    "# epoch = checkpoint['epoch']\n",
    "# loss = checkpoint['loss']\n",
    "# print(epoch, loss)"
   ]
  },
  {
   "cell_type": "markdown",
   "metadata": {
    "id": "ZeeQ6otzJaUb"
   },
   "source": [
    "使用DataLoader按照批次加载"
   ]
  },
  {
   "cell_type": "code",
   "execution_count": 215,
   "metadata": {
    "id": "1INMn0OwJZxz"
   },
   "outputs": [],
   "source": [
    "batch_size = 8\n",
    "\n",
    "def collate_wrapper(batch):\n",
    "    audio_list = [item['audio'] for item in batch]\n",
    "    target_list = [label2id(chinese2pinyin(item['text'])) for item in batch]\n",
    "    return {'audio': audio_list, 'target': target_list}\n",
    "\n",
    "dataloader = DataLoader(audio_dataset, batch_size=batch_size,\n",
    "                        shuffle=True, num_workers=0, collate_fn=collate_wrapper)"
   ]
  },
  {
   "cell_type": "code",
   "execution_count": 216,
   "metadata": {},
   "outputs": [
    {
     "data": {
      "text/plain": [
       "<torch.utils.data.dataloader.DataLoader at 0x7fa32f2b1120>"
      ]
     },
     "execution_count": 216,
     "metadata": {},
     "output_type": "execute_result"
    }
   ],
   "source": [
    "dataloader"
   ]
  },
  {
   "cell_type": "code",
   "execution_count": 217,
   "metadata": {
    "id": "1UpzN5A8gcG9"
   },
   "outputs": [],
   "source": [
    "def test(k):\n",
    "    model.eval()\n",
    "    with torch.no_grad():\n",
    "        for i in range(k):\n",
    "            sample = audio_dataset[i]\n",
    "            print(i, sample['audio'].shape, sample['text'])\n",
    "            waveform = sample['audio']\n",
    "            emissions, _ = model(waveform.to(device))\n",
    "            emissions = torch.log_softmax(emissions, dim=-1)\n",
    "            emission = emissions[0].cpu().detach()\n",
    "            transcript = decoder(emission)\n",
    "            print('transcript:', transcript, NaiveCTCDecoder(labels)(emission))"
   ]
  },
  {
   "cell_type": "code",
   "execution_count": 218,
   "metadata": {},
   "outputs": [],
   "source": [
    "def save_checkpoint(EPOCH, LOSS):\n",
    "    PATH = f\"./checkpoint/model_{EPOCH}_{LOSS}.pt\"\n",
    "    torch.save({\n",
    "            'epoch': EPOCH,\n",
    "            'model_state_dict': model.aux.state_dict(),\n",
    "            'optimizer_state_dict': optimizer.state_dict(),\n",
    "            'loss': LOSS,\n",
    "            }, PATH)"
   ]
  },
  {
   "cell_type": "code",
   "execution_count": 219,
   "metadata": {
    "colab": {
     "base_uri": "https://localhost:8080/"
    },
    "id": "2A-wEbquIHz6",
    "outputId": "caa08255-83fe-49b1-b850-d679ea632c58"
   },
   "outputs": [],
   "source": [
    "def train():\n",
    "    for epoch in range(1):\n",
    "        model.train()\n",
    "        for i_batch, sample_batched in enumerate(dataloader):\n",
    "            for i in range(batch_size):  # Cannot run in batch, only 1 by 1\n",
    "                optimizer.zero_grad()\n",
    "                # Step 1. Prepare Data\n",
    "                waveform = sample_batched['audio'][i]\n",
    "                target = sample_batched['target'][i]\n",
    "\n",
    "                # Step 2. Run our forward pass\n",
    "                emissions, _ = model(waveform.to(device))\n",
    "                emissions = torch.nn.functional.log_softmax(emissions, dim=-1).permute(1, 0, 2)\n",
    "                target = torch.tensor([target]).to(device)\n",
    "                loss = ctc_loss(emissions, target, (emissions.shape[0],), (target.shape[-1],))\n",
    "\n",
    "                # Step 2. Run our backward pass\n",
    "                loss.backward()\n",
    "                optimizer.step()\n",
    "\n",
    "            if i_batch % (400 // batch_size) == 0:\n",
    "                print('epoch', epoch, 'loss', loss.item())\n",
    "        scheduler.step()\n",
    "        save_checkpoint(epoch, loss.item())\n",
    "        test(3) # run some sample prediction and see the result\n",
    "\n",
    "# train()"
   ]
  },
  {
   "cell_type": "code",
   "execution_count": 228,
   "metadata": {
    "colab": {
     "base_uri": "https://localhost:8080/"
    },
    "id": "_W36_s3Z_CES",
    "outputId": "0e74fc48-7695-4bf3-c831-fe0ec2342971"
   },
   "outputs": [
    {
     "name": "stdout",
     "output_type": "stream",
     "text": [
      "please check ./audio-temp.wav for audio\n",
      "5 torch.Size([1, 68896]) 今儿早上我起来在院子里走了几圈\n"
     ]
    },
    {
     "data": {
      "text/plain": [
       "('qi|ar|zao|shang|uo|qi|la|dai|van|zi|li|zo|le|qiqv',\n",
       " '-----------------------------------q-iii||||---a-rr|||zz---ao|||ssh-anngg|||-uu-o-|||--qqii|||l-aa||||-d--ai-|||-vvaannn|||-z--i|||lii--|||zz-oo-|||--l-e--||---qii------qqvvv-----------------------------------------')"
      ]
     },
     "execution_count": 228,
     "metadata": {},
     "output_type": "execute_result"
    }
   ],
   "source": [
    "with torch.no_grad():\n",
    "    i = 5\n",
    "    sample = audio_dataset[i]\n",
    "    Audio(get_audio(i))\n",
    "    print(i, sample['audio'].shape, sample['text'])\n",
    "\n",
    "    waveform = sample['audio']\n",
    "    # waveform, sample_rate = torchaudio.load('./_assets/t3.wav')\n",
    "    # waveform = torchaudio.functional.resample(waveform, sample_rate, sr)\n",
    "    emissions_org, _ = model(waveform.to(device))\n",
    "    emissions = torch.log_softmax(emissions_org, dim=-1)\n",
    "\n",
    "emission = emissions[0].cpu().detach()\n",
    "transcript = decoder(emission)\n",
    "transcript, NaiveCTCDecoder(labels)(emission)"
   ]
  },
  {
   "cell_type": "markdown",
   "metadata": {
    "id": "lSBVmG-mvyyH"
   },
   "source": [
    "### Visualization\n",
    "\n"
   ]
  },
  {
   "cell_type": "code",
   "execution_count": 174,
   "metadata": {
    "colab": {
     "base_uri": "https://localhost:8080/",
     "height": 244
    },
    "id": "QyrHL3FWvyyI",
    "outputId": "8d4df375-b10e-4219-f124-e5433357df2e"
   },
   "outputs": [
    {
     "name": "stdout",
     "output_type": "stream",
     "text": [
      "('-', '|', 'e', 't', 'o', 'i', 'a', 'n', 's', 'r', 'h', 'l', 'd', 'c', 'u', 'm', 'p', 'f', 'g', 'w', 'y', 'b', 'v', 'k', 'x', 'j', 'q', 'z')\n"
     ]
    },
    {
     "data": {
      "image/png": "[encoded data removed]",
      "text/plain": [
       "<Figure size 1152x345.6 with 2 Axes>"
      ]
     },
     "metadata": {
      "needs_background": "light"
     },
     "output_type": "display_data"
    }
   ],
   "source": [
    "print(labels)\n",
    "plt.imshow(emission.T)\n",
    "plt.colorbar()\n",
    "plt.title(\"Frame-wise class probability\")\n",
    "plt.xlabel(\"Time\")\n",
    "plt.ylabel(\"Labels\")\n",
    "plt.show()"
   ]
  },
  {
   "cell_type": "markdown",
   "metadata": {
    "id": "c6qWLK5ovyyI"
   },
   "source": [
    "## Generate alignment probability (trellis)\n",
    "\n",
    "From the emission matrix, next we generate the trellis which represents\n",
    "the probability of transcript labels occur at each time frame.\n",
    "\n",
    "Trellis is 2D matrix with time axis and label axis. The label axis\n",
    "represents the transcript that we are aligning. In the following, we use\n",
    "$t$ to denote the index in time axis and $j$ to denote the\n",
    "index in label axis. $c_j$ represents the label at label index\n",
    "$j$.\n",
    "\n",
    "To generate, the probability of time step $t+1$, we look at the\n",
    "trellis from time step $t$ and emission at time step $t+1$.\n",
    "There are two path to reach to time step $t+1$ with label\n",
    "$c_{j+1}$. The first one is the case where the label was\n",
    "$c_{j+1}$ at $t$ and there was no label change from\n",
    "$t$ to $t+1$. The other case is where the label was\n",
    "$c_j$ at $t$ and it transitioned to the next label\n",
    "$c_{j+1}$ at $t+1$.\n",
    "\n",
    "The follwoing diagram illustrates this transition.\n",
    "\n",
    "<img src=\"https://download.pytorch.org/torchaudio/tutorial-assets/ctc-forward.png\">\n",
    "\n",
    "Since we are looking for the most likely transitions, we take the more\n",
    "likely path for the value of $k_{(t+1, j+1)}$, that is\n",
    "\n",
    "$k_{(t+1, j+1)} = max( k_{(t, j)} p(t+1, c_{j+1}), k_{(t, j+1)} p(t+1, repeat) )$\n",
    "\n",
    "where $k$ represents is trellis matrix, and $p(t, c_j)$\n",
    "represents the probability of label $c_j$ at time step $t$.\n",
    "$repeat$ represents the blank token from CTC formulation. (For the\n",
    "detail of CTC algorithm, please refer to the *Sequence Modeling with CTC*\n",
    "[`distill.pub <https://distill.pub/2017/ctc/>`__])\n",
    "\n",
    "\n"
   ]
  },
  {
   "cell_type": "code",
   "execution_count": 175,
   "metadata": {
    "colab": {
     "base_uri": "https://localhost:8080/"
    },
    "id": "xFtP09eOvyyJ",
    "outputId": "730ec8c5-7f3e-4e57-8670-bd21d1330ccb"
   },
   "outputs": [
    {
     "name": "stdout",
     "output_type": "stream",
     "text": [
      "[('x', 24), ('i', 5), ('|', 1), ('h', 10), ('e', 2), ('|', 1), ('|', 1), ('s', 8), ('i', 5), ('|', 1), ('z', 27), ('a', 6), ('i', 5), ('|', 1), ('k', 23), ('u', 14), ('|', 1), ('z', 27), ('e', 2), ('n', 7), ('|', 1), ('x', 24), ('i', 5), ('|', 1), ('b', 21), ('a', 6), ('|', 1), ('r', 9), ('e', 2), ('|', 1), ('g', 18), ('o', 4), ('|', 1), ('|', 1), ('z', 27), ('e', 2), ('|', 1), ('h', 10), ('a', 6), ('|', 1), ('m', 15), ('e', 2), ('i', 5), ('|', 1), ('b', 21), ('e', 2)]\n"
     ]
    }
   ],
   "source": [
    "transcript = transcript\n",
    "dictionary = {c: i for i, c in enumerate(labels)}\n",
    "\n",
    "tokens = [dictionary[c] for c in transcript]\n",
    "print(list(zip(transcript, tokens)))\n",
    "\n",
    "\n",
    "def get_trellis(emission, tokens, blank_id=0):\n",
    "    num_frame = emission.size(0)\n",
    "    num_tokens = len(tokens)\n",
    "\n",
    "    # Trellis has extra diemsions for both time axis and tokens.\n",
    "    # The extra dim for tokens represents <SoS> (start-of-sentence)\n",
    "    # The extra dim for time axis is for simplification of the code.\n",
    "    trellis = torch.full((num_frame + 1, num_tokens + 1), -float(\"inf\"))\n",
    "    trellis[:, 0] = 0\n",
    "    for t in range(num_frame):\n",
    "        trellis[t + 1, 1:] = torch.maximum(\n",
    "            # Score for staying at the same token\n",
    "            trellis[t, 1:] + emission[t, blank_id],\n",
    "            # Score for changing to the next token\n",
    "            trellis[t, :-1] + emission[t, tokens],\n",
    "        )\n",
    "    return trellis\n",
    "\n",
    "\n",
    "trellis = get_trellis(emission, tokens)"
   ]
  },
  {
   "cell_type": "code",
   "execution_count": 176,
   "metadata": {},
   "outputs": [
    {
     "data": {
      "text/plain": [
       "'----------------------------x--iiii---||||||-----h------e------|-------------------------|||||-----s-----------i--|||||------z--------aa----------------i-||-k--uuu------||-------------------------z----ennnnn-||||---x---ii-------||||---b----a-------|||-r--e------------||---g---o--||-----||-z--e--------|||-----h----a------|||||--mm---e--iii-||||--bb-e----------------------------------------------------------------------------------------------------------------------------------------------------------------------------------------------------------'"
      ]
     },
     "execution_count": 176,
     "metadata": {},
     "output_type": "execute_result"
    }
   ],
   "source": [
    "NaiveCTCDecoder(labels)(emission)"
   ]
  },
  {
   "cell_type": "code",
   "execution_count": 177,
   "metadata": {},
   "outputs": [
    {
     "data": {
      "text/plain": [
       "tensor([[ 8.6302, -1.9846, -2.0027, -0.8404, -2.0086, -0.0748, -0.4026,  2.2625,\n",
       "          3.7765,  2.4678,  2.8657, -1.3392, -1.7977,  2.2792, -0.9816, -0.9296,\n",
       "          1.7743, -1.2655, -0.7952, -3.9953, -3.5650, -0.5255, -2.6373,  0.1476,\n",
       "          1.1217,  0.3303, -0.9923,  1.1622],\n",
       "        [ 8.8245, -1.4128, -1.9220, -0.4083, -2.0476, -0.0953, -0.8417,  1.8605,\n",
       "          3.3026,  2.1380,  2.3401, -1.2810, -1.3274,  2.1688, -1.2351, -1.1245,\n",
       "          1.6615, -1.3111, -0.8118, -4.1544, -3.7530, -0.4567, -2.4779, -0.1162,\n",
       "          1.2332,  0.8365, -0.3555,  1.4261]])"
      ]
     },
     "execution_count": 177,
     "metadata": {},
     "output_type": "execute_result"
    }
   ],
   "source": [
    "emissions_org[:,0]"
   ]
  },
  {
   "cell_type": "code",
   "execution_count": 178,
   "metadata": {},
   "outputs": [
    {
     "data": {
      "text/plain": [
       "'----------------------------x--iiii---||||||-----h------e------|-------------------------|||||-----s-----------i--|||||------z--------aa----------------i-||-k--uuu------||-------------------------z----ennnnn-||||---x---ii-------||||---b----a-------|||-r--e------------||---g---o--||-----||-z--e--------|||-----h----a------|||||--mm---e--iii-||||--bb-e----------------------------------------------------------------------------------------------------------------------------------------------------------------------------------------------------------'"
      ]
     },
     "execution_count": 178,
     "metadata": {},
     "output_type": "execute_result"
    }
   ],
   "source": [
    "class ChineseDecoder(torch.nn.Module):\n",
    "    def __init__(self, labels, blank=0):\n",
    "        super().__init__()\n",
    "        self.labels = labels\n",
    "        self.blank = blank\n",
    "\n",
    "    def forward(self, emission: torch.Tensor) -> str:\n",
    "        \"\"\"Given a sequence emission over labels, get the best path string\n",
    "        Args:\n",
    "          emission (Tensor): Logit tensors. Shape `[num_seq, num_label]`.\n",
    "\n",
    "        Returns:\n",
    "          str: The resulting transcript\n",
    "        \"\"\"\n",
    "        indices = torch.argmax(emission, dim=-1)  # [num_seq,]\n",
    "        # indices = torch.unique_consecutive(indices, dim=-1)\n",
    "        # indices = [i for i in indices if i != self.blank]\n",
    "        return \"\".join([self.labels[i] for i in indices])\n",
    "\n",
    "ChineseDecoder(labels)(emission)"
   ]
  },
  {
   "cell_type": "markdown",
   "metadata": {
    "id": "H_dvx9i0vyyK"
   },
   "source": [
    "### Visualization\n",
    "\n"
   ]
  },
  {
   "cell_type": "code",
   "execution_count": 179,
   "metadata": {
    "colab": {
     "base_uri": "https://localhost:8080/",
     "height": 305
    },
    "id": "KK4HhTNivyyK",
    "outputId": "2e769389-700b-42f0-9dc5-f0f6dc45c492"
   },
   "outputs": [
    {
     "data": {
      "image/png": "[encoded data removed]",
      "text/plain": [
       "<Figure size 1152x345.6 with 2 Axes>"
      ]
     },
     "metadata": {
      "needs_background": "light"
     },
     "output_type": "display_data"
    }
   ],
   "source": [
    "plt.imshow(trellis[1:, 1:].T, origin=\"lower\")\n",
    "plt.annotate(\"- Inf\", (trellis.size(1) / 5, trellis.size(1) / 1.5))\n",
    "plt.colorbar()\n",
    "plt.show()"
   ]
  },
  {
   "cell_type": "markdown",
   "metadata": {
    "id": "OEFqlf0HvyyK"
   },
   "source": [
    "In the above visualization, we can see that there is a trace of high\n",
    "probability crossing the matrix diagonally.\n",
    "\n",
    "\n"
   ]
  },
  {
   "cell_type": "markdown",
   "metadata": {
    "id": "u4uxqOk5vyyK"
   },
   "source": [
    "## Find the most likely path (backtracking)\n",
    "\n",
    "Once the trellis is generated, we will traverse it following the\n",
    "elements with high probability.\n",
    "\n",
    "We will start from the last label index with the time step of highest\n",
    "probability, then, we traverse back in time, picking stay\n",
    "($c_j \\rightarrow c_j$) or transition\n",
    "($c_j \\rightarrow c_{j+1}$), based on the post-transition\n",
    "probability $k_{t, j} p(t+1, c_{j+1})$ or\n",
    "$k_{t, j+1} p(t+1, repeat)$.\n",
    "\n",
    "Transition is done once the label reaches the beginning.\n",
    "\n",
    "The trellis matrix is used for path-finding, but for the final\n",
    "probability of each segment, we take the frame-wise probability from\n",
    "emission matrix.\n",
    "\n",
    "\n"
   ]
  },
  {
   "cell_type": "code",
   "execution_count": 180,
   "metadata": {
    "colab": {
     "base_uri": "https://localhost:8080/"
    },
    "id": "1pKKf-3bvyyL",
    "outputId": "b5c48481-172b-4a6f-fe9c-992204e63afc"
   },
   "outputs": [],
   "source": [
    "@dataclass\n",
    "class Point:\n",
    "    token_index: int\n",
    "    time_index: int\n",
    "    score: float\n",
    "\n",
    "\n",
    "def backtrack(trellis, emission, tokens, blank_id=0):\n",
    "    # Note:\n",
    "    # j and t are indices for trellis, which has extra dimensions\n",
    "    # for time and tokens at the beginning.\n",
    "    # When referring to time frame index `T` in trellis,\n",
    "    # the corresponding index in emission is `T-1`.\n",
    "    # Similarly, when referring to token index `J` in trellis,\n",
    "    # the corresponding index in transcript is `J-1`.\n",
    "    j = trellis.size(1) - 1\n",
    "    t_start = torch.argmax(trellis[:, j]).item()\n",
    "\n",
    "    path = []\n",
    "    for t in range(t_start, 0, -1):\n",
    "        # 1. Figure out if the current position was stay or change\n",
    "        # Note (again):\n",
    "        # `emission[J-1]` is the emission at time frame `J` of trellis dimension.\n",
    "        # Score for token staying the same from time frame J-1 to T.\n",
    "        stayed = trellis[t - 1, j] + emission[t - 1, blank_id]\n",
    "        # Score for token changing from C-1 at T-1 to J at T.\n",
    "        changed = trellis[t - 1, j - 1] + emission[t - 1, tokens[j - 1]]\n",
    "\n",
    "        # 2. Store the path with frame-wise probability.\n",
    "        prob = emission[t - 1, tokens[j - 1] if changed > stayed else 0].exp().item()\n",
    "        # Return token index and time index in non-trellis coordinate.\n",
    "        path.append(Point(j - 1, t - 1, prob))\n",
    "\n",
    "        # 3. Update the token\n",
    "        if changed > stayed:\n",
    "            j -= 1\n",
    "            if j == 0:\n",
    "                break\n",
    "    else:\n",
    "        raise ValueError(\"Failed to align\")\n",
    "    return path[::-1]\n",
    "\n",
    "\n",
    "path = backtrack(trellis, emission, tokens)\n",
    "# print(path)"
   ]
  },
  {
   "cell_type": "markdown",
   "metadata": {
    "id": "lSqnnGwIvyyL"
   },
   "source": [
    "### Visualization\n",
    "\n"
   ]
  },
  {
   "cell_type": "code",
   "execution_count": 181,
   "metadata": {
    "colab": {
     "base_uri": "https://localhost:8080/",
     "height": 325
    },
    "id": "2HFZkcrzvyyM",
    "outputId": "a23f7dc6-85d4-498a-c96e-e6e0b01e8723"
   },
   "outputs": [
    {
     "data": {
      "image/png": "[encoded data removed]",
      "text/plain": [
       "<Figure size 1152x345.6 with 1 Axes>"
      ]
     },
     "metadata": {
      "needs_background": "light"
     },
     "output_type": "display_data"
    }
   ],
   "source": [
    "def plot_trellis_with_path(trellis, path):\n",
    "    # To plot trellis with path, we take advantage of 'nan' value\n",
    "    trellis_with_path = trellis.clone()\n",
    "    for _, p in enumerate(path):\n",
    "        trellis_with_path[p.time_index, p.token_index] = float(\"nan\")\n",
    "    plt.imshow(trellis_with_path[1:, 1:].T, origin=\"lower\")\n",
    "\n",
    "\n",
    "plot_trellis_with_path(trellis, path)\n",
    "plt.title(\"The path found by backtracking\")\n",
    "plt.show()"
   ]
  },
  {
   "cell_type": "markdown",
   "metadata": {
    "id": "m7ks1HuMvyyM"
   },
   "source": [
    "Looking good. Now this path contains repetations for the same labels, so\n",
    "let’s merge them to make it close to the original transcript.\n",
    "\n",
    "When merging the multiple path points, we simply take the average\n",
    "probability for the merged segments.\n",
    "\n",
    "\n"
   ]
  },
  {
   "cell_type": "code",
   "execution_count": 182,
   "metadata": {
    "colab": {
     "base_uri": "https://localhost:8080/"
    },
    "id": "HDGV3VcPvyyM",
    "outputId": "051a7f61-04d1-4502-fcd7-8d62bcecf167"
   },
   "outputs": [
    {
     "name": "stdout",
     "output_type": "stream",
     "text": [
      "x\t(0.70): [   49,    60)\n",
      "i\t(0.57): [   60,    63)\n",
      "|\t(0.81): [   63,    72)\n",
      "h\t(0.69): [   72,    76)\n",
      "e\t(0.76): [   76,    91)\n",
      "|\t(0.82): [   91,    92)\n",
      "|\t(0.77): [   92,    99)\n",
      "s\t(0.93): [   99,   111)\n",
      "i\t(0.51): [  111,   116)\n",
      "|\t(0.81): [  116,   125)\n",
      "z\t(0.86): [  125,   134)\n",
      "a\t(0.87): [  134,   152)\n",
      "i\t(0.54): [  152,   155)\n",
      "|\t(0.89): [  155,   157)\n",
      "k\t(0.57): [  157,   162)\n",
      "u\t(0.78): [  162,   169)\n",
      "|\t(0.95): [  169,   196)\n",
      "z\t(0.91): [  196,   201)\n",
      "e\t(0.45): [  201,   203)\n",
      "n\t(0.40): [  203,   209)\n",
      "|\t(0.65): [  209,   215)\n",
      "x\t(0.80): [  215,   219)\n",
      "i\t(0.75): [  219,   229)\n",
      "|\t(0.69): [  229,   235)\n",
      "b\t(0.95): [  235,   240)\n",
      "a\t(0.80): [  240,   249)\n",
      "|\t(0.75): [  249,   252)\n",
      "r\t(0.64): [  252,   255)\n",
      "e\t(0.79): [  255,   269)\n",
      "|\t(0.94): [  269,   273)\n",
      "g\t(0.80): [  273,   277)\n",
      "o\t(0.53): [  277,   281)\n",
      "|\t(0.69): [  281,   288)\n",
      "|\t(0.92): [  288,   290)\n",
      "z\t(0.63): [  290,   293)\n",
      "e\t(0.82): [  293,   303)\n",
      "|\t(0.84): [  303,   310)\n",
      "h\t(0.88): [  310,   315)\n",
      "a\t(0.67): [  315,   324)\n",
      "|\t(0.53): [  324,   330)\n",
      "m\t(0.89): [  330,   334)\n",
      "e\t(0.58): [  334,   337)\n",
      "i\t(0.40): [  337,   343)\n",
      "|\t(0.67): [  343,   347)\n",
      "b\t(0.65): [  347,   350)\n",
      "e\t(0.48): [  350,   351)\n"
     ]
    }
   ],
   "source": [
    "# Merge the labels\n",
    "@dataclass\n",
    "class Segment:\n",
    "    label: str\n",
    "    start: int\n",
    "    end: int\n",
    "    score: float\n",
    "\n",
    "    def __repr__(self):\n",
    "        return f\"{self.label}\\t({self.score:4.2f}): [{self.start:5d}, {self.end:5d})\"\n",
    "\n",
    "    @property\n",
    "    def length(self):\n",
    "        return self.end - self.start\n",
    "\n",
    "\n",
    "def merge_repeats(path):\n",
    "    i1, i2 = 0, 0\n",
    "    segments = []\n",
    "    while i1 < len(path):\n",
    "        while i2 < len(path) and path[i1].token_index == path[i2].token_index:\n",
    "            i2 += 1\n",
    "        score = sum(path[k].score for k in range(i1, i2)) / (i2 - i1)\n",
    "        segments.append(\n",
    "            Segment(\n",
    "                transcript[path[i1].token_index],\n",
    "                path[i1].time_index,\n",
    "                path[i2 - 1].time_index + 1,\n",
    "                score,\n",
    "            )\n",
    "        )\n",
    "        i1 = i2\n",
    "    return segments\n",
    "\n",
    "\n",
    "segments = merge_repeats(path)\n",
    "for seg in segments:\n",
    "    print(seg)"
   ]
  },
  {
   "cell_type": "markdown",
   "metadata": {
    "id": "p_WBpafgvyyN"
   },
   "source": [
    "### Visualization\n",
    "\n"
   ]
  },
  {
   "cell_type": "code",
   "execution_count": 184,
   "metadata": {
    "colab": {
     "base_uri": "https://localhost:8080/",
     "height": 695
    },
    "id": "2mo24WabvyyN",
    "outputId": "e872589e-eb02-4729-cbf3-ed559f806bfe"
   },
   "outputs": [
    {
     "data": {
      "image/png": "[encoded data removed]",
      "text/plain": [
       "<Figure size 1152x684 with 2 Axes>"
      ]
     },
     "metadata": {
      "needs_background": "light"
     },
     "output_type": "display_data"
    }
   ],
   "source": [
    "def plot_trellis_with_segments(trellis, segments, transcript):\n",
    "    # To plot trellis with path, we take advantage of 'nan' value\n",
    "    trellis_with_path = trellis.clone()\n",
    "    \n",
    "    for i, seg in enumerate(segments):\n",
    "        # if seg.label == '|':\n",
    "        #     seg.label = \",\"\n",
    "        if seg.label != \"|\":\n",
    "            trellis_with_path[seg.start + 1 : seg.end + 1, i + 1] = float(\"nan\")\n",
    "        \n",
    "\n",
    "    fig, [ax1, ax2] = plt.subplots(2, 1, figsize=(16, 9.5))\n",
    "    ax1.set_title(\"Path, label and probability for each label\")\n",
    "    ax1.imshow(trellis_with_path.T, origin=\"lower\")\n",
    "    ax1.set_xticks([])\n",
    "\n",
    "    for i, seg in enumerate(segments):\n",
    "        if seg.label != \"|\":\n",
    "            ax1.annotate(seg.label, (seg.start + 0.7, i + 0.3), weight=\"bold\")\n",
    "            ax1.annotate(f\"{seg.score:.2f}\", (seg.start - 0.3, i + 4.3))\n",
    "\n",
    "    ax2.set_title(\"Label probability with and without repetation\")\n",
    "    xs, hs, ws = [], [], []\n",
    "    for seg in segments:\n",
    "        if seg.label != \"|\":\n",
    "            xs.append((seg.end + seg.start) / 2 + 0.4)\n",
    "            hs.append(seg.score)\n",
    "            ws.append(seg.end - seg.start)\n",
    "            ax2.annotate(seg.label, (seg.start + 0.8, -0.07), weight=\"bold\")\n",
    "    ax2.bar(xs, hs, width=ws, color=\"gray\", alpha=0.5, edgecolor=\"black\")\n",
    "\n",
    "    xs, hs = [], []\n",
    "    for p in path:\n",
    "        label = transcript[p.token_index]\n",
    "        if label != \"|\":\n",
    "            xs.append(p.time_index + 1)\n",
    "            hs.append(p.score)\n",
    "\n",
    "    ax2.bar(xs, hs, width=0.5, alpha=0.5)\n",
    "    ax2.axhline(0, color=\"black\")\n",
    "    ax2.set_xlim(ax1.get_xlim())\n",
    "    ax2.set_ylim(-0.1, 1.1)\n",
    "    \n",
    "\n",
    "\n",
    "plot_trellis_with_segments(trellis, segments, transcript)\n",
    "plt.tight_layout()\n",
    "plt.show()"
   ]
  },
  {
   "cell_type": "markdown",
   "metadata": {
    "id": "xGiUUXbjvyyN"
   },
   "source": [
    "Looks good. Now let’s merge the words. The Wav2Vec2 model uses ``'|'``\n",
    "as the word boundary, so we merge the segments before each occurance of\n",
    "``'|'``.\n",
    "\n",
    "Then, finally, we segment the original audio into segmented audio and\n",
    "listen to them to see if the segmentation is correct.\n",
    "\n",
    "\n"
   ]
  },
  {
   "cell_type": "code",
   "execution_count": 185,
   "metadata": {
    "colab": {
     "base_uri": "https://localhost:8080/"
    },
    "id": "ddKxlfcuvyyO",
    "outputId": "5c344c86-194f-439b-df54-a9c8d35c9180"
   },
   "outputs": [
    {
     "name": "stdout",
     "output_type": "stream",
     "text": [
      "xi\t(0.67): [   49,    63)\n",
      "he\t(0.74): [   72,    91)\n",
      "si\t(0.80): [   99,   116)\n",
      "zai\t(0.83): [  125,   155)\n",
      "ku\t(0.69): [  157,   169)\n",
      "zen\t(0.60): [  196,   209)\n",
      "xi\t(0.77): [  215,   229)\n",
      "ba\t(0.85): [  235,   249)\n",
      "re\t(0.76): [  252,   269)\n",
      "go\t(0.67): [  273,   281)\n",
      "ze\t(0.78): [  290,   303)\n",
      "ha\t(0.74): [  310,   324)\n",
      "mei\t(0.59): [  330,   343)\n",
      "be\t(0.61): [  347,   351)\n"
     ]
    }
   ],
   "source": [
    "# Merge words\n",
    "def merge_words(segments, separator=\"|\"):\n",
    "    words = []\n",
    "    i1, i2 = 0, 0\n",
    "    while i1 < len(segments):\n",
    "        if i2 >= len(segments) or segments[i2].label == separator:\n",
    "            if i1 != i2:\n",
    "                segs = segments[i1:i2]\n",
    "                word = \"\".join([seg.label for seg in segs])\n",
    "                score = sum(seg.score * seg.length for seg in segs) / sum(seg.length for seg in segs)\n",
    "                words.append(Segment(word, segments[i1].start, segments[i2 - 1].end, score))\n",
    "            i1 = i2 + 1\n",
    "            i2 = i1\n",
    "        else:\n",
    "            i2 += 1\n",
    "    return words\n",
    "\n",
    "\n",
    "word_segments = merge_words(segments)\n",
    "for word in word_segments:\n",
    "    print(word)"
   ]
  },
  {
   "cell_type": "markdown",
   "metadata": {
    "id": "xT_pvROjvyyO"
   },
   "source": [
    "### Visualization\n",
    "\n"
   ]
  },
  {
   "cell_type": "code",
   "execution_count": 186,
   "metadata": {
    "colab": {
     "base_uri": "https://localhost:8080/",
     "height": 596
    },
    "id": "C3LvJEKkvyyO",
    "outputId": "70489578-0342-4808-ddbd-cedc4d2d6f5a"
   },
   "outputs": [
    {
     "data": {
      "image/png": "[encoded data removed]",
      "text/plain": [
       "<Figure size 1152x1080 with 3 Axes>"
      ]
     },
     "metadata": {
      "needs_background": "light"
     },
     "output_type": "display_data"
    }
   ],
   "source": [
    "def plot_alignments(trellis, segments, word_segments, waveform):\n",
    "    trellis_with_path = trellis.clone()\n",
    "    for i, seg in enumerate(segments):\n",
    "        if seg.label != \"|\":\n",
    "            trellis_with_path[seg.start + 1 : seg.end + 1, i + 1] = float(\"nan\")\n",
    "\n",
    "    fig, [ax1, ax2, ax3] = plt.subplots(3, 1, figsize=(16, 15))\n",
    "\n",
    "    ax1.imshow(trellis_with_path[1:, 1:].T, origin=\"lower\")\n",
    "    ax1.set_xticks([])\n",
    "    ax1.set_yticks([])\n",
    "\n",
    "    for word in word_segments:\n",
    "        ax1.axvline(word.start - 0.5)\n",
    "        ax1.axvline(word.end - 0.5)\n",
    "\n",
    "    for i, seg in enumerate(segments):\n",
    "        if seg.label != \"|\":\n",
    "            ax1.annotate(seg.label, (seg.start, i + 0.3))\n",
    "            ax1.annotate(f\"{seg.score:.2f}\", (seg.start, i + 4), fontsize=8)\n",
    "\n",
    "\n",
    "    # The original waveform\n",
    "    ratio = waveform.size(0) / (trellis.size(0) - 1)\n",
    "    ax2.plot(waveform)\n",
    "    for word in word_segments:\n",
    "        x0 = ratio * word.start\n",
    "        x1 = ratio * word.end\n",
    "        ax2.axvspan(x0, x1, alpha=0.1, color=\"red\")\n",
    "        ax2.annotate(f\"{word.score:.2f}\", (x0, 0.8))\n",
    "\n",
    "    for seg in segments:\n",
    "        if seg.label != \"|\":\n",
    "            ax2.annotate(seg.label, (seg.start * ratio, 0.9))\n",
    "    xticks = ax2.get_xticks()\n",
    "    plt.xticks(xticks, xticks / bundle.sample_rate)\n",
    "    ax2.set_xlabel(\"time [second]\")\n",
    "    ax2.set_yticks([])\n",
    "    ax2.set_ylim(-1.0, 1.0)\n",
    "    ax2.set_xlim(0, waveform.size(-1))\n",
    "\n",
    "    ax3.imshow(emission.T, origin=\"lower\")\n",
    "    ax3.set_xticks([])\n",
    "    ax3.set_yticks([])\n",
    "    ax3.set_title(\"Frame-wise class probability\")\n",
    "    ax3.set_xlabel(\"Time\")\n",
    "    ax3.set_ylabel(\"Labels\")\n",
    "    # ax3.set_xlim(0, len(emission))\n",
    "    for word in word_segments:\n",
    "        ax3.axvline(word.start - 0.5, color = 'red')\n",
    "        ax3.axvline(word.end - 0.5, color = 'red')\n",
    "    for i, seg in enumerate(segments):\n",
    "        if seg.label != \"|\":\n",
    "            id = label2id(seg.label)[0]\n",
    "            ax3.annotate(seg.label, (seg.start, id -0.3), color='red')\n",
    "            ax3.annotate(f\"{seg.score:.2f}\", (seg.start, id + 4), fontsize=8, color='red')\n",
    "    for i, label in enumerate(labels):\n",
    "        ax3.annotate(label, (i*1.2, i - 0.3), color='white')\n",
    "\n",
    "\n",
    "plot_alignments(\n",
    "    trellis,\n",
    "    segments,\n",
    "    word_segments,\n",
    "    waveform[0],\n",
    ")\n",
    "plt.show()"
   ]
  },
  {
   "cell_type": "code",
   "execution_count": 187,
   "metadata": {},
   "outputs": [],
   "source": [
    "# A trick to embed the resulting audio to the generated file.\n",
    "# `IPython.display.Audio` has to be the last call in a cell,\n",
    "# and there should be only one call par cell.\n",
    "def display_segment(i):\n",
    "    ratio = waveform.size(1) / (trellis.size(0) - 1)\n",
    "    word = word_segments[i]\n",
    "    x0 = int(ratio * word.start)\n",
    "    x1 = int(ratio * word.end)\n",
    "    filename = f\"_assets/{i}_{word.label}.wav\"\n",
    "    torchaudio.save(filename, waveform[:, x0:x1], bundle.sample_rate)\n",
    "    print(f\"{word.label} ({word.score:.2f}): {x0 / bundle.sample_rate:.3f} - {x1 / bundle.sample_rate:.3f} sec\")\n",
    "    return Audio(filename)"
   ]
  },
  {
   "cell_type": "code",
   "execution_count": 197,
   "metadata": {
    "colab": {
     "base_uri": "https://localhost:8080/",
     "height": 92
    },
    "id": "r2IBAQmXvyyO",
    "outputId": "95112e4e-bc04-4e96-e871-40d74e44e897"
   },
   "outputs": [
    {
     "name": "stdout",
     "output_type": "stream",
     "text": [
      "xi|he||si|zai|ku|zen|xi|ba|re|go||ze|ha|mei|be\n"
     ]
    }
   ],
   "source": [
    "# Generate the audio for each segment\n",
    "print(transcript)\n",
    "i = 0"
   ]
  },
  {
   "cell_type": "code",
   "execution_count": 211,
   "metadata": {
    "colab": {
     "base_uri": "https://localhost:8080/",
     "height": 92
    },
    "id": "KkH_ByaLvyyP",
    "outputId": "1a26f9b8-841f-443d-bba6-f662dbb0d7f7"
   },
   "outputs": [
    {
     "name": "stdout",
     "output_type": "stream",
     "text": [
      "be (0.61): 6.946 - 7.026 sec\n",
      "please check ./audio-temp.wav for audio\n"
     ]
    }
   ],
   "source": [
    "display_segment(i)\n",
    "i+=1"
   ]
  },
  {
   "cell_type": "markdown",
   "metadata": {
    "id": "kE1mXsvQvyyR"
   },
   "source": [
    "## Conclusion\n",
    "\n",
    "In this tutorial, we looked how to use torchaudio’s Wav2Vec2 model to\n",
    "perform CTC segmentation for forced alignment.\n",
    "\n",
    "\n"
   ]
  }
 ],
 "metadata": {
  "accelerator": "GPU",
  "colab": {
   "collapsed_sections": [],
   "name": "“forced_alignment_tutorial.ipynb”的副本",
   "provenance": []
  },
  "kernelspec": {
   "display_name": "Python 3 (ipykernel)",
   "language": "python",
   "name": "python3"
  },
  "language_info": {
   "codemirror_mode": {
    "name": "ipython",
    "version": 3
   },
   "file_extension": ".py",
   "mimetype": "text/x-python",
   "name": "python",
   "nbconvert_exporter": "python",
   "pygments_lexer": "ipython3",
   "version": "3.10.4"
  }
 },
 "nbformat": 4,
 "nbformat_minor": 4
}
